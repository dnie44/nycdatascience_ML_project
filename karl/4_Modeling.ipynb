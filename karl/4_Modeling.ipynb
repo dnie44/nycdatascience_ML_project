{
 "cells": [
  {
   "cell_type": "code",
   "execution_count": 1,
   "id": "818b52f5",
   "metadata": {},
   "outputs": [],
   "source": [
    "import pandas as pd\n",
    "import numpy as np\n",
    "\n",
    "import seaborn as sns\n",
    "import matplotlib.pyplot as plt\n",
    "%matplotlib inline \n",
    "\n",
    "from sklearn.linear_model import Lasso, Ridge, LinearRegression\n",
    "from sklearn.model_selection import train_test_split, cross_validate\n",
    "\n",
    "from statsmodels.stats.outliers_influence import variance_inflation_factor"
   ]
  },
  {
   "cell_type": "code",
   "execution_count": 2,
   "id": "bf84646e",
   "metadata": {
    "scrolled": true
   },
   "outputs": [
    {
     "data": {
      "text/plain": [
       "(2579, 24)"
      ]
     },
     "execution_count": 2,
     "metadata": {},
     "output_type": "execute_result"
    }
   ],
   "source": [
    "data = pd.read_csv('model_data.csv', index_col='PID')\n",
    "data.shape"
   ]
  },
  {
   "cell_type": "code",
   "execution_count": 3,
   "id": "1cc55295",
   "metadata": {},
   "outputs": [
    {
     "data": {
      "text/plain": [
       "MSSubClass    0\n",
       "GarageCars    0\n",
       "PorchArea     0\n",
       "GarageArea    0\n",
       "2ndFlrSF      0\n",
       "dtype: int64"
      ]
     },
     "execution_count": 3,
     "metadata": {},
     "output_type": "execute_result"
    }
   ],
   "source": [
    "data.isna().sum().sort_values(ascending=False).head()"
   ]
  },
  {
   "cell_type": "markdown",
   "id": "971faf8f",
   "metadata": {},
   "source": [
    "#### Independent Variable (y)"
   ]
  },
  {
   "cell_type": "code",
   "execution_count": 4,
   "id": "2b456e2f",
   "metadata": {},
   "outputs": [],
   "source": [
    "y = data.SalePrice.copy()\n",
    "data.drop('SalePrice', axis=1, inplace=True)"
   ]
  },
  {
   "cell_type": "markdown",
   "id": "ff56c337",
   "metadata": {},
   "source": [
    "#### Choose Dependents (Use Sector or Neighborhood) (Use ALLSF, or split columns)"
   ]
  },
  {
   "cell_type": "code",
   "execution_count": 5,
   "id": "9e47de64",
   "metadata": {
    "scrolled": true
   },
   "outputs": [
    {
     "data": {
      "text/plain": [
       "Index(['MSSubClass', 'GarageCars', 'GarageType', 'BsmtQual', 'Foundation',\n",
       "       'PavedDrive', 'TotalBsmtSF', 'AllBathBsmt', 'AllBathAbv',\n",
       "       'TotRmsAbvGrd', 'Fireplaces', 'HeatingQC', 'Neighborhood', 'Sector',\n",
       "       'YearBuilt', 'OverallQual', 'LotFrontage', 'HasPool', '1stFlrSF',\n",
       "       '2ndFlrSF', 'GarageArea', 'PorchArea', 'ALLSF'],\n",
       "      dtype='object')"
      ]
     },
     "execution_count": 5,
     "metadata": {},
     "output_type": "execute_result"
    }
   ],
   "source": [
    "data.columns"
   ]
  },
  {
   "cell_type": "markdown",
   "id": "5415f4c9",
   "metadata": {},
   "source": [
    "* Sectors & ALLSF"
   ]
  },
  {
   "cell_type": "code",
   "execution_count": 6,
   "id": "4726a9d1",
   "metadata": {},
   "outputs": [],
   "source": [
    "data_1 = data.drop(['Neighborhood','1stFlrSF', '2ndFlrSF', 'GarageArea', 'PorchArea', 'TotalBsmtSF'],axis=1)"
   ]
  },
  {
   "cell_type": "markdown",
   "id": "2632c2b7",
   "metadata": {},
   "source": [
    "* Sectors & Split SF"
   ]
  },
  {
   "cell_type": "code",
   "execution_count": 7,
   "id": "07c1cbb7",
   "metadata": {},
   "outputs": [],
   "source": [
    "data_2 = data.drop(['Neighborhood','ALLSF'],axis=1)"
   ]
  },
  {
   "cell_type": "markdown",
   "id": "31cd160b",
   "metadata": {},
   "source": [
    "* Neighborhood & ALLSF"
   ]
  },
  {
   "cell_type": "code",
   "execution_count": 8,
   "id": "616f2f88",
   "metadata": {},
   "outputs": [],
   "source": [
    "data_3 = data.drop(['Sector','1stFlrSF', '2ndFlrSF', 'GarageArea', 'PorchArea', 'TotalBsmtSF'],axis=1)"
   ]
  },
  {
   "cell_type": "markdown",
   "id": "cf4bf04f",
   "metadata": {},
   "source": [
    "* Neighborhood & Split SF"
   ]
  },
  {
   "cell_type": "code",
   "execution_count": 9,
   "id": "6cd39085",
   "metadata": {},
   "outputs": [],
   "source": [
    "data_4 = data.drop(['Sector','ALLSF'],axis=1)"
   ]
  },
  {
   "cell_type": "markdown",
   "id": "9a8e1028",
   "metadata": {},
   "source": [
    "## 📉 Multiple Regression😗😎"
   ]
  },
  {
   "cell_type": "markdown",
   "id": "e5b07170",
   "metadata": {},
   "source": [
    "#### Data_1"
   ]
  },
  {
   "cell_type": "code",
   "execution_count": 30,
   "id": "f4a33a7e",
   "metadata": {},
   "outputs": [
    {
     "data": {
      "text/plain": [
       "0.6441628927347838"
      ]
     },
     "execution_count": 30,
     "metadata": {},
     "output_type": "execute_result"
    }
   ],
   "source": [
    "lasso = Lasso(max_iter=10000)\n",
    "\n",
    "data_dum = pd.get_dummies(data_1, drop_first=True)\n",
    "scores = cross_validate(lasso, data_dum, np.log10(y), cv=4)\n",
    "np.mean(scores['test_score'])"
   ]
  },
  {
   "cell_type": "code",
   "execution_count": 32,
   "id": "951ff474",
   "metadata": {},
   "outputs": [
    {
     "data": {
      "text/html": [
       "<div>\n",
       "<style scoped>\n",
       "    .dataframe tbody tr th:only-of-type {\n",
       "        vertical-align: middle;\n",
       "    }\n",
       "\n",
       "    .dataframe tbody tr th {\n",
       "        vertical-align: top;\n",
       "    }\n",
       "\n",
       "    .dataframe thead th {\n",
       "        text-align: right;\n",
       "    }\n",
       "</style>\n",
       "<table border=\"1\" class=\"dataframe\">\n",
       "  <thead>\n",
       "    <tr style=\"text-align: right;\">\n",
       "      <th></th>\n",
       "      <th>GarageCars</th>\n",
       "      <th>AllBathBsmt</th>\n",
       "      <th>AllBathAbv</th>\n",
       "      <th>TotRmsAbvGrd</th>\n",
       "      <th>Fireplaces</th>\n",
       "      <th>YearBuilt</th>\n",
       "      <th>OverallQual</th>\n",
       "      <th>LotFrontage</th>\n",
       "      <th>HasPool</th>\n",
       "      <th>ALLSF</th>\n",
       "      <th>MSSubClass_1FlPUD</th>\n",
       "      <th>MSSubClass_2Fl</th>\n",
       "      <th>MSSubClass_2FlPUD</th>\n",
       "      <th>MSSubClass_DUP2FAM</th>\n",
       "      <th>MSSubClass_SPLIT</th>\n",
       "      <th>GarageType_Attchd</th>\n",
       "      <th>GarageType_Basment</th>\n",
       "      <th>GarageType_BuiltIn</th>\n",
       "      <th>GarageType_CarPort</th>\n",
       "      <th>GarageType_Detchd</th>\n",
       "      <th>GarageType_None</th>\n",
       "      <th>BsmtQual_Fa</th>\n",
       "      <th>BsmtQual_Gd</th>\n",
       "      <th>BsmtQual_None</th>\n",
       "      <th>BsmtQual_Po</th>\n",
       "      <th>BsmtQual_TA</th>\n",
       "      <th>Foundation_CBlock</th>\n",
       "      <th>Foundation_PConc</th>\n",
       "      <th>Foundation_Slab</th>\n",
       "      <th>Foundation_Stone</th>\n",
       "      <th>Foundation_Wood</th>\n",
       "      <th>PavedDrive_P</th>\n",
       "      <th>PavedDrive_Y</th>\n",
       "      <th>HeatingQC_Fa</th>\n",
       "      <th>HeatingQC_Gd</th>\n",
       "      <th>HeatingQC_Po</th>\n",
       "      <th>HeatingQC_TA</th>\n",
       "      <th>Sector_NO</th>\n",
       "      <th>Sector_NW</th>\n",
       "      <th>Sector_SE</th>\n",
       "      <th>Sector_SW</th>\n",
       "    </tr>\n",
       "    <tr>\n",
       "      <th>PID</th>\n",
       "      <th></th>\n",
       "      <th></th>\n",
       "      <th></th>\n",
       "      <th></th>\n",
       "      <th></th>\n",
       "      <th></th>\n",
       "      <th></th>\n",
       "      <th></th>\n",
       "      <th></th>\n",
       "      <th></th>\n",
       "      <th></th>\n",
       "      <th></th>\n",
       "      <th></th>\n",
       "      <th></th>\n",
       "      <th></th>\n",
       "      <th></th>\n",
       "      <th></th>\n",
       "      <th></th>\n",
       "      <th></th>\n",
       "      <th></th>\n",
       "      <th></th>\n",
       "      <th></th>\n",
       "      <th></th>\n",
       "      <th></th>\n",
       "      <th></th>\n",
       "      <th></th>\n",
       "      <th></th>\n",
       "      <th></th>\n",
       "      <th></th>\n",
       "      <th></th>\n",
       "      <th></th>\n",
       "      <th></th>\n",
       "      <th></th>\n",
       "      <th></th>\n",
       "      <th></th>\n",
       "      <th></th>\n",
       "      <th></th>\n",
       "      <th></th>\n",
       "      <th></th>\n",
       "      <th></th>\n",
       "      <th></th>\n",
       "    </tr>\n",
       "  </thead>\n",
       "  <tbody>\n",
       "    <tr>\n",
       "      <th>526301100</th>\n",
       "      <td>2.0</td>\n",
       "      <td>1.0</td>\n",
       "      <td>1.0</td>\n",
       "      <td>7</td>\n",
       "      <td>2</td>\n",
       "      <td>1960</td>\n",
       "      <td>6</td>\n",
       "      <td>141.0</td>\n",
       "      <td>0</td>\n",
       "      <td>3536.0</td>\n",
       "      <td>0</td>\n",
       "      <td>0</td>\n",
       "      <td>0</td>\n",
       "      <td>0</td>\n",
       "      <td>0</td>\n",
       "      <td>1</td>\n",
       "      <td>0</td>\n",
       "      <td>0</td>\n",
       "      <td>0</td>\n",
       "      <td>0</td>\n",
       "      <td>0</td>\n",
       "      <td>0</td>\n",
       "      <td>0</td>\n",
       "      <td>0</td>\n",
       "      <td>0</td>\n",
       "      <td>1</td>\n",
       "      <td>1</td>\n",
       "      <td>0</td>\n",
       "      <td>0</td>\n",
       "      <td>0</td>\n",
       "      <td>0</td>\n",
       "      <td>1</td>\n",
       "      <td>0</td>\n",
       "      <td>1</td>\n",
       "      <td>0</td>\n",
       "      <td>0</td>\n",
       "      <td>0</td>\n",
       "      <td>1</td>\n",
       "      <td>0</td>\n",
       "      <td>0</td>\n",
       "      <td>0</td>\n",
       "    </tr>\n",
       "    <tr>\n",
       "      <th>526302030</th>\n",
       "      <td>2.0</td>\n",
       "      <td>1.0</td>\n",
       "      <td>2.0</td>\n",
       "      <td>5</td>\n",
       "      <td>0</td>\n",
       "      <td>1954</td>\n",
       "      <td>6</td>\n",
       "      <td>0.0</td>\n",
       "      <td>0</td>\n",
       "      <td>3203.0</td>\n",
       "      <td>0</td>\n",
       "      <td>0</td>\n",
       "      <td>0</td>\n",
       "      <td>0</td>\n",
       "      <td>0</td>\n",
       "      <td>1</td>\n",
       "      <td>0</td>\n",
       "      <td>0</td>\n",
       "      <td>0</td>\n",
       "      <td>0</td>\n",
       "      <td>0</td>\n",
       "      <td>0</td>\n",
       "      <td>0</td>\n",
       "      <td>0</td>\n",
       "      <td>0</td>\n",
       "      <td>1</td>\n",
       "      <td>1</td>\n",
       "      <td>0</td>\n",
       "      <td>0</td>\n",
       "      <td>0</td>\n",
       "      <td>0</td>\n",
       "      <td>0</td>\n",
       "      <td>1</td>\n",
       "      <td>0</td>\n",
       "      <td>1</td>\n",
       "      <td>0</td>\n",
       "      <td>0</td>\n",
       "      <td>1</td>\n",
       "      <td>0</td>\n",
       "      <td>0</td>\n",
       "      <td>0</td>\n",
       "    </tr>\n",
       "    <tr>\n",
       "      <th>526302040</th>\n",
       "      <td>1.0</td>\n",
       "      <td>1.0</td>\n",
       "      <td>1.0</td>\n",
       "      <td>5</td>\n",
       "      <td>2</td>\n",
       "      <td>1956</td>\n",
       "      <td>6</td>\n",
       "      <td>85.0</td>\n",
       "      <td>0</td>\n",
       "      <td>2625.0</td>\n",
       "      <td>0</td>\n",
       "      <td>0</td>\n",
       "      <td>0</td>\n",
       "      <td>0</td>\n",
       "      <td>0</td>\n",
       "      <td>1</td>\n",
       "      <td>0</td>\n",
       "      <td>0</td>\n",
       "      <td>0</td>\n",
       "      <td>0</td>\n",
       "      <td>0</td>\n",
       "      <td>0</td>\n",
       "      <td>0</td>\n",
       "      <td>0</td>\n",
       "      <td>0</td>\n",
       "      <td>1</td>\n",
       "      <td>1</td>\n",
       "      <td>0</td>\n",
       "      <td>0</td>\n",
       "      <td>0</td>\n",
       "      <td>0</td>\n",
       "      <td>0</td>\n",
       "      <td>1</td>\n",
       "      <td>0</td>\n",
       "      <td>0</td>\n",
       "      <td>0</td>\n",
       "      <td>1</td>\n",
       "      <td>1</td>\n",
       "      <td>0</td>\n",
       "      <td>0</td>\n",
       "      <td>0</td>\n",
       "    </tr>\n",
       "    <tr>\n",
       "      <th>526302110</th>\n",
       "      <td>1.0</td>\n",
       "      <td>0.0</td>\n",
       "      <td>1.0</td>\n",
       "      <td>5</td>\n",
       "      <td>0</td>\n",
       "      <td>1956</td>\n",
       "      <td>6</td>\n",
       "      <td>74.0</td>\n",
       "      <td>0</td>\n",
       "      <td>2266.0</td>\n",
       "      <td>0</td>\n",
       "      <td>0</td>\n",
       "      <td>0</td>\n",
       "      <td>0</td>\n",
       "      <td>0</td>\n",
       "      <td>1</td>\n",
       "      <td>0</td>\n",
       "      <td>0</td>\n",
       "      <td>0</td>\n",
       "      <td>0</td>\n",
       "      <td>0</td>\n",
       "      <td>1</td>\n",
       "      <td>0</td>\n",
       "      <td>0</td>\n",
       "      <td>0</td>\n",
       "      <td>0</td>\n",
       "      <td>1</td>\n",
       "      <td>0</td>\n",
       "      <td>0</td>\n",
       "      <td>0</td>\n",
       "      <td>0</td>\n",
       "      <td>0</td>\n",
       "      <td>1</td>\n",
       "      <td>0</td>\n",
       "      <td>0</td>\n",
       "      <td>0</td>\n",
       "      <td>1</td>\n",
       "      <td>1</td>\n",
       "      <td>0</td>\n",
       "      <td>0</td>\n",
       "      <td>0</td>\n",
       "    </tr>\n",
       "    <tr>\n",
       "      <th>526302120</th>\n",
       "      <td>3.0</td>\n",
       "      <td>0.0</td>\n",
       "      <td>1.5</td>\n",
       "      <td>7</td>\n",
       "      <td>1</td>\n",
       "      <td>1957</td>\n",
       "      <td>5</td>\n",
       "      <td>0.0</td>\n",
       "      <td>0</td>\n",
       "      <td>4377.0</td>\n",
       "      <td>0</td>\n",
       "      <td>0</td>\n",
       "      <td>0</td>\n",
       "      <td>0</td>\n",
       "      <td>0</td>\n",
       "      <td>1</td>\n",
       "      <td>0</td>\n",
       "      <td>0</td>\n",
       "      <td>0</td>\n",
       "      <td>0</td>\n",
       "      <td>0</td>\n",
       "      <td>0</td>\n",
       "      <td>0</td>\n",
       "      <td>0</td>\n",
       "      <td>0</td>\n",
       "      <td>1</td>\n",
       "      <td>1</td>\n",
       "      <td>0</td>\n",
       "      <td>0</td>\n",
       "      <td>0</td>\n",
       "      <td>0</td>\n",
       "      <td>0</td>\n",
       "      <td>1</td>\n",
       "      <td>1</td>\n",
       "      <td>0</td>\n",
       "      <td>0</td>\n",
       "      <td>0</td>\n",
       "      <td>1</td>\n",
       "      <td>0</td>\n",
       "      <td>0</td>\n",
       "      <td>0</td>\n",
       "    </tr>\n",
       "    <tr>\n",
       "      <th>...</th>\n",
       "      <td>...</td>\n",
       "      <td>...</td>\n",
       "      <td>...</td>\n",
       "      <td>...</td>\n",
       "      <td>...</td>\n",
       "      <td>...</td>\n",
       "      <td>...</td>\n",
       "      <td>...</td>\n",
       "      <td>...</td>\n",
       "      <td>...</td>\n",
       "      <td>...</td>\n",
       "      <td>...</td>\n",
       "      <td>...</td>\n",
       "      <td>...</td>\n",
       "      <td>...</td>\n",
       "      <td>...</td>\n",
       "      <td>...</td>\n",
       "      <td>...</td>\n",
       "      <td>...</td>\n",
       "      <td>...</td>\n",
       "      <td>...</td>\n",
       "      <td>...</td>\n",
       "      <td>...</td>\n",
       "      <td>...</td>\n",
       "      <td>...</td>\n",
       "      <td>...</td>\n",
       "      <td>...</td>\n",
       "      <td>...</td>\n",
       "      <td>...</td>\n",
       "      <td>...</td>\n",
       "      <td>...</td>\n",
       "      <td>...</td>\n",
       "      <td>...</td>\n",
       "      <td>...</td>\n",
       "      <td>...</td>\n",
       "      <td>...</td>\n",
       "      <td>...</td>\n",
       "      <td>...</td>\n",
       "      <td>...</td>\n",
       "      <td>...</td>\n",
       "      <td>...</td>\n",
       "    </tr>\n",
       "    <tr>\n",
       "      <th>924100070</th>\n",
       "      <td>2.0</td>\n",
       "      <td>1.0</td>\n",
       "      <td>1.0</td>\n",
       "      <td>6</td>\n",
       "      <td>1</td>\n",
       "      <td>1974</td>\n",
       "      <td>5</td>\n",
       "      <td>77.0</td>\n",
       "      <td>0</td>\n",
       "      <td>3474.0</td>\n",
       "      <td>0</td>\n",
       "      <td>0</td>\n",
       "      <td>0</td>\n",
       "      <td>0</td>\n",
       "      <td>0</td>\n",
       "      <td>1</td>\n",
       "      <td>0</td>\n",
       "      <td>0</td>\n",
       "      <td>0</td>\n",
       "      <td>0</td>\n",
       "      <td>0</td>\n",
       "      <td>0</td>\n",
       "      <td>1</td>\n",
       "      <td>0</td>\n",
       "      <td>0</td>\n",
       "      <td>0</td>\n",
       "      <td>1</td>\n",
       "      <td>0</td>\n",
       "      <td>0</td>\n",
       "      <td>0</td>\n",
       "      <td>0</td>\n",
       "      <td>0</td>\n",
       "      <td>1</td>\n",
       "      <td>0</td>\n",
       "      <td>1</td>\n",
       "      <td>0</td>\n",
       "      <td>0</td>\n",
       "      <td>0</td>\n",
       "      <td>0</td>\n",
       "      <td>1</td>\n",
       "      <td>0</td>\n",
       "    </tr>\n",
       "    <tr>\n",
       "      <th>924151040</th>\n",
       "      <td>2.0</td>\n",
       "      <td>1.5</td>\n",
       "      <td>2.5</td>\n",
       "      <td>6</td>\n",
       "      <td>2</td>\n",
       "      <td>1994</td>\n",
       "      <td>8</td>\n",
       "      <td>76.0</td>\n",
       "      <td>0</td>\n",
       "      <td>4379.0</td>\n",
       "      <td>0</td>\n",
       "      <td>0</td>\n",
       "      <td>0</td>\n",
       "      <td>0</td>\n",
       "      <td>0</td>\n",
       "      <td>1</td>\n",
       "      <td>0</td>\n",
       "      <td>0</td>\n",
       "      <td>0</td>\n",
       "      <td>0</td>\n",
       "      <td>0</td>\n",
       "      <td>0</td>\n",
       "      <td>1</td>\n",
       "      <td>0</td>\n",
       "      <td>0</td>\n",
       "      <td>0</td>\n",
       "      <td>0</td>\n",
       "      <td>1</td>\n",
       "      <td>0</td>\n",
       "      <td>0</td>\n",
       "      <td>0</td>\n",
       "      <td>0</td>\n",
       "      <td>1</td>\n",
       "      <td>0</td>\n",
       "      <td>0</td>\n",
       "      <td>0</td>\n",
       "      <td>0</td>\n",
       "      <td>0</td>\n",
       "      <td>0</td>\n",
       "      <td>1</td>\n",
       "      <td>0</td>\n",
       "    </tr>\n",
       "    <tr>\n",
       "      <th>924151050</th>\n",
       "      <td>3.0</td>\n",
       "      <td>0.0</td>\n",
       "      <td>2.5</td>\n",
       "      <td>9</td>\n",
       "      <td>1</td>\n",
       "      <td>1993</td>\n",
       "      <td>7</td>\n",
       "      <td>74.0</td>\n",
       "      <td>0</td>\n",
       "      <td>3884.0</td>\n",
       "      <td>0</td>\n",
       "      <td>1</td>\n",
       "      <td>0</td>\n",
       "      <td>0</td>\n",
       "      <td>0</td>\n",
       "      <td>1</td>\n",
       "      <td>0</td>\n",
       "      <td>0</td>\n",
       "      <td>0</td>\n",
       "      <td>0</td>\n",
       "      <td>0</td>\n",
       "      <td>0</td>\n",
       "      <td>1</td>\n",
       "      <td>0</td>\n",
       "      <td>0</td>\n",
       "      <td>0</td>\n",
       "      <td>0</td>\n",
       "      <td>1</td>\n",
       "      <td>0</td>\n",
       "      <td>0</td>\n",
       "      <td>0</td>\n",
       "      <td>0</td>\n",
       "      <td>1</td>\n",
       "      <td>0</td>\n",
       "      <td>0</td>\n",
       "      <td>0</td>\n",
       "      <td>0</td>\n",
       "      <td>0</td>\n",
       "      <td>0</td>\n",
       "      <td>1</td>\n",
       "      <td>0</td>\n",
       "    </tr>\n",
       "    <tr>\n",
       "      <th>924152030</th>\n",
       "      <td>2.0</td>\n",
       "      <td>1.0</td>\n",
       "      <td>2.5</td>\n",
       "      <td>7</td>\n",
       "      <td>1</td>\n",
       "      <td>1993</td>\n",
       "      <td>6</td>\n",
       "      <td>74.0</td>\n",
       "      <td>0</td>\n",
       "      <td>4039.0</td>\n",
       "      <td>0</td>\n",
       "      <td>1</td>\n",
       "      <td>0</td>\n",
       "      <td>0</td>\n",
       "      <td>0</td>\n",
       "      <td>1</td>\n",
       "      <td>0</td>\n",
       "      <td>0</td>\n",
       "      <td>0</td>\n",
       "      <td>0</td>\n",
       "      <td>0</td>\n",
       "      <td>0</td>\n",
       "      <td>1</td>\n",
       "      <td>0</td>\n",
       "      <td>0</td>\n",
       "      <td>0</td>\n",
       "      <td>0</td>\n",
       "      <td>1</td>\n",
       "      <td>0</td>\n",
       "      <td>0</td>\n",
       "      <td>0</td>\n",
       "      <td>0</td>\n",
       "      <td>1</td>\n",
       "      <td>0</td>\n",
       "      <td>0</td>\n",
       "      <td>0</td>\n",
       "      <td>0</td>\n",
       "      <td>0</td>\n",
       "      <td>0</td>\n",
       "      <td>1</td>\n",
       "      <td>0</td>\n",
       "    </tr>\n",
       "    <tr>\n",
       "      <th>1007100110</th>\n",
       "      <td>1.0</td>\n",
       "      <td>0.0</td>\n",
       "      <td>2.0</td>\n",
       "      <td>7</td>\n",
       "      <td>0</td>\n",
       "      <td>1900</td>\n",
       "      <td>5</td>\n",
       "      <td>0.0</td>\n",
       "      <td>0</td>\n",
       "      <td>2810.0</td>\n",
       "      <td>0</td>\n",
       "      <td>1</td>\n",
       "      <td>0</td>\n",
       "      <td>0</td>\n",
       "      <td>0</td>\n",
       "      <td>0</td>\n",
       "      <td>0</td>\n",
       "      <td>0</td>\n",
       "      <td>0</td>\n",
       "      <td>1</td>\n",
       "      <td>0</td>\n",
       "      <td>0</td>\n",
       "      <td>0</td>\n",
       "      <td>0</td>\n",
       "      <td>0</td>\n",
       "      <td>1</td>\n",
       "      <td>0</td>\n",
       "      <td>0</td>\n",
       "      <td>0</td>\n",
       "      <td>0</td>\n",
       "      <td>0</td>\n",
       "      <td>0</td>\n",
       "      <td>0</td>\n",
       "      <td>0</td>\n",
       "      <td>0</td>\n",
       "      <td>0</td>\n",
       "      <td>0</td>\n",
       "      <td>0</td>\n",
       "      <td>0</td>\n",
       "      <td>0</td>\n",
       "      <td>0</td>\n",
       "    </tr>\n",
       "  </tbody>\n",
       "</table>\n",
       "<p>2579 rows × 41 columns</p>\n",
       "</div>"
      ],
      "text/plain": [
       "            GarageCars  AllBathBsmt  AllBathAbv  TotRmsAbvGrd  Fireplaces  \\\n",
       "PID                                                                         \n",
       "526301100          2.0          1.0         1.0             7           2   \n",
       "526302030          2.0          1.0         2.0             5           0   \n",
       "526302040          1.0          1.0         1.0             5           2   \n",
       "526302110          1.0          0.0         1.0             5           0   \n",
       "526302120          3.0          0.0         1.5             7           1   \n",
       "...                ...          ...         ...           ...         ...   \n",
       "924100070          2.0          1.0         1.0             6           1   \n",
       "924151040          2.0          1.5         2.5             6           2   \n",
       "924151050          3.0          0.0         2.5             9           1   \n",
       "924152030          2.0          1.0         2.5             7           1   \n",
       "1007100110         1.0          0.0         2.0             7           0   \n",
       "\n",
       "            YearBuilt  OverallQual  LotFrontage  HasPool   ALLSF  \\\n",
       "PID                                                                \n",
       "526301100        1960            6        141.0        0  3536.0   \n",
       "526302030        1954            6          0.0        0  3203.0   \n",
       "526302040        1956            6         85.0        0  2625.0   \n",
       "526302110        1956            6         74.0        0  2266.0   \n",
       "526302120        1957            5          0.0        0  4377.0   \n",
       "...               ...          ...          ...      ...     ...   \n",
       "924100070        1974            5         77.0        0  3474.0   \n",
       "924151040        1994            8         76.0        0  4379.0   \n",
       "924151050        1993            7         74.0        0  3884.0   \n",
       "924152030        1993            6         74.0        0  4039.0   \n",
       "1007100110       1900            5          0.0        0  2810.0   \n",
       "\n",
       "            MSSubClass_1FlPUD  MSSubClass_2Fl  MSSubClass_2FlPUD  \\\n",
       "PID                                                                \n",
       "526301100                   0               0                  0   \n",
       "526302030                   0               0                  0   \n",
       "526302040                   0               0                  0   \n",
       "526302110                   0               0                  0   \n",
       "526302120                   0               0                  0   \n",
       "...                       ...             ...                ...   \n",
       "924100070                   0               0                  0   \n",
       "924151040                   0               0                  0   \n",
       "924151050                   0               1                  0   \n",
       "924152030                   0               1                  0   \n",
       "1007100110                  0               1                  0   \n",
       "\n",
       "            MSSubClass_DUP2FAM  MSSubClass_SPLIT  GarageType_Attchd  \\\n",
       "PID                                                                   \n",
       "526301100                    0                 0                  1   \n",
       "526302030                    0                 0                  1   \n",
       "526302040                    0                 0                  1   \n",
       "526302110                    0                 0                  1   \n",
       "526302120                    0                 0                  1   \n",
       "...                        ...               ...                ...   \n",
       "924100070                    0                 0                  1   \n",
       "924151040                    0                 0                  1   \n",
       "924151050                    0                 0                  1   \n",
       "924152030                    0                 0                  1   \n",
       "1007100110                   0                 0                  0   \n",
       "\n",
       "            GarageType_Basment  GarageType_BuiltIn  GarageType_CarPort  \\\n",
       "PID                                                                      \n",
       "526301100                    0                   0                   0   \n",
       "526302030                    0                   0                   0   \n",
       "526302040                    0                   0                   0   \n",
       "526302110                    0                   0                   0   \n",
       "526302120                    0                   0                   0   \n",
       "...                        ...                 ...                 ...   \n",
       "924100070                    0                   0                   0   \n",
       "924151040                    0                   0                   0   \n",
       "924151050                    0                   0                   0   \n",
       "924152030                    0                   0                   0   \n",
       "1007100110                   0                   0                   0   \n",
       "\n",
       "            GarageType_Detchd  GarageType_None  BsmtQual_Fa  BsmtQual_Gd  \\\n",
       "PID                                                                        \n",
       "526301100                   0                0            0            0   \n",
       "526302030                   0                0            0            0   \n",
       "526302040                   0                0            0            0   \n",
       "526302110                   0                0            1            0   \n",
       "526302120                   0                0            0            0   \n",
       "...                       ...              ...          ...          ...   \n",
       "924100070                   0                0            0            1   \n",
       "924151040                   0                0            0            1   \n",
       "924151050                   0                0            0            1   \n",
       "924152030                   0                0            0            1   \n",
       "1007100110                  1                0            0            0   \n",
       "\n",
       "            BsmtQual_None  BsmtQual_Po  BsmtQual_TA  Foundation_CBlock  \\\n",
       "PID                                                                      \n",
       "526301100               0            0            1                  1   \n",
       "526302030               0            0            1                  1   \n",
       "526302040               0            0            1                  1   \n",
       "526302110               0            0            0                  1   \n",
       "526302120               0            0            1                  1   \n",
       "...                   ...          ...          ...                ...   \n",
       "924100070               0            0            0                  1   \n",
       "924151040               0            0            0                  0   \n",
       "924151050               0            0            0                  0   \n",
       "924152030               0            0            0                  0   \n",
       "1007100110              0            0            1                  0   \n",
       "\n",
       "            Foundation_PConc  Foundation_Slab  Foundation_Stone  \\\n",
       "PID                                                               \n",
       "526301100                  0                0                 0   \n",
       "526302030                  0                0                 0   \n",
       "526302040                  0                0                 0   \n",
       "526302110                  0                0                 0   \n",
       "526302120                  0                0                 0   \n",
       "...                      ...              ...               ...   \n",
       "924100070                  0                0                 0   \n",
       "924151040                  1                0                 0   \n",
       "924151050                  1                0                 0   \n",
       "924152030                  1                0                 0   \n",
       "1007100110                 0                0                 0   \n",
       "\n",
       "            Foundation_Wood  PavedDrive_P  PavedDrive_Y  HeatingQC_Fa  \\\n",
       "PID                                                                     \n",
       "526301100                 0             1             0             1   \n",
       "526302030                 0             0             1             0   \n",
       "526302040                 0             0             1             0   \n",
       "526302110                 0             0             1             0   \n",
       "526302120                 0             0             1             1   \n",
       "...                     ...           ...           ...           ...   \n",
       "924100070                 0             0             1             0   \n",
       "924151040                 0             0             1             0   \n",
       "924151050                 0             0             1             0   \n",
       "924152030                 0             0             1             0   \n",
       "1007100110                0             0             0             0   \n",
       "\n",
       "            HeatingQC_Gd  HeatingQC_Po  HeatingQC_TA  Sector_NO  Sector_NW  \\\n",
       "PID                                                                          \n",
       "526301100              0             0             0          1          0   \n",
       "526302030              1             0             0          1          0   \n",
       "526302040              0             0             1          1          0   \n",
       "526302110              0             0             1          1          0   \n",
       "526302120              0             0             0          1          0   \n",
       "...                  ...           ...           ...        ...        ...   \n",
       "924100070              1             0             0          0          0   \n",
       "924151040              0             0             0          0          0   \n",
       "924151050              0             0             0          0          0   \n",
       "924152030              0             0             0          0          0   \n",
       "1007100110             0             0             0          0          0   \n",
       "\n",
       "            Sector_SE  Sector_SW  \n",
       "PID                               \n",
       "526301100           0          0  \n",
       "526302030           0          0  \n",
       "526302040           0          0  \n",
       "526302110           0          0  \n",
       "526302120           0          0  \n",
       "...               ...        ...  \n",
       "924100070           1          0  \n",
       "924151040           1          0  \n",
       "924151050           1          0  \n",
       "924152030           1          0  \n",
       "1007100110          0          0  \n",
       "\n",
       "[2579 rows x 41 columns]"
      ]
     },
     "execution_count": 32,
     "metadata": {},
     "output_type": "execute_result"
    }
   ],
   "source": [
    "pd.set_option(\"display.max_columns\", None)\n",
    "data_dum"
   ]
  },
  {
   "cell_type": "markdown",
   "id": "c27117ce",
   "metadata": {},
   "source": [
    "#### Data_2"
   ]
  },
  {
   "cell_type": "code",
   "execution_count": 33,
   "id": "63f00369",
   "metadata": {},
   "outputs": [
    {
     "data": {
      "text/plain": [
       "0.6435204263023239"
      ]
     },
     "execution_count": 33,
     "metadata": {},
     "output_type": "execute_result"
    }
   ],
   "source": [
    "data_dum = pd.get_dummies(data_2, drop_first=True)\n",
    "scores = cross_validate(lasso, data_dum, np.log10(y), cv=4)\n",
    "np.mean(scores['test_score'])"
   ]
  },
  {
   "cell_type": "code",
   "execution_count": 12,
   "id": "25cc022d",
   "metadata": {},
   "outputs": [
    {
     "data": {
      "text/plain": [
       "0.6435204263023239"
      ]
     },
     "execution_count": 12,
     "metadata": {},
     "output_type": "execute_result"
    }
   ],
   "source": [
    "data_dum = pd.get_dummies(data_2, drop_first=True)\n",
    "scores = cross_validate(lasso, data_dum, np.log10(y), cv=4)\n",
    "np.mean(scores['test_score'])"
   ]
  },
  {
   "cell_type": "markdown",
   "id": "98b51a77",
   "metadata": {},
   "source": [
    "#### Data_3"
   ]
  },
  {
   "cell_type": "code",
   "execution_count": 34,
   "id": "d69b48fe",
   "metadata": {},
   "outputs": [
    {
     "data": {
      "text/plain": [
       "0.6441628927347838"
      ]
     },
     "execution_count": 34,
     "metadata": {},
     "output_type": "execute_result"
    }
   ],
   "source": [
    "data_dum = pd.get_dummies(data_3, drop_first=True)\n",
    "scores = cross_validate(lasso, data_dum, np.log10(y), cv=4)\n",
    "np.mean(scores['test_score'])"
   ]
  },
  {
   "cell_type": "markdown",
   "id": "7aaaf3cf",
   "metadata": {},
   "source": [
    "#### Data_4"
   ]
  },
  {
   "cell_type": "code",
   "execution_count": 36,
   "id": "631c4c4f",
   "metadata": {},
   "outputs": [
    {
     "data": {
      "text/plain": [
       "0.6435204263023239"
      ]
     },
     "execution_count": 36,
     "metadata": {},
     "output_type": "execute_result"
    }
   ],
   "source": [
    "data_dum = pd.get_dummies(data_4, drop_first=True)\n",
    "scores = cross_validate(lasso, data_dum, np.log10(y), cv=4)\n",
    "np.mean(scores['test_score'])"
   ]
  },
  {
   "cell_type": "code",
   "execution_count": 46,
   "id": "6290c4b8",
   "metadata": {},
   "outputs": [],
   "source": [
    "X_train, X_test, y_train, y_test = train_test_split(data_dum, y, test_size=0.3)"
   ]
  },
  {
   "cell_type": "code",
   "execution_count": 47,
   "id": "987bcafc",
   "metadata": {},
   "outputs": [
    {
     "data": {
      "text/plain": [
       "0.7492106104423777"
      ]
     },
     "execution_count": 47,
     "metadata": {},
     "output_type": "execute_result"
    }
   ],
   "source": [
    "lasso.fit(X_train,np.log10(y_train))\n",
    "lasso.score(X_test,np.log10(y_test))"
   ]
  },
  {
   "cell_type": "code",
   "execution_count": 48,
   "id": "beca7e09",
   "metadata": {},
   "outputs": [
    {
     "data": {
      "text/plain": [
       "{'alpha': 1.0,\n",
       " 'copy_X': True,\n",
       " 'fit_intercept': True,\n",
       " 'max_iter': 10000,\n",
       " 'normalize': True,\n",
       " 'positive': False,\n",
       " 'precompute': False,\n",
       " 'random_state': 44,\n",
       " 'selection': 'cyclic',\n",
       " 'tol': 0.0001,\n",
       " 'warm_start': False}"
      ]
     },
     "execution_count": 48,
     "metadata": {},
     "output_type": "execute_result"
    }
   ],
   "source": [
    "lasso.set_params(normalize=True, random_state=44)\n",
    "lasso.get_params()"
   ]
  },
  {
   "cell_type": "code",
   "execution_count": 58,
   "id": "334cfd5c",
   "metadata": {},
   "outputs": [],
   "source": [
    "#try different alphas\n",
    "alphas = np.linspace(0.000001,0.0001,40)\n",
    "coefs_lasso = []\n",
    "R2_train = []\n",
    "R2_test = []\n",
    "\n",
    "for a in alphas:\n",
    "    lasso.set_params(alpha=a)\n",
    "    lasso.fit(X_train, np.log10(y_train))\n",
    "    coefs_lasso.append(lasso.coef_)\n",
    "    R2_train.append(lasso.score(X_train, np.log10(y_train)))\n",
    "    R2_test.append(lasso.score(X_test, np.log10(y_test)))"
   ]
  },
  {
   "cell_type": "code",
   "execution_count": 59,
   "id": "66ffd13b",
   "metadata": {},
   "outputs": [
    {
     "data": {
      "text/html": [
       "<div>\n",
       "<style scoped>\n",
       "    .dataframe tbody tr th:only-of-type {\n",
       "        vertical-align: middle;\n",
       "    }\n",
       "\n",
       "    .dataframe tbody tr th {\n",
       "        vertical-align: top;\n",
       "    }\n",
       "\n",
       "    .dataframe thead th {\n",
       "        text-align: right;\n",
       "    }\n",
       "</style>\n",
       "<table border=\"1\" class=\"dataframe\">\n",
       "  <thead>\n",
       "    <tr style=\"text-align: right;\">\n",
       "      <th></th>\n",
       "      <th>GarageCars</th>\n",
       "      <th>TotalBsmtSF</th>\n",
       "      <th>AllBathBsmt</th>\n",
       "      <th>AllBathAbv</th>\n",
       "      <th>TotRmsAbvGrd</th>\n",
       "      <th>Fireplaces</th>\n",
       "      <th>YearBuilt</th>\n",
       "      <th>OverallQual</th>\n",
       "      <th>LotFrontage</th>\n",
       "      <th>HasPool</th>\n",
       "      <th>1stFlrSF</th>\n",
       "      <th>2ndFlrSF</th>\n",
       "      <th>GarageArea</th>\n",
       "      <th>PorchArea</th>\n",
       "      <th>MSSubClass_1FlPUD</th>\n",
       "      <th>MSSubClass_2Fl</th>\n",
       "      <th>MSSubClass_2FlPUD</th>\n",
       "      <th>MSSubClass_DUP2FAM</th>\n",
       "      <th>MSSubClass_SPLIT</th>\n",
       "      <th>GarageType_Attchd</th>\n",
       "      <th>GarageType_Basment</th>\n",
       "      <th>GarageType_BuiltIn</th>\n",
       "      <th>GarageType_CarPort</th>\n",
       "      <th>GarageType_Detchd</th>\n",
       "      <th>GarageType_None</th>\n",
       "      <th>BsmtQual_Fa</th>\n",
       "      <th>BsmtQual_Gd</th>\n",
       "      <th>BsmtQual_None</th>\n",
       "      <th>BsmtQual_Po</th>\n",
       "      <th>BsmtQual_TA</th>\n",
       "      <th>Foundation_CBlock</th>\n",
       "      <th>Foundation_PConc</th>\n",
       "      <th>Foundation_Slab</th>\n",
       "      <th>Foundation_Stone</th>\n",
       "      <th>Foundation_Wood</th>\n",
       "      <th>PavedDrive_P</th>\n",
       "      <th>PavedDrive_Y</th>\n",
       "      <th>HeatingQC_Fa</th>\n",
       "      <th>HeatingQC_Gd</th>\n",
       "      <th>HeatingQC_Po</th>\n",
       "      <th>HeatingQC_TA</th>\n",
       "      <th>Neighborhood_Blueste</th>\n",
       "      <th>Neighborhood_BrDale</th>\n",
       "      <th>Neighborhood_BrkSide</th>\n",
       "      <th>Neighborhood_ClearCr</th>\n",
       "      <th>Neighborhood_CollgCr</th>\n",
       "      <th>Neighborhood_Crawfor</th>\n",
       "      <th>Neighborhood_Edwards</th>\n",
       "      <th>Neighborhood_Gilbert</th>\n",
       "      <th>Neighborhood_Greens</th>\n",
       "      <th>Neighborhood_GrnHill</th>\n",
       "      <th>Neighborhood_IDOTRR</th>\n",
       "      <th>Neighborhood_Landmrk</th>\n",
       "      <th>Neighborhood_MeadowV</th>\n",
       "      <th>Neighborhood_Mitchel</th>\n",
       "      <th>Neighborhood_NAmes</th>\n",
       "      <th>Neighborhood_NPkVill</th>\n",
       "      <th>Neighborhood_NWAmes</th>\n",
       "      <th>Neighborhood_NoRidge</th>\n",
       "      <th>Neighborhood_NridgHt</th>\n",
       "      <th>Neighborhood_OldTown</th>\n",
       "      <th>Neighborhood_SWISU</th>\n",
       "      <th>Neighborhood_Sawyer</th>\n",
       "      <th>Neighborhood_SawyerW</th>\n",
       "      <th>Neighborhood_Somerst</th>\n",
       "      <th>Neighborhood_StoneBr</th>\n",
       "      <th>Neighborhood_Timber</th>\n",
       "      <th>Neighborhood_Veenker</th>\n",
       "    </tr>\n",
       "  </thead>\n",
       "  <tbody>\n",
       "    <tr>\n",
       "      <th>0.000001</th>\n",
       "      <td>0.006238</td>\n",
       "      <td>0.000030</td>\n",
       "      <td>0.030182</td>\n",
       "      <td>0.010457</td>\n",
       "      <td>-0.001430</td>\n",
       "      <td>0.011555</td>\n",
       "      <td>0.000570</td>\n",
       "      <td>0.034274</td>\n",
       "      <td>0.000035</td>\n",
       "      <td>0.009811</td>\n",
       "      <td>0.000120</td>\n",
       "      <td>0.000100</td>\n",
       "      <td>0.000035</td>\n",
       "      <td>0.000057</td>\n",
       "      <td>-0.035531</td>\n",
       "      <td>0.003871</td>\n",
       "      <td>-0.058795</td>\n",
       "      <td>-0.029109</td>\n",
       "      <td>0.009755</td>\n",
       "      <td>0.013145</td>\n",
       "      <td>-0.000260</td>\n",
       "      <td>-0.001729</td>\n",
       "      <td>0.006884</td>\n",
       "      <td>0.009298</td>\n",
       "      <td>-0.001707</td>\n",
       "      <td>-0.046410</td>\n",
       "      <td>-0.022287</td>\n",
       "      <td>-0.068013</td>\n",
       "      <td>-0.020038</td>\n",
       "      <td>-0.023304</td>\n",
       "      <td>0.017486</td>\n",
       "      <td>0.019598</td>\n",
       "      <td>0.047773</td>\n",
       "      <td>0.049088</td>\n",
       "      <td>-0.011264</td>\n",
       "      <td>0.031418</td>\n",
       "      <td>0.032261</td>\n",
       "      <td>-0.056596</td>\n",
       "      <td>-0.005342</td>\n",
       "      <td>-0.087183</td>\n",
       "      <td>-0.025047</td>\n",
       "      <td>0.006039</td>\n",
       "      <td>-0.028865</td>\n",
       "      <td>-0.008697</td>\n",
       "      <td>0.022778</td>\n",
       "      <td>-0.002743</td>\n",
       "      <td>0.049034</td>\n",
       "      <td>-0.025451</td>\n",
       "      <td>-0.005176</td>\n",
       "      <td>0.027853</td>\n",
       "      <td>0.243334</td>\n",
       "      <td>-0.047093</td>\n",
       "      <td>0.0</td>\n",
       "      <td>-0.049050</td>\n",
       "      <td>-0.004774</td>\n",
       "      <td>-0.012215</td>\n",
       "      <td>0.004025</td>\n",
       "      <td>-0.002687</td>\n",
       "      <td>0.012001</td>\n",
       "      <td>0.028328</td>\n",
       "      <td>-0.022176</td>\n",
       "      <td>-0.021937</td>\n",
       "      <td>-0.000000</td>\n",
       "      <td>-0.021901</td>\n",
       "      <td>0.025264</td>\n",
       "      <td>0.042672</td>\n",
       "      <td>0.021043</td>\n",
       "      <td>0.016353</td>\n",
       "    </tr>\n",
       "    <tr>\n",
       "      <th>0.000004</th>\n",
       "      <td>0.006163</td>\n",
       "      <td>0.000031</td>\n",
       "      <td>0.030262</td>\n",
       "      <td>0.010431</td>\n",
       "      <td>-0.000774</td>\n",
       "      <td>0.011621</td>\n",
       "      <td>0.000597</td>\n",
       "      <td>0.034746</td>\n",
       "      <td>0.000033</td>\n",
       "      <td>0.007096</td>\n",
       "      <td>0.000118</td>\n",
       "      <td>0.000098</td>\n",
       "      <td>0.000036</td>\n",
       "      <td>0.000057</td>\n",
       "      <td>-0.033434</td>\n",
       "      <td>0.003877</td>\n",
       "      <td>-0.056243</td>\n",
       "      <td>-0.029547</td>\n",
       "      <td>0.009057</td>\n",
       "      <td>0.008073</td>\n",
       "      <td>-0.005346</td>\n",
       "      <td>-0.005709</td>\n",
       "      <td>0.000000</td>\n",
       "      <td>0.003416</td>\n",
       "      <td>-0.006452</td>\n",
       "      <td>-0.041875</td>\n",
       "      <td>-0.019004</td>\n",
       "      <td>-0.060426</td>\n",
       "      <td>-0.009864</td>\n",
       "      <td>-0.019637</td>\n",
       "      <td>0.015707</td>\n",
       "      <td>0.017873</td>\n",
       "      <td>0.041850</td>\n",
       "      <td>0.046037</td>\n",
       "      <td>-0.009463</td>\n",
       "      <td>0.029678</td>\n",
       "      <td>0.031716</td>\n",
       "      <td>-0.055051</td>\n",
       "      <td>-0.004729</td>\n",
       "      <td>-0.081841</td>\n",
       "      <td>-0.024325</td>\n",
       "      <td>0.005545</td>\n",
       "      <td>-0.026033</td>\n",
       "      <td>-0.003379</td>\n",
       "      <td>0.025461</td>\n",
       "      <td>0.000000</td>\n",
       "      <td>0.052517</td>\n",
       "      <td>-0.020697</td>\n",
       "      <td>-0.001734</td>\n",
       "      <td>0.027054</td>\n",
       "      <td>0.239650</td>\n",
       "      <td>-0.042033</td>\n",
       "      <td>0.0</td>\n",
       "      <td>-0.046031</td>\n",
       "      <td>-0.000749</td>\n",
       "      <td>-0.008078</td>\n",
       "      <td>0.003969</td>\n",
       "      <td>0.000000</td>\n",
       "      <td>0.014575</td>\n",
       "      <td>0.030331</td>\n",
       "      <td>-0.017253</td>\n",
       "      <td>-0.016398</td>\n",
       "      <td>0.003229</td>\n",
       "      <td>-0.018260</td>\n",
       "      <td>0.027087</td>\n",
       "      <td>0.043757</td>\n",
       "      <td>0.022989</td>\n",
       "      <td>0.018010</td>\n",
       "    </tr>\n",
       "  </tbody>\n",
       "</table>\n",
       "</div>"
      ],
      "text/plain": [
       "          GarageCars  TotalBsmtSF  AllBathBsmt  AllBathAbv  TotRmsAbvGrd  \\\n",
       "0.000001    0.006238     0.000030     0.030182    0.010457     -0.001430   \n",
       "0.000004    0.006163     0.000031     0.030262    0.010431     -0.000774   \n",
       "\n",
       "          Fireplaces  YearBuilt  OverallQual  LotFrontage   HasPool  1stFlrSF  \\\n",
       "0.000001    0.011555   0.000570     0.034274     0.000035  0.009811  0.000120   \n",
       "0.000004    0.011621   0.000597     0.034746     0.000033  0.007096  0.000118   \n",
       "\n",
       "          2ndFlrSF  GarageArea  PorchArea  MSSubClass_1FlPUD  MSSubClass_2Fl  \\\n",
       "0.000001  0.000100    0.000035   0.000057          -0.035531        0.003871   \n",
       "0.000004  0.000098    0.000036   0.000057          -0.033434        0.003877   \n",
       "\n",
       "          MSSubClass_2FlPUD  MSSubClass_DUP2FAM  MSSubClass_SPLIT  \\\n",
       "0.000001          -0.058795           -0.029109          0.009755   \n",
       "0.000004          -0.056243           -0.029547          0.009057   \n",
       "\n",
       "          GarageType_Attchd  GarageType_Basment  GarageType_BuiltIn  \\\n",
       "0.000001           0.013145           -0.000260           -0.001729   \n",
       "0.000004           0.008073           -0.005346           -0.005709   \n",
       "\n",
       "          GarageType_CarPort  GarageType_Detchd  GarageType_None  BsmtQual_Fa  \\\n",
       "0.000001            0.006884           0.009298        -0.001707    -0.046410   \n",
       "0.000004            0.000000           0.003416        -0.006452    -0.041875   \n",
       "\n",
       "          BsmtQual_Gd  BsmtQual_None  BsmtQual_Po  BsmtQual_TA  \\\n",
       "0.000001    -0.022287      -0.068013    -0.020038    -0.023304   \n",
       "0.000004    -0.019004      -0.060426    -0.009864    -0.019637   \n",
       "\n",
       "          Foundation_CBlock  Foundation_PConc  Foundation_Slab  \\\n",
       "0.000001           0.017486          0.019598         0.047773   \n",
       "0.000004           0.015707          0.017873         0.041850   \n",
       "\n",
       "          Foundation_Stone  Foundation_Wood  PavedDrive_P  PavedDrive_Y  \\\n",
       "0.000001          0.049088        -0.011264      0.031418      0.032261   \n",
       "0.000004          0.046037        -0.009463      0.029678      0.031716   \n",
       "\n",
       "          HeatingQC_Fa  HeatingQC_Gd  HeatingQC_Po  HeatingQC_TA  \\\n",
       "0.000001     -0.056596     -0.005342     -0.087183     -0.025047   \n",
       "0.000004     -0.055051     -0.004729     -0.081841     -0.024325   \n",
       "\n",
       "          Neighborhood_Blueste  Neighborhood_BrDale  Neighborhood_BrkSide  \\\n",
       "0.000001              0.006039            -0.028865             -0.008697   \n",
       "0.000004              0.005545            -0.026033             -0.003379   \n",
       "\n",
       "          Neighborhood_ClearCr  Neighborhood_CollgCr  Neighborhood_Crawfor  \\\n",
       "0.000001              0.022778             -0.002743              0.049034   \n",
       "0.000004              0.025461              0.000000              0.052517   \n",
       "\n",
       "          Neighborhood_Edwards  Neighborhood_Gilbert  Neighborhood_Greens  \\\n",
       "0.000001             -0.025451             -0.005176             0.027853   \n",
       "0.000004             -0.020697             -0.001734             0.027054   \n",
       "\n",
       "          Neighborhood_GrnHill  Neighborhood_IDOTRR  Neighborhood_Landmrk  \\\n",
       "0.000001              0.243334            -0.047093                   0.0   \n",
       "0.000004              0.239650            -0.042033                   0.0   \n",
       "\n",
       "          Neighborhood_MeadowV  Neighborhood_Mitchel  Neighborhood_NAmes  \\\n",
       "0.000001             -0.049050             -0.004774           -0.012215   \n",
       "0.000004             -0.046031             -0.000749           -0.008078   \n",
       "\n",
       "          Neighborhood_NPkVill  Neighborhood_NWAmes  Neighborhood_NoRidge  \\\n",
       "0.000001              0.004025            -0.002687              0.012001   \n",
       "0.000004              0.003969             0.000000              0.014575   \n",
       "\n",
       "          Neighborhood_NridgHt  Neighborhood_OldTown  Neighborhood_SWISU  \\\n",
       "0.000001              0.028328             -0.022176           -0.021937   \n",
       "0.000004              0.030331             -0.017253           -0.016398   \n",
       "\n",
       "          Neighborhood_Sawyer  Neighborhood_SawyerW  Neighborhood_Somerst  \\\n",
       "0.000001            -0.000000             -0.021901              0.025264   \n",
       "0.000004             0.003229             -0.018260              0.027087   \n",
       "\n",
       "          Neighborhood_StoneBr  Neighborhood_Timber  Neighborhood_Veenker  \n",
       "0.000001              0.042672             0.021043              0.016353  \n",
       "0.000004              0.043757             0.022989              0.018010  "
      ]
     },
     "execution_count": 59,
     "metadata": {},
     "output_type": "execute_result"
    }
   ],
   "source": [
    "coefs_lasso = pd.DataFrame(coefs_lasso, index = alphas, columns = X_train.columns)\n",
    "R2_lasso = pd.DataFrame({'train': R2_train,'test':R2_test}, index = alphas)\n",
    "coefs_lasso.head(2)"
   ]
  },
  {
   "cell_type": "code",
   "execution_count": 61,
   "id": "6094ad67",
   "metadata": {},
   "outputs": [
    {
     "data": {
      "text/plain": [
       "<matplotlib.legend.Legend at 0x7f934004f8e0>"
      ]
     },
     "execution_count": 61,
     "metadata": {},
     "output_type": "execute_result"
    },
    {
     "data": {
      "image/png": "[encoded data removed]",
      "text/plain": [
       "<Figure size 1008x432 with 2 Axes>"
      ]
     },
     "metadata": {
      "needs_background": "light"
     },
     "output_type": "display_data"
    }
   ],
   "source": [
    "fig, (ax1, ax2) = plt.subplots(1, 2, figsize=(14,6))\n",
    "fig.suptitle('Lasso Regression results')\n",
    "\n",
    "for feat in coefs_lasso.columns:\n",
    "    ax1.plot(coefs_lasso.index, 10**coefs_lasso[feat]) \n",
    "ax1.set_xlabel(r'hyperparameter $\\lambda$')\n",
    "ax1.set_ylabel(r'slope values')\n",
    "#ax1.legend(loc=1)\n",
    "for each in R2_lasso.columns:\n",
    "    ax2.plot(R2_lasso.index, R2_lasso[each], label=each)\n",
    "ax2.set_xlabel(r'hyperparameter $\\lambda$')\n",
    "ax2.legend(loc=1)"
   ]
  },
  {
   "cell_type": "markdown",
   "id": "37fe72be",
   "metadata": {},
   "source": [
    "## 🌲 Prepare for RandomForest"
   ]
  },
  {
   "cell_type": "code",
   "execution_count": 12,
   "id": "6b24199a",
   "metadata": {},
   "outputs": [],
   "source": [
    "from sklearn import ensemble\n",
    "from sklearn.preprocessing import LabelEncoder"
   ]
  },
  {
   "cell_type": "code",
   "execution_count": 14,
   "id": "c182e923",
   "metadata": {
    "scrolled": true
   },
   "outputs": [
    {
     "data": {
      "text/plain": [
       "Index(['MSSubClass', 'GarageCars', 'GarageType', 'BsmtQual', 'Foundation',\n",
       "       'PavedDrive', 'TotalBsmtSF', 'AllBathBsmt', 'AllBathAbv',\n",
       "       'TotRmsAbvGrd', 'Fireplaces', 'HeatingQC', 'Neighborhood', 'YearBuilt',\n",
       "       'OverallQual', 'LotFrontage', 'HasPool', '1stFlrSF', '2ndFlrSF',\n",
       "       'GarageArea', 'PorchArea'],\n",
       "      dtype='object')"
      ]
     },
     "execution_count": 14,
     "metadata": {},
     "output_type": "execute_result"
    }
   ],
   "source": [
    "data_le = data_4.copy()\n",
    "data_le.columns"
   ]
  },
  {
   "cell_type": "code",
   "execution_count": 68,
   "id": "794a6907",
   "metadata": {},
   "outputs": [
    {
     "data": {
      "text/plain": [
       "TA      1166\n",
       "Gd      1076\n",
       "Ex       188\n",
       "Fa        78\n",
       "None      69\n",
       "Po         2\n",
       "Name: BsmtQual, dtype: int64"
      ]
     },
     "execution_count": 68,
     "metadata": {},
     "output_type": "execute_result"
    }
   ],
   "source": [
    "data_le['BsmtQual'].value_counts()"
   ]
  },
  {
   "cell_type": "code",
   "execution_count": 15,
   "id": "5e1d217e",
   "metadata": {},
   "outputs": [],
   "source": [
    "# Use LabelEncoder on Categorical features\n",
    "le = LabelEncoder()\n",
    "data_le.MSSubClass = le.fit_transform(data.MSSubClass)\n",
    "data_le.GarageType = le.fit_transform(data.GarageType)\n",
    "data_le.Foundation = le.fit_transform(data.Foundation)\n",
    "data_le.PavedDrive = le.fit_transform(data.PavedDrive)\n",
    "data_le.Neighborhood = le.fit_transform(data.Neighborhood)\n",
    "# Manually Encode Ordinal features\n",
    "# Replaced np.NaN with 'None' for BsmtQual\n",
    "data_le.BsmtQual = data_le.BsmtQual.replace({'Po':1,'Fa':2,'TA':3,'Gd':4,'Ex':5,'None':0})\n",
    "data_le.HeatingQC = data_le.HeatingQC.replace({'Po':1,'Fa':2,'TA':3,'Gd':4,'Ex':5})"
   ]
  },
  {
   "cell_type": "code",
   "execution_count": 72,
   "id": "4903c95d",
   "metadata": {},
   "outputs": [
    {
     "data": {
      "text/plain": [
       "3    1166\n",
       "4    1076\n",
       "5     188\n",
       "2      78\n",
       "0      69\n",
       "1       2\n",
       "Name: BsmtQual, dtype: int64"
      ]
     },
     "execution_count": 72,
     "metadata": {},
     "output_type": "execute_result"
    }
   ],
   "source": [
    "data_le['BsmtQual'].value_counts()"
   ]
  },
  {
   "cell_type": "code",
   "execution_count": 18,
   "id": "bce0d88c",
   "metadata": {},
   "outputs": [
    {
     "name": "stdout",
     "output_type": "stream",
     "text": [
      "The training r2: 0.98161\n",
      "The test     r2: 0.88858\n"
     ]
    }
   ],
   "source": [
    "X_train, X_test, y_train, y_test = train_test_split(data_le, y, test_size=0.25)\n",
    "forest = ensemble.RandomForestRegressor()\n",
    "forest.set_params(n_estimators=50, random_state=42, max_features=10)\n",
    "forest.fit(X_train, y_train)\n",
    "print(\"The training r2: %.5f\" %(forest.score(X_train, y_train)))\n",
    "print(\"The test     r2: %.5f\" %(forest.score(X_test, y_test)))"
   ]
  },
  {
   "cell_type": "code",
   "execution_count": 94,
   "id": "07259085",
   "metadata": {
    "scrolled": false
   },
   "outputs": [
    {
     "name": "stdout",
     "output_type": "stream",
     "text": [
      "Average:  0.8796149411813536\n",
      "Std. Dev.:  0.01937052974298503\n"
     ]
    }
   ],
   "source": [
    "results_y = []\n",
    "for i in range(50):\n",
    "    X_train, X_test, y_train, y_test = train_test_split(data_le, y, test_size=0.25)\n",
    "    forest = ensemble.RandomForestRegressor()\n",
    "    forest.set_params(n_estimators=50, random_state=42, max_features=10)\n",
    "    forest.fit(X_train, y_train)\n",
    "    #print(\"The training r2: %.5f\" %(forest.score(X_train, y_train)))\n",
    "    #print(\"The test     r2: %.5f\" %(forest.score(X_test, y_test)))\n",
    "    results_y.append(forest.score(X_test, y_test))\n",
    "print(\"Average:  \" + str(np.mean(results_y)))\n",
    "print(\"Std. Dev.:  \" + str(np.std(results_y)))"
   ]
  },
  {
   "cell_type": "code",
   "execution_count": 95,
   "id": "0bf014ae",
   "metadata": {},
   "outputs": [
    {
     "name": "stdout",
     "output_type": "stream",
     "text": [
      "Average:  0.8741789185262381\n",
      "Std. Dev.:  0.015013200607303325\n"
     ]
    }
   ],
   "source": [
    "results_logy = []\n",
    "for i in range(50):\n",
    "    X_train, X_test, y_train, y_test = train_test_split(data_le, np.log10(y), test_size=0.25)\n",
    "    forest = ensemble.RandomForestRegressor()\n",
    "    forest.set_params(n_estimators=50, random_state=42, max_features=10)\n",
    "    forest.fit(X_train, y_train)\n",
    "    #print(\"The training r2: %.5f\" %(forest.score(X_train, y_train)))\n",
    "    #print(\"The test     r2: %.5f\" %(forest.score(X_test, y_test)))\n",
    "    results_logy.append(forest.score(X_test, y_test))\n",
    "print(\"Average:  \" + str(np.mean(results_logy)))\n",
    "print(\"Std. Dev.:  \" + str(np.std(results_logy)))"
   ]
  },
  {
   "cell_type": "markdown",
   "id": "ea16161f",
   "metadata": {},
   "source": [
    "### Some Overfit?"
   ]
  },
  {
   "cell_type": "code",
   "execution_count": 96,
   "id": "4080138d",
   "metadata": {},
   "outputs": [
    {
     "data": {
      "text/plain": [
       "{'bootstrap': True,\n",
       " 'ccp_alpha': 0.0,\n",
       " 'criterion': 'mse',\n",
       " 'max_depth': None,\n",
       " 'max_features': 10,\n",
       " 'max_leaf_nodes': None,\n",
       " 'max_samples': None,\n",
       " 'min_impurity_decrease': 0.0,\n",
       " 'min_impurity_split': None,\n",
       " 'min_samples_leaf': 1,\n",
       " 'min_samples_split': 2,\n",
       " 'min_weight_fraction_leaf': 0.0,\n",
       " 'n_estimators': 50,\n",
       " 'n_jobs': None,\n",
       " 'oob_score': False,\n",
       " 'random_state': 42,\n",
       " 'verbose': 0,\n",
       " 'warm_start': False}"
      ]
     },
     "execution_count": 96,
     "metadata": {},
     "output_type": "execute_result"
    }
   ],
   "source": [
    "forest.get_params()"
   ]
  },
  {
   "cell_type": "code",
   "execution_count": 20,
   "id": "97fef045",
   "metadata": {},
   "outputs": [],
   "source": [
    "from sklearn.model_selection import GridSearchCV"
   ]
  },
  {
   "cell_type": "code",
   "execution_count": 101,
   "id": "ab0e3be3",
   "metadata": {},
   "outputs": [
    {
     "name": "stdout",
     "output_type": "stream",
     "text": [
      "CPU times: user 1.35 s, sys: 127 ms, total: 1.48 s\n",
      "Wall time: 19.2 s\n"
     ]
    },
    {
     "data": {
      "text/plain": [
       "GridSearchCV(cv=4,\n",
       "             estimator=RandomForestRegressor(max_features=10, n_estimators=50,\n",
       "                                             random_state=42),\n",
       "             n_jobs=-1,\n",
       "             param_grid=[{'max_depth': array([ 6,  9, 13, 17, 20, 24, 28, 31, 35, 39, 42, 46, 50]),\n",
       "                          'max_features': array([ 1,  2,  3,  4,  5,  6,  7,  8,  9, 10, 11, 12, 13, 14])}],\n",
       "             scoring='r2')"
      ]
     },
     "execution_count": 101,
     "metadata": {},
     "output_type": "execute_result"
    }
   ],
   "source": [
    "grid_para_forest = [{\n",
    "    \"max_features\":np.arange(1,15,1),\n",
    "    \"max_depth\": np.linspace(start=6, stop=50, num=13, dtype=int)}]\n",
    "gs_forest = GridSearchCV(forest, grid_para_forest, scoring='r2', cv=4, n_jobs=-1)\n",
    "%time gs_forest.fit(X_train, y_train)"
   ]
  },
  {
   "cell_type": "code",
   "execution_count": 102,
   "id": "12b2b30a",
   "metadata": {},
   "outputs": [
    {
     "data": {
      "text/plain": [
       "{'max_depth': 20, 'max_features': 10}"
      ]
     },
     "execution_count": 102,
     "metadata": {},
     "output_type": "execute_result"
    }
   ],
   "source": [
    "gs_forest.best_params_"
   ]
  },
  {
   "cell_type": "code",
   "execution_count": 171,
   "id": "5fbddf7c",
   "metadata": {},
   "outputs": [
    {
     "data": {
      "text/plain": [
       "{'max_depth': 26, 'max_features': 8}"
      ]
     },
     "execution_count": 171,
     "metadata": {},
     "output_type": "execute_result"
    }
   ],
   "source": [
    "gs_forest.best_params_"
   ]
  },
  {
   "cell_type": "code",
   "execution_count": 103,
   "id": "907c8968",
   "metadata": {},
   "outputs": [
    {
     "name": "stdout",
     "output_type": "stream",
     "text": [
      "The training r2: 0.98124\n",
      "The test     r2: 0.89048\n"
     ]
    }
   ],
   "source": [
    "print(\"The training r2: %.5f\" % (gs_forest.score(X_train, y_train)))\n",
    "print(\"The test     r2: %.5f\" % (gs_forest.score(X_test, y_test)))"
   ]
  },
  {
   "cell_type": "code",
   "execution_count": 172,
   "id": "5c522d3c",
   "metadata": {},
   "outputs": [
    {
     "name": "stdout",
     "output_type": "stream",
     "text": [
      "The training r2: 0.98341\n",
      "The test     r2: 0.85717\n"
     ]
    }
   ],
   "source": [
    "print(\"The training r2: %.5f\" % (gs_forest.score(X_train, y_train)))\n",
    "print(\"The test     r2: %.5f\" % (gs_forest.score(X_test, y_test)))"
   ]
  },
  {
   "cell_type": "code",
   "execution_count": 104,
   "id": "05b68b86",
   "metadata": {},
   "outputs": [
    {
     "data": {
      "text/html": [
       "<div>\n",
       "<style scoped>\n",
       "    .dataframe tbody tr th:only-of-type {\n",
       "        vertical-align: middle;\n",
       "    }\n",
       "\n",
       "    .dataframe tbody tr th {\n",
       "        vertical-align: top;\n",
       "    }\n",
       "\n",
       "    .dataframe thead th {\n",
       "        text-align: right;\n",
       "    }\n",
       "</style>\n",
       "<table border=\"1\" class=\"dataframe\">\n",
       "  <thead>\n",
       "    <tr style=\"text-align: right;\">\n",
       "      <th></th>\n",
       "      <th>Feat</th>\n",
       "      <th>Importance</th>\n",
       "    </tr>\n",
       "  </thead>\n",
       "  <tbody>\n",
       "    <tr>\n",
       "      <th>14</th>\n",
       "      <td>OverallQual</td>\n",
       "      <td>0.338011</td>\n",
       "    </tr>\n",
       "    <tr>\n",
       "      <th>8</th>\n",
       "      <td>AllBathAbv</td>\n",
       "      <td>0.111952</td>\n",
       "    </tr>\n",
       "    <tr>\n",
       "      <th>13</th>\n",
       "      <td>YearBuilt</td>\n",
       "      <td>0.092346</td>\n",
       "    </tr>\n",
       "    <tr>\n",
       "      <th>17</th>\n",
       "      <td>1stFlrSF</td>\n",
       "      <td>0.074569</td>\n",
       "    </tr>\n",
       "    <tr>\n",
       "      <th>19</th>\n",
       "      <td>GarageArea</td>\n",
       "      <td>0.072225</td>\n",
       "    </tr>\n",
       "    <tr>\n",
       "      <th>6</th>\n",
       "      <td>TotalBsmtSF</td>\n",
       "      <td>0.063171</td>\n",
       "    </tr>\n",
       "    <tr>\n",
       "      <th>3</th>\n",
       "      <td>BsmtQual</td>\n",
       "      <td>0.052278</td>\n",
       "    </tr>\n",
       "    <tr>\n",
       "      <th>18</th>\n",
       "      <td>2ndFlrSF</td>\n",
       "      <td>0.035519</td>\n",
       "    </tr>\n",
       "    <tr>\n",
       "      <th>1</th>\n",
       "      <td>GarageCars</td>\n",
       "      <td>0.027391</td>\n",
       "    </tr>\n",
       "    <tr>\n",
       "      <th>2</th>\n",
       "      <td>GarageType</td>\n",
       "      <td>0.019941</td>\n",
       "    </tr>\n",
       "    <tr>\n",
       "      <th>20</th>\n",
       "      <td>PorchArea</td>\n",
       "      <td>0.018803</td>\n",
       "    </tr>\n",
       "    <tr>\n",
       "      <th>9</th>\n",
       "      <td>TotRmsAbvGrd</td>\n",
       "      <td>0.018748</td>\n",
       "    </tr>\n",
       "    <tr>\n",
       "      <th>10</th>\n",
       "      <td>Fireplaces</td>\n",
       "      <td>0.015916</td>\n",
       "    </tr>\n",
       "    <tr>\n",
       "      <th>12</th>\n",
       "      <td>Neighborhood</td>\n",
       "      <td>0.013104</td>\n",
       "    </tr>\n",
       "    <tr>\n",
       "      <th>15</th>\n",
       "      <td>LotFrontage</td>\n",
       "      <td>0.011674</td>\n",
       "    </tr>\n",
       "    <tr>\n",
       "      <th>7</th>\n",
       "      <td>AllBathBsmt</td>\n",
       "      <td>0.008068</td>\n",
       "    </tr>\n",
       "    <tr>\n",
       "      <th>11</th>\n",
       "      <td>HeatingQC</td>\n",
       "      <td>0.007754</td>\n",
       "    </tr>\n",
       "    <tr>\n",
       "      <th>0</th>\n",
       "      <td>MSSubClass</td>\n",
       "      <td>0.007310</td>\n",
       "    </tr>\n",
       "    <tr>\n",
       "      <th>5</th>\n",
       "      <td>PavedDrive</td>\n",
       "      <td>0.007285</td>\n",
       "    </tr>\n",
       "    <tr>\n",
       "      <th>4</th>\n",
       "      <td>Foundation</td>\n",
       "      <td>0.003878</td>\n",
       "    </tr>\n",
       "    <tr>\n",
       "      <th>16</th>\n",
       "      <td>HasPool</td>\n",
       "      <td>0.000055</td>\n",
       "    </tr>\n",
       "  </tbody>\n",
       "</table>\n",
       "</div>"
      ],
      "text/plain": [
       "            Feat  Importance\n",
       "14   OverallQual    0.338011\n",
       "8     AllBathAbv    0.111952\n",
       "13     YearBuilt    0.092346\n",
       "17      1stFlrSF    0.074569\n",
       "19    GarageArea    0.072225\n",
       "6    TotalBsmtSF    0.063171\n",
       "3       BsmtQual    0.052278\n",
       "18      2ndFlrSF    0.035519\n",
       "1     GarageCars    0.027391\n",
       "2     GarageType    0.019941\n",
       "20     PorchArea    0.018803\n",
       "9   TotRmsAbvGrd    0.018748\n",
       "10    Fireplaces    0.015916\n",
       "12  Neighborhood    0.013104\n",
       "15   LotFrontage    0.011674\n",
       "7    AllBathBsmt    0.008068\n",
       "11     HeatingQC    0.007754\n",
       "0     MSSubClass    0.007310\n",
       "5     PavedDrive    0.007285\n",
       "4     Foundation    0.003878\n",
       "16       HasPool    0.000055"
      ]
     },
     "execution_count": 104,
     "metadata": {},
     "output_type": "execute_result"
    }
   ],
   "source": [
    "pd.DataFrame({'Feat':X_train.columns,'Importance':gs_forest.best_estimator_.feature_importances_}).\\\n",
    "sort_values(by='Importance', ascending=False)"
   ]
  },
  {
   "cell_type": "code",
   "execution_count": 173,
   "id": "f0f23edb",
   "metadata": {
    "scrolled": false
   },
   "outputs": [
    {
     "data": {
      "text/html": [
       "<div>\n",
       "<style scoped>\n",
       "    .dataframe tbody tr th:only-of-type {\n",
       "        vertical-align: middle;\n",
       "    }\n",
       "\n",
       "    .dataframe tbody tr th {\n",
       "        vertical-align: top;\n",
       "    }\n",
       "\n",
       "    .dataframe thead th {\n",
       "        text-align: right;\n",
       "    }\n",
       "</style>\n",
       "<table border=\"1\" class=\"dataframe\">\n",
       "  <thead>\n",
       "    <tr style=\"text-align: right;\">\n",
       "      <th></th>\n",
       "      <th>Feat</th>\n",
       "      <th>Importance</th>\n",
       "    </tr>\n",
       "  </thead>\n",
       "  <tbody>\n",
       "    <tr>\n",
       "      <th>14</th>\n",
       "      <td>OverallQual</td>\n",
       "      <td>0.282800</td>\n",
       "    </tr>\n",
       "    <tr>\n",
       "      <th>1</th>\n",
       "      <td>GarageCars</td>\n",
       "      <td>0.127154</td>\n",
       "    </tr>\n",
       "    <tr>\n",
       "      <th>6</th>\n",
       "      <td>TotalBsmtSF</td>\n",
       "      <td>0.110044</td>\n",
       "    </tr>\n",
       "    <tr>\n",
       "      <th>16</th>\n",
       "      <td>1stFlrSF</td>\n",
       "      <td>0.073829</td>\n",
       "    </tr>\n",
       "    <tr>\n",
       "      <th>13</th>\n",
       "      <td>YearBuilt</td>\n",
       "      <td>0.070696</td>\n",
       "    </tr>\n",
       "    <tr>\n",
       "      <th>18</th>\n",
       "      <td>GarageArea</td>\n",
       "      <td>0.067861</td>\n",
       "    </tr>\n",
       "    <tr>\n",
       "      <th>8</th>\n",
       "      <td>AllBathAbv</td>\n",
       "      <td>0.051542</td>\n",
       "    </tr>\n",
       "    <tr>\n",
       "      <th>3</th>\n",
       "      <td>BsmtQual</td>\n",
       "      <td>0.046765</td>\n",
       "    </tr>\n",
       "    <tr>\n",
       "      <th>17</th>\n",
       "      <td>2ndFlrSF</td>\n",
       "      <td>0.034919</td>\n",
       "    </tr>\n",
       "    <tr>\n",
       "      <th>10</th>\n",
       "      <td>Fireplaces</td>\n",
       "      <td>0.025677</td>\n",
       "    </tr>\n",
       "    <tr>\n",
       "      <th>19</th>\n",
       "      <td>PorchArea</td>\n",
       "      <td>0.021558</td>\n",
       "    </tr>\n",
       "    <tr>\n",
       "      <th>9</th>\n",
       "      <td>TotRmsAbvGrd</td>\n",
       "      <td>0.021495</td>\n",
       "    </tr>\n",
       "    <tr>\n",
       "      <th>12</th>\n",
       "      <td>Neighborhood</td>\n",
       "      <td>0.014538</td>\n",
       "    </tr>\n",
       "    <tr>\n",
       "      <th>2</th>\n",
       "      <td>GarageType</td>\n",
       "      <td>0.012572</td>\n",
       "    </tr>\n",
       "    <tr>\n",
       "      <th>15</th>\n",
       "      <td>LotFrontage</td>\n",
       "      <td>0.012183</td>\n",
       "    </tr>\n",
       "    <tr>\n",
       "      <th>7</th>\n",
       "      <td>AllBathBsmt</td>\n",
       "      <td>0.008365</td>\n",
       "    </tr>\n",
       "    <tr>\n",
       "      <th>11</th>\n",
       "      <td>HeatingQC</td>\n",
       "      <td>0.006982</td>\n",
       "    </tr>\n",
       "    <tr>\n",
       "      <th>0</th>\n",
       "      <td>MSSubClass</td>\n",
       "      <td>0.005605</td>\n",
       "    </tr>\n",
       "    <tr>\n",
       "      <th>4</th>\n",
       "      <td>Foundation</td>\n",
       "      <td>0.003715</td>\n",
       "    </tr>\n",
       "    <tr>\n",
       "      <th>5</th>\n",
       "      <td>PavedDrive</td>\n",
       "      <td>0.001700</td>\n",
       "    </tr>\n",
       "  </tbody>\n",
       "</table>\n",
       "</div>"
      ],
      "text/plain": [
       "            Feat  Importance\n",
       "14   OverallQual    0.282800\n",
       "1     GarageCars    0.127154\n",
       "6    TotalBsmtSF    0.110044\n",
       "16      1stFlrSF    0.073829\n",
       "13     YearBuilt    0.070696\n",
       "18    GarageArea    0.067861\n",
       "8     AllBathAbv    0.051542\n",
       "3       BsmtQual    0.046765\n",
       "17      2ndFlrSF    0.034919\n",
       "10    Fireplaces    0.025677\n",
       "19     PorchArea    0.021558\n",
       "9   TotRmsAbvGrd    0.021495\n",
       "12  Neighborhood    0.014538\n",
       "2     GarageType    0.012572\n",
       "15   LotFrontage    0.012183\n",
       "7    AllBathBsmt    0.008365\n",
       "11     HeatingQC    0.006982\n",
       "0     MSSubClass    0.005605\n",
       "4     Foundation    0.003715\n",
       "5     PavedDrive    0.001700"
      ]
     },
     "execution_count": 173,
     "metadata": {},
     "output_type": "execute_result"
    }
   ],
   "source": [
    "pd.DataFrame({'Feat':X_train.columns,'Importance':gs_forest.best_estimator_.feature_importances_}).\\\n",
    "sort_values(by='Importance', ascending=False)"
   ]
  },
  {
   "cell_type": "markdown",
   "id": "bb146ea4",
   "metadata": {},
   "source": [
    "## 🚀 Boosting"
   ]
  },
  {
   "cell_type": "code",
   "execution_count": 105,
   "id": "759c1a10",
   "metadata": {},
   "outputs": [],
   "source": [
    "from sklearn.ensemble import GradientBoostingRegressor"
   ]
  },
  {
   "cell_type": "code",
   "execution_count": 108,
   "id": "c37c8921",
   "metadata": {},
   "outputs": [
    {
     "data": {
      "text/plain": [
       "0.896102021840385"
      ]
     },
     "execution_count": 108,
     "metadata": {},
     "output_type": "execute_result"
    }
   ],
   "source": [
    "gbm = GradientBoostingRegressor()\n",
    "gbm.fit(X_train, y_train)\n",
    "gbm.score(X_test, y_test)"
   ]
  },
  {
   "cell_type": "code",
   "execution_count": 109,
   "id": "96360da4",
   "metadata": {},
   "outputs": [
    {
     "data": {
      "text/plain": [
       "{'alpha': 0.9,\n",
       " 'ccp_alpha': 0.0,\n",
       " 'criterion': 'friedman_mse',\n",
       " 'init': None,\n",
       " 'learning_rate': 0.1,\n",
       " 'loss': 'ls',\n",
       " 'max_depth': 3,\n",
       " 'max_features': None,\n",
       " 'max_leaf_nodes': None,\n",
       " 'min_impurity_decrease': 0.0,\n",
       " 'min_impurity_split': None,\n",
       " 'min_samples_leaf': 1,\n",
       " 'min_samples_split': 2,\n",
       " 'min_weight_fraction_leaf': 0.0,\n",
       " 'n_estimators': 100,\n",
       " 'n_iter_no_change': None,\n",
       " 'random_state': None,\n",
       " 'subsample': 1.0,\n",
       " 'tol': 0.0001,\n",
       " 'validation_fraction': 0.1,\n",
       " 'verbose': 0,\n",
       " 'warm_start': False}"
      ]
     },
     "execution_count": 109,
     "metadata": {},
     "output_type": "execute_result"
    }
   ],
   "source": [
    "gbm.get_params()"
   ]
  },
  {
   "cell_type": "code",
   "execution_count": 110,
   "id": "48b3a7ab",
   "metadata": {},
   "outputs": [
    {
     "name": "stdout",
     "output_type": "stream",
     "text": [
      "CPU times: user 1.19 s, sys: 92.2 ms, total: 1.29 s\n",
      "Wall time: 36.8 s\n"
     ]
    },
    {
     "data": {
      "text/plain": [
       "GridSearchCV(cv=5, estimator=GradientBoostingRegressor(), n_jobs=-1,\n",
       "             param_grid=[{'learning_rate': [0.1, 0.25, 0.5, 1],\n",
       "                          'max_depth': array([ 6,  8, 10, 12, 14, 16, 18, 20, 22, 24, 26, 28, 30])}],\n",
       "             scoring='r2')"
      ]
     },
     "execution_count": 110,
     "metadata": {},
     "output_type": "execute_result"
    }
   ],
   "source": [
    "grid_para_boost = [{\n",
    "    \"learning_rate\":[0.1,0.25,0.5,1],\n",
    "    \"max_depth\": np.linspace(start=6, stop=30, num=13, dtype=int)}]\n",
    "gs_boost = GridSearchCV(gbm, grid_para_boost, scoring='r2', cv=5, n_jobs=-1)\n",
    "%time gs_boost.fit(X_train, y_train)"
   ]
  },
  {
   "cell_type": "code",
   "execution_count": 111,
   "id": "c4b47aaf",
   "metadata": {},
   "outputs": [
    {
     "data": {
      "text/plain": [
       "{'learning_rate': 0.1, 'max_depth': 6}"
      ]
     },
     "execution_count": 111,
     "metadata": {},
     "output_type": "execute_result"
    }
   ],
   "source": [
    "gs_boost.best_params_"
   ]
  },
  {
   "cell_type": "code",
   "execution_count": 92,
   "id": "4ab12f9f",
   "metadata": {
    "scrolled": true
   },
   "outputs": [
    {
     "data": {
      "text/plain": [
       "{'learning_rate': 0.1, 'max_depth': 6}"
      ]
     },
     "execution_count": 92,
     "metadata": {},
     "output_type": "execute_result"
    }
   ],
   "source": [
    "gs_boost.best_params_"
   ]
  },
  {
   "cell_type": "code",
   "execution_count": 93,
   "id": "0b0d10d2",
   "metadata": {},
   "outputs": [
    {
     "name": "stdout",
     "output_type": "stream",
     "text": [
      "The training r2: 0.98753\n",
      "The test     r2: 0.87752\n"
     ]
    }
   ],
   "source": [
    "print(\"The training r2: %.5f\" % (gs_boost.score(X_train, y_train)))\n",
    "print(\"The test     r2: %.5f\" % (gs_boost.score(X_test, y_test)))"
   ]
  },
  {
   "cell_type": "code",
   "execution_count": 112,
   "id": "50de28b9",
   "metadata": {
    "scrolled": true
   },
   "outputs": [
    {
     "name": "stdout",
     "output_type": "stream",
     "text": [
      "The training r2: 0.98528\n",
      "The test     r2: 0.89202\n"
     ]
    }
   ],
   "source": [
    "print(\"The training r2: %.5f\" % (gs_boost.score(X_train, y_train)))\n",
    "print(\"The test     r2: %.5f\" % (gs_boost.score(X_test, y_test)))"
   ]
  },
  {
   "cell_type": "markdown",
   "id": "8aaaf953",
   "metadata": {},
   "source": [
    "### More tuning"
   ]
  },
  {
   "cell_type": "code",
   "execution_count": null,
   "id": "774b1b21",
   "metadata": {},
   "outputs": [],
   "source": [
    "grid_para_boost = [{\n",
    "    \"learning_rate\":np.linspace(0.01, 0.1, 5),\n",
    "    \"max_depth\": np.linspace(start=1, stop=11, num=5, dtype=int)}]\n",
    "gs_boost = GridSearchCV(gbm, grid_para_boost, scoring='r2', cv=5, n_jobs=-1)\n",
    "%time gs_boost.fit(X_train, y_train)"
   ]
  },
  {
   "cell_type": "markdown",
   "id": "715b69ac",
   "metadata": {},
   "source": [
    "# 🤖 SVM "
   ]
  },
  {
   "cell_type": "markdown",
   "id": "6c1e0846",
   "metadata": {},
   "source": [
    "## kernel = 'rbf'"
   ]
  },
  {
   "cell_type": "code",
   "execution_count": 21,
   "id": "8e97418a",
   "metadata": {},
   "outputs": [
    {
     "name": "stdout",
     "output_type": "stream",
     "text": [
      "Fitting 3 folds for each of 16 candidates, totalling 48 fits\n",
      "[CV 1/3] END C=800000000.0, gamma=1e-08;, score=(train=0.862, test=0.650) total time=   2.5s\n",
      "[CV 3/3] END C=800000000.0, gamma=6.999999999999999e-08;, score=(train=0.899, test=0.869) total time=  42.6s\n",
      "[CV 3/3] END C=3200000000.0, gamma=4e-08;, score=(train=0.903, test=0.884) total time= 2.7min\n",
      "[CV 1/3] END C=5600000000.0, gamma=1e-08;, score=(train=0.887, test=0.613) total time=  30.7s\n",
      "[CV 1/3] END C=5600000000.0, gamma=4e-08;, score=(train=0.910, test=0.585) total time= 2.6min\n",
      "[CV 2/3] END C=5600000000.0, gamma=1e-07;, score=(train=0.932, test=0.349) total time=16.4min\n",
      "[CV 3/3] END C=800000000.0, gamma=4e-08;, score=(train=0.884, test=0.883) total time=  24.3s\n",
      "[CV 1/3] END C=3200000000.0, gamma=1e-08;, score=(train=0.881, test=0.620) total time=  13.4s\n",
      "[CV 2/3] END C=3200000000.0, gamma=4e-08;, score=(train=0.913, test=0.861) total time= 1.7min\n",
      "[CV 3/3] END C=3200000000.0, gamma=1e-07;, score=(train=0.922, test=0.867) total time=15.1min\n",
      "[CV 1/3] END C=8000000000.0, gamma=6.999999999999999e-08;, score=(train=0.923, test=0.789) total time=11.0min\n",
      "[CV 2/3] END C=800000000.0, gamma=4e-08;, score=(train=0.895, test=0.842) total time=  12.5s\n",
      "[CV 3/3] END C=800000000.0, gamma=1e-07;, score=(train=0.906, test=0.858) total time=  56.7s\n",
      "[CV 2/3] END C=3200000000.0, gamma=1e-07;, score=(train=0.929, test=0.666) total time= 8.7min\n",
      "[CV 1/3] END C=8000000000.0, gamma=1e-08;, score=(train=0.888, test=0.568) total time=  58.6s\n",
      "[CV 2/3] END C=8000000000.0, gamma=1e-08;, score=(train=0.875, test=0.851) total time=  37.8s\n",
      "[CV 3/3] END C=8000000000.0, gamma=1e-08;, score=(train=0.857, test=0.892) total time=  43.8s\n",
      "[CV 1/3] END C=8000000000.0, gamma=4e-08;, score=(train=0.914, test=0.484) total time= 8.2min\n",
      "[CV 1/3] END C=8000000000.0, gamma=1e-07;, score=(train=0.928, test=-0.029) total time=12.4min\n",
      "[CV 1/3] END C=800000000.0, gamma=6.999999999999999e-08;, score=(train=0.903, test=0.753) total time=  51.6s\n",
      "[CV 2/3] END C=3200000000.0, gamma=6.999999999999999e-08;, score=(train=0.922, test=0.842) total time= 2.8min\n",
      "[CV 3/3] END C=5600000000.0, gamma=1e-08;, score=(train=0.856, test=0.890) total time=  47.7s\n",
      "[CV 3/3] END C=5600000000.0, gamma=4e-08;, score=(train=0.908, test=0.879) total time= 4.7min\n",
      "[CV 3/3] END C=5600000000.0, gamma=1e-07;, score=(train=0.927, test=0.872) total time=26.1min\n",
      "[CV 2/3] END C=800000000.0, gamma=1e-08;, score=(train=0.834, test=0.829) total time=   4.3s\n",
      "[CV 1/3] END C=800000000.0, gamma=1e-07;, score=(train=0.910, test=0.778) total time=  55.5s\n",
      "[CV 1/3] END C=3200000000.0, gamma=1e-07;, score=(train=0.921, test=0.778) total time= 4.1min\n",
      "[CV 2/3] END C=5600000000.0, gamma=6.999999999999999e-08;, score=(train=0.926, test=0.732) total time=12.6min\n",
      "[CV 2/3] END C=8000000000.0, gamma=6.999999999999999e-08;, score=(train=0.929, test=0.645) total time=17.9min\n",
      "[CV 3/3] END C=800000000.0, gamma=1e-08;, score=(train=0.819, test=0.867) total time=   5.6s\n",
      "[CV 2/3] END C=800000000.0, gamma=1e-07;, score=(train=0.916, test=0.849) total time=  39.7s\n",
      "[CV 1/3] END C=3200000000.0, gamma=6.999999999999999e-08;, score=(train=0.917, test=0.724) total time= 5.5min\n",
      "[CV 3/3] END C=5600000000.0, gamma=6.999999999999999e-08;, score=(train=0.918, test=0.879) total time= 6.8min\n",
      "[CV 2/3] END C=8000000000.0, gamma=4e-08;, score=(train=0.919, test=0.857) total time= 6.2min\n",
      "[CV 3/3] END C=8000000000.0, gamma=6.999999999999999e-08;, score=(train=0.922, test=0.884) total time=23.2min\n",
      "The training r2: 0.91025\n",
      "The test     r2: 0.89471\n",
      "{'C': 800000000.0, 'gamma': 1e-07}\n",
      "0.8281109312299773\n",
      "[CV 1/3] END C=800000000.0, gamma=4e-08;, score=(train=0.890, test=0.519) total time=  32.1s\n",
      "[CV 3/3] END C=3200000000.0, gamma=1e-08;, score=(train=0.845, test=0.884) total time=  24.0s\n",
      "[CV 3/3] END C=3200000000.0, gamma=6.999999999999999e-08;, score=(train=0.911, test=0.870) total time= 3.6min\n",
      "[CV 1/3] END C=5600000000.0, gamma=6.999999999999999e-08;, score=(train=0.920, test=0.813) total time=11.2min\n",
      "[CV 3/3] END C=8000000000.0, gamma=4e-08;, score=(train=0.910, test=0.879) total time= 5.5min\n",
      "[CV 3/3] END C=8000000000.0, gamma=1e-07;, score=(train=0.929, test=0.875) total time=24.1min\n",
      "[CV 2/3] END C=800000000.0, gamma=6.999999999999999e-08;, score=(train=0.910, test=0.846) total time=  25.2s\n",
      "[CV 2/3] END C=3200000000.0, gamma=1e-08;, score=(train=0.858, test=0.845) total time=  11.5s\n",
      "[CV 1/3] END C=3200000000.0, gamma=4e-08;, score=(train=0.906, test=0.535) total time= 2.9min\n",
      "[CV 2/3] END C=5600000000.0, gamma=1e-08;, score=(train=0.864, test=0.849) total time=  34.3s\n",
      "[CV 2/3] END C=5600000000.0, gamma=4e-08;, score=(train=0.917, test=0.866) total time= 2.3min\n",
      "[CV 1/3] END C=5600000000.0, gamma=1e-07;, score=(train=0.925, test=0.592) total time=14.7min\n",
      "[CV 2/3] END C=8000000000.0, gamma=1e-07;, score=(train=0.934, test=0.178) total time=25.5min\n"
     ]
    }
   ],
   "source": [
    "from sklearn.svm import SVR\n",
    "svr = SVR()\n",
    "svr.set_params(kernel='rbf')\n",
    "\n",
    "paramDict = {'C':np.linspace(8e8,8e9,4),\n",
    "            'gamma':np.linspace(1e-8, 1e-7, 4)}\n",
    "grid = GridSearchCV(svr, paramDict, cv=3, return_train_score = True, n_jobs=-1, verbose=4)\n",
    "ans_svr  = grid.fit(X_train, y_train) \n",
    "svr_best = ans_svr.best_estimator_\n",
    "svr_best.fit(X_train, y_train)\n",
    "print(\"The training r2: %.5f\" % (svr_best.score(X_train, y_train)))\n",
    "print(\"The test     r2: %.5f\" % (svr_best.score(X_test, y_test)))\n",
    "print(ans_svr.best_params_)\n",
    "print(ans_svr.best_score_)\n",
    "#The training r2: 0.91025\n",
    "#The test     r2: 0.89471\n",
    "#{'C': 800000000.0, 'gamma': 1e-07}\n",
    "#0.8281109312299773"
   ]
  },
  {
   "cell_type": "markdown",
   "id": "aef126ec",
   "metadata": {},
   "source": [
    "Fitting 3 folds for each of 16 candidates, totalling 48 fits\n",
    "\n",
    "The training r2: 0.90098\\\n",
    "The test     r2: 0.86120\\\n",
    "{'C': 800000000.0, 'gamma': 5e-08}\\\n",
    "0.8551222523310237\\"
   ]
  },
  {
   "cell_type": "markdown",
   "id": "fb89cef9",
   "metadata": {},
   "source": [
    "- Fitting 3 folds for each of 16 candidates, totalling 48 fits\n",
    "\n",
    "- The training r2: 0.88791\n",
    "- The test     r2: 0.84290\n",
    "- {'C': 100000000.0, 'gamma': 1e-07}\n",
    "- 0.8427270684881721"
   ]
  },
  {
   "cell_type": "markdown",
   "id": "b77e16ec",
   "metadata": {},
   "source": [
    "Fitting 3 folds for each of 16 candidates, totalling 48 fits\n",
    "\n",
    "The training r2: 0.90633\\\n",
    "The test     r2: 0.86033\\\n",
    "{'C': 400000000.0, 'gamma': 1e-07}\\\n",
    "0.8598446497790472"
   ]
  }
 ],
 "metadata": {
  "kernelspec": {
   "display_name": "Python 3 (ipykernel)",
   "language": "python",
   "name": "python3"
  },
  "language_info": {
   "codemirror_mode": {
    "name": "ipython",
    "version": 3
   },
   "file_extension": ".py",
   "mimetype": "text/x-python",
   "name": "python",
   "nbconvert_exporter": "python",
   "pygments_lexer": "ipython3",
   "version": "3.9.7"
  }
 },
 "nbformat": 4,
 "nbformat_minor": 5
}
