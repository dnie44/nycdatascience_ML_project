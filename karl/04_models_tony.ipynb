{
 "cells": [
  {
   "cell_type": "code",
   "execution_count": 1,
   "id": "6994e32c-15f6-4118-b019-d415c8b5f8aa",
   "metadata": {},
   "outputs": [],
   "source": [
    "import numpy as np\n",
    "import pandas as pd\n",
    "import matplotlib.pyplot as plt\n",
    "from sklearn.preprocessing import StandardScaler\n",
    "from sklearn.linear_model import Ridge, Lasso, ElasticNet, LinearRegression\n",
    "from statsmodels.stats.outliers_influence import variance_inflation_factor\n",
    "from sklearn.model_selection import train_test_split, GridSearchCV\n",
    "from sklearn.ensemble import RandomForestClassifier\n",
    "from sklearn.model_selection import KFold\n",
    "import sklearn.model_selection as ms\n",
    "from sklearn import ensemble\n",
    "from sklearn import metrics\n",
    "from sklearn import tree\n",
    "from sklearn.preprocessing import LabelEncoder\n",
    "from sklearn import svm"
   ]
  },
  {
   "cell_type": "code",
   "execution_count": 2,
   "id": "4b069429-66bb-4fc7-8119-055ec2e90323",
   "metadata": {},
   "outputs": [],
   "source": [
    "import warnings\n",
    "warnings.filterwarnings('ignore')"
   ]
  },
  {
   "cell_type": "code",
   "execution_count": 3,
   "id": "c62b437d-a409-420a-891a-54ab17cc0401",
   "metadata": {},
   "outputs": [],
   "source": [
    "ah = pd.read_csv('Ames_Housing_Price_Data.csv', index_col=0,low_memory=False)"
   ]
  },
  {
   "cell_type": "markdown",
   "id": "3539dc72-fb0b-42a6-bf04-4daa5a957dee",
   "metadata": {},
   "source": [
    "<h1>01: Cleaning</h1>"
   ]
  },
  {
   "cell_type": "code",
   "execution_count": 4,
   "id": "ca985ccd-1633-4c3a-85e8-ece094f4250f",
   "metadata": {},
   "outputs": [],
   "source": [
    "ah = ah.fillna(0)"
   ]
  },
  {
   "cell_type": "code",
   "execution_count": 5,
   "id": "18a28780-54a8-4ca2-bfc4-78bd7df34274",
   "metadata": {},
   "outputs": [],
   "source": [
    "hoods = ah['Neighborhood']\n",
    "new_hoods = []\n",
    "\n",
    "for neigh in hoods :\n",
    "    if neigh == 'Blueste' :\n",
    "        new_hoods.append('SW')\n",
    "    elif neigh == 'Blmngtn' :\n",
    "        new_hoods.append('NO')\n",
    "    elif neigh == 'BrDale' :\n",
    "        new_hoods.append('NO')\n",
    "    elif neigh == 'BrkSide' :\n",
    "        new_hoods.append('DT')\n",
    "    elif neigh == 'ClearCr' :\n",
    "        new_hoods.append('NO')\n",
    "    elif neigh == 'CollgCr' :\n",
    "        new_hoods.append('SW')\n",
    "    elif neigh == 'Crawfor' :\n",
    "        new_hoods.append('SW')\n",
    "    elif neigh == 'Edwards' :\n",
    "        new_hoods.append('SW')\n",
    "    elif neigh == 'Gilbert' :\n",
    "        new_hoods.append('NO')\n",
    "    elif neigh == 'IDOTRR' :\n",
    "        new_hoods.append('DT')\n",
    "    elif neigh == 'MeadowV' :\n",
    "        new_hoods.append('SE')\n",
    "    elif neigh == 'Mitchel' :\n",
    "        new_hoods.append('SE')\n",
    "    elif neigh == 'NAmes' :\n",
    "        new_hoods.append('NO')\n",
    "    elif neigh == 'NoRidge' :\n",
    "        new_hoods.append('NW')\n",
    "    elif neigh == 'NPkVill' :\n",
    "        new_hoods.append('NO')\n",
    "    elif neigh == 'NridgHt' :\n",
    "        new_hoods.append('NW')\n",
    "    elif neigh == 'NWAmes' :\n",
    "        new_hoods.append('NO')\n",
    "    elif neigh == 'OldTown' :\n",
    "        new_hoods.append('DT')\n",
    "    elif neigh == 'SWISU' :\n",
    "        new_hoods.append('SW')\n",
    "    elif neigh == 'Sawyer' :\n",
    "        new_hoods.append('NW')\n",
    "    elif neigh == 'SawyerW' :\n",
    "        new_hoods.append('NW')\n",
    "    elif neigh == 'Somerst' :\n",
    "        new_hoods.append('NW')\n",
    "    elif neigh == 'StoneBr' :\n",
    "        new_hoods.append('NO')\n",
    "    elif neigh == 'Timber' :\n",
    "        new_hoods.append('SW')\n",
    "    elif neigh == 'Veenker' :\n",
    "        new_hoods.append('NW')\n",
    "    elif neigh == 'Greens' :\n",
    "        new_hoods.append('NW')\n",
    "    elif neigh == 'GrnHill' :\n",
    "        new_hoods.append('SO')\n",
    "    elif neigh == 'Landmrk' :\n",
    "        new_hoods.append('DT')\n",
    "    else : print('no match')\n",
    "\n",
    "ah['city_sec'] = new_hoods "
   ]
  },
  {
   "cell_type": "code",
   "execution_count": 6,
   "id": "cd5c3490-c8e5-4c71-bb16-9bdd252a3192",
   "metadata": {},
   "outputs": [],
   "source": [
    "df_float = ah.select_dtypes(include='float')\n",
    "df_float_to_int = df_float.astype(int)"
   ]
  },
  {
   "cell_type": "markdown",
   "id": "60f27b61-8829-4daa-b834-4d9580762e1e",
   "metadata": {},
   "source": [
    "<h5>❤️ Divide data into categorical and numerical, then check if those columns are equal</h5>"
   ]
  },
  {
   "cell_type": "code",
   "execution_count": 7,
   "id": "6635e12c-f81e-4838-8944-b45fae313567",
   "metadata": {},
   "outputs": [
    {
     "name": "stdout",
     "output_type": "stream",
     "text": [
      "There are 0 missing columns\n",
      "There is an equal number of rows\n"
     ]
    }
   ],
   "source": [
    "df_numerical = ah.select_dtypes(include='int64')\n",
    "df_numerical = pd.concat([df_numerical,df_float_to_int],axis=1)\n",
    "df_categorical = ah.select_dtypes(include='object')\n",
    "print('There are',len(ah.columns) - (len(df_categorical.columns) + len(df_numerical.columns)),'missing columns')\n",
    "if len(df_categorical.index) == len(df_numerical.index):\n",
    "    print('There is an equal number of rows')\n",
    "else : print('Unequal rows')\n",
    "#82 columns total"
   ]
  },
  {
   "cell_type": "code",
   "execution_count": 8,
   "id": "6887b835-63ab-49ef-b649-ba3b624bee53",
   "metadata": {},
   "outputs": [],
   "source": [
    "dummies = pd.get_dummies(df_categorical,drop_first=True)\n",
    "x = pd.concat([df_numerical,dummies],axis=1)\n",
    "x = x.drop(columns = ['SalePrice'])\n",
    "#x.drop('PID', axis=1, inplace=True)\n",
    "y = df_numerical['SalePrice']\n",
    "# x = x.drop(columns=['SalePrice','1stFlrSF','2ndFlrSF','LowQualFinSF','BsmtFinSF1','BsmtFinSF2','MSZoning_I (all)',\n",
    "#                     'Neighborhood_Blueste','Exterior2nd_PreCast','BsmtQual_Po','Electrical_SBrkr','MiscFeature_TenC','city_sec_SO',\n",
    "#                    'GarageQual_Po','BsmtCond_Fa','GarageCond_Fa','Neighborhood_Greens','BsmtFinType2_BLQ','city_sec_NW',\n",
    "#                    'Neighborhood_MeadowV','city_sec_SE','SaleCondition_Partial','city_sec_NO'])\n"
   ]
  },
  {
   "cell_type": "markdown",
   "id": "1b967b09-70c6-4265-97ee-7daff1527785",
   "metadata": {},
   "source": [
    "<h1>02: Multiple Linear Regression</h1>"
   ]
  },
  {
   "cell_type": "code",
   "execution_count": 57,
   "id": "2095e592-8c65-4845-8690-d64ce5e290e8",
   "metadata": {},
   "outputs": [],
   "source": [
    "scores = []\n",
    "for i in range(1000):\n",
    "    X_train, X_test, y_train, y_test = train_test_split(x, y, test_size = 0.3)#, random_state = 3)\n",
    "    mlr = LinearRegression()\n",
    "    mlr.fit(X_train, y_train)\n",
    "    #print(\"The training r2: %.5f\" % (mlr.score(X_train, y_train)))\n",
    "    #print(\"The test     r2: %.5f\" % (mlr.score(X_test, y_test)))\n",
    "    scores.append(mlr.score(X_test, y_test))"
   ]
  },
  {
   "cell_type": "code",
   "execution_count": 63,
   "id": "1820afba",
   "metadata": {},
   "outputs": [
    {
     "data": {
      "image/png": "[encoded data removed]",
      "text/plain": [
       "<Figure size 432x288 with 1 Axes>"
      ]
     },
     "metadata": {
      "needs_background": "light"
     },
     "output_type": "display_data"
    }
   ],
   "source": [
    "import matplotlib.pyplot as plt\n",
    "scores2 = [1-s for s in scores]\n",
    "plt.hist(scores, bins=100)\n",
    "plt.show()"
   ]
  },
  {
   "cell_type": "code",
   "execution_count": 10,
   "id": "33c3327e-acf7-4eb6-ae17-2383824ef90b",
   "metadata": {},
   "outputs": [
    {
     "ename": "NameError",
     "evalue": "name 'x_train' is not defined",
     "output_type": "error",
     "traceback": [
      "\u001b[0;31m---------------------------------------------------------------------------\u001b[0m",
      "\u001b[0;31mNameError\u001b[0m                                 Traceback (most recent call last)",
      "\u001b[0;32m/var/folders/rs/ck6nby4n2s365r7sdf740jt00000gn/T/ipykernel_36753/3858169897.py\u001b[0m in \u001b[0;36m<module>\u001b[0;34m\u001b[0m\n\u001b[0;32m----> 1\u001b[0;31m \u001b[0mmlr\u001b[0m\u001b[0;34m.\u001b[0m\u001b[0mfit\u001b[0m\u001b[0;34m(\u001b[0m\u001b[0mx_train\u001b[0m\u001b[0;34m,\u001b[0m\u001b[0my_train\u001b[0m\u001b[0;34m)\u001b[0m\u001b[0;34m\u001b[0m\u001b[0;34m\u001b[0m\u001b[0m\n\u001b[0m\u001b[1;32m      2\u001b[0m \u001b[0my_predict\u001b[0m \u001b[0;34m=\u001b[0m  \u001b[0mmlr\u001b[0m\u001b[0;34m.\u001b[0m\u001b[0mpredict\u001b[0m\u001b[0;34m(\u001b[0m\u001b[0mx_test\u001b[0m\u001b[0;34m)\u001b[0m\u001b[0;34m\u001b[0m\u001b[0;34m\u001b[0m\u001b[0m\n\u001b[1;32m      3\u001b[0m \u001b[0mmlr_diff\u001b[0m \u001b[0;34m=\u001b[0m \u001b[0mpd\u001b[0m\u001b[0;34m.\u001b[0m\u001b[0mDataFrame\u001b[0m\u001b[0;34m(\u001b[0m\u001b[0;34m{\u001b[0m\u001b[0;34m'Actual value'\u001b[0m\u001b[0;34m:\u001b[0m \u001b[0my_test\u001b[0m\u001b[0;34m,\u001b[0m \u001b[0;34m'Predicted value'\u001b[0m\u001b[0;34m:\u001b[0m \u001b[0my_predict\u001b[0m\u001b[0;34m}\u001b[0m\u001b[0;34m)\u001b[0m\u001b[0;34m\u001b[0m\u001b[0;34m\u001b[0m\u001b[0m\n\u001b[1;32m      4\u001b[0m \u001b[0mmlr_diff\u001b[0m\u001b[0;34m\u001b[0m\u001b[0;34m\u001b[0m\u001b[0m\n",
      "\u001b[0;31mNameError\u001b[0m: name 'x_train' is not defined"
     ]
    }
   ],
   "source": [
    "mlr.fit(X_train,y_train)\n",
    "y_predict =  mlr.predict(X_test)\n",
    "mlr_diff = pd.DataFrame({'Actual value': y_test, 'Predicted value': y_predict})\n",
    "mlr_diff"
   ]
  },
  {
   "cell_type": "code",
   "execution_count": null,
   "id": "aa39aa92-b9dc-4269-ae5c-c5ae1b3606c0",
   "metadata": {},
   "outputs": [],
   "source": [
    "meanAbErr = metrics.mean_absolute_error(y_test, y_predict)\n",
    "meanSqErr = metrics.mean_squared_error(y_test, y_predict)\n",
    "rootMeanSqErr = np.sqrt(metrics.mean_squared_error(y_test, y_predict))\n",
    "print('R squared: {:.2f}'.format(mlr.score(x,y) * 100))\n",
    "print('Mean Absolute Error:', meanAbErr)\n",
    "print('Mean Square Error:', meanSqErr)\n",
    "print('Root Mean Square Error:', rootMeanSqErr)"
   ]
  },
  {
   "cell_type": "code",
   "execution_count": null,
   "id": "1723f47b-490f-4807-860e-f4ca5f11f712",
   "metadata": {},
   "outputs": [],
   "source": [
    "#vif = pd.DataFrame()\n",
    "#vif['var'] = x_train.columns\n",
    "#vif['VIF'] = [variance_inflation_factor(x_train.values, i) for i in range(x_train.shape[1])]"
   ]
  },
  {
   "cell_type": "code",
   "execution_count": null,
   "id": "c02e1773-0d6e-4986-b466-9668e740d905",
   "metadata": {
    "scrolled": true
   },
   "outputs": [],
   "source": [
    "inf = vif['VIF'] > 5\n",
    "vifs = vif.loc[inf]\n",
    "vifs['var']"
   ]
  },
  {
   "cell_type": "code",
   "execution_count": null,
   "id": "6efea440",
   "metadata": {},
   "outputs": [],
   "source": [
    "x_train"
   ]
  },
  {
   "cell_type": "code",
   "execution_count": null,
   "id": "40fbc1ae",
   "metadata": {},
   "outputs": [],
   "source": [
    "y_train"
   ]
  },
  {
   "cell_type": "code",
   "execution_count": 66,
   "id": "a31d77e8",
   "metadata": {},
   "outputs": [
    {
     "name": "stdout",
     "output_type": "stream",
     "text": [
      "The training r2: 0.99356\n",
      "The test     r2: 0.93143\n"
     ]
    }
   ],
   "source": [
    "from catboost import CatBoostRegressor\n",
    "model = CatBoostRegressor(silent=True)\n",
    "model.fit(X_train, y_train)\n",
    "print(\"The training r2: %.5f\" % (model.score(X_train, y_train)))\n",
    "print(\"The test     r2: %.5f\" % (model.score(X_test, y_test)))"
   ]
  },
  {
   "cell_type": "code",
   "execution_count": 70,
   "id": "b28bb426",
   "metadata": {
    "scrolled": true
   },
   "outputs": [
    {
     "name": "stdout",
     "output_type": "stream",
     "text": [
      "CPU times: user 7.13 s, sys: 833 ms, total: 7.96 s\n",
      "Wall time: 2.09 s\n",
      "CPU times: user 6.45 s, sys: 841 ms, total: 7.29 s\n",
      "Wall time: 1.96 s\n",
      "CPU times: user 6.4 s, sys: 820 ms, total: 7.22 s\n",
      "Wall time: 1.98 s\n",
      "CPU times: user 6.95 s, sys: 818 ms, total: 7.77 s\n",
      "Wall time: 2.06 s\n",
      "CPU times: user 6.85 s, sys: 784 ms, total: 7.63 s\n",
      "Wall time: 2.07 s\n",
      "CPU times: user 7.03 s, sys: 803 ms, total: 7.83 s\n",
      "Wall time: 2.09 s\n",
      "CPU times: user 7.02 s, sys: 816 ms, total: 7.83 s\n",
      "Wall time: 2.06 s\n",
      "CPU times: user 7 s, sys: 817 ms, total: 7.81 s\n",
      "Wall time: 2.06 s\n",
      "CPU times: user 7.51 s, sys: 814 ms, total: 8.32 s\n",
      "Wall time: 2.24 s\n",
      "CPU times: user 6.58 s, sys: 854 ms, total: 7.44 s\n",
      "Wall time: 1.97 s\n",
      "CPU times: user 7.1 s, sys: 829 ms, total: 7.93 s\n",
      "Wall time: 2.08 s\n",
      "CPU times: user 6.57 s, sys: 839 ms, total: 7.41 s\n",
      "Wall time: 1.98 s\n",
      "CPU times: user 7.5 s, sys: 793 ms, total: 8.3 s\n",
      "Wall time: 2.14 s\n",
      "CPU times: user 7.07 s, sys: 828 ms, total: 7.9 s\n",
      "Wall time: 2.05 s\n",
      "CPU times: user 6.74 s, sys: 823 ms, total: 7.57 s\n",
      "Wall time: 1.97 s\n",
      "CPU times: user 6.59 s, sys: 857 ms, total: 7.44 s\n",
      "Wall time: 1.98 s\n",
      "CPU times: user 6.77 s, sys: 830 ms, total: 7.6 s\n",
      "Wall time: 1.98 s\n",
      "CPU times: user 6.56 s, sys: 838 ms, total: 7.4 s\n",
      "Wall time: 1.98 s\n",
      "CPU times: user 7.07 s, sys: 818 ms, total: 7.89 s\n",
      "Wall time: 2.06 s\n",
      "CPU times: user 7.11 s, sys: 836 ms, total: 7.94 s\n",
      "Wall time: 2.07 s\n",
      "CPU times: user 6.53 s, sys: 844 ms, total: 7.38 s\n",
      "Wall time: 1.99 s\n",
      "CPU times: user 7.05 s, sys: 835 ms, total: 7.88 s\n",
      "Wall time: 2.11 s\n",
      "CPU times: user 6.26 s, sys: 880 ms, total: 7.14 s\n",
      "Wall time: 2.03 s\n",
      "CPU times: user 6.86 s, sys: 896 ms, total: 7.75 s\n",
      "Wall time: 2.13 s\n",
      "CPU times: user 6.99 s, sys: 814 ms, total: 7.8 s\n",
      "Wall time: 2.1 s\n",
      "CPU times: user 6.49 s, sys: 841 ms, total: 7.33 s\n",
      "Wall time: 2.04 s\n",
      "CPU times: user 6.87 s, sys: 810 ms, total: 7.68 s\n",
      "Wall time: 2.1 s\n",
      "CPU times: user 7.42 s, sys: 819 ms, total: 8.24 s\n",
      "Wall time: 2.34 s\n",
      "CPU times: user 6.97 s, sys: 831 ms, total: 7.8 s\n",
      "Wall time: 2.14 s\n",
      "CPU times: user 7.08 s, sys: 823 ms, total: 7.9 s\n",
      "Wall time: 2.06 s\n",
      "CPU times: user 6.96 s, sys: 806 ms, total: 7.77 s\n",
      "Wall time: 2.04 s\n",
      "CPU times: user 6.12 s, sys: 898 ms, total: 7.01 s\n",
      "Wall time: 1.9 s\n",
      "CPU times: user 6.69 s, sys: 838 ms, total: 7.52 s\n",
      "Wall time: 1.98 s\n",
      "CPU times: user 7.12 s, sys: 827 ms, total: 7.95 s\n",
      "Wall time: 2.06 s\n",
      "CPU times: user 6.6 s, sys: 855 ms, total: 7.46 s\n",
      "Wall time: 1.97 s\n",
      "CPU times: user 6.57 s, sys: 829 ms, total: 7.39 s\n",
      "Wall time: 2 s\n",
      "CPU times: user 6.61 s, sys: 833 ms, total: 7.45 s\n",
      "Wall time: 1.99 s\n",
      "CPU times: user 6.99 s, sys: 811 ms, total: 7.8 s\n",
      "Wall time: 2.05 s\n",
      "CPU times: user 6.58 s, sys: 836 ms, total: 7.42 s\n",
      "Wall time: 1.99 s\n",
      "CPU times: user 7.04 s, sys: 822 ms, total: 7.86 s\n",
      "Wall time: 2.04 s\n",
      "CPU times: user 6.65 s, sys: 849 ms, total: 7.5 s\n",
      "Wall time: 1.97 s\n",
      "CPU times: user 7.1 s, sys: 834 ms, total: 7.94 s\n",
      "Wall time: 2.07 s\n",
      "CPU times: user 7.17 s, sys: 821 ms, total: 7.99 s\n",
      "Wall time: 2.07 s\n",
      "CPU times: user 7.14 s, sys: 828 ms, total: 7.96 s\n",
      "Wall time: 2.07 s\n",
      "CPU times: user 6.56 s, sys: 852 ms, total: 7.41 s\n",
      "Wall time: 1.97 s\n",
      "CPU times: user 6.63 s, sys: 853 ms, total: 7.48 s\n",
      "Wall time: 2.01 s\n",
      "CPU times: user 6.84 s, sys: 841 ms, total: 7.68 s\n",
      "Wall time: 1.99 s\n",
      "CPU times: user 6.64 s, sys: 842 ms, total: 7.48 s\n",
      "Wall time: 1.98 s\n",
      "CPU times: user 6.76 s, sys: 833 ms, total: 7.59 s\n",
      "Wall time: 1.97 s\n",
      "CPU times: user 7.1 s, sys: 832 ms, total: 7.93 s\n",
      "Wall time: 2.07 s\n",
      "CPU times: user 6.66 s, sys: 842 ms, total: 7.5 s\n",
      "Wall time: 1.97 s\n",
      "CPU times: user 6.55 s, sys: 851 ms, total: 7.4 s\n",
      "Wall time: 1.98 s\n",
      "CPU times: user 7.07 s, sys: 802 ms, total: 7.88 s\n",
      "Wall time: 2.06 s\n",
      "CPU times: user 7.1 s, sys: 809 ms, total: 7.91 s\n",
      "Wall time: 2.05 s\n",
      "CPU times: user 7.07 s, sys: 813 ms, total: 7.89 s\n",
      "Wall time: 2.06 s\n",
      "CPU times: user 6.48 s, sys: 833 ms, total: 7.32 s\n",
      "Wall time: 2.01 s\n",
      "CPU times: user 6.03 s, sys: 888 ms, total: 6.92 s\n",
      "Wall time: 2 s\n",
      "CPU times: user 6.56 s, sys: 854 ms, total: 7.42 s\n",
      "Wall time: 2.06 s\n",
      "CPU times: user 6.48 s, sys: 854 ms, total: 7.34 s\n",
      "Wall time: 2.01 s\n",
      "CPU times: user 7.01 s, sys: 836 ms, total: 7.84 s\n",
      "Wall time: 2.12 s\n",
      "CPU times: user 7.06 s, sys: 824 ms, total: 7.89 s\n",
      "Wall time: 2.1 s\n",
      "CPU times: user 6.58 s, sys: 846 ms, total: 7.43 s\n",
      "Wall time: 2.04 s\n",
      "CPU times: user 6.61 s, sys: 847 ms, total: 7.46 s\n",
      "Wall time: 1.99 s\n",
      "CPU times: user 6.73 s, sys: 823 ms, total: 7.56 s\n",
      "Wall time: 1.98 s\n",
      "CPU times: user 7.16 s, sys: 814 ms, total: 7.98 s\n",
      "Wall time: 2.04 s\n",
      "CPU times: user 6.56 s, sys: 834 ms, total: 7.4 s\n",
      "Wall time: 2 s\n",
      "CPU times: user 6.38 s, sys: 822 ms, total: 7.21 s\n",
      "Wall time: 2.02 s\n",
      "CPU times: user 6.92 s, sys: 824 ms, total: 7.74 s\n",
      "Wall time: 2.13 s\n",
      "CPU times: user 6.5 s, sys: 840 ms, total: 7.34 s\n",
      "Wall time: 2 s\n",
      "CPU times: user 6.98 s, sys: 852 ms, total: 7.83 s\n",
      "Wall time: 2.14 s\n",
      "CPU times: user 6.45 s, sys: 838 ms, total: 7.29 s\n",
      "Wall time: 2.01 s\n",
      "CPU times: user 6.54 s, sys: 849 ms, total: 7.39 s\n",
      "Wall time: 2.01 s\n",
      "CPU times: user 6.63 s, sys: 842 ms, total: 7.47 s\n",
      "Wall time: 1.97 s\n",
      "CPU times: user 6.64 s, sys: 855 ms, total: 7.5 s\n",
      "Wall time: 1.97 s\n",
      "CPU times: user 6.61 s, sys: 858 ms, total: 7.46 s\n",
      "Wall time: 1.99 s\n",
      "CPU times: user 7.11 s, sys: 833 ms, total: 7.95 s\n",
      "Wall time: 2.04 s\n",
      "CPU times: user 7.06 s, sys: 815 ms, total: 7.87 s\n",
      "Wall time: 2.08 s\n",
      "CPU times: user 6.61 s, sys: 838 ms, total: 7.45 s\n",
      "Wall time: 2 s\n",
      "CPU times: user 6.58 s, sys: 841 ms, total: 7.42 s\n",
      "Wall time: 2.01 s\n",
      "CPU times: user 6.81 s, sys: 841 ms, total: 7.66 s\n",
      "Wall time: 1.98 s\n",
      "CPU times: user 7.26 s, sys: 813 ms, total: 8.08 s\n",
      "Wall time: 2.04 s\n",
      "CPU times: user 6.61 s, sys: 863 ms, total: 7.48 s\n",
      "Wall time: 1.98 s\n",
      "CPU times: user 6.54 s, sys: 843 ms, total: 7.39 s\n",
      "Wall time: 1.97 s\n",
      "CPU times: user 7.1 s, sys: 812 ms, total: 7.91 s\n",
      "Wall time: 2.04 s\n",
      "CPU times: user 6.52 s, sys: 859 ms, total: 7.38 s\n",
      "Wall time: 1.96 s\n",
      "CPU times: user 6.57 s, sys: 759 ms, total: 7.33 s\n",
      "Wall time: 1.97 s\n",
      "CPU times: user 7.07 s, sys: 821 ms, total: 7.89 s\n",
      "Wall time: 2.05 s\n",
      "CPU times: user 7.03 s, sys: 820 ms, total: 7.85 s\n",
      "Wall time: 2.04 s\n",
      "CPU times: user 7.1 s, sys: 824 ms, total: 7.92 s\n",
      "Wall time: 2.04 s\n",
      "CPU times: user 7.08 s, sys: 828 ms, total: 7.9 s\n",
      "Wall time: 2.05 s\n",
      "CPU times: user 7.09 s, sys: 835 ms, total: 7.92 s\n",
      "Wall time: 2.05 s\n",
      "CPU times: user 7.06 s, sys: 802 ms, total: 7.86 s\n",
      "Wall time: 2.07 s\n",
      "CPU times: user 7.06 s, sys: 822 ms, total: 7.88 s\n",
      "Wall time: 2.04 s\n",
      "CPU times: user 6.65 s, sys: 863 ms, total: 7.51 s\n",
      "Wall time: 2.02 s\n",
      "CPU times: user 6.64 s, sys: 835 ms, total: 7.48 s\n",
      "Wall time: 1.98 s\n",
      "CPU times: user 7.17 s, sys: 808 ms, total: 7.97 s\n",
      "Wall time: 2.04 s\n",
      "CPU times: user 6.64 s, sys: 858 ms, total: 7.5 s\n",
      "Wall time: 1.99 s\n",
      "CPU times: user 6.6 s, sys: 847 ms, total: 7.45 s\n",
      "Wall time: 1.98 s\n",
      "CPU times: user 6.72 s, sys: 809 ms, total: 7.53 s\n",
      "Wall time: 1.99 s\n",
      "CPU times: user 6.59 s, sys: 844 ms, total: 7.43 s\n",
      "Wall time: 1.99 s\n"
     ]
    }
   ],
   "source": [
    "scores = []\n",
    "for i in range(100):\n",
    "    X_train, X_test, y_train, y_test = train_test_split(x, y, test_size = 0.3)\n",
    "    %time model.fit(X_train, y_train)\n",
    "    scores.append(model.score(X_test, y_test))"
   ]
  },
  {
   "cell_type": "code",
   "execution_count": 72,
   "id": "d42b23a5",
   "metadata": {
    "scrolled": true
   },
   "outputs": [
    {
     "data": {
      "image/png": "[encoded data removed]",
      "text/plain": [
       "<Figure size 432x288 with 1 Axes>"
      ]
     },
     "metadata": {
      "needs_background": "light"
     },
     "output_type": "display_data"
    }
   ],
   "source": [
    "plt.hist(scores, bins=10)\n",
    "plt.show()"
   ]
  },
  {
   "cell_type": "code",
   "execution_count": 80,
   "id": "922aa854",
   "metadata": {
    "scrolled": true
   },
   "outputs": [
    {
     "data": {
      "image/png": "[encoded data removed]",
      "text/plain": [
       "<Figure size 432x288 with 1 Axes>"
      ]
     },
     "metadata": {
      "needs_background": "light"
     },
     "output_type": "display_data"
    }
   ],
   "source": [
    "mlr_scores = []\n",
    "mlr = LinearRegression()\n",
    "for i in range(100):\n",
    "    X_train, X_test, y_train, y_test = train_test_split(x, y, test_size = 0.3)\n",
    "    mlr.fit(X_train, np.log10(y_train))\n",
    "    mlr_scores.append(mlr.score(X_test, np.log10(y_test)))\n",
    "plt.hist(mlr_scores, bins=10)\n",
    "plt.show()"
   ]
  },
  {
   "cell_type": "code",
   "execution_count": 94,
   "id": "05d61e13",
   "metadata": {
    "scrolled": true
   },
   "outputs": [
    {
     "data": {
      "image/png": "[encoded data removed]",
      "text/plain": [
       "<Figure size 432x288 with 1 Axes>"
      ]
     },
     "metadata": {
      "needs_background": "light"
     },
     "output_type": "display_data"
    }
   ],
   "source": [
    "plt.hist(mlr_scores, bins=5, alpha = 0.7, color='red')\n",
    "plt.hist(scores, bins=5, alpha = 0.7, color='blue')\n",
    "plt.show()"
   ]
  },
  {
   "cell_type": "code",
   "execution_count": 84,
   "id": "17405bc3",
   "metadata": {
    "scrolled": true
   },
   "outputs": [
    {
     "data": {
      "text/plain": [
       "0.9045737763829537"
      ]
     },
     "execution_count": 84,
     "metadata": {},
     "output_type": "execute_result"
    }
   ],
   "source": [
    "np.mean(mlr_scores)"
   ]
  },
  {
   "cell_type": "code",
   "execution_count": 85,
   "id": "b59692ff",
   "metadata": {},
   "outputs": [
    {
     "data": {
      "text/plain": [
       "0.92485326307994"
      ]
     },
     "execution_count": 85,
     "metadata": {},
     "output_type": "execute_result"
    }
   ],
   "source": [
    "np.mean(scores)"
   ]
  }
 ],
 "metadata": {
  "kernelspec": {
   "display_name": "Python 3 (ipykernel)",
   "language": "python",
   "name": "python3"
  },
  "language_info": {
   "codemirror_mode": {
    "name": "ipython",
    "version": 3
   },
   "file_extension": ".py",
   "mimetype": "text/x-python",
   "name": "python",
   "nbconvert_exporter": "python",
   "pygments_lexer": "ipython3",
   "version": "3.9.7"
  }
 },
 "nbformat": 4,
 "nbformat_minor": 5
}
