{
 "cells": [
  {
   "cell_type": "code",
   "execution_count": 1,
   "id": "7c060c8c",
   "metadata": {},
   "outputs": [],
   "source": [
    "import pandas as pd\n",
    "import numpy as np\n",
    "import re\n",
    "from geopy.distance import geodesic\n",
    "\n",
    "from bokeh.plotting import figure, show\n",
    "from bokeh.tile_providers import get_provider, STAMEN_TONER, CARTODBPOSITRON_RETINA\n",
    "from bokeh.models import HoverTool, FreehandDrawTool, BoxEditTool, ColumnDataSource, ColorBar\n",
    "from bokeh.palettes import Plasma10\n",
    "from bokeh.transform import linear_cmap"
   ]
  },
  {
   "cell_type": "code",
   "execution_count": 2,
   "id": "5ee9a7e1",
   "metadata": {},
   "outputs": [],
   "source": [
    "# Define function to switch from lat/long to mercator x/y coordinates\n",
    "def to_mercator(lat, lon):\n",
    "    \n",
    "    r_major = 6378137.000\n",
    "    x = r_major * np.radians(lon)\n",
    "    scale = x/lon\n",
    "    y = 180.0/np.pi * np.log(np.tan(np.pi/4.0 + \n",
    "        lat * (np.pi/180.0)/2.0)) * scale\n",
    "    return (x, y)"
   ]
  },
  {
   "cell_type": "code",
   "execution_count": 3,
   "id": "ffa506a8",
   "metadata": {},
   "outputs": [
    {
     "data": {
      "text/plain": [
       "(2624, 6)"
      ]
     },
     "execution_count": 3,
     "metadata": {},
     "output_type": "execute_result"
    }
   ],
   "source": [
    "geo = pd.read_csv('sectors.csv', index_col='PID')\n",
    "geo.shape"
   ]
  },
  {
   "cell_type": "code",
   "execution_count": 4,
   "id": "ab19c505",
   "metadata": {},
   "outputs": [
    {
     "data": {
      "text/plain": [
       "(2579, 81)"
      ]
     },
     "execution_count": 4,
     "metadata": {},
     "output_type": "execute_result"
    }
   ],
   "source": [
    "data = pd.read_csv('ALL_data.csv', index_col='PID')\n",
    "data.shape"
   ]
  },
  {
   "cell_type": "code",
   "execution_count": 5,
   "id": "858ff83b",
   "metadata": {},
   "outputs": [],
   "source": [
    "map_data = geo.merge(np.round(data[['SalePrice']]/1000),how='left',on='PID')\n",
    "map_data = map_data.reset_index()\n",
    "map_data.drop_duplicates(subset='PID' ,inplace=True)\n",
    "map_data = map_data.set_index('PID')"
   ]
  },
  {
   "cell_type": "code",
   "execution_count": 6,
   "id": "96fa57ff",
   "metadata": {},
   "outputs": [],
   "source": [
    "# Ames, Iowa lat long, converted to mercator\n",
    "Ames_center = to_mercator(42.034534, -93.620369)"
   ]
  },
  {
   "cell_type": "code",
   "execution_count": 7,
   "id": "11f9aea1",
   "metadata": {},
   "outputs": [],
   "source": [
    "landmarks = {'landmarks':['Iowa State University',\n",
    "                          'Municipal Airport',\n",
    "                          'North Grand Mall',\n",
    "                          'Mary Greeley Medical Center',\n",
    "                          'Jack Trice Stadium',\n",
    "                          'Walmart Supercenter'],\n",
    "            'x_merc':[to_mercator(42.0267,-93.6465)[0],\n",
    "                      to_mercator(41.9987,-93.6223)[0],\n",
    "                      to_mercator(42.0494,-93.6224)[0],\n",
    "                      to_mercator(42.0323,-93.6111)[0],\n",
    "                      to_mercator(42.0140,-93.6359)[0],\n",
    "                      to_mercator(42.0160016, -93.6068719)[0]],\n",
    "            'y_merc':[to_mercator(42.0267,-93.6465)[1],\n",
    "                      to_mercator(41.9987,-93.6223)[1],\n",
    "                      to_mercator(42.0494,-93.6224)[1],\n",
    "                      to_mercator(42.0323,-93.6111)[1],\n",
    "                      to_mercator(42.0140,-93.6359)[1],\n",
    "                      to_mercator(42.0160016, -93.6068719)[1]]}\n",
    "\n",
    "marks = pd.DataFrame(landmarks)"
   ]
  },
  {
   "cell_type": "code",
   "execution_count": 8,
   "id": "fb8c9077",
   "metadata": {},
   "outputs": [],
   "source": [
    "# Set color mapping for House Prices\n",
    "mycolors = linear_cmap(field_name='SalePrice', palette=Plasma10[::-1] ,low=min(map_data.SalePrice) ,high=max(map_data.SalePrice))"
   ]
  },
  {
   "cell_type": "code",
   "execution_count": 9,
   "id": "e52447f5",
   "metadata": {},
   "outputs": [],
   "source": [
    "background = get_provider(CARTODBPOSITRON_RETINA) #CARTODBPOSITRON_RETINA, STAMEN_TONER\n",
    "x_zoom = 7000\n",
    "y_zoom = 5000\n",
    "\n",
    "# Base Map Layer\n",
    "fig = figure(plot_width=1200, plot_height=800,\n",
    "             x_range=(Ames_center[0]-x_zoom, Ames_center[0]+y_zoom), \n",
    "             y_range=(Ames_center[1]-x_zoom, Ames_center[1]+y_zoom),\n",
    "             x_axis_type=\"mercator\", y_axis_type=\"mercator\",\n",
    "             title=\"Ames Iowa Housing Map\")\n",
    "fig.add_tile(background)\n",
    "\n",
    "\n",
    "# Dots for Houses\n",
    "my_hover = HoverTool(names=['House'])\n",
    "my_hover.tooltips = [('Price', '@SalePrice')]\n",
    "fig.circle(x=\"x_merc\", y=\"y_merc\",\n",
    "           size=5,\n",
    "           fill_color=mycolors, line_color=mycolors,\n",
    "           fill_alpha=0.6,\n",
    "           name='House',\n",
    "           source=map_data)\n",
    "fig.add_tools(my_hover)\n",
    "\n",
    "# Big Dots for Landmarks, with Hover interactivity\n",
    "my_hover = HoverTool(names=['landmark'])\n",
    "my_hover.tooltips = [('X', '@landmarks')]\n",
    "fig.circle(x=\"x_merc\", y=\"y_merc\",\n",
    "           size=12,\n",
    "           fill_color=\"dodgerblue\", line_color='dodgerblue',\n",
    "           fill_alpha=0.3,\n",
    "           name='landmark',\n",
    "           source=marks)\n",
    "fig.add_tools(my_hover)\n",
    "\n",
    "color_bar = ColorBar(color_mapper=mycolors['transform'], width=8,  location=(0,0),title=\"Price $(thousands)\")\n",
    "fig.add_layout(color_bar, 'right')\n",
    "\n",
    "\n",
    "\n",
    "# Add draw tool\n",
    "renderer = fig.multi_line([[1, 9]], [[5, 5]], line_width=4, alpha=0.4, color='red')\n",
    "draw_tool = FreehandDrawTool(renderers=[renderer], num_objects=4)\n",
    "fig.add_tools(draw_tool)\n",
    "\n",
    "show(fig)"
   ]
  },
  {
   "cell_type": "markdown",
   "id": "0885e06d",
   "metadata": {},
   "source": [
    "![walmart](Walmart.png)"
   ]
  },
  {
   "cell_type": "markdown",
   "id": "9c3b5da4",
   "metadata": {},
   "source": [
    "## Cheaper Houses closer to Walmart Supercenter??"
   ]
  },
  {
   "cell_type": "code",
   "execution_count": 10,
   "id": "b2737fce",
   "metadata": {},
   "outputs": [],
   "source": [
    "# convert lat_long string values to float\n",
    "map_data['lat_long'] = [re.findall('(-*\\d+.\\d+)',each) for each in map_data.lat_long]"
   ]
  },
  {
   "cell_type": "code",
   "execution_count": 11,
   "id": "42640e67",
   "metadata": {},
   "outputs": [],
   "source": [
    "map_data['latitude'] = [float(each[0]) if each != [] else 0 for each in map_data.lat_long]\n",
    "map_data['longitude'] = [float(each[1]) if each != [] else 0 for each in map_data.lat_long]"
   ]
  },
  {
   "cell_type": "code",
   "execution_count": 12,
   "id": "6798aaa8",
   "metadata": {},
   "outputs": [],
   "source": [
    "# calculate distance from Walmart (in km)\n",
    "walmart = (42.0160016, -93.6068719)"
   ]
  },
  {
   "cell_type": "code",
   "execution_count": 13,
   "id": "d79939ed",
   "metadata": {},
   "outputs": [],
   "source": [
    "map_data['DfromWalmart'] = [geodesic(each,walmart).miles for each in zip(map_data.latitude,map_data.longitude)]\n",
    "map_data.drop('lat_long', axis=1, inplace=True)"
   ]
  },
  {
   "cell_type": "code",
   "execution_count": 14,
   "id": "4ec7c0e9",
   "metadata": {},
   "outputs": [
    {
     "data": {
      "text/plain": [
       "103"
      ]
     },
     "execution_count": 14,
     "metadata": {},
     "output_type": "execute_result"
    }
   ],
   "source": [
    "# lots of missing latitute and longitudes\n",
    "map_data[map_data.DfromWalmart>10].DfromWalmart.count()"
   ]
  },
  {
   "cell_type": "code",
   "execution_count": 15,
   "id": "d6899556",
   "metadata": {},
   "outputs": [],
   "source": [
    "map_data[['latitude','longitude']] = map_data[['latitude','longitude']].replace(0, np.NaN)"
   ]
  },
  {
   "cell_type": "code",
   "execution_count": 16,
   "id": "39007c05",
   "metadata": {},
   "outputs": [],
   "source": [
    "# use 'Neighborhood' to give an estimate of lat_long\n",
    "geofill = pd.DataFrame({'lat':map_data.groupby('Neighborhood').latitude.mean(),\n",
    "                        'long':map_data.groupby('Neighborhood').longitude.mean()})"
   ]
  },
  {
   "cell_type": "code",
   "execution_count": 17,
   "id": "539966e4",
   "metadata": {},
   "outputs": [
    {
     "data": {
      "text/html": [
       "<div>\n",
       "<style scoped>\n",
       "    .dataframe tbody tr th:only-of-type {\n",
       "        vertical-align: middle;\n",
       "    }\n",
       "\n",
       "    .dataframe tbody tr th {\n",
       "        vertical-align: top;\n",
       "    }\n",
       "\n",
       "    .dataframe thead th {\n",
       "        text-align: right;\n",
       "    }\n",
       "</style>\n",
       "<table border=\"1\" class=\"dataframe\">\n",
       "  <thead>\n",
       "    <tr style=\"text-align: right;\">\n",
       "      <th></th>\n",
       "      <th>lat</th>\n",
       "      <th>long</th>\n",
       "    </tr>\n",
       "    <tr>\n",
       "      <th>Neighborhood</th>\n",
       "      <th></th>\n",
       "      <th></th>\n",
       "    </tr>\n",
       "  </thead>\n",
       "  <tbody>\n",
       "    <tr>\n",
       "      <th>Blmngtn</th>\n",
       "      <td>42.062741</td>\n",
       "      <td>-93.641574</td>\n",
       "    </tr>\n",
       "    <tr>\n",
       "      <th>Blueste</th>\n",
       "      <td>42.009757</td>\n",
       "      <td>-93.647011</td>\n",
       "    </tr>\n",
       "    <tr>\n",
       "      <th>BrDale</th>\n",
       "      <td>42.052066</td>\n",
       "      <td>-93.628499</td>\n",
       "    </tr>\n",
       "    <tr>\n",
       "      <th>BrkSide</th>\n",
       "      <td>42.032397</td>\n",
       "      <td>-93.624965</td>\n",
       "    </tr>\n",
       "    <tr>\n",
       "      <th>ClearCr</th>\n",
       "      <td>42.028353</td>\n",
       "      <td>-93.671574</td>\n",
       "    </tr>\n",
       "    <tr>\n",
       "      <th>CollgCr</th>\n",
       "      <td>42.018940</td>\n",
       "      <td>-93.686806</td>\n",
       "    </tr>\n",
       "    <tr>\n",
       "      <th>Crawfor</th>\n",
       "      <td>42.015655</td>\n",
       "      <td>-93.641099</td>\n",
       "    </tr>\n",
       "    <tr>\n",
       "      <th>Edwards</th>\n",
       "      <td>42.022026</td>\n",
       "      <td>-93.666746</td>\n",
       "    </tr>\n",
       "    <tr>\n",
       "      <th>Gilbert</th>\n",
       "      <td>42.059764</td>\n",
       "      <td>-93.639265</td>\n",
       "    </tr>\n",
       "    <tr>\n",
       "      <th>Greens</th>\n",
       "      <td>42.042866</td>\n",
       "      <td>-93.648822</td>\n",
       "    </tr>\n",
       "    <tr>\n",
       "      <th>GrnHill</th>\n",
       "      <td>42.001514</td>\n",
       "      <td>-93.644726</td>\n",
       "    </tr>\n",
       "    <tr>\n",
       "      <th>IDOTRR</th>\n",
       "      <td>42.022120</td>\n",
       "      <td>-93.622387</td>\n",
       "    </tr>\n",
       "    <tr>\n",
       "      <th>Landmrk</th>\n",
       "      <td>42.021237</td>\n",
       "      <td>-93.682435</td>\n",
       "    </tr>\n",
       "    <tr>\n",
       "      <th>MeadowV</th>\n",
       "      <td>41.991971</td>\n",
       "      <td>-93.603269</td>\n",
       "    </tr>\n",
       "    <tr>\n",
       "      <th>Mitchel</th>\n",
       "      <td>41.991955</td>\n",
       "      <td>-93.604761</td>\n",
       "    </tr>\n",
       "    <tr>\n",
       "      <th>NAmes</th>\n",
       "      <td>42.042450</td>\n",
       "      <td>-93.617530</td>\n",
       "    </tr>\n",
       "    <tr>\n",
       "      <th>NPkVill</th>\n",
       "      <td>42.050346</td>\n",
       "      <td>-93.625925</td>\n",
       "    </tr>\n",
       "    <tr>\n",
       "      <th>NWAmes</th>\n",
       "      <td>42.049553</td>\n",
       "      <td>-93.634059</td>\n",
       "    </tr>\n",
       "    <tr>\n",
       "      <th>NoRidge</th>\n",
       "      <td>42.051597</td>\n",
       "      <td>-93.653914</td>\n",
       "    </tr>\n",
       "    <tr>\n",
       "      <th>NridgHt</th>\n",
       "      <td>42.060088</td>\n",
       "      <td>-93.653809</td>\n",
       "    </tr>\n",
       "    <tr>\n",
       "      <th>OldTown</th>\n",
       "      <td>42.031108</td>\n",
       "      <td>-93.614379</td>\n",
       "    </tr>\n",
       "    <tr>\n",
       "      <th>SWISU</th>\n",
       "      <td>42.019896</td>\n",
       "      <td>-93.651088</td>\n",
       "    </tr>\n",
       "    <tr>\n",
       "      <th>Sawyer</th>\n",
       "      <td>42.033257</td>\n",
       "      <td>-93.670654</td>\n",
       "    </tr>\n",
       "    <tr>\n",
       "      <th>SawyerW</th>\n",
       "      <td>42.034700</td>\n",
       "      <td>-93.686535</td>\n",
       "    </tr>\n",
       "    <tr>\n",
       "      <th>Somerst</th>\n",
       "      <td>42.049869</td>\n",
       "      <td>-93.644356</td>\n",
       "    </tr>\n",
       "    <tr>\n",
       "      <th>StoneBr</th>\n",
       "      <td>42.060466</td>\n",
       "      <td>-93.631368</td>\n",
       "    </tr>\n",
       "    <tr>\n",
       "      <th>Timber</th>\n",
       "      <td>41.996852</td>\n",
       "      <td>-93.648389</td>\n",
       "    </tr>\n",
       "    <tr>\n",
       "      <th>Veenker</th>\n",
       "      <td>42.041421</td>\n",
       "      <td>-93.651913</td>\n",
       "    </tr>\n",
       "  </tbody>\n",
       "</table>\n",
       "</div>"
      ],
      "text/plain": [
       "                    lat       long\n",
       "Neighborhood                      \n",
       "Blmngtn       42.062741 -93.641574\n",
       "Blueste       42.009757 -93.647011\n",
       "BrDale        42.052066 -93.628499\n",
       "BrkSide       42.032397 -93.624965\n",
       "ClearCr       42.028353 -93.671574\n",
       "CollgCr       42.018940 -93.686806\n",
       "Crawfor       42.015655 -93.641099\n",
       "Edwards       42.022026 -93.666746\n",
       "Gilbert       42.059764 -93.639265\n",
       "Greens        42.042866 -93.648822\n",
       "GrnHill       42.001514 -93.644726\n",
       "IDOTRR        42.022120 -93.622387\n",
       "Landmrk       42.021237 -93.682435\n",
       "MeadowV       41.991971 -93.603269\n",
       "Mitchel       41.991955 -93.604761\n",
       "NAmes         42.042450 -93.617530\n",
       "NPkVill       42.050346 -93.625925\n",
       "NWAmes        42.049553 -93.634059\n",
       "NoRidge       42.051597 -93.653914\n",
       "NridgHt       42.060088 -93.653809\n",
       "OldTown       42.031108 -93.614379\n",
       "SWISU         42.019896 -93.651088\n",
       "Sawyer        42.033257 -93.670654\n",
       "SawyerW       42.034700 -93.686535\n",
       "Somerst       42.049869 -93.644356\n",
       "StoneBr       42.060466 -93.631368\n",
       "Timber        41.996852 -93.648389\n",
       "Veenker       42.041421 -93.651913"
      ]
     },
     "execution_count": 17,
     "metadata": {},
     "output_type": "execute_result"
    }
   ],
   "source": [
    "# missing Neighborhood info\n",
    "geofill.loc['Blueste'] = [42.009757, -93.647011]\n",
    "geofill.loc['GrnHill'] = [42.001514, -93.644726]\n",
    "geofill.loc['Landmrk'] = [42.021237, -93.682435]\n",
    "geofill"
   ]
  },
  {
   "cell_type": "code",
   "execution_count": 18,
   "id": "766bd4df",
   "metadata": {},
   "outputs": [],
   "source": [
    "map_data.loc[map_data.DfromWalmart>100,'latitude'] = \\\n",
    "    map_data[map_data.DfromWalmart>100].apply(lambda r: geofill.loc[r.Neighborhood].lat, axis=1)\n",
    "map_data.loc[map_data.DfromWalmart>100,'longitude'] = \\\n",
    "    map_data[map_data.DfromWalmart>100].apply(lambda r: geofill.loc[r.Neighborhood].long, axis=1)"
   ]
  },
  {
   "cell_type": "code",
   "execution_count": 19,
   "id": "32bcb8c5",
   "metadata": {},
   "outputs": [
    {
     "data": {
      "text/html": [
       "<div>\n",
       "<style scoped>\n",
       "    .dataframe tbody tr th:only-of-type {\n",
       "        vertical-align: middle;\n",
       "    }\n",
       "\n",
       "    .dataframe tbody tr th {\n",
       "        vertical-align: top;\n",
       "    }\n",
       "\n",
       "    .dataframe thead th {\n",
       "        text-align: right;\n",
       "    }\n",
       "</style>\n",
       "<table border=\"1\" class=\"dataframe\">\n",
       "  <thead>\n",
       "    <tr style=\"text-align: right;\">\n",
       "      <th></th>\n",
       "      <th>x_merc</th>\n",
       "      <th>y_merc</th>\n",
       "      <th>Neighborhood</th>\n",
       "      <th>Sector</th>\n",
       "      <th>Color</th>\n",
       "      <th>SalePrice</th>\n",
       "      <th>latitude</th>\n",
       "      <th>longitude</th>\n",
       "      <th>DfromWalmart</th>\n",
       "    </tr>\n",
       "    <tr>\n",
       "      <th>PID</th>\n",
       "      <th></th>\n",
       "      <th></th>\n",
       "      <th></th>\n",
       "      <th></th>\n",
       "      <th></th>\n",
       "      <th></th>\n",
       "      <th></th>\n",
       "      <th></th>\n",
       "      <th></th>\n",
       "    </tr>\n",
       "  </thead>\n",
       "  <tbody>\n",
       "  </tbody>\n",
       "</table>\n",
       "</div>"
      ],
      "text/plain": [
       "Empty DataFrame\n",
       "Columns: [x_merc, y_merc, Neighborhood, Sector, Color, SalePrice, latitude, longitude, DfromWalmart]\n",
       "Index: []"
      ]
     },
     "execution_count": 19,
     "metadata": {},
     "output_type": "execute_result"
    }
   ],
   "source": [
    "# recalc Distance from Walmart\n",
    "map_data['DfromWalmart'] = [geodesic(each,walmart).miles for each in zip(map_data.latitude,map_data.longitude)]\n",
    "map_data[map_data.DfromWalmart>100] # Should be NONE"
   ]
  },
  {
   "cell_type": "markdown",
   "id": "843be55d",
   "metadata": {},
   "source": [
    "## Distance from <span style=\"color:teal\">Walmart</span>? 🏪"
   ]
  },
  {
   "cell_type": "code",
   "execution_count": 20,
   "id": "da150989",
   "metadata": {},
   "outputs": [
    {
     "data": {
      "text/plain": [
       "<matplotlib.collections.PathCollection at 0x1bc3617c400>"
      ]
     },
     "execution_count": 20,
     "metadata": {},
     "output_type": "execute_result"
    },
    {
     "data": {
      "image/png": "[encoded data removed]",
      "text/plain": [
       "<Figure size 864x360 with 2 Axes>"
      ]
     },
     "metadata": {
      "needs_background": "light"
     },
     "output_type": "display_data"
    }
   ],
   "source": [
    "import matplotlib.pyplot as plt\n",
    "#Plot MasVnrArea\n",
    "fig, (ax1, ax2) = plt.subplots(1, 2, figsize=(12,5))\n",
    "fig.suptitle('DistanceFromWalmart Histogram   and   vs. log(Price) Scatter', size=16)\n",
    "\n",
    "ax1.hist(map_data.DfromWalmart, bins=100)\n",
    "ax2.scatter(x=map_data.DfromWalmart,y=np.log10(map_data.SalePrice),s=2,c='k')"
   ]
  },
  {
   "cell_type": "code",
   "execution_count": 21,
   "id": "d312dc99",
   "metadata": {},
   "outputs": [],
   "source": [
    "map_data.to_csv('sectors_walmart.csv')"
   ]
  },
  {
   "cell_type": "code",
   "execution_count": 22,
   "id": "da0eac24",
   "metadata": {
    "scrolled": true
   },
   "outputs": [
    {
     "data": {
      "text/html": [
       "<div>\n",
       "<style scoped>\n",
       "    .dataframe tbody tr th:only-of-type {\n",
       "        vertical-align: middle;\n",
       "    }\n",
       "\n",
       "    .dataframe tbody tr th {\n",
       "        vertical-align: top;\n",
       "    }\n",
       "\n",
       "    .dataframe thead th {\n",
       "        text-align: right;\n",
       "    }\n",
       "</style>\n",
       "<table border=\"1\" class=\"dataframe\">\n",
       "  <thead>\n",
       "    <tr style=\"text-align: right;\">\n",
       "      <th></th>\n",
       "      <th>x_merc</th>\n",
       "      <th>y_merc</th>\n",
       "      <th>Neighborhood</th>\n",
       "      <th>Sector</th>\n",
       "      <th>Color</th>\n",
       "      <th>SalePrice</th>\n",
       "      <th>latitude</th>\n",
       "      <th>longitude</th>\n",
       "      <th>DfromWalmart</th>\n",
       "    </tr>\n",
       "    <tr>\n",
       "      <th>PID</th>\n",
       "      <th></th>\n",
       "      <th></th>\n",
       "      <th></th>\n",
       "      <th></th>\n",
       "      <th></th>\n",
       "      <th></th>\n",
       "      <th></th>\n",
       "      <th></th>\n",
       "      <th></th>\n",
       "    </tr>\n",
       "  </thead>\n",
       "  <tbody>\n",
       "    <tr>\n",
       "      <th>909176150</th>\n",
       "      <td>-1.042525e+07</td>\n",
       "      <td>5.163761e+06</td>\n",
       "      <td>SWISU</td>\n",
       "      <td>SW</td>\n",
       "      <td>purple</td>\n",
       "      <td>126.0</td>\n",
       "      <td>42.018564</td>\n",
       "      <td>-93.651619</td>\n",
       "      <td>2.309798</td>\n",
       "    </tr>\n",
       "    <tr>\n",
       "      <th>905476230</th>\n",
       "      <td>-1.042659e+07</td>\n",
       "      <td>5.164703e+06</td>\n",
       "      <td>Edwards</td>\n",
       "      <td>SW</td>\n",
       "      <td>purple</td>\n",
       "      <td>140.0</td>\n",
       "      <td>42.024855</td>\n",
       "      <td>-93.663671</td>\n",
       "      <td>2.986330</td>\n",
       "    </tr>\n",
       "    <tr>\n",
       "      <th>911128020</th>\n",
       "      <td>-1.042107e+07</td>\n",
       "      <td>5.164208e+06</td>\n",
       "      <td>IDOTRR</td>\n",
       "      <td>DT</td>\n",
       "      <td>dodgerblue</td>\n",
       "      <td>125.0</td>\n",
       "      <td>42.021548</td>\n",
       "      <td>-93.614068</td>\n",
       "      <td>0.532618</td>\n",
       "    </tr>\n",
       "    <tr>\n",
       "      <th>535377150</th>\n",
       "      <td>-1.042086e+07</td>\n",
       "      <td>5.166582e+06</td>\n",
       "      <td>OldTown</td>\n",
       "      <td>DT</td>\n",
       "      <td>dodgerblue</td>\n",
       "      <td>114.0</td>\n",
       "      <td>42.037391</td>\n",
       "      <td>-93.612207</td>\n",
       "      <td>1.501598</td>\n",
       "    </tr>\n",
       "    <tr>\n",
       "      <th>534177230</th>\n",
       "      <td>-1.042305e+07</td>\n",
       "      <td>5.167656e+06</td>\n",
       "      <td>NWAmes</td>\n",
       "      <td>NO</td>\n",
       "      <td>green</td>\n",
       "      <td>227.0</td>\n",
       "      <td>42.044554</td>\n",
       "      <td>-93.631818</td>\n",
       "      <td>2.351831</td>\n",
       "    </tr>\n",
       "  </tbody>\n",
       "</table>\n",
       "</div>"
      ],
      "text/plain": [
       "                 x_merc        y_merc Neighborhood Sector       Color  \\\n",
       "PID                                                                     \n",
       "909176150 -1.042525e+07  5.163761e+06        SWISU     SW      purple   \n",
       "905476230 -1.042659e+07  5.164703e+06      Edwards     SW      purple   \n",
       "911128020 -1.042107e+07  5.164208e+06       IDOTRR     DT  dodgerblue   \n",
       "535377150 -1.042086e+07  5.166582e+06      OldTown     DT  dodgerblue   \n",
       "534177230 -1.042305e+07  5.167656e+06       NWAmes     NO       green   \n",
       "\n",
       "           SalePrice   latitude  longitude  DfromWalmart  \n",
       "PID                                                       \n",
       "909176150      126.0  42.018564 -93.651619      2.309798  \n",
       "905476230      140.0  42.024855 -93.663671      2.986330  \n",
       "911128020      125.0  42.021548 -93.614068      0.532618  \n",
       "535377150      114.0  42.037391 -93.612207      1.501598  \n",
       "534177230      227.0  42.044554 -93.631818      2.351831  "
      ]
     },
     "execution_count": 22,
     "metadata": {},
     "output_type": "execute_result"
    }
   ],
   "source": [
    "map_data.head()"
   ]
  },
  {
   "cell_type": "markdown",
   "id": "02106794",
   "metadata": {},
   "source": [
    "### add LabelEncoded Neighborhood and Sector data for mapping on the <span style=\"color:teal\">APP</span>"
   ]
  },
  {
   "cell_type": "code",
   "execution_count": 31,
   "id": "827454ec",
   "metadata": {},
   "outputs": [],
   "source": [
    "from sklearn.preprocessing import LabelEncoder\n",
    "le = LabelEncoder()"
   ]
  },
  {
   "cell_type": "code",
   "execution_count": 52,
   "id": "9a06c91c",
   "metadata": {},
   "outputs": [],
   "source": [
    "map_data['le_Neighbor'] = le.fit_transform(map_data.Neighborhood)\n",
    "map_data['le_Sector'] = le.fit_transform(map_data.Sector)"
   ]
  },
  {
   "cell_type": "code",
   "execution_count": 53,
   "id": "8baddaae",
   "metadata": {},
   "outputs": [],
   "source": [
    "map_data.to_csv('APP_data.csv')"
   ]
  },
  {
   "cell_type": "markdown",
   "id": "c9228383",
   "metadata": {},
   "source": [
    "## Try K-means to group Houses by Location (lat-long) and SalePrice"
   ]
  },
  {
   "cell_type": "code",
   "execution_count": 23,
   "id": "e184855d",
   "metadata": {},
   "outputs": [],
   "source": [
    "from sklearn.cluster import KMeans\n",
    "kmeans = KMeans()"
   ]
  },
  {
   "cell_type": "code",
   "execution_count": 24,
   "id": "3ba0ecf1",
   "metadata": {
    "scrolled": true
   },
   "outputs": [],
   "source": [
    "inertias = {}\n",
    "for n in range(5,29):\n",
    "    kmeans.set_params(n_clusters=n)\n",
    "    kmeans.fit(map_data[['latitude','longitude','SalePrice']])\n",
    "    inertias[n] = kmeans.inertia_"
   ]
  },
  {
   "cell_type": "code",
   "execution_count": 25,
   "id": "ca9edeae",
   "metadata": {},
   "outputs": [
    {
     "data": {
      "text/plain": [
       "[<matplotlib.lines.Line2D at 0x1bc39593430>]"
      ]
     },
     "execution_count": 25,
     "metadata": {},
     "output_type": "execute_result"
    },
    {
     "data": {
      "image/png": "[encoded data removed]",
      "text/plain": [
       "<Figure size 432x288 with 1 Axes>"
      ]
     },
     "metadata": {
      "needs_background": "light"
     },
     "output_type": "display_data"
    }
   ],
   "source": [
    "plt.plot(inertias.keys(),inertias.values())  # Will go with 10"
   ]
  },
  {
   "cell_type": "code",
   "execution_count": 26,
   "id": "3b6b7d79",
   "metadata": {},
   "outputs": [
    {
     "data": {
      "text/plain": [
       "KMeans()"
      ]
     },
     "execution_count": 26,
     "metadata": {},
     "output_type": "execute_result"
    }
   ],
   "source": [
    "kmeans.set_params(n_clusters=8)\n",
    "kmeans.fit(map_data[['latitude','longitude','SalePrice']])"
   ]
  },
  {
   "cell_type": "code",
   "execution_count": 27,
   "id": "8c804a9f",
   "metadata": {},
   "outputs": [],
   "source": [
    "map_data = map_data.reset_index().merge(pd.DataFrame(kmeans.labels_), left_index=True, right_index=True).set_index('PID')"
   ]
  },
  {
   "cell_type": "code",
   "execution_count": 28,
   "id": "48d00560",
   "metadata": {},
   "outputs": [
    {
     "data": {
      "text/html": [
       "<div>\n",
       "<style scoped>\n",
       "    .dataframe tbody tr th:only-of-type {\n",
       "        vertical-align: middle;\n",
       "    }\n",
       "\n",
       "    .dataframe tbody tr th {\n",
       "        vertical-align: top;\n",
       "    }\n",
       "\n",
       "    .dataframe thead th {\n",
       "        text-align: right;\n",
       "    }\n",
       "</style>\n",
       "<table border=\"1\" class=\"dataframe\">\n",
       "  <thead>\n",
       "    <tr style=\"text-align: right;\">\n",
       "      <th></th>\n",
       "      <th>x_merc</th>\n",
       "      <th>y_merc</th>\n",
       "      <th>Neighborhood</th>\n",
       "      <th>Sector</th>\n",
       "      <th>Color</th>\n",
       "      <th>SalePrice</th>\n",
       "      <th>latitude</th>\n",
       "      <th>longitude</th>\n",
       "      <th>DfromWalmart</th>\n",
       "      <th>K_neighbor</th>\n",
       "    </tr>\n",
       "    <tr>\n",
       "      <th>PID</th>\n",
       "      <th></th>\n",
       "      <th></th>\n",
       "      <th></th>\n",
       "      <th></th>\n",
       "      <th></th>\n",
       "      <th></th>\n",
       "      <th></th>\n",
       "      <th></th>\n",
       "      <th></th>\n",
       "      <th></th>\n",
       "    </tr>\n",
       "  </thead>\n",
       "  <tbody>\n",
       "    <tr>\n",
       "      <th>909176150</th>\n",
       "      <td>-1.042525e+07</td>\n",
       "      <td>5.163761e+06</td>\n",
       "      <td>SWISU</td>\n",
       "      <td>SW</td>\n",
       "      <td>purple</td>\n",
       "      <td>126.0</td>\n",
       "      <td>42.018564</td>\n",
       "      <td>-93.651619</td>\n",
       "      <td>2.309798</td>\n",
       "      <td>0</td>\n",
       "    </tr>\n",
       "    <tr>\n",
       "      <th>905476230</th>\n",
       "      <td>-1.042659e+07</td>\n",
       "      <td>5.164703e+06</td>\n",
       "      <td>Edwards</td>\n",
       "      <td>SW</td>\n",
       "      <td>purple</td>\n",
       "      <td>140.0</td>\n",
       "      <td>42.024855</td>\n",
       "      <td>-93.663671</td>\n",
       "      <td>2.986330</td>\n",
       "      <td>0</td>\n",
       "    </tr>\n",
       "    <tr>\n",
       "      <th>911128020</th>\n",
       "      <td>-1.042107e+07</td>\n",
       "      <td>5.164208e+06</td>\n",
       "      <td>IDOTRR</td>\n",
       "      <td>DT</td>\n",
       "      <td>dodgerblue</td>\n",
       "      <td>125.0</td>\n",
       "      <td>42.021548</td>\n",
       "      <td>-93.614068</td>\n",
       "      <td>0.532618</td>\n",
       "      <td>0</td>\n",
       "    </tr>\n",
       "    <tr>\n",
       "      <th>535377150</th>\n",
       "      <td>-1.042086e+07</td>\n",
       "      <td>5.166582e+06</td>\n",
       "      <td>OldTown</td>\n",
       "      <td>DT</td>\n",
       "      <td>dodgerblue</td>\n",
       "      <td>114.0</td>\n",
       "      <td>42.037391</td>\n",
       "      <td>-93.612207</td>\n",
       "      <td>1.501598</td>\n",
       "      <td>5</td>\n",
       "    </tr>\n",
       "    <tr>\n",
       "      <th>534177230</th>\n",
       "      <td>-1.042305e+07</td>\n",
       "      <td>5.167656e+06</td>\n",
       "      <td>NWAmes</td>\n",
       "      <td>NO</td>\n",
       "      <td>green</td>\n",
       "      <td>227.0</td>\n",
       "      <td>42.044554</td>\n",
       "      <td>-93.631818</td>\n",
       "      <td>2.351831</td>\n",
       "      <td>2</td>\n",
       "    </tr>\n",
       "  </tbody>\n",
       "</table>\n",
       "</div>"
      ],
      "text/plain": [
       "                 x_merc        y_merc Neighborhood Sector       Color  \\\n",
       "PID                                                                     \n",
       "909176150 -1.042525e+07  5.163761e+06        SWISU     SW      purple   \n",
       "905476230 -1.042659e+07  5.164703e+06      Edwards     SW      purple   \n",
       "911128020 -1.042107e+07  5.164208e+06       IDOTRR     DT  dodgerblue   \n",
       "535377150 -1.042086e+07  5.166582e+06      OldTown     DT  dodgerblue   \n",
       "534177230 -1.042305e+07  5.167656e+06       NWAmes     NO       green   \n",
       "\n",
       "           SalePrice   latitude  longitude  DfromWalmart  K_neighbor  \n",
       "PID                                                                   \n",
       "909176150      126.0  42.018564 -93.651619      2.309798           0  \n",
       "905476230      140.0  42.024855 -93.663671      2.986330           0  \n",
       "911128020      125.0  42.021548 -93.614068      0.532618           0  \n",
       "535377150      114.0  42.037391 -93.612207      1.501598           5  \n",
       "534177230      227.0  42.044554 -93.631818      2.351831           2  "
      ]
     },
     "execution_count": 28,
     "metadata": {},
     "output_type": "execute_result"
    }
   ],
   "source": [
    "map_data.rename(columns={0:'K_neighbor'}, inplace=True)\n",
    "map_data.head()"
   ]
  },
  {
   "cell_type": "code",
   "execution_count": 50,
   "id": "da50125a",
   "metadata": {},
   "outputs": [],
   "source": [
    "# Set color mapping for K-means Neighbors\n",
    "mycolors = linear_cmap(field_name='le_Neighbor', palette=Plasma10[::-1] ,low=min(map_data.le_Neighbor) ,high=max(map_data.le_Neighbor))"
   ]
  },
  {
   "cell_type": "code",
   "execution_count": 51,
   "id": "f30bcda2",
   "metadata": {},
   "outputs": [],
   "source": [
    "background = get_provider(CARTODBPOSITRON_RETINA) #CARTODBPOSITRON_RETINA, STAMEN_TONER\n",
    "x_zoom = 7000\n",
    "y_zoom = 5000\n",
    "\n",
    "# Base Map Layer\n",
    "fig = figure(plot_width=1200, plot_height=800,\n",
    "             x_range=(Ames_center[0]-x_zoom, Ames_center[0]+y_zoom), \n",
    "             y_range=(Ames_center[1]-x_zoom, Ames_center[1]+y_zoom),\n",
    "             x_axis_type=\"mercator\", y_axis_type=\"mercator\",\n",
    "             title=\"Ames Iowa Housing Map\")\n",
    "fig.add_tile(background)\n",
    "\n",
    "\n",
    "# Dots for Houses\n",
    "my_hover = HoverTool(names=['House'])\n",
    "my_hover.tooltips = [('Price', '@SalePrice')]\n",
    "fig.circle(x=\"x_merc\", y=\"y_merc\",\n",
    "           size=5,\n",
    "           fill_color=mycolors, line_color=mycolors,\n",
    "           fill_alpha=0.6,\n",
    "           name='House',\n",
    "           source=map_data)\n",
    "fig.add_tools(my_hover)\n",
    "\n",
    "# Big Dots for Landmarks, with Hover interactivity\n",
    "my_hover = HoverTool(names=['landmark'])\n",
    "my_hover.tooltips = [('X', '@landmarks')]\n",
    "fig.circle(x=\"x_merc\", y=\"y_merc\",\n",
    "           size=12,\n",
    "           fill_color=\"dodgerblue\", line_color='dodgerblue',\n",
    "           fill_alpha=0.3,\n",
    "           name='landmark',\n",
    "           source=marks)\n",
    "fig.add_tools(my_hover)\n",
    "\n",
    "color_bar = ColorBar(color_mapper=mycolors['transform'], width=8,  location=(0,0),title=\"Price $(thousands)\")\n",
    "fig.add_layout(color_bar, 'right')\n",
    "\n",
    "show(fig)"
   ]
  },
  {
   "cell_type": "code",
   "execution_count": null,
   "id": "4d692a36",
   "metadata": {},
   "outputs": [],
   "source": []
  }
 ],
 "metadata": {
  "kernelspec": {
   "display_name": "Python 3",
   "language": "python",
   "name": "python3"
  },
  "language_info": {
   "codemirror_mode": {
    "name": "ipython",
    "version": 3
   },
   "file_extension": ".py",
   "mimetype": "text/x-python",
   "name": "python",
   "nbconvert_exporter": "python",
   "pygments_lexer": "ipython3",
   "version": "3.8.8"
  }
 },
 "nbformat": 4,
 "nbformat_minor": 5
}
