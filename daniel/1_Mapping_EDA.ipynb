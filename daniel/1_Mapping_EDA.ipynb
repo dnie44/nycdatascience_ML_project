{
 "cells": [
  {
   "cell_type": "code",
   "execution_count": 1,
   "id": "7c060c8c",
   "metadata": {},
   "outputs": [],
   "source": [
    "import pandas as pd\n",
    "import numpy as np\n",
    "import re\n",
    "\n",
    "from bokeh.plotting import figure, show\n",
    "from bokeh.tile_providers import get_provider, STAMEN_TONER, CARTODBPOSITRON_RETINA\n",
    "from bokeh.models import HoverTool, FreehandDrawTool, BoxEditTool, ColumnDataSource, ColorBar\n",
    "from bokeh.palettes import Plasma10\n",
    "from bokeh.transform import linear_cmap"
   ]
  },
  {
   "cell_type": "code",
   "execution_count": 2,
   "id": "5ee9a7e1",
   "metadata": {},
   "outputs": [],
   "source": [
    "# Define function to switch from lat/long to mercator x/y coordinates\n",
    "def to_mercator(lat, lon):\n",
    "    \n",
    "    r_major = 6378137.000\n",
    "    x = r_major * np.radians(lon)\n",
    "    scale = x/lon\n",
    "    y = 180.0/np.pi * np.log(np.tan(np.pi/4.0 + \n",
    "        lat * (np.pi/180.0)/2.0)) * scale\n",
    "    return (x, y)"
   ]
  },
  {
   "cell_type": "code",
   "execution_count": 3,
   "id": "ffa506a8",
   "metadata": {},
   "outputs": [
    {
     "data": {
      "text/plain": [
       "(2624, 7)"
      ]
     },
     "execution_count": 3,
     "metadata": {},
     "output_type": "execute_result"
    }
   ],
   "source": [
    "geo = pd.read_csv('sectors.csv')\n",
    "geo.shape"
   ]
  },
  {
   "cell_type": "code",
   "execution_count": 4,
   "id": "ab19c505",
   "metadata": {},
   "outputs": [
    {
     "data": {
      "text/plain": [
       "(2579, 81)"
      ]
     },
     "execution_count": 4,
     "metadata": {},
     "output_type": "execute_result"
    }
   ],
   "source": [
    "data = pd.read_csv('ALL_data.csv', index_col='PID')\n",
    "data.shape"
   ]
  },
  {
   "cell_type": "code",
   "execution_count": 5,
   "id": "858ff83b",
   "metadata": {},
   "outputs": [],
   "source": [
    "map_data = geo.merge(np.round(data[['SalePrice']]/1000),how='left',on='PID')\n",
    "map_data.drop_duplicates(inplace=True)"
   ]
  },
  {
   "cell_type": "code",
   "execution_count": 6,
   "id": "96fa57ff",
   "metadata": {},
   "outputs": [],
   "source": [
    "# Ames, Iowa lat long, converted to mercator\n",
    "Ames_center = to_mercator(42.034534, -93.620369)"
   ]
  },
  {
   "cell_type": "code",
   "execution_count": 7,
   "id": "11f9aea1",
   "metadata": {},
   "outputs": [],
   "source": [
    "landmarks = {'landmarks':['Iowa State University',\n",
    "                          'Municipal Airport',\n",
    "                          'North Grand Mall',\n",
    "                          'Mary Greeley Medical Center',\n",
    "                          'Jack Trice Stadium'],\n",
    "            'x_merc':[to_mercator(42.0267,-93.6465)[0],\n",
    "                      to_mercator(41.9987,-93.6223)[0],\n",
    "                      to_mercator(42.0494,-93.6224)[0],\n",
    "                      to_mercator(42.0323,-93.6111)[0],\n",
    "                      to_mercator(42.0140,-93.6359)[0]],\n",
    "            'y_merc':[to_mercator(42.0267,-93.6465)[1],\n",
    "                      to_mercator(41.9987,-93.6223)[1],\n",
    "                      to_mercator(42.0494,-93.6224)[1],\n",
    "                      to_mercator(42.0323,-93.6111)[1],\n",
    "                      to_mercator(42.0140,-93.6359)[1]]}\n",
    "\n",
    "marks = pd.DataFrame(landmarks)"
   ]
  },
  {
   "cell_type": "code",
   "execution_count": 8,
   "id": "fb8c9077",
   "metadata": {},
   "outputs": [],
   "source": [
    "# Set color mapping for House Prices\n",
    "mycolors = linear_cmap(field_name='SalePrice', palette=Plasma10[::-1] ,low=min(map_data.SalePrice) ,high=max(map_data.SalePrice))"
   ]
  },
  {
   "cell_type": "code",
   "execution_count": 9,
   "id": "e52447f5",
   "metadata": {},
   "outputs": [],
   "source": [
    "background = get_provider(CARTODBPOSITRON_RETINA) #CARTODBPOSITRON_RETINA, STAMEN_TONER\n",
    "x_zoom = 7000\n",
    "y_zoom = 5000\n",
    "\n",
    "# Base Map Layer\n",
    "fig = figure(plot_width=1200, plot_height=800,\n",
    "             x_range=(Ames_center[0]-x_zoom, Ames_center[0]+y_zoom), \n",
    "             y_range=(Ames_center[1]-x_zoom, Ames_center[1]+y_zoom),\n",
    "             x_axis_type=\"mercator\", y_axis_type=\"mercator\",\n",
    "             title=\"Ames Iowa Housing Map\")\n",
    "fig.add_tile(background)\n",
    "\n",
    "\n",
    "# Dots for Houses\n",
    "my_hover = HoverTool(names=['House'])\n",
    "my_hover.tooltips = [('Price', '@SalePrice')]\n",
    "fig.circle(x=\"x_merc\", y=\"y_merc\",\n",
    "           size=5,\n",
    "           fill_color=mycolors, line_color=mycolors,\n",
    "           fill_alpha=0.6,\n",
    "           name='House',\n",
    "           source=map_data)\n",
    "fig.add_tools(my_hover)\n",
    "\n",
    "# Big Dots for Landmarks, with Hover interactivity\n",
    "my_hover = HoverTool(names=['landmark'])\n",
    "my_hover.tooltips = [('X', '@landmarks')]\n",
    "fig.circle(x=\"x_merc\", y=\"y_merc\",\n",
    "           size=12,\n",
    "           fill_color=\"dodgerblue\", line_color='dodgerblue',\n",
    "           fill_alpha=0.3,\n",
    "           name='landmark',\n",
    "           source=marks)\n",
    "fig.add_tools(my_hover)\n",
    "\n",
    "color_bar = ColorBar(color_mapper=mycolors['transform'], width=8,  location=(0,0),title=\"Price $(thousands)\")\n",
    "\n",
    "fig.add_layout(color_bar, 'right')\n",
    "\n",
    "\n",
    "\n",
    "# Add draw tool\n",
    "renderer = fig.multi_line([[1, 9]], [[5, 5]], line_width=4, alpha=0.4, color='red')\n",
    "draw_tool = FreehandDrawTool(renderers=[renderer], num_objects=4)\n",
    "fig.add_tools(draw_tool)\n",
    "\n",
    "show(fig)"
   ]
  },
  {
   "cell_type": "code",
   "execution_count": null,
   "id": "6798aaa8",
   "metadata": {},
   "outputs": [],
   "source": []
  }
 ],
 "metadata": {
  "kernelspec": {
   "display_name": "Python 3",
   "language": "python",
   "name": "python3"
  },
  "language_info": {
   "codemirror_mode": {
    "name": "ipython",
    "version": 3
   },
   "file_extension": ".py",
   "mimetype": "text/x-python",
   "name": "python",
   "nbconvert_exporter": "python",
   "pygments_lexer": "ipython3",
   "version": "3.8.8"
  }
 },
 "nbformat": 4,
 "nbformat_minor": 5
}
