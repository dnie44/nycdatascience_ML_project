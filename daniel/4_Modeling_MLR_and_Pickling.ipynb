{
 "cells": [
  {
   "cell_type": "code",
   "execution_count": 1,
   "id": "818b52f5",
   "metadata": {},
   "outputs": [],
   "source": [
    "import pandas as pd\n",
    "import numpy as np\n",
    "\n",
    "import seaborn as sns\n",
    "import matplotlib.pyplot as plt\n",
    "%matplotlib inline \n",
    "\n",
    "from sklearn.preprocessing import StandardScaler\n",
    "from sklearn.linear_model import Lasso, Ridge, LinearRegression\n",
    "from sklearn.model_selection import train_test_split, cross_validate\n",
    "\n",
    "from statsmodels.stats.outliers_influence import variance_inflation_factor"
   ]
  },
  {
   "cell_type": "code",
   "execution_count": 2,
   "id": "bf84646e",
   "metadata": {
    "scrolled": true
   },
   "outputs": [
    {
     "data": {
      "text/plain": [
       "(2579, 20)"
      ]
     },
     "execution_count": 2,
     "metadata": {},
     "output_type": "execute_result"
    }
   ],
   "source": [
    "data = pd.read_csv('model_data.csv', index_col='PID')\n",
    "data.shape"
   ]
  },
  {
   "cell_type": "markdown",
   "id": "971faf8f",
   "metadata": {},
   "source": [
    "#### Independent Variable (y)"
   ]
  },
  {
   "cell_type": "code",
   "execution_count": 3,
   "id": "2b456e2f",
   "metadata": {},
   "outputs": [],
   "source": [
    "y = data.SalePrice.copy()\n",
    "data.drop('SalePrice', axis=1, inplace=True)"
   ]
  },
  {
   "cell_type": "markdown",
   "id": "9a8e1028",
   "metadata": {},
   "source": [
    "## 📉 Multiple Regression 1"
   ]
  },
  {
   "cell_type": "markdown",
   "id": "ff56c337",
   "metadata": {},
   "source": [
    "#### Choose Dependent Vars"
   ]
  },
  {
   "cell_type": "code",
   "execution_count": 4,
   "id": "9e47de64",
   "metadata": {
    "scrolled": true
   },
   "outputs": [
    {
     "data": {
      "text/plain": [
       "array(['NAmes', 'Gilbert', 'StoneBr', 'NWAmes', 'Somerst', 'BrDale',\n",
       "       'NPkVill', 'NridgHt', 'Blmngtn', 'NoRidge', 'SawyerW', 'Sawyer',\n",
       "       'Veenker', 'Greens', 'BrkSide', 'OldTown', 'IDOTRR', 'ClearCr',\n",
       "       'Edwards', 'SWISU', 'CollgCr', 'Landmrk', 'Crawfor', 'Blueste',\n",
       "       'Mitchel', 'Timber', 'GrnHill', 'MeadowV'], dtype=object)"
      ]
     },
     "execution_count": 4,
     "metadata": {},
     "output_type": "execute_result"
    }
   ],
   "source": [
    "data.Neighborhood.unique()"
   ]
  },
  {
   "cell_type": "code",
   "execution_count": 5,
   "id": "f4a33a7e",
   "metadata": {},
   "outputs": [
    {
     "data": {
      "text/plain": [
       "array([0.63512532, 0.62695495, 0.56951125, 0.68394824])"
      ]
     },
     "execution_count": 5,
     "metadata": {},
     "output_type": "execute_result"
    }
   ],
   "source": [
    "#ss = StandardScaler()\n",
    "#X = ss.fit_transform(data_1)\n",
    "\n",
    "lasso = Lasso(max_iter=10000)\n",
    "\n",
    "data_dum = pd.get_dummies(data, drop_first=True)\n",
    "scores = cross_validate(lasso, data_dum, np.log10(y), cv=4)\n",
    "scores['test_score']"
   ]
  },
  {
   "cell_type": "code",
   "execution_count": 6,
   "id": "6290c4b8",
   "metadata": {},
   "outputs": [],
   "source": [
    "X_train, X_test, y_train, y_test = train_test_split(data_dum, y, test_size=0.2)"
   ]
  },
  {
   "cell_type": "code",
   "execution_count": 7,
   "id": "987bcafc",
   "metadata": {},
   "outputs": [
    {
     "data": {
      "text/plain": [
       "0.7359091615074259"
      ]
     },
     "execution_count": 7,
     "metadata": {},
     "output_type": "execute_result"
    }
   ],
   "source": [
    "lasso.fit(X_train,np.log10(y_train))\n",
    "lasso.score(X_test,np.log10(y_test))"
   ]
  },
  {
   "cell_type": "code",
   "execution_count": 8,
   "id": "beca7e09",
   "metadata": {},
   "outputs": [
    {
     "data": {
      "text/plain": [
       "{'alpha': 1.0,\n",
       " 'copy_X': True,\n",
       " 'fit_intercept': True,\n",
       " 'max_iter': 10000,\n",
       " 'normalize': True,\n",
       " 'positive': False,\n",
       " 'precompute': False,\n",
       " 'random_state': 44,\n",
       " 'selection': 'cyclic',\n",
       " 'tol': 0.0001,\n",
       " 'warm_start': False}"
      ]
     },
     "execution_count": 8,
     "metadata": {},
     "output_type": "execute_result"
    }
   ],
   "source": [
    "lasso.set_params(normalize=True, max_iter=10000, random_state=44)\n",
    "lasso.get_params()"
   ]
  },
  {
   "cell_type": "code",
   "execution_count": 9,
   "id": "334cfd5c",
   "metadata": {},
   "outputs": [
    {
     "name": "stderr",
     "output_type": "stream",
     "text": [
      "<ipython-input-9-02d8d1909f26>:9: UserWarning: With alpha=0, this algorithm does not converge well. You are advised to use the LinearRegression estimator\n",
      "  lasso.fit(X_train, np.log10(y_train))\n",
      "C:\\ProgramData\\Anaconda3\\lib\\site-packages\\sklearn\\linear_model\\_coordinate_descent.py:530: UserWarning: Coordinate descent with no regularization may lead to unexpected results and is discouraged.\n",
      "  model = cd_fast.enet_coordinate_descent(\n",
      "C:\\ProgramData\\Anaconda3\\lib\\site-packages\\sklearn\\linear_model\\_coordinate_descent.py:530: ConvergenceWarning: Objective did not converge. You might want to increase the number of iterations. Duality gap: 3.2422817377216893, tolerance: 0.005724231863499106\n",
      "  model = cd_fast.enet_coordinate_descent(\n"
     ]
    }
   ],
   "source": [
    "#try different alphas\n",
    "alphas = np.linspace(0,0.002,100)\n",
    "coefs_lasso = []\n",
    "R2_train = []\n",
    "R2_test = []\n",
    "\n",
    "for a in alphas:\n",
    "    lasso.set_params(alpha=a)\n",
    "    lasso.fit(X_train, np.log10(y_train))\n",
    "    coefs_lasso.append(lasso.coef_)\n",
    "    R2_train.append(lasso.score(X_train, np.log10(y_train)))\n",
    "    R2_test.append(lasso.score(X_test, np.log10(y_test)))"
   ]
  },
  {
   "cell_type": "code",
   "execution_count": 10,
   "id": "66ffd13b",
   "metadata": {},
   "outputs": [
    {
     "data": {
      "text/html": [
       "<div>\n",
       "<style scoped>\n",
       "    .dataframe tbody tr th:only-of-type {\n",
       "        vertical-align: middle;\n",
       "    }\n",
       "\n",
       "    .dataframe tbody tr th {\n",
       "        vertical-align: top;\n",
       "    }\n",
       "\n",
       "    .dataframe thead th {\n",
       "        text-align: right;\n",
       "    }\n",
       "</style>\n",
       "<table border=\"1\" class=\"dataframe\">\n",
       "  <thead>\n",
       "    <tr style=\"text-align: right;\">\n",
       "      <th></th>\n",
       "      <th>BsmtUnfSF</th>\n",
       "      <th>AllBathBsmt</th>\n",
       "      <th>AllBathAbv</th>\n",
       "      <th>YearBuilt</th>\n",
       "      <th>GarageCars</th>\n",
       "      <th>PorchArea</th>\n",
       "      <th>GoodLivArea</th>\n",
       "      <th>HasPool</th>\n",
       "      <th>MSSubClass_1FlPUD</th>\n",
       "      <th>MSSubClass_2Fl</th>\n",
       "      <th>...</th>\n",
       "      <th>FireplaceQu_Fa</th>\n",
       "      <th>FireplaceQu_Gd</th>\n",
       "      <th>FireplaceQu_None</th>\n",
       "      <th>FireplaceQu_Po</th>\n",
       "      <th>FireplaceQu_TA</th>\n",
       "      <th>GarageQual_Fa</th>\n",
       "      <th>GarageQual_Gd</th>\n",
       "      <th>GarageQual_None</th>\n",
       "      <th>GarageQual_Po</th>\n",
       "      <th>GarageQual_TA</th>\n",
       "    </tr>\n",
       "  </thead>\n",
       "  <tbody>\n",
       "    <tr>\n",
       "      <th>0.00000</th>\n",
       "      <td>0.000064</td>\n",
       "      <td>0.009527</td>\n",
       "      <td>0.008714</td>\n",
       "      <td>0.000332</td>\n",
       "      <td>0.020024</td>\n",
       "      <td>0.000043</td>\n",
       "      <td>0.000102</td>\n",
       "      <td>-0.022144</td>\n",
       "      <td>-0.032219</td>\n",
       "      <td>0.019316</td>\n",
       "      <td>...</td>\n",
       "      <td>-0.013534</td>\n",
       "      <td>0.000598</td>\n",
       "      <td>-0.020962</td>\n",
       "      <td>0.001209</td>\n",
       "      <td>-0.00588</td>\n",
       "      <td>-0.12373</td>\n",
       "      <td>-0.091746</td>\n",
       "      <td>-0.10295</td>\n",
       "      <td>-0.181014</td>\n",
       "      <td>-0.100744</td>\n",
       "    </tr>\n",
       "    <tr>\n",
       "      <th>0.00002</th>\n",
       "      <td>0.000062</td>\n",
       "      <td>0.004272</td>\n",
       "      <td>0.006727</td>\n",
       "      <td>0.000537</td>\n",
       "      <td>0.023128</td>\n",
       "      <td>0.000044</td>\n",
       "      <td>0.000107</td>\n",
       "      <td>-0.000364</td>\n",
       "      <td>-0.019477</td>\n",
       "      <td>0.017099</td>\n",
       "      <td>...</td>\n",
       "      <td>-0.004231</td>\n",
       "      <td>0.005026</td>\n",
       "      <td>-0.017356</td>\n",
       "      <td>0.000000</td>\n",
       "      <td>0.00000</td>\n",
       "      <td>-0.01869</td>\n",
       "      <td>0.004737</td>\n",
       "      <td>-0.00000</td>\n",
       "      <td>-0.047781</td>\n",
       "      <td>0.000000</td>\n",
       "    </tr>\n",
       "  </tbody>\n",
       "</table>\n",
       "<p>2 rows × 72 columns</p>\n",
       "</div>"
      ],
      "text/plain": [
       "         BsmtUnfSF  AllBathBsmt  AllBathAbv  YearBuilt  GarageCars  PorchArea  \\\n",
       "0.00000   0.000064     0.009527    0.008714   0.000332    0.020024   0.000043   \n",
       "0.00002   0.000062     0.004272    0.006727   0.000537    0.023128   0.000044   \n",
       "\n",
       "         GoodLivArea   HasPool  MSSubClass_1FlPUD  MSSubClass_2Fl  ...  \\\n",
       "0.00000     0.000102 -0.022144          -0.032219        0.019316  ...   \n",
       "0.00002     0.000107 -0.000364          -0.019477        0.017099  ...   \n",
       "\n",
       "         FireplaceQu_Fa  FireplaceQu_Gd  FireplaceQu_None  FireplaceQu_Po  \\\n",
       "0.00000       -0.013534        0.000598         -0.020962        0.001209   \n",
       "0.00002       -0.004231        0.005026         -0.017356        0.000000   \n",
       "\n",
       "         FireplaceQu_TA  GarageQual_Fa  GarageQual_Gd  GarageQual_None  \\\n",
       "0.00000        -0.00588       -0.12373      -0.091746         -0.10295   \n",
       "0.00002         0.00000       -0.01869       0.004737         -0.00000   \n",
       "\n",
       "         GarageQual_Po  GarageQual_TA  \n",
       "0.00000      -0.181014      -0.100744  \n",
       "0.00002      -0.047781       0.000000  \n",
       "\n",
       "[2 rows x 72 columns]"
      ]
     },
     "execution_count": 10,
     "metadata": {},
     "output_type": "execute_result"
    }
   ],
   "source": [
    "coefs_lasso = pd.DataFrame(coefs_lasso, index = alphas, columns = X_train.columns)\n",
    "R2_lasso = pd.DataFrame({'train': R2_train,'test':R2_test}, index = alphas)\n",
    "coefs_lasso.head(2)"
   ]
  },
  {
   "cell_type": "code",
   "execution_count": 83,
   "id": "6094ad67",
   "metadata": {},
   "outputs": [
    {
     "data": {
      "text/plain": [
       "<matplotlib.legend.Legend at 0x20fa954acd0>"
      ]
     },
     "execution_count": 83,
     "metadata": {},
     "output_type": "execute_result"
    },
    {
     "data": {
      "image/png": "[encoded data removed]",
      "text/plain": [
       "<Figure size 1008x432 with 2 Axes>"
      ]
     },
     "metadata": {
      "needs_background": "light"
     },
     "output_type": "display_data"
    }
   ],
   "source": [
    "fig, (ax1, ax2) = plt.subplots(1, 2, figsize=(14,6))\n",
    "fig.suptitle('Lasso Regression results')\n",
    "\n",
    "for feat in coefs_lasso.columns:\n",
    "    ax1.plot(coefs_lasso.index, 10**coefs_lasso[feat]) \n",
    "ax1.set_xlabel(r'hyperparameter $\\lambda$')\n",
    "ax1.set_ylabel(r'slope values')\n",
    "#ax1.legend(loc=1)\n",
    "for each in R2_lasso.columns:\n",
    "    ax2.plot(R2_lasso.index, R2_lasso[each], label=each)\n",
    "ax2.set_xlabel(r'hyperparameter $\\lambda$')\n",
    "ax2.legend(loc=1)"
   ]
  },
  {
   "cell_type": "markdown",
   "id": "052eda05",
   "metadata": {},
   "source": [
    "## DUmp into PICKLE 🥒"
   ]
  },
  {
   "cell_type": "code",
   "execution_count": 85,
   "id": "973331e0",
   "metadata": {},
   "outputs": [
    {
     "name": "stdout",
     "output_type": "stream",
     "text": [
      "        train      test\n",
      "0.0  0.884771  0.898729\n"
     ]
    },
    {
     "data": {
      "text/plain": [
       "Lasso(alpha=1e-05, max_iter=10000, normalize=True, random_state=44)"
      ]
     },
     "execution_count": 85,
     "metadata": {},
     "output_type": "execute_result"
    }
   ],
   "source": [
    "print(R2_lasso.loc[R2_lasso['test']==max(R2_lasso['test'])])\n",
    "lasso.set_params(alpha=0.00001)\n",
    "lasso.fit(X_train, np.log10(y_train))"
   ]
  },
  {
   "cell_type": "code",
   "execution_count": 86,
   "id": "b7444629",
   "metadata": {},
   "outputs": [],
   "source": [
    "import pickle\n",
    "pickle.dump(lasso, open('APP_model.pkl', 'wb'))"
   ]
  },
  {
   "cell_type": "code",
   "execution_count": 77,
   "id": "635f4673",
   "metadata": {},
   "outputs": [
    {
     "data": {
      "text/plain": [
       "72"
      ]
     },
     "execution_count": 77,
     "metadata": {},
     "output_type": "execute_result"
    }
   ],
   "source": [
    "len(X_train.columns)"
   ]
  },
  {
   "cell_type": "markdown",
   "id": "6cad6ff7",
   "metadata": {},
   "source": [
    "# Check VIFS"
   ]
  },
  {
   "cell_type": "code",
   "execution_count": 11,
   "id": "6d45c530",
   "metadata": {},
   "outputs": [],
   "source": [
    "vif = pd.DataFrame()\n",
    "vif['var'] = X_train.columns\n",
    "vif['VIF'] = [variance_inflation_factor(X_train.values, i) for i in range(X_train.shape[1])]\n",
    "# VIFs over 10\n",
    "vif[vif.VIF>10]"
   ]
  },
  {
   "cell_type": "markdown",
   "id": "1a11f3ce",
   "metadata": {},
   "source": [
    "#### Check Corr Heatmap for Continuous Variables"
   ]
  },
  {
   "cell_type": "code",
   "execution_count": 14,
   "id": "8e02ac46",
   "metadata": {},
   "outputs": [
    {
     "data": {
      "text/plain": [
       "<AxesSubplot:>"
      ]
     },
     "execution_count": 14,
     "metadata": {},
     "output_type": "execute_result"
    },
    {
     "data": {
      "image/png": "[encoded data removed]",
      "text/plain": [
       "<Figure size 792x504 with 2 Axes>"
      ]
     },
     "metadata": {
      "needs_background": "light"
     },
     "output_type": "display_data"
    }
   ],
   "source": [
    "corr = data[['GarageCars','AllBathAbv','BsmtUnfSF','GoodLivArea', 'YearBuilt']].corr()\n",
    "\n",
    "# Hide upper redundant heatmap\n",
    "mask = np.triu(np.ones_like(corr, dtype=bool))\n",
    "fig, ax = plt.subplots(figsize=(11, 7))\n",
    "sns.heatmap(corr, mask=mask, annot=True, cmap='mako_r')"
   ]
  },
  {
   "cell_type": "markdown",
   "id": "39bc4981",
   "metadata": {},
   "source": [
    "### DistancefromWalmart & YearBuilt high Correlation??"
   ]
  },
  {
   "cell_type": "code",
   "execution_count": 135,
   "id": "d6c6fab8",
   "metadata": {},
   "outputs": [
    {
     "data": {
      "image/png": "[encoded data removed]",
      "text/plain": [
       "<Figure size 432x288 with 1 Axes>"
      ]
     },
     "metadata": {
      "needs_background": "light"
     },
     "output_type": "display_data"
    }
   ],
   "source": [
    "ax1 = sns.scatterplot(x='DfromWalmart',y='YearBuilt',data=data)\n",
    "#ax1.xaxis.label.set_color('white')\n",
    "#ax1.yaxis.label.set_color('white')\n",
    "#ax1.tick_params(colors='white', which='both')"
   ]
  },
  {
   "cell_type": "code",
   "execution_count": 15,
   "id": "1517d344",
   "metadata": {
    "scrolled": true
   },
   "outputs": [
    {
     "data": {
      "image/png": "[encoded data removed]",
      "text/plain": [
       "<Figure size 432x288 with 1 Axes>"
      ]
     },
     "metadata": {
      "needs_background": "light"
     },
     "output_type": "display_data"
    }
   ],
   "source": [
    "ax1 = sns.scatterplot(x='GarageCars',y='YearBuilt',data=data)"
   ]
  },
  {
   "cell_type": "markdown",
   "id": "ce7915d8",
   "metadata": {},
   "source": [
    "## 📉 Multiple Regression 2 - drop YearBuilt"
   ]
  },
  {
   "cell_type": "code",
   "execution_count": 17,
   "id": "43064a47",
   "metadata": {},
   "outputs": [
    {
     "data": {
      "text/plain": [
       "Lasso(max_iter=10000, normalize=True, random_state=44)"
      ]
     },
     "execution_count": 17,
     "metadata": {},
     "output_type": "execute_result"
    }
   ],
   "source": [
    "# Again without YearBuilt\n",
    "new_data = data.drop(['YearBuilt'],axis=1)\n",
    "data_dum = pd.get_dummies(new_data, drop_first=True)\n",
    "X_train, X_test, y_train, y_test = train_test_split(data_dum, y, test_size=0.25)\n",
    "lasso = Lasso()\n",
    "lasso.set_params(normalize=True, max_iter=10000, random_state=44)"
   ]
  },
  {
   "cell_type": "code",
   "execution_count": 18,
   "id": "232aa340",
   "metadata": {},
   "outputs": [
    {
     "name": "stderr",
     "output_type": "stream",
     "text": [
      "<ipython-input-18-6ee417506c91>:9: UserWarning: With alpha=0, this algorithm does not converge well. You are advised to use the LinearRegression estimator\n",
      "  lasso.fit(X_train, np.log10(y_train))\n",
      "C:\\ProgramData\\Anaconda3\\lib\\site-packages\\sklearn\\linear_model\\_coordinate_descent.py:530: UserWarning: Coordinate descent with no regularization may lead to unexpected results and is discouraged.\n",
      "  model = cd_fast.enet_coordinate_descent(\n",
      "C:\\ProgramData\\Anaconda3\\lib\\site-packages\\sklearn\\linear_model\\_coordinate_descent.py:530: ConvergenceWarning: Objective did not converge. You might want to increase the number of iterations. Duality gap: 3.212957225169131, tolerance: 0.0054751577196544545\n",
      "  model = cd_fast.enet_coordinate_descent(\n"
     ]
    },
    {
     "data": {
      "text/html": [
       "<div>\n",
       "<style scoped>\n",
       "    .dataframe tbody tr th:only-of-type {\n",
       "        vertical-align: middle;\n",
       "    }\n",
       "\n",
       "    .dataframe tbody tr th {\n",
       "        vertical-align: top;\n",
       "    }\n",
       "\n",
       "    .dataframe thead th {\n",
       "        text-align: right;\n",
       "    }\n",
       "</style>\n",
       "<table border=\"1\" class=\"dataframe\">\n",
       "  <thead>\n",
       "    <tr style=\"text-align: right;\">\n",
       "      <th></th>\n",
       "      <th>BsmtUnfSF</th>\n",
       "      <th>AllBathBsmt</th>\n",
       "      <th>AllBathAbv</th>\n",
       "      <th>GarageCars</th>\n",
       "      <th>PorchArea</th>\n",
       "      <th>GoodLivArea</th>\n",
       "      <th>HasPool</th>\n",
       "      <th>MSSubClass_1FlPUD</th>\n",
       "      <th>MSSubClass_2Fl</th>\n",
       "      <th>MSSubClass_2FlPUD</th>\n",
       "      <th>...</th>\n",
       "      <th>FireplaceQu_Fa</th>\n",
       "      <th>FireplaceQu_Gd</th>\n",
       "      <th>FireplaceQu_None</th>\n",
       "      <th>FireplaceQu_Po</th>\n",
       "      <th>FireplaceQu_TA</th>\n",
       "      <th>GarageQual_Fa</th>\n",
       "      <th>GarageQual_Gd</th>\n",
       "      <th>GarageQual_None</th>\n",
       "      <th>GarageQual_Po</th>\n",
       "      <th>GarageQual_TA</th>\n",
       "    </tr>\n",
       "  </thead>\n",
       "  <tbody>\n",
       "    <tr>\n",
       "      <th>0.00000</th>\n",
       "      <td>0.000064</td>\n",
       "      <td>0.012052</td>\n",
       "      <td>0.013253</td>\n",
       "      <td>0.017810</td>\n",
       "      <td>0.000037</td>\n",
       "      <td>0.000100</td>\n",
       "      <td>-0.002611</td>\n",
       "      <td>-0.020296</td>\n",
       "      <td>0.017208</td>\n",
       "      <td>-0.059768</td>\n",
       "      <td>...</td>\n",
       "      <td>-0.013851</td>\n",
       "      <td>0.000632</td>\n",
       "      <td>-0.022489</td>\n",
       "      <td>-0.010324</td>\n",
       "      <td>-0.006549</td>\n",
       "      <td>-0.118888</td>\n",
       "      <td>-0.066075</td>\n",
       "      <td>-0.101896</td>\n",
       "      <td>-0.149273</td>\n",
       "      <td>-0.095914</td>\n",
       "    </tr>\n",
       "    <tr>\n",
       "      <th>0.00002</th>\n",
       "      <td>0.000060</td>\n",
       "      <td>0.008007</td>\n",
       "      <td>0.013267</td>\n",
       "      <td>0.022841</td>\n",
       "      <td>0.000037</td>\n",
       "      <td>0.000104</td>\n",
       "      <td>0.000000</td>\n",
       "      <td>-0.006121</td>\n",
       "      <td>0.014837</td>\n",
       "      <td>-0.049504</td>\n",
       "      <td>...</td>\n",
       "      <td>-0.002394</td>\n",
       "      <td>0.006819</td>\n",
       "      <td>-0.016989</td>\n",
       "      <td>-0.000190</td>\n",
       "      <td>0.000000</td>\n",
       "      <td>-0.020728</td>\n",
       "      <td>0.024390</td>\n",
       "      <td>-0.000000</td>\n",
       "      <td>-0.026056</td>\n",
       "      <td>0.000000</td>\n",
       "    </tr>\n",
       "  </tbody>\n",
       "</table>\n",
       "<p>2 rows × 71 columns</p>\n",
       "</div>"
      ],
      "text/plain": [
       "         BsmtUnfSF  AllBathBsmt  AllBathAbv  GarageCars  PorchArea  \\\n",
       "0.00000   0.000064     0.012052    0.013253    0.017810   0.000037   \n",
       "0.00002   0.000060     0.008007    0.013267    0.022841   0.000037   \n",
       "\n",
       "         GoodLivArea   HasPool  MSSubClass_1FlPUD  MSSubClass_2Fl  \\\n",
       "0.00000     0.000100 -0.002611          -0.020296        0.017208   \n",
       "0.00002     0.000104  0.000000          -0.006121        0.014837   \n",
       "\n",
       "         MSSubClass_2FlPUD  ...  FireplaceQu_Fa  FireplaceQu_Gd  \\\n",
       "0.00000          -0.059768  ...       -0.013851        0.000632   \n",
       "0.00002          -0.049504  ...       -0.002394        0.006819   \n",
       "\n",
       "         FireplaceQu_None  FireplaceQu_Po  FireplaceQu_TA  GarageQual_Fa  \\\n",
       "0.00000         -0.022489       -0.010324       -0.006549      -0.118888   \n",
       "0.00002         -0.016989       -0.000190        0.000000      -0.020728   \n",
       "\n",
       "         GarageQual_Gd  GarageQual_None  GarageQual_Po  GarageQual_TA  \n",
       "0.00000      -0.066075        -0.101896      -0.149273      -0.095914  \n",
       "0.00002       0.024390        -0.000000      -0.026056       0.000000  \n",
       "\n",
       "[2 rows x 71 columns]"
      ]
     },
     "execution_count": 18,
     "metadata": {},
     "output_type": "execute_result"
    }
   ],
   "source": [
    "#try different alphas\n",
    "alphas = np.linspace(0,0.002,100)\n",
    "coefs_lasso = []\n",
    "R2_train = []\n",
    "R2_test = []\n",
    "\n",
    "for a in alphas:\n",
    "    lasso.set_params(alpha=a)\n",
    "    lasso.fit(X_train, np.log10(y_train))\n",
    "    coefs_lasso.append(lasso.coef_)\n",
    "    R2_train.append(lasso.score(X_train, np.log10(y_train)))\n",
    "    R2_test.append(lasso.score(X_test, np.log10(y_test)))\n",
    "coefs_lasso = pd.DataFrame(coefs_lasso, index = alphas, columns = X_train.columns)\n",
    "R2_lasso = pd.DataFrame({'train': R2_train,'test':R2_test}, index = alphas)\n",
    "coefs_lasso.head(2)"
   ]
  },
  {
   "cell_type": "code",
   "execution_count": 19,
   "id": "1fa84a8e",
   "metadata": {
    "scrolled": true
   },
   "outputs": [
    {
     "data": {
      "text/plain": [
       "<matplotlib.legend.Legend at 0x2c69ccf9430>"
      ]
     },
     "execution_count": 19,
     "metadata": {},
     "output_type": "execute_result"
    },
    {
     "data": {
      "image/png": "[encoded data removed]",
      "text/plain": [
       "<Figure size 1008x432 with 2 Axes>"
      ]
     },
     "metadata": {
      "needs_background": "light"
     },
     "output_type": "display_data"
    }
   ],
   "source": [
    "fig, (ax1, ax2) = plt.subplots(1, 2, figsize=(14,6))\n",
    "fig.suptitle('Lasso Regression results')\n",
    "\n",
    "for feat in coefs_lasso.columns:\n",
    "    ax1.plot(coefs_lasso.index, 10**coefs_lasso[feat]) \n",
    "ax1.set_xlabel(r'hyperparameter $\\lambda$')\n",
    "ax1.set_ylabel(r'slope values')\n",
    "#ax1.legend(loc=1)\n",
    "for each in R2_lasso.columns:\n",
    "    ax2.plot(R2_lasso.index, R2_lasso[each], label=each)\n",
    "ax2.set_xlabel(r'hyperparameter $\\lambda$')\n",
    "ax2.legend(loc=1)"
   ]
  },
  {
   "cell_type": "code",
   "execution_count": 20,
   "id": "342b1e3c",
   "metadata": {},
   "outputs": [
    {
     "data": {
      "text/html": [
       "<div>\n",
       "<style scoped>\n",
       "    .dataframe tbody tr th:only-of-type {\n",
       "        vertical-align: middle;\n",
       "    }\n",
       "\n",
       "    .dataframe tbody tr th {\n",
       "        vertical-align: top;\n",
       "    }\n",
       "\n",
       "    .dataframe thead th {\n",
       "        text-align: right;\n",
       "    }\n",
       "</style>\n",
       "<table border=\"1\" class=\"dataframe\">\n",
       "  <thead>\n",
       "    <tr style=\"text-align: right;\">\n",
       "      <th></th>\n",
       "      <th>var</th>\n",
       "      <th>VIF</th>\n",
       "    </tr>\n",
       "  </thead>\n",
       "  <tbody>\n",
       "    <tr>\n",
       "      <th>2</th>\n",
       "      <td>AllBathAbv</td>\n",
       "      <td>27.857762</td>\n",
       "    </tr>\n",
       "    <tr>\n",
       "      <th>3</th>\n",
       "      <td>GarageCars</td>\n",
       "      <td>21.003147</td>\n",
       "    </tr>\n",
       "    <tr>\n",
       "      <th>5</th>\n",
       "      <td>GoodLivArea</td>\n",
       "      <td>31.919084</td>\n",
       "    </tr>\n",
       "    <tr>\n",
       "      <th>18</th>\n",
       "      <td>PavedDrive_Y</td>\n",
       "      <td>21.008594</td>\n",
       "    </tr>\n",
       "    <tr>\n",
       "      <th>26</th>\n",
       "      <td>Neighborhood_CollgCr</td>\n",
       "      <td>11.310916</td>\n",
       "    </tr>\n",
       "    <tr>\n",
       "      <th>36</th>\n",
       "      <td>Neighborhood_NAmes</td>\n",
       "      <td>21.001444</td>\n",
       "    </tr>\n",
       "    <tr>\n",
       "      <th>41</th>\n",
       "      <td>Neighborhood_OldTown</td>\n",
       "      <td>11.128148</td>\n",
       "    </tr>\n",
       "    <tr>\n",
       "      <th>49</th>\n",
       "      <td>CentralAir_Y</td>\n",
       "      <td>27.804823</td>\n",
       "    </tr>\n",
       "    <tr>\n",
       "      <th>51</th>\n",
       "      <td>KitchenQual_Gd</td>\n",
       "      <td>14.159021</td>\n",
       "    </tr>\n",
       "    <tr>\n",
       "      <th>53</th>\n",
       "      <td>KitchenQual_TA</td>\n",
       "      <td>21.936389</td>\n",
       "    </tr>\n",
       "    <tr>\n",
       "      <th>55</th>\n",
       "      <td>ExterQual_Gd</td>\n",
       "      <td>20.058292</td>\n",
       "    </tr>\n",
       "    <tr>\n",
       "      <th>56</th>\n",
       "      <td>ExterQual_TA</td>\n",
       "      <td>45.472469</td>\n",
       "    </tr>\n",
       "    <tr>\n",
       "      <th>57</th>\n",
       "      <td>BsmtCond_Fa</td>\n",
       "      <td>20.456071</td>\n",
       "    </tr>\n",
       "    <tr>\n",
       "      <th>58</th>\n",
       "      <td>BsmtCond_Gd</td>\n",
       "      <td>22.655717</td>\n",
       "    </tr>\n",
       "    <tr>\n",
       "      <th>59</th>\n",
       "      <td>BsmtCond_None</td>\n",
       "      <td>16.214115</td>\n",
       "    </tr>\n",
       "    <tr>\n",
       "      <th>60</th>\n",
       "      <td>BsmtCond_TA</td>\n",
       "      <td>481.931438</td>\n",
       "    </tr>\n",
       "    <tr>\n",
       "      <th>62</th>\n",
       "      <td>FireplaceQu_Gd</td>\n",
       "      <td>23.018049</td>\n",
       "    </tr>\n",
       "    <tr>\n",
       "      <th>63</th>\n",
       "      <td>FireplaceQu_None</td>\n",
       "      <td>48.012466</td>\n",
       "    </tr>\n",
       "    <tr>\n",
       "      <th>65</th>\n",
       "      <td>FireplaceQu_TA</td>\n",
       "      <td>21.945244</td>\n",
       "    </tr>\n",
       "    <tr>\n",
       "      <th>66</th>\n",
       "      <td>GarageQual_Fa</td>\n",
       "      <td>19.182771</td>\n",
       "    </tr>\n",
       "    <tr>\n",
       "      <th>68</th>\n",
       "      <td>GarageQual_None</td>\n",
       "      <td>24.332033</td>\n",
       "    </tr>\n",
       "    <tr>\n",
       "      <th>70</th>\n",
       "      <td>GarageQual_TA</td>\n",
       "      <td>395.067697</td>\n",
       "    </tr>\n",
       "  </tbody>\n",
       "</table>\n",
       "</div>"
      ],
      "text/plain": [
       "                     var         VIF\n",
       "2             AllBathAbv   27.857762\n",
       "3             GarageCars   21.003147\n",
       "5            GoodLivArea   31.919084\n",
       "18          PavedDrive_Y   21.008594\n",
       "26  Neighborhood_CollgCr   11.310916\n",
       "36    Neighborhood_NAmes   21.001444\n",
       "41  Neighborhood_OldTown   11.128148\n",
       "49          CentralAir_Y   27.804823\n",
       "51        KitchenQual_Gd   14.159021\n",
       "53        KitchenQual_TA   21.936389\n",
       "55          ExterQual_Gd   20.058292\n",
       "56          ExterQual_TA   45.472469\n",
       "57           BsmtCond_Fa   20.456071\n",
       "58           BsmtCond_Gd   22.655717\n",
       "59         BsmtCond_None   16.214115\n",
       "60           BsmtCond_TA  481.931438\n",
       "62        FireplaceQu_Gd   23.018049\n",
       "63      FireplaceQu_None   48.012466\n",
       "65        FireplaceQu_TA   21.945244\n",
       "66         GarageQual_Fa   19.182771\n",
       "68       GarageQual_None   24.332033\n",
       "70         GarageQual_TA  395.067697"
      ]
     },
     "execution_count": 20,
     "metadata": {},
     "output_type": "execute_result"
    }
   ],
   "source": [
    "vif = pd.DataFrame()\n",
    "vif['var'] = X_train.columns\n",
    "vif['VIF'] = [variance_inflation_factor(X_train.values, i) for i in range(X_train.shape[1])]\n",
    "# VIFs over 10\n",
    "vif[vif.VIF>10]"
   ]
  },
  {
   "cell_type": "markdown",
   "id": "12bf831d",
   "metadata": {},
   "source": [
    "# Try permutation importance"
   ]
  },
  {
   "cell_type": "code",
   "execution_count": 21,
   "id": "9c982c50",
   "metadata": {},
   "outputs": [
    {
     "data": {
      "text/plain": [
       "Lasso(alpha=1e-05, max_iter=10000, normalize=True, random_state=44)"
      ]
     },
     "execution_count": 21,
     "metadata": {},
     "output_type": "execute_result"
    }
   ],
   "source": [
    "# First set param and retrain\n",
    "lasso.set_params(alpha=0.00001)\n",
    "lasso.fit(X_train, np.log10(y_train))"
   ]
  },
  {
   "cell_type": "code",
   "execution_count": 22,
   "id": "f9831484",
   "metadata": {},
   "outputs": [],
   "source": [
    "from sklearn.inspection import permutation_importance\n",
    "\n",
    "r = permutation_importance(\n",
    "    lasso, X_train, np.log10(y_train), n_repeats=30, random_state=0)\n",
    "\n",
    "importances = []\n",
    "for i in r.importances_mean.argsort()[::-1]:\n",
    "    importances.append(\n",
    "        [X_train.columns[i], i, np.round(r.importances_mean[i],4), r.importances_std[i]]\n",
    "    )"
   ]
  },
  {
   "cell_type": "code",
   "execution_count": 23,
   "id": "200af044",
   "metadata": {
    "scrolled": false
   },
   "outputs": [
    {
     "data": {
      "text/html": [
       "<div>\n",
       "<style scoped>\n",
       "    .dataframe tbody tr th:only-of-type {\n",
       "        vertical-align: middle;\n",
       "    }\n",
       "\n",
       "    .dataframe tbody tr th {\n",
       "        vertical-align: top;\n",
       "    }\n",
       "\n",
       "    .dataframe thead th {\n",
       "        text-align: right;\n",
       "    }\n",
       "</style>\n",
       "<table border=\"1\" class=\"dataframe\">\n",
       "  <thead>\n",
       "    <tr style=\"text-align: right;\">\n",
       "      <th></th>\n",
       "      <th>feature</th>\n",
       "      <th>feature_idx</th>\n",
       "      <th>mean_importance</th>\n",
       "      <th>std_importance</th>\n",
       "    </tr>\n",
       "  </thead>\n",
       "  <tbody>\n",
       "    <tr>\n",
       "      <th>0</th>\n",
       "      <td>GoodLivArea</td>\n",
       "      <td>5</td>\n",
       "      <td>0.3881</td>\n",
       "      <td>0.009592</td>\n",
       "    </tr>\n",
       "    <tr>\n",
       "      <th>1</th>\n",
       "      <td>KitchenQual_TA</td>\n",
       "      <td>53</td>\n",
       "      <td>0.0563</td>\n",
       "      <td>0.002783</td>\n",
       "    </tr>\n",
       "    <tr>\n",
       "      <th>2</th>\n",
       "      <td>BsmtUnfSF</td>\n",
       "      <td>0</td>\n",
       "      <td>0.0472</td>\n",
       "      <td>0.002862</td>\n",
       "    </tr>\n",
       "    <tr>\n",
       "      <th>3</th>\n",
       "      <td>ExterQual_TA</td>\n",
       "      <td>56</td>\n",
       "      <td>0.0350</td>\n",
       "      <td>0.002286</td>\n",
       "    </tr>\n",
       "    <tr>\n",
       "      <th>4</th>\n",
       "      <td>GarageCars</td>\n",
       "      <td>3</td>\n",
       "      <td>0.0166</td>\n",
       "      <td>0.001400</td>\n",
       "    </tr>\n",
       "    <tr>\n",
       "      <th>5</th>\n",
       "      <td>KitchenQual_Gd</td>\n",
       "      <td>51</td>\n",
       "      <td>0.0146</td>\n",
       "      <td>0.001344</td>\n",
       "    </tr>\n",
       "    <tr>\n",
       "      <th>6</th>\n",
       "      <td>CentralAir_Y</td>\n",
       "      <td>49</td>\n",
       "      <td>0.0127</td>\n",
       "      <td>0.001306</td>\n",
       "    </tr>\n",
       "    <tr>\n",
       "      <th>7</th>\n",
       "      <td>Neighborhood_Somerst</td>\n",
       "      <td>45</td>\n",
       "      <td>0.0118</td>\n",
       "      <td>0.001014</td>\n",
       "    </tr>\n",
       "    <tr>\n",
       "      <th>8</th>\n",
       "      <td>ExterQual_Gd</td>\n",
       "      <td>55</td>\n",
       "      <td>0.0116</td>\n",
       "      <td>0.001309</td>\n",
       "    </tr>\n",
       "    <tr>\n",
       "      <th>9</th>\n",
       "      <td>KitchenQual_Fa</td>\n",
       "      <td>50</td>\n",
       "      <td>0.0107</td>\n",
       "      <td>0.001279</td>\n",
       "    </tr>\n",
       "    <tr>\n",
       "      <th>10</th>\n",
       "      <td>MSSubClass_2FlPUD</td>\n",
       "      <td>9</td>\n",
       "      <td>0.0105</td>\n",
       "      <td>0.000994</td>\n",
       "    </tr>\n",
       "    <tr>\n",
       "      <th>11</th>\n",
       "      <td>PavedDrive_Y</td>\n",
       "      <td>18</td>\n",
       "      <td>0.0093</td>\n",
       "      <td>0.000989</td>\n",
       "    </tr>\n",
       "    <tr>\n",
       "      <th>12</th>\n",
       "      <td>Neighborhood_NridgHt</td>\n",
       "      <td>40</td>\n",
       "      <td>0.0087</td>\n",
       "      <td>0.000959</td>\n",
       "    </tr>\n",
       "    <tr>\n",
       "      <th>13</th>\n",
       "      <td>ExterQual_Fa</td>\n",
       "      <td>54</td>\n",
       "      <td>0.0086</td>\n",
       "      <td>0.000869</td>\n",
       "    </tr>\n",
       "    <tr>\n",
       "      <th>14</th>\n",
       "      <td>Neighborhood_Crawfor</td>\n",
       "      <td>27</td>\n",
       "      <td>0.0071</td>\n",
       "      <td>0.000730</td>\n",
       "    </tr>\n",
       "    <tr>\n",
       "      <th>15</th>\n",
       "      <td>Neighborhood_OldTown</td>\n",
       "      <td>41</td>\n",
       "      <td>0.0065</td>\n",
       "      <td>0.000740</td>\n",
       "    </tr>\n",
       "    <tr>\n",
       "      <th>16</th>\n",
       "      <td>HeatingQC_TA</td>\n",
       "      <td>21</td>\n",
       "      <td>0.0060</td>\n",
       "      <td>0.000910</td>\n",
       "    </tr>\n",
       "    <tr>\n",
       "      <th>17</th>\n",
       "      <td>Neighborhood_StoneBr</td>\n",
       "      <td>46</td>\n",
       "      <td>0.0056</td>\n",
       "      <td>0.000644</td>\n",
       "    </tr>\n",
       "    <tr>\n",
       "      <th>18</th>\n",
       "      <td>FireplaceQu_None</td>\n",
       "      <td>63</td>\n",
       "      <td>0.0053</td>\n",
       "      <td>0.000807</td>\n",
       "    </tr>\n",
       "    <tr>\n",
       "      <th>19</th>\n",
       "      <td>AllBathAbv</td>\n",
       "      <td>2</td>\n",
       "      <td>0.0053</td>\n",
       "      <td>0.000860</td>\n",
       "    </tr>\n",
       "    <tr>\n",
       "      <th>20</th>\n",
       "      <td>Neighborhood_MeadowV</td>\n",
       "      <td>34</td>\n",
       "      <td>0.0039</td>\n",
       "      <td>0.000692</td>\n",
       "    </tr>\n",
       "    <tr>\n",
       "      <th>21</th>\n",
       "      <td>Neighborhood_Edwards</td>\n",
       "      <td>28</td>\n",
       "      <td>0.0038</td>\n",
       "      <td>0.000723</td>\n",
       "    </tr>\n",
       "    <tr>\n",
       "      <th>22</th>\n",
       "      <td>MSSubClass_2Fl</td>\n",
       "      <td>8</td>\n",
       "      <td>0.0034</td>\n",
       "      <td>0.000566</td>\n",
       "    </tr>\n",
       "    <tr>\n",
       "      <th>23</th>\n",
       "      <td>MSSubClass_SPLIT</td>\n",
       "      <td>11</td>\n",
       "      <td>0.0034</td>\n",
       "      <td>0.000599</td>\n",
       "    </tr>\n",
       "    <tr>\n",
       "      <th>24</th>\n",
       "      <td>BsmtCond_Fa</td>\n",
       "      <td>57</td>\n",
       "      <td>0.0033</td>\n",
       "      <td>0.000851</td>\n",
       "    </tr>\n",
       "    <tr>\n",
       "      <th>25</th>\n",
       "      <td>Foundation_PConc</td>\n",
       "      <td>13</td>\n",
       "      <td>0.0032</td>\n",
       "      <td>0.000668</td>\n",
       "    </tr>\n",
       "    <tr>\n",
       "      <th>26</th>\n",
       "      <td>Neighborhood_IDOTRR</td>\n",
       "      <td>32</td>\n",
       "      <td>0.0031</td>\n",
       "      <td>0.000621</td>\n",
       "    </tr>\n",
       "    <tr>\n",
       "      <th>27</th>\n",
       "      <td>MSSubClass_DUP2FAM</td>\n",
       "      <td>10</td>\n",
       "      <td>0.0028</td>\n",
       "      <td>0.000604</td>\n",
       "    </tr>\n",
       "    <tr>\n",
       "      <th>28</th>\n",
       "      <td>PorchArea</td>\n",
       "      <td>4</td>\n",
       "      <td>0.0027</td>\n",
       "      <td>0.000621</td>\n",
       "    </tr>\n",
       "    <tr>\n",
       "      <th>29</th>\n",
       "      <td>Neighborhood_ClearCr</td>\n",
       "      <td>25</td>\n",
       "      <td>0.0025</td>\n",
       "      <td>0.000566</td>\n",
       "    </tr>\n",
       "    <tr>\n",
       "      <th>30</th>\n",
       "      <td>Neighborhood_GrnHill</td>\n",
       "      <td>31</td>\n",
       "      <td>0.0025</td>\n",
       "      <td>0.001373</td>\n",
       "    </tr>\n",
       "    <tr>\n",
       "      <th>31</th>\n",
       "      <td>Neighborhood_NAmes</td>\n",
       "      <td>36</td>\n",
       "      <td>0.0024</td>\n",
       "      <td>0.000348</td>\n",
       "    </tr>\n",
       "    <tr>\n",
       "      <th>32</th>\n",
       "      <td>Neighborhood_Timber</td>\n",
       "      <td>47</td>\n",
       "      <td>0.0022</td>\n",
       "      <td>0.000602</td>\n",
       "    </tr>\n",
       "    <tr>\n",
       "      <th>33</th>\n",
       "      <td>AllBathBsmt</td>\n",
       "      <td>1</td>\n",
       "      <td>0.0019</td>\n",
       "      <td>0.000466</td>\n",
       "    </tr>\n",
       "    <tr>\n",
       "      <th>34</th>\n",
       "      <td>Neighborhood_NoRidge</td>\n",
       "      <td>39</td>\n",
       "      <td>0.0017</td>\n",
       "      <td>0.000345</td>\n",
       "    </tr>\n",
       "    <tr>\n",
       "      <th>35</th>\n",
       "      <td>GarageQual_Fa</td>\n",
       "      <td>66</td>\n",
       "      <td>0.0015</td>\n",
       "      <td>0.000434</td>\n",
       "    </tr>\n",
       "    <tr>\n",
       "      <th>36</th>\n",
       "      <td>Neighborhood_Greens</td>\n",
       "      <td>30</td>\n",
       "      <td>0.0013</td>\n",
       "      <td>0.000456</td>\n",
       "    </tr>\n",
       "    <tr>\n",
       "      <th>37</th>\n",
       "      <td>HeatingQC_Gd</td>\n",
       "      <td>20</td>\n",
       "      <td>0.0011</td>\n",
       "      <td>0.000428</td>\n",
       "    </tr>\n",
       "    <tr>\n",
       "      <th>38</th>\n",
       "      <td>Foundation_Stone</td>\n",
       "      <td>15</td>\n",
       "      <td>0.0010</td>\n",
       "      <td>0.000217</td>\n",
       "    </tr>\n",
       "    <tr>\n",
       "      <th>39</th>\n",
       "      <td>Neighborhood_Sawyer</td>\n",
       "      <td>43</td>\n",
       "      <td>0.0009</td>\n",
       "      <td>0.000310</td>\n",
       "    </tr>\n",
       "    <tr>\n",
       "      <th>40</th>\n",
       "      <td>PavedDrive_P</td>\n",
       "      <td>17</td>\n",
       "      <td>0.0008</td>\n",
       "      <td>0.000241</td>\n",
       "    </tr>\n",
       "    <tr>\n",
       "      <th>41</th>\n",
       "      <td>BsmtCond_Gd</td>\n",
       "      <td>58</td>\n",
       "      <td>0.0008</td>\n",
       "      <td>0.000291</td>\n",
       "    </tr>\n",
       "    <tr>\n",
       "      <th>42</th>\n",
       "      <td>MSSubClass_1FlPUD</td>\n",
       "      <td>7</td>\n",
       "      <td>0.0008</td>\n",
       "      <td>0.000262</td>\n",
       "    </tr>\n",
       "    <tr>\n",
       "      <th>43</th>\n",
       "      <td>Neighborhood_CollgCr</td>\n",
       "      <td>26</td>\n",
       "      <td>0.0007</td>\n",
       "      <td>0.000319</td>\n",
       "    </tr>\n",
       "    <tr>\n",
       "      <th>44</th>\n",
       "      <td>HeatingQC_Fa</td>\n",
       "      <td>19</td>\n",
       "      <td>0.0007</td>\n",
       "      <td>0.000242</td>\n",
       "    </tr>\n",
       "    <tr>\n",
       "      <th>45</th>\n",
       "      <td>Neighborhood_Blueste</td>\n",
       "      <td>22</td>\n",
       "      <td>0.0007</td>\n",
       "      <td>0.000243</td>\n",
       "    </tr>\n",
       "    <tr>\n",
       "      <th>46</th>\n",
       "      <td>FireplaceQu_Gd</td>\n",
       "      <td>62</td>\n",
       "      <td>0.0007</td>\n",
       "      <td>0.000259</td>\n",
       "    </tr>\n",
       "    <tr>\n",
       "      <th>47</th>\n",
       "      <td>GarageQual_Gd</td>\n",
       "      <td>67</td>\n",
       "      <td>0.0006</td>\n",
       "      <td>0.000174</td>\n",
       "    </tr>\n",
       "    <tr>\n",
       "      <th>48</th>\n",
       "      <td>Neighborhood_BrkSide</td>\n",
       "      <td>24</td>\n",
       "      <td>0.0006</td>\n",
       "      <td>0.000224</td>\n",
       "    </tr>\n",
       "    <tr>\n",
       "      <th>49</th>\n",
       "      <td>Neighborhood_SawyerW</td>\n",
       "      <td>44</td>\n",
       "      <td>0.0005</td>\n",
       "      <td>0.000228</td>\n",
       "    </tr>\n",
       "    <tr>\n",
       "      <th>50</th>\n",
       "      <td>Neighborhood_SWISU</td>\n",
       "      <td>42</td>\n",
       "      <td>0.0003</td>\n",
       "      <td>0.000166</td>\n",
       "    </tr>\n",
       "    <tr>\n",
       "      <th>51</th>\n",
       "      <td>GarageQual_Po</td>\n",
       "      <td>69</td>\n",
       "      <td>0.0003</td>\n",
       "      <td>0.000175</td>\n",
       "    </tr>\n",
       "    <tr>\n",
       "      <th>52</th>\n",
       "      <td>Neighborhood_Gilbert</td>\n",
       "      <td>29</td>\n",
       "      <td>0.0003</td>\n",
       "      <td>0.000128</td>\n",
       "    </tr>\n",
       "    <tr>\n",
       "      <th>53</th>\n",
       "      <td>Foundation_Slab</td>\n",
       "      <td>14</td>\n",
       "      <td>0.0002</td>\n",
       "      <td>0.000082</td>\n",
       "    </tr>\n",
       "    <tr>\n",
       "      <th>54</th>\n",
       "      <td>Foundation_Wood</td>\n",
       "      <td>16</td>\n",
       "      <td>0.0002</td>\n",
       "      <td>0.000117</td>\n",
       "    </tr>\n",
       "    <tr>\n",
       "      <th>55</th>\n",
       "      <td>Neighborhood_NPkVill</td>\n",
       "      <td>37</td>\n",
       "      <td>0.0001</td>\n",
       "      <td>0.000085</td>\n",
       "    </tr>\n",
       "    <tr>\n",
       "      <th>56</th>\n",
       "      <td>Neighborhood_Veenker</td>\n",
       "      <td>48</td>\n",
       "      <td>0.0001</td>\n",
       "      <td>0.000102</td>\n",
       "    </tr>\n",
       "    <tr>\n",
       "      <th>57</th>\n",
       "      <td>FireplaceQu_Fa</td>\n",
       "      <td>61</td>\n",
       "      <td>0.0001</td>\n",
       "      <td>0.000076</td>\n",
       "    </tr>\n",
       "    <tr>\n",
       "      <th>58</th>\n",
       "      <td>FireplaceQu_Po</td>\n",
       "      <td>64</td>\n",
       "      <td>0.0000</td>\n",
       "      <td>0.000032</td>\n",
       "    </tr>\n",
       "    <tr>\n",
       "      <th>59</th>\n",
       "      <td>GarageQual_None</td>\n",
       "      <td>68</td>\n",
       "      <td>0.0000</td>\n",
       "      <td>0.000027</td>\n",
       "    </tr>\n",
       "    <tr>\n",
       "      <th>60</th>\n",
       "      <td>Neighborhood_Mitchel</td>\n",
       "      <td>35</td>\n",
       "      <td>0.0000</td>\n",
       "      <td>0.000037</td>\n",
       "    </tr>\n",
       "    <tr>\n",
       "      <th>61</th>\n",
       "      <td>Neighborhood_BrDale</td>\n",
       "      <td>23</td>\n",
       "      <td>0.0000</td>\n",
       "      <td>0.000032</td>\n",
       "    </tr>\n",
       "    <tr>\n",
       "      <th>62</th>\n",
       "      <td>Neighborhood_Landmrk</td>\n",
       "      <td>33</td>\n",
       "      <td>0.0000</td>\n",
       "      <td>0.000013</td>\n",
       "    </tr>\n",
       "    <tr>\n",
       "      <th>63</th>\n",
       "      <td>Foundation_CBlock</td>\n",
       "      <td>12</td>\n",
       "      <td>0.0000</td>\n",
       "      <td>0.000000</td>\n",
       "    </tr>\n",
       "    <tr>\n",
       "      <th>64</th>\n",
       "      <td>HasPool</td>\n",
       "      <td>6</td>\n",
       "      <td>0.0000</td>\n",
       "      <td>0.000000</td>\n",
       "    </tr>\n",
       "    <tr>\n",
       "      <th>65</th>\n",
       "      <td>Neighborhood_NWAmes</td>\n",
       "      <td>38</td>\n",
       "      <td>0.0000</td>\n",
       "      <td>0.000000</td>\n",
       "    </tr>\n",
       "    <tr>\n",
       "      <th>66</th>\n",
       "      <td>KitchenQual_Po</td>\n",
       "      <td>52</td>\n",
       "      <td>0.0000</td>\n",
       "      <td>0.000000</td>\n",
       "    </tr>\n",
       "    <tr>\n",
       "      <th>67</th>\n",
       "      <td>BsmtCond_None</td>\n",
       "      <td>59</td>\n",
       "      <td>0.0000</td>\n",
       "      <td>0.000000</td>\n",
       "    </tr>\n",
       "    <tr>\n",
       "      <th>68</th>\n",
       "      <td>BsmtCond_TA</td>\n",
       "      <td>60</td>\n",
       "      <td>0.0000</td>\n",
       "      <td>0.000000</td>\n",
       "    </tr>\n",
       "    <tr>\n",
       "      <th>69</th>\n",
       "      <td>FireplaceQu_TA</td>\n",
       "      <td>65</td>\n",
       "      <td>0.0000</td>\n",
       "      <td>0.000000</td>\n",
       "    </tr>\n",
       "    <tr>\n",
       "      <th>70</th>\n",
       "      <td>GarageQual_TA</td>\n",
       "      <td>70</td>\n",
       "      <td>0.0000</td>\n",
       "      <td>0.000000</td>\n",
       "    </tr>\n",
       "  </tbody>\n",
       "</table>\n",
       "</div>"
      ],
      "text/plain": [
       "                 feature  feature_idx  mean_importance  std_importance\n",
       "0            GoodLivArea            5           0.3881        0.009592\n",
       "1         KitchenQual_TA           53           0.0563        0.002783\n",
       "2              BsmtUnfSF            0           0.0472        0.002862\n",
       "3           ExterQual_TA           56           0.0350        0.002286\n",
       "4             GarageCars            3           0.0166        0.001400\n",
       "5         KitchenQual_Gd           51           0.0146        0.001344\n",
       "6           CentralAir_Y           49           0.0127        0.001306\n",
       "7   Neighborhood_Somerst           45           0.0118        0.001014\n",
       "8           ExterQual_Gd           55           0.0116        0.001309\n",
       "9         KitchenQual_Fa           50           0.0107        0.001279\n",
       "10     MSSubClass_2FlPUD            9           0.0105        0.000994\n",
       "11          PavedDrive_Y           18           0.0093        0.000989\n",
       "12  Neighborhood_NridgHt           40           0.0087        0.000959\n",
       "13          ExterQual_Fa           54           0.0086        0.000869\n",
       "14  Neighborhood_Crawfor           27           0.0071        0.000730\n",
       "15  Neighborhood_OldTown           41           0.0065        0.000740\n",
       "16          HeatingQC_TA           21           0.0060        0.000910\n",
       "17  Neighborhood_StoneBr           46           0.0056        0.000644\n",
       "18      FireplaceQu_None           63           0.0053        0.000807\n",
       "19            AllBathAbv            2           0.0053        0.000860\n",
       "20  Neighborhood_MeadowV           34           0.0039        0.000692\n",
       "21  Neighborhood_Edwards           28           0.0038        0.000723\n",
       "22        MSSubClass_2Fl            8           0.0034        0.000566\n",
       "23      MSSubClass_SPLIT           11           0.0034        0.000599\n",
       "24           BsmtCond_Fa           57           0.0033        0.000851\n",
       "25      Foundation_PConc           13           0.0032        0.000668\n",
       "26   Neighborhood_IDOTRR           32           0.0031        0.000621\n",
       "27    MSSubClass_DUP2FAM           10           0.0028        0.000604\n",
       "28             PorchArea            4           0.0027        0.000621\n",
       "29  Neighborhood_ClearCr           25           0.0025        0.000566\n",
       "30  Neighborhood_GrnHill           31           0.0025        0.001373\n",
       "31    Neighborhood_NAmes           36           0.0024        0.000348\n",
       "32   Neighborhood_Timber           47           0.0022        0.000602\n",
       "33           AllBathBsmt            1           0.0019        0.000466\n",
       "34  Neighborhood_NoRidge           39           0.0017        0.000345\n",
       "35         GarageQual_Fa           66           0.0015        0.000434\n",
       "36   Neighborhood_Greens           30           0.0013        0.000456\n",
       "37          HeatingQC_Gd           20           0.0011        0.000428\n",
       "38      Foundation_Stone           15           0.0010        0.000217\n",
       "39   Neighborhood_Sawyer           43           0.0009        0.000310\n",
       "40          PavedDrive_P           17           0.0008        0.000241\n",
       "41           BsmtCond_Gd           58           0.0008        0.000291\n",
       "42     MSSubClass_1FlPUD            7           0.0008        0.000262\n",
       "43  Neighborhood_CollgCr           26           0.0007        0.000319\n",
       "44          HeatingQC_Fa           19           0.0007        0.000242\n",
       "45  Neighborhood_Blueste           22           0.0007        0.000243\n",
       "46        FireplaceQu_Gd           62           0.0007        0.000259\n",
       "47         GarageQual_Gd           67           0.0006        0.000174\n",
       "48  Neighborhood_BrkSide           24           0.0006        0.000224\n",
       "49  Neighborhood_SawyerW           44           0.0005        0.000228\n",
       "50    Neighborhood_SWISU           42           0.0003        0.000166\n",
       "51         GarageQual_Po           69           0.0003        0.000175\n",
       "52  Neighborhood_Gilbert           29           0.0003        0.000128\n",
       "53       Foundation_Slab           14           0.0002        0.000082\n",
       "54       Foundation_Wood           16           0.0002        0.000117\n",
       "55  Neighborhood_NPkVill           37           0.0001        0.000085\n",
       "56  Neighborhood_Veenker           48           0.0001        0.000102\n",
       "57        FireplaceQu_Fa           61           0.0001        0.000076\n",
       "58        FireplaceQu_Po           64           0.0000        0.000032\n",
       "59       GarageQual_None           68           0.0000        0.000027\n",
       "60  Neighborhood_Mitchel           35           0.0000        0.000037\n",
       "61   Neighborhood_BrDale           23           0.0000        0.000032\n",
       "62  Neighborhood_Landmrk           33           0.0000        0.000013\n",
       "63     Foundation_CBlock           12           0.0000        0.000000\n",
       "64               HasPool            6           0.0000        0.000000\n",
       "65   Neighborhood_NWAmes           38           0.0000        0.000000\n",
       "66        KitchenQual_Po           52           0.0000        0.000000\n",
       "67         BsmtCond_None           59           0.0000        0.000000\n",
       "68           BsmtCond_TA           60           0.0000        0.000000\n",
       "69        FireplaceQu_TA           65           0.0000        0.000000\n",
       "70         GarageQual_TA           70           0.0000        0.000000"
      ]
     },
     "execution_count": 23,
     "metadata": {},
     "output_type": "execute_result"
    }
   ],
   "source": [
    "pd.set_option('display.max_rows', None)\n",
    "importances_df = pd.DataFrame(\n",
    "    importances, columns = [\"feature\", \"feature_idx\", \"mean_importance\", \"std_importance\"])\n",
    "importances_df"
   ]
  },
  {
   "cell_type": "code",
   "execution_count": null,
   "id": "21903e76",
   "metadata": {},
   "outputs": [],
   "source": []
  },
  {
   "cell_type": "code",
   "execution_count": null,
   "id": "8fd3fcb4",
   "metadata": {},
   "outputs": [],
   "source": []
  },
  {
   "cell_type": "code",
   "execution_count": null,
   "id": "6fab585a",
   "metadata": {},
   "outputs": [],
   "source": []
  },
  {
   "cell_type": "code",
   "execution_count": null,
   "id": "d428a7f1",
   "metadata": {},
   "outputs": [],
   "source": []
  },
  {
   "cell_type": "code",
   "execution_count": 103,
   "id": "fbbeafec",
   "metadata": {},
   "outputs": [
    {
     "name": "stdout",
     "output_type": "stream",
     "text": [
      "0.2093795637271657\n",
      "0.35699696242540935\n"
     ]
    }
   ],
   "source": [
    "lm = LinearRegression()\n",
    "lm.fit(data[['DfromWalmart']],np.log10(y))\n",
    "print(lm.score(data[['DfromWalmart']],np.log10(y)))\n",
    "lm.fit(data[['YearBuilt']],np.log10(y))\n",
    "print(lm.score(data[['YearBuilt']],np.log10(y)))"
   ]
  },
  {
   "cell_type": "code",
   "execution_count": 104,
   "id": "817ecf0f",
   "metadata": {},
   "outputs": [],
   "source": [
    "# Drop Distance from Walmart\n",
    "data_2.drop('DfromWalmart',axis=1, inplace=True)"
   ]
  },
  {
   "cell_type": "markdown",
   "id": "d4af3548",
   "metadata": {},
   "source": [
    "### GarageArea & GarageCars high Correlation"
   ]
  },
  {
   "cell_type": "code",
   "execution_count": 105,
   "id": "df5ac85b",
   "metadata": {},
   "outputs": [
    {
     "data": {
      "text/plain": [
       "0.41650204802415003"
      ]
     },
     "execution_count": 105,
     "metadata": {},
     "output_type": "execute_result"
    }
   ],
   "source": [
    "lm = LinearRegression()\n",
    "lm.fit(data[['GarageArea']],np.log10(y))\n",
    "lm.score(data[['GarageArea']],np.log10(y))"
   ]
  },
  {
   "cell_type": "code",
   "execution_count": 106,
   "id": "2a8e01aa",
   "metadata": {},
   "outputs": [
    {
     "data": {
      "text/plain": [
       "0.45677789237368716"
      ]
     },
     "execution_count": 106,
     "metadata": {},
     "output_type": "execute_result"
    }
   ],
   "source": [
    "lm = LinearRegression()\n",
    "lm.fit(data[['GarageCars']],np.log10(y))\n",
    "lm.score(data[['GarageCars']],np.log10(y))"
   ]
  },
  {
   "cell_type": "markdown",
   "id": "06a9b6e9",
   "metadata": {},
   "source": [
    "#### Try PCA to combine Features\n",
    "'GarageCars', 'GarageArea'<br>"
   ]
  },
  {
   "cell_type": "code",
   "execution_count": 107,
   "id": "b01ff5a7",
   "metadata": {},
   "outputs": [
    {
     "data": {
      "text/plain": [
       "array([0.94316, 0.05684])"
      ]
     },
     "execution_count": 107,
     "metadata": {},
     "output_type": "execute_result"
    }
   ],
   "source": [
    "from sklearn.decomposition import PCA\n",
    "ss = StandardScaler()\n",
    "\n",
    "pca_data = data_2[['GarageCars','GarageArea']]\n",
    "pca_data = ss.fit_transform(pca_data)\n",
    "\n",
    "pca = PCA()\n",
    "pca.fit(pca_data)\n",
    "np.round(pca.explained_variance_ratio_,5)"
   ]
  },
  {
   "cell_type": "code",
   "execution_count": 108,
   "id": "40cf62c7",
   "metadata": {},
   "outputs": [],
   "source": [
    "# Keep 1 PCA transformed GarageData\n",
    "new_data = data_2.drop(['GarageCars','GarageArea'],axis=1)\n",
    "pca.set_params(n_components=1)\n",
    "new_data = pd.concat([new_data.reset_index(),pd.DataFrame(pca.fit_transform(pca_data))],axis=1)\n",
    "new_data = new_data.rename(columns={0:'GaragePCA'}).set_index('PID')"
   ]
  },
  {
   "cell_type": "code",
   "execution_count": 109,
   "id": "e2b91659",
   "metadata": {},
   "outputs": [
    {
     "data": {
      "text/plain": [
       "Index(['MSSubClass', 'GarageType', 'BsmtQual', 'Foundation', 'PavedDrive',\n",
       "       'BsmtUnfSF', 'AllBathBsmt', 'AllBathAbv', 'TotRmsAbvGrd', 'Fireplaces',\n",
       "       'HeatingQC', 'Neighborhood', 'YearBuilt', 'OverallQual', 'LotFrontage',\n",
       "       '1stFlrSF', '2ndFlrSF', 'PorchArea', 'BsmtFinSF', 'HasPool',\n",
       "       'GaragePCA'],\n",
       "      dtype='object')"
      ]
     },
     "execution_count": 109,
     "metadata": {},
     "output_type": "execute_result"
    }
   ],
   "source": [
    "new_data.columns"
   ]
  },
  {
   "cell_type": "code",
   "execution_count": 121,
   "id": "caf67d2f",
   "metadata": {},
   "outputs": [
    {
     "data": {
      "text/html": [
       "<div>\n",
       "<style scoped>\n",
       "    .dataframe tbody tr th:only-of-type {\n",
       "        vertical-align: middle;\n",
       "    }\n",
       "\n",
       "    .dataframe tbody tr th {\n",
       "        vertical-align: top;\n",
       "    }\n",
       "\n",
       "    .dataframe thead th {\n",
       "        text-align: right;\n",
       "    }\n",
       "</style>\n",
       "<table border=\"1\" class=\"dataframe\">\n",
       "  <thead>\n",
       "    <tr style=\"text-align: right;\">\n",
       "      <th></th>\n",
       "      <th>train</th>\n",
       "      <th>test</th>\n",
       "    </tr>\n",
       "  </thead>\n",
       "  <tbody>\n",
       "    <tr>\n",
       "      <th>0.0</th>\n",
       "      <td>0.902696</td>\n",
       "      <td>0.882785</td>\n",
       "    </tr>\n",
       "  </tbody>\n",
       "</table>\n",
       "</div>"
      ],
      "text/plain": [
       "        train      test\n",
       "0.0  0.902696  0.882785"
      ]
     },
     "execution_count": 121,
     "metadata": {},
     "output_type": "execute_result"
    }
   ],
   "source": [
    "R2_lasso.loc[R2_lasso['test'] == max(R2_lasso['test'])]"
   ]
  },
  {
   "cell_type": "code",
   "execution_count": 122,
   "id": "7355f7a7",
   "metadata": {},
   "outputs": [
    {
     "data": {
      "text/plain": [
       "Lasso(alpha=1e-05, max_iter=10000, normalize=True, random_state=44)"
      ]
     },
     "execution_count": 122,
     "metadata": {},
     "output_type": "execute_result"
    }
   ],
   "source": [
    "lasso.set_params(alpha=0.00001)"
   ]
  },
  {
   "cell_type": "code",
   "execution_count": 124,
   "id": "e0d5b4c6",
   "metadata": {},
   "outputs": [
    {
     "data": {
      "text/plain": [
       "0.8828779325002578"
      ]
     },
     "execution_count": 124,
     "metadata": {},
     "output_type": "execute_result"
    }
   ],
   "source": [
    "lasso.fit(X_train, np.log10(y_train))\n",
    "lasso.score(X_test, np.log10(y_test))"
   ]
  }
 ],
 "metadata": {
  "kernelspec": {
   "display_name": "Python 3",
   "language": "python",
   "name": "python3"
  },
  "language_info": {
   "codemirror_mode": {
    "name": "ipython",
    "version": 3
   },
   "file_extension": ".py",
   "mimetype": "text/x-python",
   "name": "python",
   "nbconvert_exporter": "python",
   "pygments_lexer": "ipython3",
   "version": "3.8.8"
  }
 },
 "nbformat": 4,
 "nbformat_minor": 5
}
