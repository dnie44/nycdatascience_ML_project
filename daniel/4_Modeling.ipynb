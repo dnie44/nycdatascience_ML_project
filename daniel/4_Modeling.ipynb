{
 "cells": [
  {
   "cell_type": "code",
   "execution_count": 3,
   "id": "818b52f5",
   "metadata": {},
   "outputs": [],
   "source": [
    "import pandas as pd\n",
    "import numpy as np\n",
    "\n",
    "import seaborn as sns\n",
    "import matplotlib.pyplot as plt\n",
    "%matplotlib inline \n",
    "\n",
    "from sklearn.linear_model import Lasso, Ridge, LinearRegression\n",
    "from sklearn.model_selection import train_test_split, cross_validate\n",
    "\n",
    "from statsmodels.stats.outliers_influence import variance_inflation_factor"
   ]
  },
  {
   "cell_type": "code",
   "execution_count": 4,
   "id": "bf84646e",
   "metadata": {
    "scrolled": true
   },
   "outputs": [
    {
     "data": {
      "text/plain": [
       "(2579, 24)"
      ]
     },
     "execution_count": 4,
     "metadata": {},
     "output_type": "execute_result"
    }
   ],
   "source": [
    "data = pd.read_csv('model_data.csv', index_col='PID')\n",
    "data.shape"
   ]
  },
  {
   "cell_type": "markdown",
   "id": "971faf8f",
   "metadata": {},
   "source": [
    "#### Independent Variable (y)"
   ]
  },
  {
   "cell_type": "code",
   "execution_count": 5,
   "id": "2b456e2f",
   "metadata": {},
   "outputs": [],
   "source": [
    "y = data.SalePrice.copy()\n",
    "data.drop('SalePrice', axis=1, inplace=True)"
   ]
  },
  {
   "cell_type": "markdown",
   "id": "ff56c337",
   "metadata": {},
   "source": [
    "#### Choose Dependents (Use Sector or Neighborhood) (Use ALLSF, or split columns)"
   ]
  },
  {
   "cell_type": "code",
   "execution_count": 6,
   "id": "9e47de64",
   "metadata": {
    "scrolled": true
   },
   "outputs": [
    {
     "data": {
      "text/plain": [
       "Index(['MSSubClass', 'GarageCars', 'GarageType', 'BsmtQual', 'Foundation',\n",
       "       'PavedDrive', 'TotalBsmtSF', 'AllBathBsmt', 'AllBathAbv',\n",
       "       'TotRmsAbvGrd', 'Fireplaces', 'HeatingQC', 'Neighborhood', 'Sector',\n",
       "       'YearBuilt', 'OverallQual', 'LotFrontage', 'DfromWalmart', '1stFlrSF',\n",
       "       '2ndFlrSF', 'GarageArea', 'PorchArea', 'ALLSF'],\n",
       "      dtype='object')"
      ]
     },
     "execution_count": 6,
     "metadata": {},
     "output_type": "execute_result"
    }
   ],
   "source": [
    "data.columns"
   ]
  },
  {
   "cell_type": "markdown",
   "id": "5415f4c9",
   "metadata": {},
   "source": [
    "* Sectors & ALLSF"
   ]
  },
  {
   "cell_type": "code",
   "execution_count": 7,
   "id": "4726a9d1",
   "metadata": {},
   "outputs": [],
   "source": [
    "data_1 = data.drop(['Neighborhood','1stFlrSF', '2ndFlrSF', 'GarageArea', 'PorchArea', 'TotalBsmtSF'],axis=1)"
   ]
  },
  {
   "cell_type": "markdown",
   "id": "2632c2b7",
   "metadata": {},
   "source": [
    "* Sectors & Split SF"
   ]
  },
  {
   "cell_type": "code",
   "execution_count": 8,
   "id": "07c1cbb7",
   "metadata": {},
   "outputs": [],
   "source": [
    "data_2 = data.drop(['Neighborhood','ALLSF'],axis=1)"
   ]
  },
  {
   "cell_type": "markdown",
   "id": "31cd160b",
   "metadata": {},
   "source": [
    "* Neighborhood & ALLSF"
   ]
  },
  {
   "cell_type": "code",
   "execution_count": 9,
   "id": "616f2f88",
   "metadata": {},
   "outputs": [],
   "source": [
    "data_3 = data.drop(['Sector','1stFlrSF', '2ndFlrSF', 'GarageArea', 'PorchArea', 'TotalBsmtSF'],axis=1)"
   ]
  },
  {
   "cell_type": "markdown",
   "id": "cf4bf04f",
   "metadata": {},
   "source": [
    "* Neighborhood & Split SF"
   ]
  },
  {
   "cell_type": "code",
   "execution_count": 10,
   "id": "6cd39085",
   "metadata": {},
   "outputs": [],
   "source": [
    "data_4 = data.drop(['Sector','ALLSF'],axis=1)"
   ]
  },
  {
   "cell_type": "markdown",
   "id": "9a8e1028",
   "metadata": {},
   "source": [
    "## 📉 Multiple Regression"
   ]
  },
  {
   "cell_type": "markdown",
   "id": "e5b07170",
   "metadata": {},
   "source": [
    "#### Data_1"
   ]
  },
  {
   "cell_type": "code",
   "execution_count": 11,
   "id": "f4a33a7e",
   "metadata": {},
   "outputs": [
    {
     "data": {
      "text/plain": [
       "0.6441628927347836"
      ]
     },
     "execution_count": 11,
     "metadata": {},
     "output_type": "execute_result"
    }
   ],
   "source": [
    "lasso = Lasso(max_iter=10000)\n",
    "\n",
    "data_dum = pd.get_dummies(data_1, drop_first=True)\n",
    "scores = cross_validate(lasso, data_dum, np.log10(y), cv=4)\n",
    "np.mean(scores['test_score'])"
   ]
  },
  {
   "cell_type": "markdown",
   "id": "c27117ce",
   "metadata": {},
   "source": [
    "#### Data_2"
   ]
  },
  {
   "cell_type": "code",
   "execution_count": 12,
   "id": "25cc022d",
   "metadata": {},
   "outputs": [
    {
     "data": {
      "text/plain": [
       "0.6435204263023244"
      ]
     },
     "execution_count": 12,
     "metadata": {},
     "output_type": "execute_result"
    }
   ],
   "source": [
    "data_dum = pd.get_dummies(data_2, drop_first=True)\n",
    "scores = cross_validate(lasso, data_dum, np.log10(y), cv=4)\n",
    "np.mean(scores['test_score'])"
   ]
  },
  {
   "cell_type": "markdown",
   "id": "98b51a77",
   "metadata": {},
   "source": [
    "#### Data_3"
   ]
  },
  {
   "cell_type": "code",
   "execution_count": 13,
   "id": "4f7d725f",
   "metadata": {},
   "outputs": [
    {
     "data": {
      "text/plain": [
       "0.6441628927347836"
      ]
     },
     "execution_count": 13,
     "metadata": {},
     "output_type": "execute_result"
    }
   ],
   "source": [
    "data_dum = pd.get_dummies(data_3, drop_first=True)\n",
    "scores = cross_validate(lasso, data_dum, np.log10(y), cv=4)\n",
    "np.mean(scores['test_score'])"
   ]
  },
  {
   "cell_type": "markdown",
   "id": "7aaaf3cf",
   "metadata": {},
   "source": [
    "#### Data_4"
   ]
  },
  {
   "cell_type": "code",
   "execution_count": 14,
   "id": "631c4c4f",
   "metadata": {},
   "outputs": [
    {
     "data": {
      "text/plain": [
       "0.6435204263023244"
      ]
     },
     "execution_count": 14,
     "metadata": {},
     "output_type": "execute_result"
    }
   ],
   "source": [
    "data_dum = pd.get_dummies(data_4, drop_first=True)\n",
    "scores = cross_validate(lasso, data_dum, np.log10(y), cv=4)\n",
    "np.mean(scores['test_score'])"
   ]
  },
  {
   "cell_type": "code",
   "execution_count": 15,
   "id": "6290c4b8",
   "metadata": {},
   "outputs": [],
   "source": [
    "X_train, X_test, y_train, y_test = train_test_split(data_dum, y, test_size=0.3)"
   ]
  },
  {
   "cell_type": "code",
   "execution_count": 16,
   "id": "987bcafc",
   "metadata": {},
   "outputs": [
    {
     "data": {
      "text/plain": [
       "0.7656969723688629"
      ]
     },
     "execution_count": 16,
     "metadata": {},
     "output_type": "execute_result"
    }
   ],
   "source": [
    "lasso.fit(X_train,np.log10(y_train))\n",
    "lasso.score(X_test,np.log10(y_test))"
   ]
  },
  {
   "cell_type": "code",
   "execution_count": 19,
   "id": "beca7e09",
   "metadata": {},
   "outputs": [
    {
     "data": {
      "text/plain": [
       "{'alpha': 0.001,\n",
       " 'copy_X': True,\n",
       " 'fit_intercept': True,\n",
       " 'max_iter': 10000,\n",
       " 'normalize': True,\n",
       " 'positive': False,\n",
       " 'precompute': False,\n",
       " 'random_state': 44,\n",
       " 'selection': 'cyclic',\n",
       " 'tol': 0.0001,\n",
       " 'warm_start': False}"
      ]
     },
     "execution_count": 19,
     "metadata": {},
     "output_type": "execute_result"
    }
   ],
   "source": [
    "lasso.set_params(normalize=True, max_iter=10000, random_state=44)\n",
    "lasso.get_params()"
   ]
  },
  {
   "cell_type": "code",
   "execution_count": 43,
   "id": "334cfd5c",
   "metadata": {},
   "outputs": [
    {
     "name": "stderr",
     "output_type": "stream",
     "text": [
      "<ipython-input-43-02d8d1909f26>:9: UserWarning: With alpha=0, this algorithm does not converge well. You are advised to use the LinearRegression estimator\n",
      "  lasso.fit(X_train, np.log10(y_train))\n",
      "C:\\ProgramData\\Anaconda3\\lib\\site-packages\\sklearn\\linear_model\\_coordinate_descent.py:530: UserWarning: Coordinate descent with no regularization may lead to unexpected results and is discouraged.\n",
      "  model = cd_fast.enet_coordinate_descent(\n",
      "C:\\ProgramData\\Anaconda3\\lib\\site-packages\\sklearn\\linear_model\\_coordinate_descent.py:530: ConvergenceWarning: Objective did not converge. You might want to increase the number of iterations. Duality gap: 3.2662273345033115, tolerance: 0.005355116340970839\n",
      "  model = cd_fast.enet_coordinate_descent(\n"
     ]
    }
   ],
   "source": [
    "#try different alphas\n",
    "alphas = np.linspace(0,0.002,100)\n",
    "coefs_lasso = []\n",
    "R2_train = []\n",
    "R2_test = []\n",
    "\n",
    "for a in alphas:\n",
    "    lasso.set_params(alpha=a)\n",
    "    lasso.fit(X_train, np.log10(y_train))\n",
    "    coefs_lasso.append(lasso.coef_)\n",
    "    R2_train.append(lasso.score(X_train, np.log10(y_train)))\n",
    "    R2_test.append(lasso.score(X_test, np.log10(y_test)))"
   ]
  },
  {
   "cell_type": "code",
   "execution_count": 44,
   "id": "66ffd13b",
   "metadata": {},
   "outputs": [
    {
     "data": {
      "text/html": [
       "<div>\n",
       "<style scoped>\n",
       "    .dataframe tbody tr th:only-of-type {\n",
       "        vertical-align: middle;\n",
       "    }\n",
       "\n",
       "    .dataframe tbody tr th {\n",
       "        vertical-align: top;\n",
       "    }\n",
       "\n",
       "    .dataframe thead th {\n",
       "        text-align: right;\n",
       "    }\n",
       "</style>\n",
       "<table border=\"1\" class=\"dataframe\">\n",
       "  <thead>\n",
       "    <tr style=\"text-align: right;\">\n",
       "      <th></th>\n",
       "      <th>MSSubClass</th>\n",
       "      <th>GarageCars</th>\n",
       "      <th>GarageType</th>\n",
       "      <th>BsmtQual</th>\n",
       "      <th>Foundation</th>\n",
       "      <th>PavedDrive</th>\n",
       "      <th>TotalBsmtSF</th>\n",
       "      <th>AllBathBsmt</th>\n",
       "      <th>AllBathAbv</th>\n",
       "      <th>TotRmsAbvGrd</th>\n",
       "      <th>...</th>\n",
       "      <th>HeatingQC</th>\n",
       "      <th>Neighborhood</th>\n",
       "      <th>YearBuilt</th>\n",
       "      <th>OverallQual</th>\n",
       "      <th>LotFrontage</th>\n",
       "      <th>DfromWalmart</th>\n",
       "      <th>1stFlrSF</th>\n",
       "      <th>2ndFlrSF</th>\n",
       "      <th>GarageArea</th>\n",
       "      <th>PorchArea</th>\n",
       "    </tr>\n",
       "  </thead>\n",
       "  <tbody>\n",
       "    <tr>\n",
       "      <th>0.00000</th>\n",
       "      <td>-0.003840</td>\n",
       "      <td>0.007513</td>\n",
       "      <td>-0.002833</td>\n",
       "      <td>0.010716</td>\n",
       "      <td>0.005625</td>\n",
       "      <td>0.016526</td>\n",
       "      <td>0.000029</td>\n",
       "      <td>0.027564</td>\n",
       "      <td>-0.001878</td>\n",
       "      <td>0.000065</td>\n",
       "      <td>...</td>\n",
       "      <td>0.014639</td>\n",
       "      <td>-0.000091</td>\n",
       "      <td>0.000522</td>\n",
       "      <td>0.036855</td>\n",
       "      <td>0.000132</td>\n",
       "      <td>0.003792</td>\n",
       "      <td>0.000139</td>\n",
       "      <td>0.000110</td>\n",
       "      <td>0.000042</td>\n",
       "      <td>0.000056</td>\n",
       "    </tr>\n",
       "    <tr>\n",
       "      <th>0.00002</th>\n",
       "      <td>-0.002906</td>\n",
       "      <td>0.007362</td>\n",
       "      <td>-0.002805</td>\n",
       "      <td>0.010396</td>\n",
       "      <td>0.004979</td>\n",
       "      <td>0.015496</td>\n",
       "      <td>0.000029</td>\n",
       "      <td>0.025943</td>\n",
       "      <td>0.000000</td>\n",
       "      <td>0.000286</td>\n",
       "      <td>...</td>\n",
       "      <td>0.014454</td>\n",
       "      <td>-0.000000</td>\n",
       "      <td>0.000503</td>\n",
       "      <td>0.037424</td>\n",
       "      <td>0.000108</td>\n",
       "      <td>0.003556</td>\n",
       "      <td>0.000135</td>\n",
       "      <td>0.000104</td>\n",
       "      <td>0.000044</td>\n",
       "      <td>0.000055</td>\n",
       "    </tr>\n",
       "  </tbody>\n",
       "</table>\n",
       "<p>2 rows × 21 columns</p>\n",
       "</div>"
      ],
      "text/plain": [
       "         MSSubClass  GarageCars  GarageType  BsmtQual  Foundation  PavedDrive  \\\n",
       "0.00000   -0.003840    0.007513   -0.002833  0.010716    0.005625    0.016526   \n",
       "0.00002   -0.002906    0.007362   -0.002805  0.010396    0.004979    0.015496   \n",
       "\n",
       "         TotalBsmtSF  AllBathBsmt  AllBathAbv  TotRmsAbvGrd  ...  HeatingQC  \\\n",
       "0.00000     0.000029     0.027564   -0.001878      0.000065  ...   0.014639   \n",
       "0.00002     0.000029     0.025943    0.000000      0.000286  ...   0.014454   \n",
       "\n",
       "         Neighborhood  YearBuilt  OverallQual  LotFrontage  DfromWalmart  \\\n",
       "0.00000     -0.000091   0.000522     0.036855     0.000132      0.003792   \n",
       "0.00002     -0.000000   0.000503     0.037424     0.000108      0.003556   \n",
       "\n",
       "         1stFlrSF  2ndFlrSF  GarageArea  PorchArea  \n",
       "0.00000  0.000139  0.000110    0.000042   0.000056  \n",
       "0.00002  0.000135  0.000104    0.000044   0.000055  \n",
       "\n",
       "[2 rows x 21 columns]"
      ]
     },
     "execution_count": 44,
     "metadata": {},
     "output_type": "execute_result"
    }
   ],
   "source": [
    "coefs_lasso = pd.DataFrame(coefs_lasso, index = alphas, columns = X_train.columns)\n",
    "R2_lasso = pd.DataFrame({'train': R2_train,'test':R2_test}, index = alphas)\n",
    "coefs_lasso.head(2)"
   ]
  },
  {
   "cell_type": "code",
   "execution_count": 45,
   "id": "6094ad67",
   "metadata": {},
   "outputs": [
    {
     "data": {
      "text/plain": [
       "<matplotlib.legend.Legend at 0x288f3c0fd60>"
      ]
     },
     "execution_count": 45,
     "metadata": {},
     "output_type": "execute_result"
    },
    {
     "data": {
      "image/png": "[encoded data removed]",
      "text/plain": [
       "<Figure size 1008x432 with 2 Axes>"
      ]
     },
     "metadata": {
      "needs_background": "light"
     },
     "output_type": "display_data"
    }
   ],
   "source": [
    "fig, (ax1, ax2) = plt.subplots(1, 2, figsize=(14,6))\n",
    "fig.suptitle('Lasso Regression results')\n",
    "\n",
    "for feat in coefs_lasso.columns:\n",
    "    ax1.plot(coefs_lasso.index, 10**coefs_lasso[feat]) \n",
    "ax1.set_xlabel(r'hyperparameter $\\lambda$')\n",
    "ax1.set_ylabel(r'slope values')\n",
    "#ax1.legend(loc=1)\n",
    "for each in R2_lasso.columns:\n",
    "    ax2.plot(R2_lasso.index, R2_lasso[each], label=each)\n",
    "ax2.set_xlabel(r'hyperparameter $\\lambda$')\n",
    "ax2.legend(loc=1)"
   ]
  },
  {
   "cell_type": "markdown",
   "id": "37fe72be",
   "metadata": {},
   "source": [
    "## 🌲 Prepare for RandomForest"
   ]
  },
  {
   "cell_type": "code",
   "execution_count": 23,
   "id": "6b24199a",
   "metadata": {},
   "outputs": [],
   "source": [
    "from sklearn import ensemble\n",
    "from sklearn.preprocessing import LabelEncoder"
   ]
  },
  {
   "cell_type": "code",
   "execution_count": 24,
   "id": "c182e923",
   "metadata": {},
   "outputs": [
    {
     "data": {
      "text/plain": [
       "Index(['MSSubClass', 'GarageCars', 'GarageType', 'BsmtQual', 'Foundation',\n",
       "       'PavedDrive', 'TotalBsmtSF', 'AllBathBsmt', 'AllBathAbv',\n",
       "       'TotRmsAbvGrd', 'Fireplaces', 'HeatingQC', 'Neighborhood', 'YearBuilt',\n",
       "       'OverallQual', 'LotFrontage', 'DfromWalmart', '1stFlrSF', '2ndFlrSF',\n",
       "       'GarageArea', 'PorchArea'],\n",
       "      dtype='object')"
      ]
     },
     "execution_count": 24,
     "metadata": {},
     "output_type": "execute_result"
    }
   ],
   "source": [
    "data_le = data_4.copy()\n",
    "data_le.columns"
   ]
  },
  {
   "cell_type": "code",
   "execution_count": 25,
   "id": "5e1d217e",
   "metadata": {},
   "outputs": [],
   "source": [
    "# Use LabelEncoder on Categorical features\n",
    "le = LabelEncoder()\n",
    "data_le.MSSubClass = le.fit_transform(data.MSSubClass)\n",
    "data_le.GarageType = le.fit_transform(data.GarageType)\n",
    "data_le.Foundation = le.fit_transform(data.Foundation)\n",
    "data_le.PavedDrive = le.fit_transform(data.PavedDrive)\n",
    "data_le.Neighborhood = le.fit_transform(data.Neighborhood)\n",
    "# Manually Encode Ordinal features\n",
    "data_le.BsmtQual = data_le.BsmtQual.replace({'Po':1,'Fa':2,'TA':3,'Gd':4,'Ex':5,np.NaN:0})\n",
    "data_le.HeatingQC = data_le.HeatingQC.replace({'Po':1,'Fa':2,'TA':3,'Gd':4,'Ex':5})"
   ]
  },
  {
   "cell_type": "code",
   "execution_count": 26,
   "id": "bce0d88c",
   "metadata": {},
   "outputs": [],
   "source": [
    "X_train, X_test, y_train, y_test = train_test_split(data_le, y, test_size=0.25)"
   ]
  },
  {
   "cell_type": "code",
   "execution_count": 27,
   "id": "07259085",
   "metadata": {},
   "outputs": [
    {
     "name": "stdout",
     "output_type": "stream",
     "text": [
      "The training r2: 0.98374\n",
      "The test     r2: 0.85969\n"
     ]
    }
   ],
   "source": [
    "forest = ensemble.RandomForestRegressor()\n",
    "forest.set_params(n_estimators=50, random_state=42, max_features=10)\n",
    "forest.fit(X_train, y_train)\n",
    "print(\"The training r2: %.5f\" %(forest.score(X_train, y_train)))\n",
    "print(\"The test     r2: %.5f\" %(forest.score(X_test, y_test)))"
   ]
  },
  {
   "cell_type": "markdown",
   "id": "ea16161f",
   "metadata": {},
   "source": [
    "### Some Overfit?"
   ]
  },
  {
   "cell_type": "code",
   "execution_count": 28,
   "id": "4080138d",
   "metadata": {},
   "outputs": [
    {
     "data": {
      "text/plain": [
       "{'bootstrap': True,\n",
       " 'ccp_alpha': 0.0,\n",
       " 'criterion': 'mse',\n",
       " 'max_depth': None,\n",
       " 'max_features': 10,\n",
       " 'max_leaf_nodes': None,\n",
       " 'max_samples': None,\n",
       " 'min_impurity_decrease': 0.0,\n",
       " 'min_impurity_split': None,\n",
       " 'min_samples_leaf': 1,\n",
       " 'min_samples_split': 2,\n",
       " 'min_weight_fraction_leaf': 0.0,\n",
       " 'n_estimators': 50,\n",
       " 'n_jobs': None,\n",
       " 'oob_score': False,\n",
       " 'random_state': 42,\n",
       " 'verbose': 0,\n",
       " 'warm_start': False}"
      ]
     },
     "execution_count": 28,
     "metadata": {},
     "output_type": "execute_result"
    }
   ],
   "source": [
    "forest.get_params()"
   ]
  },
  {
   "cell_type": "code",
   "execution_count": 29,
   "id": "97fef045",
   "metadata": {},
   "outputs": [],
   "source": [
    "from sklearn.model_selection import GridSearchCV"
   ]
  },
  {
   "cell_type": "code",
   "execution_count": 30,
   "id": "ab0e3be3",
   "metadata": {},
   "outputs": [
    {
     "name": "stdout",
     "output_type": "stream",
     "text": [
      "Wall time: 31.6 s\n"
     ]
    },
    {
     "data": {
      "text/plain": [
       "GridSearchCV(cv=4,\n",
       "             estimator=RandomForestRegressor(max_features=10, n_estimators=50,\n",
       "                                             random_state=42),\n",
       "             n_jobs=-1,\n",
       "             param_grid=[{'max_depth': array([ 6,  8, 10, 12, 14, 16, 18, 20, 22, 24, 26, 28, 30]),\n",
       "                          'max_features': array([ 8,  9, 10, 11, 12, 13, 14])}],\n",
       "             scoring='r2')"
      ]
     },
     "execution_count": 30,
     "metadata": {},
     "output_type": "execute_result"
    }
   ],
   "source": [
    "grid_para_forest = [{\n",
    "    \"max_features\":np.arange(8,15,1),\n",
    "    \"max_depth\": np.linspace(start=6, stop=30, num=13, dtype=int)}]\n",
    "gs_forest = GridSearchCV(forest, grid_para_forest, scoring='r2', cv=4, n_jobs=-1)\n",
    "%time gs_forest.fit(X_train, y_train)"
   ]
  },
  {
   "cell_type": "code",
   "execution_count": 31,
   "id": "5fbddf7c",
   "metadata": {},
   "outputs": [
    {
     "data": {
      "text/plain": [
       "{'max_depth': 20, 'max_features': 8}"
      ]
     },
     "execution_count": 31,
     "metadata": {},
     "output_type": "execute_result"
    }
   ],
   "source": [
    "gs_forest.best_params_"
   ]
  },
  {
   "cell_type": "code",
   "execution_count": 32,
   "id": "5c522d3c",
   "metadata": {},
   "outputs": [
    {
     "name": "stdout",
     "output_type": "stream",
     "text": [
      "The training r2: 0.98314\n",
      "The test     r2: 0.86689\n"
     ]
    }
   ],
   "source": [
    "print(\"The training r2: %.5f\" % (gs_forest.score(X_train, y_train)))\n",
    "print(\"The test     r2: %.5f\" % (gs_forest.score(X_test, y_test)))"
   ]
  },
  {
   "cell_type": "code",
   "execution_count": 33,
   "id": "f0f23edb",
   "metadata": {},
   "outputs": [
    {
     "data": {
      "text/html": [
       "<div>\n",
       "<style scoped>\n",
       "    .dataframe tbody tr th:only-of-type {\n",
       "        vertical-align: middle;\n",
       "    }\n",
       "\n",
       "    .dataframe tbody tr th {\n",
       "        vertical-align: top;\n",
       "    }\n",
       "\n",
       "    .dataframe thead th {\n",
       "        text-align: right;\n",
       "    }\n",
       "</style>\n",
       "<table border=\"1\" class=\"dataframe\">\n",
       "  <thead>\n",
       "    <tr style=\"text-align: right;\">\n",
       "      <th></th>\n",
       "      <th>Feat</th>\n",
       "      <th>Importance</th>\n",
       "    </tr>\n",
       "  </thead>\n",
       "  <tbody>\n",
       "    <tr>\n",
       "      <th>14</th>\n",
       "      <td>OverallQual</td>\n",
       "      <td>0.298260</td>\n",
       "    </tr>\n",
       "    <tr>\n",
       "      <th>1</th>\n",
       "      <td>GarageCars</td>\n",
       "      <td>0.095636</td>\n",
       "    </tr>\n",
       "    <tr>\n",
       "      <th>13</th>\n",
       "      <td>YearBuilt</td>\n",
       "      <td>0.095492</td>\n",
       "    </tr>\n",
       "    <tr>\n",
       "      <th>17</th>\n",
       "      <td>1stFlrSF</td>\n",
       "      <td>0.085871</td>\n",
       "    </tr>\n",
       "    <tr>\n",
       "      <th>6</th>\n",
       "      <td>TotalBsmtSF</td>\n",
       "      <td>0.081958</td>\n",
       "    </tr>\n",
       "    <tr>\n",
       "      <th>19</th>\n",
       "      <td>GarageArea</td>\n",
       "      <td>0.072357</td>\n",
       "    </tr>\n",
       "    <tr>\n",
       "      <th>8</th>\n",
       "      <td>AllBathAbv</td>\n",
       "      <td>0.058487</td>\n",
       "    </tr>\n",
       "    <tr>\n",
       "      <th>3</th>\n",
       "      <td>BsmtQual</td>\n",
       "      <td>0.044465</td>\n",
       "    </tr>\n",
       "    <tr>\n",
       "      <th>18</th>\n",
       "      <td>2ndFlrSF</td>\n",
       "      <td>0.034376</td>\n",
       "    </tr>\n",
       "    <tr>\n",
       "      <th>9</th>\n",
       "      <td>TotRmsAbvGrd</td>\n",
       "      <td>0.022409</td>\n",
       "    </tr>\n",
       "    <tr>\n",
       "      <th>10</th>\n",
       "      <td>Fireplaces</td>\n",
       "      <td>0.019634</td>\n",
       "    </tr>\n",
       "    <tr>\n",
       "      <th>20</th>\n",
       "      <td>PorchArea</td>\n",
       "      <td>0.018743</td>\n",
       "    </tr>\n",
       "    <tr>\n",
       "      <th>16</th>\n",
       "      <td>DfromWalmart</td>\n",
       "      <td>0.015338</td>\n",
       "    </tr>\n",
       "    <tr>\n",
       "      <th>15</th>\n",
       "      <td>LotFrontage</td>\n",
       "      <td>0.012444</td>\n",
       "    </tr>\n",
       "    <tr>\n",
       "      <th>2</th>\n",
       "      <td>GarageType</td>\n",
       "      <td>0.011262</td>\n",
       "    </tr>\n",
       "    <tr>\n",
       "      <th>12</th>\n",
       "      <td>Neighborhood</td>\n",
       "      <td>0.010531</td>\n",
       "    </tr>\n",
       "    <tr>\n",
       "      <th>7</th>\n",
       "      <td>AllBathBsmt</td>\n",
       "      <td>0.009350</td>\n",
       "    </tr>\n",
       "    <tr>\n",
       "      <th>0</th>\n",
       "      <td>MSSubClass</td>\n",
       "      <td>0.005143</td>\n",
       "    </tr>\n",
       "    <tr>\n",
       "      <th>11</th>\n",
       "      <td>HeatingQC</td>\n",
       "      <td>0.004192</td>\n",
       "    </tr>\n",
       "    <tr>\n",
       "      <th>4</th>\n",
       "      <td>Foundation</td>\n",
       "      <td>0.002396</td>\n",
       "    </tr>\n",
       "    <tr>\n",
       "      <th>5</th>\n",
       "      <td>PavedDrive</td>\n",
       "      <td>0.001658</td>\n",
       "    </tr>\n",
       "  </tbody>\n",
       "</table>\n",
       "</div>"
      ],
      "text/plain": [
       "            Feat  Importance\n",
       "14   OverallQual    0.298260\n",
       "1     GarageCars    0.095636\n",
       "13     YearBuilt    0.095492\n",
       "17      1stFlrSF    0.085871\n",
       "6    TotalBsmtSF    0.081958\n",
       "19    GarageArea    0.072357\n",
       "8     AllBathAbv    0.058487\n",
       "3       BsmtQual    0.044465\n",
       "18      2ndFlrSF    0.034376\n",
       "9   TotRmsAbvGrd    0.022409\n",
       "10    Fireplaces    0.019634\n",
       "20     PorchArea    0.018743\n",
       "16  DfromWalmart    0.015338\n",
       "15   LotFrontage    0.012444\n",
       "2     GarageType    0.011262\n",
       "12  Neighborhood    0.010531\n",
       "7    AllBathBsmt    0.009350\n",
       "0     MSSubClass    0.005143\n",
       "11     HeatingQC    0.004192\n",
       "4     Foundation    0.002396\n",
       "5     PavedDrive    0.001658"
      ]
     },
     "execution_count": 33,
     "metadata": {},
     "output_type": "execute_result"
    }
   ],
   "source": [
    "pd.DataFrame({'Feat':X_train.columns,'Importance':gs_forest.best_estimator_.feature_importances_}).\\\n",
    "sort_values(by='Importance', ascending=False)"
   ]
  },
  {
   "cell_type": "markdown",
   "id": "bb146ea4",
   "metadata": {},
   "source": [
    "## 🚀 Boosting"
   ]
  },
  {
   "cell_type": "code",
   "execution_count": 34,
   "id": "759c1a10",
   "metadata": {},
   "outputs": [],
   "source": [
    "from sklearn.ensemble import GradientBoostingRegressor"
   ]
  },
  {
   "cell_type": "code",
   "execution_count": 35,
   "id": "c37c8921",
   "metadata": {},
   "outputs": [
    {
     "data": {
      "text/plain": [
       "0.8560322306912452"
      ]
     },
     "execution_count": 35,
     "metadata": {},
     "output_type": "execute_result"
    }
   ],
   "source": [
    "gbm = GradientBoostingRegressor()\n",
    "gbm.fit(X_train, y_train)\n",
    "gbm.score(X_test, y_test)"
   ]
  },
  {
   "cell_type": "code",
   "execution_count": 36,
   "id": "96360da4",
   "metadata": {},
   "outputs": [
    {
     "data": {
      "text/plain": [
       "{'alpha': 0.9,\n",
       " 'ccp_alpha': 0.0,\n",
       " 'criterion': 'friedman_mse',\n",
       " 'init': None,\n",
       " 'learning_rate': 0.1,\n",
       " 'loss': 'ls',\n",
       " 'max_depth': 3,\n",
       " 'max_features': None,\n",
       " 'max_leaf_nodes': None,\n",
       " 'min_impurity_decrease': 0.0,\n",
       " 'min_impurity_split': None,\n",
       " 'min_samples_leaf': 1,\n",
       " 'min_samples_split': 2,\n",
       " 'min_weight_fraction_leaf': 0.0,\n",
       " 'n_estimators': 100,\n",
       " 'n_iter_no_change': None,\n",
       " 'random_state': None,\n",
       " 'subsample': 1.0,\n",
       " 'tol': 0.0001,\n",
       " 'validation_fraction': 0.1,\n",
       " 'verbose': 0,\n",
       " 'warm_start': False}"
      ]
     },
     "execution_count": 36,
     "metadata": {},
     "output_type": "execute_result"
    }
   ],
   "source": [
    "gbm.get_params()"
   ]
  },
  {
   "cell_type": "code",
   "execution_count": 37,
   "id": "48b3a7ab",
   "metadata": {},
   "outputs": [
    {
     "name": "stdout",
     "output_type": "stream",
     "text": [
      "Wall time: 1min 26s\n"
     ]
    },
    {
     "data": {
      "text/plain": [
       "GridSearchCV(cv=5, estimator=GradientBoostingRegressor(), n_jobs=-1,\n",
       "             param_grid=[{'learning_rate': [0.1, 0.25, 0.5, 1],\n",
       "                          'max_depth': array([ 6,  8, 10, 12, 14, 16, 18, 20, 22, 24, 26, 28, 30])}],\n",
       "             scoring='r2')"
      ]
     },
     "execution_count": 37,
     "metadata": {},
     "output_type": "execute_result"
    }
   ],
   "source": [
    "grid_para_boost = [{\n",
    "    \"learning_rate\":[0.1,0.25,0.5,1],\n",
    "    \"max_depth\": np.linspace(start=6, stop=30, num=13, dtype=int)}]\n",
    "gs_boost = GridSearchCV(gbm, grid_para_boost, scoring='r2', cv=5, n_jobs=-1)\n",
    "%time gs_boost.fit(X_train, y_train)"
   ]
  },
  {
   "cell_type": "code",
   "execution_count": 38,
   "id": "4ab12f9f",
   "metadata": {},
   "outputs": [
    {
     "data": {
      "text/plain": [
       "{'learning_rate': 0.1, 'max_depth': 6}"
      ]
     },
     "execution_count": 38,
     "metadata": {},
     "output_type": "execute_result"
    }
   ],
   "source": [
    "gs_boost.best_params_"
   ]
  },
  {
   "cell_type": "code",
   "execution_count": 39,
   "id": "0b0d10d2",
   "metadata": {},
   "outputs": [
    {
     "name": "stdout",
     "output_type": "stream",
     "text": [
      "The training r2: 0.99035\n",
      "The test     r2: 0.86980\n"
     ]
    }
   ],
   "source": [
    "print(\"The training r2: %.5f\" % (gs_boost.score(X_train, y_train)))\n",
    "print(\"The test     r2: %.5f\" % (gs_boost.score(X_test, y_test)))"
   ]
  },
  {
   "cell_type": "code",
   "execution_count": null,
   "id": "50de28b9",
   "metadata": {},
   "outputs": [],
   "source": []
  }
 ],
 "metadata": {
  "kernelspec": {
   "display_name": "Python 3",
   "language": "python",
   "name": "python3"
  },
  "language_info": {
   "codemirror_mode": {
    "name": "ipython",
    "version": 3
   },
   "file_extension": ".py",
   "mimetype": "text/x-python",
   "name": "python",
   "nbconvert_exporter": "python",
   "pygments_lexer": "ipython3",
   "version": "3.8.8"
  }
 },
 "nbformat": 4,
 "nbformat_minor": 5
}
