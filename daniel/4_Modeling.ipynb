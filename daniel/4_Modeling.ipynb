{
 "cells": [
  {
   "cell_type": "code",
   "execution_count": 1,
   "id": "818b52f5",
   "metadata": {},
   "outputs": [],
   "source": [
    "import pandas as pd\n",
    "import numpy as np\n",
    "\n",
    "import seaborn as sns\n",
    "import matplotlib.pyplot as plt\n",
    "%matplotlib inline \n",
    "\n",
    "from sklearn.linear_model import Lasso, Ridge, LinearRegression\n",
    "from sklearn.model_selection import train_test_split, cross_validate\n",
    "\n",
    "from statsmodels.stats.outliers_influence import variance_inflation_factor"
   ]
  },
  {
   "cell_type": "code",
   "execution_count": 29,
   "id": "bf84646e",
   "metadata": {
    "scrolled": true
   },
   "outputs": [
    {
     "data": {
      "text/plain": [
       "(2579, 25)"
      ]
     },
     "execution_count": 29,
     "metadata": {},
     "output_type": "execute_result"
    }
   ],
   "source": [
    "data = pd.read_csv('model_data.csv', index_col='PID')\n",
    "data.shape"
   ]
  },
  {
   "cell_type": "markdown",
   "id": "971faf8f",
   "metadata": {},
   "source": [
    "#### Independent Variable (y)"
   ]
  },
  {
   "cell_type": "code",
   "execution_count": 30,
   "id": "2b456e2f",
   "metadata": {},
   "outputs": [],
   "source": [
    "y = data.SalePrice.copy()\n",
    "data.drop('SalePrice', axis=1, inplace=True)"
   ]
  },
  {
   "cell_type": "markdown",
   "id": "ff56c337",
   "metadata": {},
   "source": [
    "#### Choose Dependents (Use Sector or Neighborhood) (Use ALLSF, or split columns)"
   ]
  },
  {
   "cell_type": "code",
   "execution_count": 31,
   "id": "9e47de64",
   "metadata": {
    "scrolled": true
   },
   "outputs": [
    {
     "data": {
      "text/plain": [
       "Index(['MSSubClass', 'GarageCars', 'GarageType', 'BsmtQual', 'Foundation',\n",
       "       'PavedDrive', 'TotalBsmtSF', 'AllBathBsmt', 'AllBathAbv',\n",
       "       'TotRmsAbvGrd', 'Fireplaces', 'HeatingQC', 'Neighborhood', 'Sector',\n",
       "       'YearBuilt', 'OverallQual', 'LotFrontage', 'DfromWalmart', '1stFlrSF',\n",
       "       '2ndFlrSF', 'GarageArea', 'PorchArea', 'ALLSF', 'HasPool'],\n",
       "      dtype='object')"
      ]
     },
     "execution_count": 31,
     "metadata": {},
     "output_type": "execute_result"
    }
   ],
   "source": [
    "data.columns"
   ]
  },
  {
   "cell_type": "markdown",
   "id": "5415f4c9",
   "metadata": {},
   "source": [
    "* Sectors & ALLSF"
   ]
  },
  {
   "cell_type": "code",
   "execution_count": 32,
   "id": "4726a9d1",
   "metadata": {},
   "outputs": [],
   "source": [
    "data_1 = data.drop(['Neighborhood','1stFlrSF', '2ndFlrSF', 'GarageArea', 'PorchArea', 'TotalBsmtSF'],axis=1)"
   ]
  },
  {
   "cell_type": "markdown",
   "id": "2632c2b7",
   "metadata": {},
   "source": [
    "* Sectors & Split SF"
   ]
  },
  {
   "cell_type": "code",
   "execution_count": 33,
   "id": "07c1cbb7",
   "metadata": {},
   "outputs": [],
   "source": [
    "data_2 = data.drop(['Neighborhood','ALLSF'],axis=1)"
   ]
  },
  {
   "cell_type": "markdown",
   "id": "31cd160b",
   "metadata": {},
   "source": [
    "* Neighborhood & ALLSF"
   ]
  },
  {
   "cell_type": "code",
   "execution_count": 34,
   "id": "616f2f88",
   "metadata": {},
   "outputs": [],
   "source": [
    "data_3 = data.drop(['Sector','1stFlrSF', '2ndFlrSF', 'GarageArea', 'PorchArea', 'TotalBsmtSF'],axis=1)"
   ]
  },
  {
   "cell_type": "markdown",
   "id": "cf4bf04f",
   "metadata": {},
   "source": [
    "* Neighborhood & Split SF"
   ]
  },
  {
   "cell_type": "code",
   "execution_count": 35,
   "id": "6cd39085",
   "metadata": {},
   "outputs": [],
   "source": [
    "data_4 = data.drop(['Sector','ALLSF'],axis=1)"
   ]
  },
  {
   "cell_type": "markdown",
   "id": "9a8e1028",
   "metadata": {},
   "source": [
    "## 📉 Multiple Regression 1"
   ]
  },
  {
   "cell_type": "markdown",
   "id": "e5b07170",
   "metadata": {},
   "source": [
    "#### Data_1"
   ]
  },
  {
   "cell_type": "code",
   "execution_count": 36,
   "id": "f4a33a7e",
   "metadata": {},
   "outputs": [
    {
     "data": {
      "text/plain": [
       "0.6441628927347836"
      ]
     },
     "execution_count": 36,
     "metadata": {},
     "output_type": "execute_result"
    }
   ],
   "source": [
    "lasso = Lasso(max_iter=10000)\n",
    "\n",
    "data_dum = pd.get_dummies(data_1, drop_first=True)\n",
    "scores = cross_validate(lasso, data_dum, np.log10(y), cv=4)\n",
    "np.mean(scores['test_score'])"
   ]
  },
  {
   "cell_type": "markdown",
   "id": "c27117ce",
   "metadata": {},
   "source": [
    "#### Data_2"
   ]
  },
  {
   "cell_type": "code",
   "execution_count": 37,
   "id": "25cc022d",
   "metadata": {},
   "outputs": [
    {
     "data": {
      "text/plain": [
       "0.6435204263023244"
      ]
     },
     "execution_count": 37,
     "metadata": {},
     "output_type": "execute_result"
    }
   ],
   "source": [
    "data_dum = pd.get_dummies(data_2, drop_first=True)\n",
    "scores = cross_validate(lasso, data_dum, np.log10(y), cv=4)\n",
    "np.mean(scores['test_score'])"
   ]
  },
  {
   "cell_type": "markdown",
   "id": "98b51a77",
   "metadata": {},
   "source": [
    "#### Data_3"
   ]
  },
  {
   "cell_type": "code",
   "execution_count": 38,
   "id": "4f7d725f",
   "metadata": {},
   "outputs": [
    {
     "data": {
      "text/plain": [
       "0.6441628927347836"
      ]
     },
     "execution_count": 38,
     "metadata": {},
     "output_type": "execute_result"
    }
   ],
   "source": [
    "data_dum = pd.get_dummies(data_3, drop_first=True)\n",
    "scores = cross_validate(lasso, data_dum, np.log10(y), cv=4)\n",
    "np.mean(scores['test_score'])"
   ]
  },
  {
   "cell_type": "markdown",
   "id": "7aaaf3cf",
   "metadata": {},
   "source": [
    "#### Data_4"
   ]
  },
  {
   "cell_type": "code",
   "execution_count": 39,
   "id": "631c4c4f",
   "metadata": {},
   "outputs": [
    {
     "data": {
      "text/plain": [
       "0.6435204263023244"
      ]
     },
     "execution_count": 39,
     "metadata": {},
     "output_type": "execute_result"
    }
   ],
   "source": [
    "data_dum = pd.get_dummies(data_4, drop_first=True)\n",
    "scores = cross_validate(lasso, data_dum, np.log10(y), cv=4)\n",
    "np.mean(scores['test_score'])"
   ]
  },
  {
   "cell_type": "code",
   "execution_count": 40,
   "id": "6290c4b8",
   "metadata": {},
   "outputs": [],
   "source": [
    "X_train, X_test, y_train, y_test = train_test_split(data_dum, y, test_size=0.3)"
   ]
  },
  {
   "cell_type": "code",
   "execution_count": 41,
   "id": "987bcafc",
   "metadata": {},
   "outputs": [
    {
     "data": {
      "text/plain": [
       "0.7096261637874854"
      ]
     },
     "execution_count": 41,
     "metadata": {},
     "output_type": "execute_result"
    }
   ],
   "source": [
    "lasso.fit(X_train,np.log10(y_train))\n",
    "lasso.score(X_test,np.log10(y_test))"
   ]
  },
  {
   "cell_type": "code",
   "execution_count": 42,
   "id": "beca7e09",
   "metadata": {},
   "outputs": [
    {
     "data": {
      "text/plain": [
       "{'alpha': 1.0,\n",
       " 'copy_X': True,\n",
       " 'fit_intercept': True,\n",
       " 'max_iter': 10000,\n",
       " 'normalize': True,\n",
       " 'positive': False,\n",
       " 'precompute': False,\n",
       " 'random_state': 44,\n",
       " 'selection': 'cyclic',\n",
       " 'tol': 0.0001,\n",
       " 'warm_start': False}"
      ]
     },
     "execution_count": 42,
     "metadata": {},
     "output_type": "execute_result"
    }
   ],
   "source": [
    "lasso.set_params(normalize=True, max_iter=10000, random_state=44)\n",
    "lasso.get_params()"
   ]
  },
  {
   "cell_type": "code",
   "execution_count": 43,
   "id": "334cfd5c",
   "metadata": {},
   "outputs": [
    {
     "name": "stderr",
     "output_type": "stream",
     "text": [
      "<ipython-input-43-02d8d1909f26>:9: UserWarning: With alpha=0, this algorithm does not converge well. You are advised to use the LinearRegression estimator\n",
      "  lasso.fit(X_train, np.log10(y_train))\n",
      "C:\\ProgramData\\Anaconda3\\lib\\site-packages\\sklearn\\linear_model\\_coordinate_descent.py:530: UserWarning: Coordinate descent with no regularization may lead to unexpected results and is discouraged.\n",
      "  model = cd_fast.enet_coordinate_descent(\n",
      "C:\\ProgramData\\Anaconda3\\lib\\site-packages\\sklearn\\linear_model\\_coordinate_descent.py:530: ConvergenceWarning: Objective did not converge. You might want to increase the number of iterations. Duality gap: 2.5686080415255788, tolerance: 0.005217255246779685\n",
      "  model = cd_fast.enet_coordinate_descent(\n"
     ]
    }
   ],
   "source": [
    "#try different alphas\n",
    "alphas = np.linspace(0,0.002,100)\n",
    "coefs_lasso = []\n",
    "R2_train = []\n",
    "R2_test = []\n",
    "\n",
    "for a in alphas:\n",
    "    lasso.set_params(alpha=a)\n",
    "    lasso.fit(X_train, np.log10(y_train))\n",
    "    coefs_lasso.append(lasso.coef_)\n",
    "    R2_train.append(lasso.score(X_train, np.log10(y_train)))\n",
    "    R2_test.append(lasso.score(X_test, np.log10(y_test)))"
   ]
  },
  {
   "cell_type": "code",
   "execution_count": 44,
   "id": "66ffd13b",
   "metadata": {},
   "outputs": [
    {
     "data": {
      "text/html": [
       "<div>\n",
       "<style scoped>\n",
       "    .dataframe tbody tr th:only-of-type {\n",
       "        vertical-align: middle;\n",
       "    }\n",
       "\n",
       "    .dataframe tbody tr th {\n",
       "        vertical-align: top;\n",
       "    }\n",
       "\n",
       "    .dataframe thead th {\n",
       "        text-align: right;\n",
       "    }\n",
       "</style>\n",
       "<table border=\"1\" class=\"dataframe\">\n",
       "  <thead>\n",
       "    <tr style=\"text-align: right;\">\n",
       "      <th></th>\n",
       "      <th>GarageCars</th>\n",
       "      <th>TotalBsmtSF</th>\n",
       "      <th>AllBathBsmt</th>\n",
       "      <th>AllBathAbv</th>\n",
       "      <th>TotRmsAbvGrd</th>\n",
       "      <th>Fireplaces</th>\n",
       "      <th>YearBuilt</th>\n",
       "      <th>OverallQual</th>\n",
       "      <th>LotFrontage</th>\n",
       "      <th>DfromWalmart</th>\n",
       "      <th>...</th>\n",
       "      <th>Neighborhood_NoRidge</th>\n",
       "      <th>Neighborhood_NridgHt</th>\n",
       "      <th>Neighborhood_OldTown</th>\n",
       "      <th>Neighborhood_SWISU</th>\n",
       "      <th>Neighborhood_Sawyer</th>\n",
       "      <th>Neighborhood_SawyerW</th>\n",
       "      <th>Neighborhood_Somerst</th>\n",
       "      <th>Neighborhood_StoneBr</th>\n",
       "      <th>Neighborhood_Timber</th>\n",
       "      <th>Neighborhood_Veenker</th>\n",
       "    </tr>\n",
       "  </thead>\n",
       "  <tbody>\n",
       "    <tr>\n",
       "      <th>0.00000</th>\n",
       "      <td>0.008961</td>\n",
       "      <td>0.000030</td>\n",
       "      <td>0.025961</td>\n",
       "      <td>0.005282</td>\n",
       "      <td>-0.000387</td>\n",
       "      <td>0.010623</td>\n",
       "      <td>0.000518</td>\n",
       "      <td>0.032788</td>\n",
       "      <td>0.000036</td>\n",
       "      <td>0.011035</td>\n",
       "      <td>...</td>\n",
       "      <td>0.017201</td>\n",
       "      <td>0.029955</td>\n",
       "      <td>0.007033</td>\n",
       "      <td>0.00573</td>\n",
       "      <td>-0.001052</td>\n",
       "      <td>-0.022407</td>\n",
       "      <td>0.034987</td>\n",
       "      <td>0.061272</td>\n",
       "      <td>0.029033</td>\n",
       "      <td>0.033128</td>\n",
       "    </tr>\n",
       "    <tr>\n",
       "      <th>0.00002</th>\n",
       "      <td>0.008716</td>\n",
       "      <td>0.000037</td>\n",
       "      <td>0.026400</td>\n",
       "      <td>0.004751</td>\n",
       "      <td>0.000000</td>\n",
       "      <td>0.011174</td>\n",
       "      <td>0.000707</td>\n",
       "      <td>0.035620</td>\n",
       "      <td>0.000034</td>\n",
       "      <td>0.004042</td>\n",
       "      <td>...</td>\n",
       "      <td>0.008366</td>\n",
       "      <td>0.026078</td>\n",
       "      <td>-0.005843</td>\n",
       "      <td>-0.00000</td>\n",
       "      <td>0.000000</td>\n",
       "      <td>-0.015395</td>\n",
       "      <td>0.021303</td>\n",
       "      <td>0.049034</td>\n",
       "      <td>0.013992</td>\n",
       "      <td>0.012252</td>\n",
       "    </tr>\n",
       "  </tbody>\n",
       "</table>\n",
       "<p>2 rows × 69 columns</p>\n",
       "</div>"
      ],
      "text/plain": [
       "         GarageCars  TotalBsmtSF  AllBathBsmt  AllBathAbv  TotRmsAbvGrd  \\\n",
       "0.00000    0.008961     0.000030     0.025961    0.005282     -0.000387   \n",
       "0.00002    0.008716     0.000037     0.026400    0.004751      0.000000   \n",
       "\n",
       "         Fireplaces  YearBuilt  OverallQual  LotFrontage  DfromWalmart  ...  \\\n",
       "0.00000    0.010623   0.000518     0.032788     0.000036      0.011035  ...   \n",
       "0.00002    0.011174   0.000707     0.035620     0.000034      0.004042  ...   \n",
       "\n",
       "         Neighborhood_NoRidge  Neighborhood_NridgHt  Neighborhood_OldTown  \\\n",
       "0.00000              0.017201              0.029955              0.007033   \n",
       "0.00002              0.008366              0.026078             -0.005843   \n",
       "\n",
       "         Neighborhood_SWISU  Neighborhood_Sawyer  Neighborhood_SawyerW  \\\n",
       "0.00000             0.00573            -0.001052             -0.022407   \n",
       "0.00002            -0.00000             0.000000             -0.015395   \n",
       "\n",
       "         Neighborhood_Somerst  Neighborhood_StoneBr  Neighborhood_Timber  \\\n",
       "0.00000              0.034987              0.061272             0.029033   \n",
       "0.00002              0.021303              0.049034             0.013992   \n",
       "\n",
       "         Neighborhood_Veenker  \n",
       "0.00000              0.033128  \n",
       "0.00002              0.012252  \n",
       "\n",
       "[2 rows x 69 columns]"
      ]
     },
     "execution_count": 44,
     "metadata": {},
     "output_type": "execute_result"
    }
   ],
   "source": [
    "coefs_lasso = pd.DataFrame(coefs_lasso, index = alphas, columns = X_train.columns)\n",
    "R2_lasso = pd.DataFrame({'train': R2_train,'test':R2_test}, index = alphas)\n",
    "coefs_lasso.head(2)"
   ]
  },
  {
   "cell_type": "code",
   "execution_count": 45,
   "id": "6094ad67",
   "metadata": {},
   "outputs": [
    {
     "data": {
      "text/plain": [
       "<matplotlib.legend.Legend at 0x1891b745df0>"
      ]
     },
     "execution_count": 45,
     "metadata": {},
     "output_type": "execute_result"
    },
    {
     "data": {
      "image/png": "[encoded data removed]",
      "text/plain": [
       "<Figure size 1008x432 with 2 Axes>"
      ]
     },
     "metadata": {
      "needs_background": "light"
     },
     "output_type": "display_data"
    }
   ],
   "source": [
    "fig, (ax1, ax2) = plt.subplots(1, 2, figsize=(14,6))\n",
    "fig.suptitle('Lasso Regression results')\n",
    "\n",
    "for feat in coefs_lasso.columns:\n",
    "    ax1.plot(coefs_lasso.index, 10**coefs_lasso[feat]) \n",
    "ax1.set_xlabel(r'hyperparameter $\\lambda$')\n",
    "ax1.set_ylabel(r'slope values')\n",
    "#ax1.legend(loc=1)\n",
    "for each in R2_lasso.columns:\n",
    "    ax2.plot(R2_lasso.index, R2_lasso[each], label=each)\n",
    "ax2.set_xlabel(r'hyperparameter $\\lambda$')\n",
    "ax2.legend(loc=1)"
   ]
  },
  {
   "cell_type": "code",
   "execution_count": 47,
   "id": "6d45c530",
   "metadata": {},
   "outputs": [],
   "source": [
    "vif = pd.DataFrame()\n",
    "vif['var'] = X_train.columns\n",
    "vif['VIF'] = [variance_inflation_factor(X_train.values, i) for i in range(X_train.shape[1])]"
   ]
  },
  {
   "cell_type": "code",
   "execution_count": 50,
   "id": "d64be07c",
   "metadata": {},
   "outputs": [
    {
     "data": {
      "text/html": [
       "<div>\n",
       "<style scoped>\n",
       "    .dataframe tbody tr th:only-of-type {\n",
       "        vertical-align: middle;\n",
       "    }\n",
       "\n",
       "    .dataframe tbody tr th {\n",
       "        vertical-align: top;\n",
       "    }\n",
       "\n",
       "    .dataframe thead th {\n",
       "        text-align: right;\n",
       "    }\n",
       "</style>\n",
       "<table border=\"1\" class=\"dataframe\">\n",
       "  <thead>\n",
       "    <tr style=\"text-align: right;\">\n",
       "      <th></th>\n",
       "      <th>var</th>\n",
       "      <th>VIF</th>\n",
       "    </tr>\n",
       "  </thead>\n",
       "  <tbody>\n",
       "    <tr>\n",
       "      <th>0</th>\n",
       "      <td>GarageCars</td>\n",
       "      <td>46.054543</td>\n",
       "    </tr>\n",
       "    <tr>\n",
       "      <th>1</th>\n",
       "      <td>TotalBsmtSF</td>\n",
       "      <td>42.320231</td>\n",
       "    </tr>\n",
       "    <tr>\n",
       "      <th>3</th>\n",
       "      <td>AllBathAbv</td>\n",
       "      <td>32.441048</td>\n",
       "    </tr>\n",
       "    <tr>\n",
       "      <th>4</th>\n",
       "      <td>TotRmsAbvGrd</td>\n",
       "      <td>69.582202</td>\n",
       "    </tr>\n",
       "    <tr>\n",
       "      <th>6</th>\n",
       "      <td>YearBuilt</td>\n",
       "      <td>654.128092</td>\n",
       "    </tr>\n",
       "    <tr>\n",
       "      <th>7</th>\n",
       "      <td>OverallQual</td>\n",
       "      <td>71.007338</td>\n",
       "    </tr>\n",
       "    <tr>\n",
       "      <th>9</th>\n",
       "      <td>DfromWalmart</td>\n",
       "      <td>128.670884</td>\n",
       "    </tr>\n",
       "    <tr>\n",
       "      <th>10</th>\n",
       "      <td>1stFlrSF</td>\n",
       "      <td>70.263678</td>\n",
       "    </tr>\n",
       "    <tr>\n",
       "      <th>11</th>\n",
       "      <td>2ndFlrSF</td>\n",
       "      <td>12.746078</td>\n",
       "    </tr>\n",
       "    <tr>\n",
       "      <th>12</th>\n",
       "      <td>GarageArea</td>\n",
       "      <td>34.632558</td>\n",
       "    </tr>\n",
       "    <tr>\n",
       "      <th>20</th>\n",
       "      <td>GarageType_Attchd</td>\n",
       "      <td>70.239750</td>\n",
       "    </tr>\n",
       "    <tr>\n",
       "      <th>24</th>\n",
       "      <td>GarageType_Detchd</td>\n",
       "      <td>32.339276</td>\n",
       "    </tr>\n",
       "    <tr>\n",
       "      <th>27</th>\n",
       "      <td>BsmtQual_Gd</td>\n",
       "      <td>10.425947</td>\n",
       "    </tr>\n",
       "    <tr>\n",
       "      <th>30</th>\n",
       "      <td>BsmtQual_TA</td>\n",
       "      <td>17.119400</td>\n",
       "    </tr>\n",
       "    <tr>\n",
       "      <th>32</th>\n",
       "      <td>Foundation_PConc</td>\n",
       "      <td>10.091006</td>\n",
       "    </tr>\n",
       "    <tr>\n",
       "      <th>37</th>\n",
       "      <td>PavedDrive_Y</td>\n",
       "      <td>21.072672</td>\n",
       "    </tr>\n",
       "    <tr>\n",
       "      <th>46</th>\n",
       "      <td>Neighborhood_CollgCr</td>\n",
       "      <td>12.213694</td>\n",
       "    </tr>\n",
       "    <tr>\n",
       "      <th>48</th>\n",
       "      <td>Neighborhood_Edwards</td>\n",
       "      <td>10.823219</td>\n",
       "    </tr>\n",
       "    <tr>\n",
       "      <th>56</th>\n",
       "      <td>Neighborhood_NAmes</td>\n",
       "      <td>32.752538</td>\n",
       "    </tr>\n",
       "    <tr>\n",
       "      <th>61</th>\n",
       "      <td>Neighborhood_OldTown</td>\n",
       "      <td>21.426638</td>\n",
       "    </tr>\n",
       "  </tbody>\n",
       "</table>\n",
       "</div>"
      ],
      "text/plain": [
       "                     var         VIF\n",
       "0             GarageCars   46.054543\n",
       "1            TotalBsmtSF   42.320231\n",
       "3             AllBathAbv   32.441048\n",
       "4           TotRmsAbvGrd   69.582202\n",
       "6              YearBuilt  654.128092\n",
       "7            OverallQual   71.007338\n",
       "9           DfromWalmart  128.670884\n",
       "10              1stFlrSF   70.263678\n",
       "11              2ndFlrSF   12.746078\n",
       "12            GarageArea   34.632558\n",
       "20     GarageType_Attchd   70.239750\n",
       "24     GarageType_Detchd   32.339276\n",
       "27           BsmtQual_Gd   10.425947\n",
       "30           BsmtQual_TA   17.119400\n",
       "32      Foundation_PConc   10.091006\n",
       "37          PavedDrive_Y   21.072672\n",
       "46  Neighborhood_CollgCr   12.213694\n",
       "48  Neighborhood_Edwards   10.823219\n",
       "56    Neighborhood_NAmes   32.752538\n",
       "61  Neighborhood_OldTown   21.426638"
      ]
     },
     "execution_count": 50,
     "metadata": {},
     "output_type": "execute_result"
    }
   ],
   "source": [
    "# VIFs over 10\n",
    "vif[vif.VIF>10]"
   ]
  },
  {
   "cell_type": "markdown",
   "id": "1a11f3ce",
   "metadata": {},
   "source": [
    "#### Check Corr Heatmap for Continuous Variables"
   ]
  },
  {
   "cell_type": "code",
   "execution_count": 52,
   "id": "8e02ac46",
   "metadata": {},
   "outputs": [
    {
     "data": {
      "text/plain": [
       "<AxesSubplot:>"
      ]
     },
     "execution_count": 52,
     "metadata": {},
     "output_type": "execute_result"
    },
    {
     "data": {
      "image/png": "[encoded data removed]",
      "text/plain": [
       "<Figure size 792x504 with 2 Axes>"
      ]
     },
     "metadata": {
      "needs_background": "light"
     },
     "output_type": "display_data"
    }
   ],
   "source": [
    "corr = data[['GarageCars','TotalBsmtSF','AllBathAbv','TotRmsAbvGrd','YearBuilt','OverallQual',\n",
    "            'DfromWalmart','1stFlrSF','2ndFlrSF','GarageArea']].corr()\n",
    "\n",
    "# Hide upper redundant heatmap\n",
    "mask = np.triu(np.ones_like(corr, dtype=bool))\n",
    "fig, ax = plt.subplots(figsize=(11, 7))\n",
    "sns.heatmap(corr, mask=mask, annot=True, cmap='mako_r')"
   ]
  },
  {
   "cell_type": "markdown",
   "id": "39bc4981",
   "metadata": {},
   "source": [
    "### DistancefromWalmart & YearBuilt high Correlation??"
   ]
  },
  {
   "cell_type": "code",
   "execution_count": 53,
   "id": "d6c6fab8",
   "metadata": {},
   "outputs": [
    {
     "data": {
      "text/plain": [
       "<AxesSubplot:xlabel='DfromWalmart', ylabel='YearBuilt'>"
      ]
     },
     "execution_count": 53,
     "metadata": {},
     "output_type": "execute_result"
    },
    {
     "data": {
      "image/png": "[encoded data removed]",
      "text/plain": [
       "<Figure size 432x288 with 1 Axes>"
      ]
     },
     "metadata": {
      "needs_background": "light"
     },
     "output_type": "display_data"
    }
   ],
   "source": [
    "sns.scatterplot(x='DfromWalmart',y='YearBuilt',data=data)"
   ]
  },
  {
   "cell_type": "code",
   "execution_count": 60,
   "id": "fbbeafec",
   "metadata": {},
   "outputs": [
    {
     "name": "stdout",
     "output_type": "stream",
     "text": [
      "0.2093795637271657\n",
      "0.35699696242540935\n"
     ]
    }
   ],
   "source": [
    "lm = LinearRegression()\n",
    "lm.fit(data[['DfromWalmart']],np.log10(y))\n",
    "print(lm.score(data[['DfromWalmart']],np.log10(y)))\n",
    "lm.fit(data[['YearBuilt']],np.log10(y))\n",
    "print(lm.score(data[['YearBuilt']],np.log10(y)))"
   ]
  },
  {
   "cell_type": "code",
   "execution_count": 62,
   "id": "817ecf0f",
   "metadata": {},
   "outputs": [],
   "source": [
    "# Drop Distance from Walmart\n",
    "data.drop('DfromWalmart',axis=1, inplace=True)"
   ]
  },
  {
   "cell_type": "markdown",
   "id": "4aaa9fb5",
   "metadata": {},
   "source": [
    "### AllBathAbv & TotalRmsAbv high Correlation\n",
    "* Subtract bathrooms from TotalRooms"
   ]
  },
  {
   "cell_type": "code",
   "execution_count": 65,
   "id": "914a1cc0",
   "metadata": {},
   "outputs": [],
   "source": [
    "data.TotRmsAbvGrd = np.floor(data.TotRmsAbvGrd - data.AllBathAbv)"
   ]
  },
  {
   "cell_type": "markdown",
   "id": "d4af3548",
   "metadata": {},
   "source": [
    "### GarageArea & GarageCars high Correlation"
   ]
  },
  {
   "cell_type": "code",
   "execution_count": 58,
   "id": "df5ac85b",
   "metadata": {},
   "outputs": [
    {
     "data": {
      "text/plain": [
       "0.41650204802415003"
      ]
     },
     "execution_count": 58,
     "metadata": {},
     "output_type": "execute_result"
    }
   ],
   "source": [
    "lm = LinearRegression()\n",
    "lm.fit(data[['GarageArea']],np.log10(y))\n",
    "lm.score(data[['GarageArea']],np.log10(y))"
   ]
  },
  {
   "cell_type": "code",
   "execution_count": 59,
   "id": "2a8e01aa",
   "metadata": {},
   "outputs": [
    {
     "data": {
      "text/plain": [
       "0.45677789237368716"
      ]
     },
     "execution_count": 59,
     "metadata": {},
     "output_type": "execute_result"
    }
   ],
   "source": [
    "lm = LinearRegression()\n",
    "lm.fit(data[['GarageCars']],np.log10(y))\n",
    "lm.score(data[['GarageCars']],np.log10(y))"
   ]
  },
  {
   "cell_type": "markdown",
   "id": "06a9b6e9",
   "metadata": {},
   "source": [
    "#### Try PCA to combine Features\n",
    "'GarageCars', 'GarageArea'<br>"
   ]
  },
  {
   "cell_type": "code",
   "execution_count": 97,
   "id": "b01ff5a7",
   "metadata": {},
   "outputs": [
    {
     "data": {
      "text/plain": [
       "array([1., 0.])"
      ]
     },
     "execution_count": 97,
     "metadata": {},
     "output_type": "execute_result"
    }
   ],
   "source": [
    "from sklearn.decomposition import PCA\n",
    "pca_data = data[['GarageCars','GarageArea']]\n",
    "\n",
    "pca = PCA()\n",
    "pca.fit(pca_data)\n",
    "np.round(pca.explained_variance_ratio_,5)"
   ]
  },
  {
   "cell_type": "code",
   "execution_count": 98,
   "id": "40cf62c7",
   "metadata": {},
   "outputs": [],
   "source": [
    "# Keep 1 PCA transformed GarageData\n",
    "new_data = data.drop(['GarageCars','GarageArea'],axis=1)\n",
    "pca.set_params(n_components=1)\n",
    "new_data = pd.concat([new_data.reset_index(),pd.DataFrame(pca.fit_transform(pca_data))],axis=1)\n",
    "new_data = new_data.rename(columns={0:'GaragePCA'}).set_index('PID')"
   ]
  },
  {
   "cell_type": "code",
   "execution_count": 99,
   "id": "e2b91659",
   "metadata": {},
   "outputs": [
    {
     "data": {
      "text/html": [
       "<div>\n",
       "<style scoped>\n",
       "    .dataframe tbody tr th:only-of-type {\n",
       "        vertical-align: middle;\n",
       "    }\n",
       "\n",
       "    .dataframe tbody tr th {\n",
       "        vertical-align: top;\n",
       "    }\n",
       "\n",
       "    .dataframe thead th {\n",
       "        text-align: right;\n",
       "    }\n",
       "</style>\n",
       "<table border=\"1\" class=\"dataframe\">\n",
       "  <thead>\n",
       "    <tr style=\"text-align: right;\">\n",
       "      <th></th>\n",
       "      <th>MSSubClass</th>\n",
       "      <th>GarageType</th>\n",
       "      <th>BsmtQual</th>\n",
       "      <th>Foundation</th>\n",
       "      <th>PavedDrive</th>\n",
       "      <th>TotalBsmtSF</th>\n",
       "      <th>AllBathBsmt</th>\n",
       "      <th>AllBathAbv</th>\n",
       "      <th>TotRmsAbvGrd</th>\n",
       "      <th>Fireplaces</th>\n",
       "      <th>...</th>\n",
       "      <th>Sector</th>\n",
       "      <th>YearBuilt</th>\n",
       "      <th>OverallQual</th>\n",
       "      <th>LotFrontage</th>\n",
       "      <th>1stFlrSF</th>\n",
       "      <th>2ndFlrSF</th>\n",
       "      <th>PorchArea</th>\n",
       "      <th>ALLSF</th>\n",
       "      <th>HasPool</th>\n",
       "      <th>GaragePCA</th>\n",
       "    </tr>\n",
       "    <tr>\n",
       "      <th>PID</th>\n",
       "      <th></th>\n",
       "      <th></th>\n",
       "      <th></th>\n",
       "      <th></th>\n",
       "      <th></th>\n",
       "      <th></th>\n",
       "      <th></th>\n",
       "      <th></th>\n",
       "      <th></th>\n",
       "      <th></th>\n",
       "      <th></th>\n",
       "      <th></th>\n",
       "      <th></th>\n",
       "      <th></th>\n",
       "      <th></th>\n",
       "      <th></th>\n",
       "      <th></th>\n",
       "      <th></th>\n",
       "      <th></th>\n",
       "      <th></th>\n",
       "      <th></th>\n",
       "    </tr>\n",
       "  </thead>\n",
       "  <tbody>\n",
       "    <tr>\n",
       "      <th>526301100</th>\n",
       "      <td>1Fl</td>\n",
       "      <td>Attchd</td>\n",
       "      <td>TA</td>\n",
       "      <td>CBlock</td>\n",
       "      <td>P</td>\n",
       "      <td>1080.0</td>\n",
       "      <td>1.0</td>\n",
       "      <td>1.0</td>\n",
       "      <td>6.0</td>\n",
       "      <td>2</td>\n",
       "      <td>...</td>\n",
       "      <td>NO</td>\n",
       "      <td>1960</td>\n",
       "      <td>6</td>\n",
       "      <td>141.0</td>\n",
       "      <td>1656</td>\n",
       "      <td>0</td>\n",
       "      <td>272</td>\n",
       "      <td>3536.0</td>\n",
       "      <td>0</td>\n",
       "      <td>61.316909</td>\n",
       "    </tr>\n",
       "    <tr>\n",
       "      <th>526302030</th>\n",
       "      <td>1Fl</td>\n",
       "      <td>Attchd</td>\n",
       "      <td>TA</td>\n",
       "      <td>CBlock</td>\n",
       "      <td>Y</td>\n",
       "      <td>1178.0</td>\n",
       "      <td>1.0</td>\n",
       "      <td>2.0</td>\n",
       "      <td>3.0</td>\n",
       "      <td>0</td>\n",
       "      <td>...</td>\n",
       "      <td>NO</td>\n",
       "      <td>1954</td>\n",
       "      <td>6</td>\n",
       "      <td>0.0</td>\n",
       "      <td>1293</td>\n",
       "      <td>0</td>\n",
       "      <td>280</td>\n",
       "      <td>3203.0</td>\n",
       "      <td>0</td>\n",
       "      <td>-14.682728</td>\n",
       "    </tr>\n",
       "    <tr>\n",
       "      <th>526302040</th>\n",
       "      <td>1Fl</td>\n",
       "      <td>Attchd</td>\n",
       "      <td>TA</td>\n",
       "      <td>CBlock</td>\n",
       "      <td>Y</td>\n",
       "      <td>1008.0</td>\n",
       "      <td>1.0</td>\n",
       "      <td>1.0</td>\n",
       "      <td>4.0</td>\n",
       "      <td>2</td>\n",
       "      <td>...</td>\n",
       "      <td>NO</td>\n",
       "      <td>1956</td>\n",
       "      <td>6</td>\n",
       "      <td>85.0</td>\n",
       "      <td>1024</td>\n",
       "      <td>0</td>\n",
       "      <td>280</td>\n",
       "      <td>2625.0</td>\n",
       "      <td>0</td>\n",
       "      <td>-153.685154</td>\n",
       "    </tr>\n",
       "    <tr>\n",
       "      <th>526302110</th>\n",
       "      <td>1Fl</td>\n",
       "      <td>Attchd</td>\n",
       "      <td>Fa</td>\n",
       "      <td>CBlock</td>\n",
       "      <td>Y</td>\n",
       "      <td>882.0</td>\n",
       "      <td>0.0</td>\n",
       "      <td>1.0</td>\n",
       "      <td>4.0</td>\n",
       "      <td>0</td>\n",
       "      <td>...</td>\n",
       "      <td>NO</td>\n",
       "      <td>1956</td>\n",
       "      <td>6</td>\n",
       "      <td>74.0</td>\n",
       "      <td>882</td>\n",
       "      <td>0</td>\n",
       "      <td>0</td>\n",
       "      <td>2266.0</td>\n",
       "      <td>0</td>\n",
       "      <td>35.313944</td>\n",
       "    </tr>\n",
       "    <tr>\n",
       "      <th>526302120</th>\n",
       "      <td>1Fl</td>\n",
       "      <td>Attchd</td>\n",
       "      <td>TA</td>\n",
       "      <td>CBlock</td>\n",
       "      <td>Y</td>\n",
       "      <td>1617.0</td>\n",
       "      <td>0.0</td>\n",
       "      <td>1.5</td>\n",
       "      <td>5.0</td>\n",
       "      <td>1</td>\n",
       "      <td>...</td>\n",
       "      <td>NO</td>\n",
       "      <td>1957</td>\n",
       "      <td>5</td>\n",
       "      <td>0.0</td>\n",
       "      <td>1797</td>\n",
       "      <td>0</td>\n",
       "      <td>0</td>\n",
       "      <td>4377.0</td>\n",
       "      <td>0</td>\n",
       "      <td>496.317923</td>\n",
       "    </tr>\n",
       "  </tbody>\n",
       "</table>\n",
       "<p>5 rows × 22 columns</p>\n",
       "</div>"
      ],
      "text/plain": [
       "          MSSubClass GarageType BsmtQual Foundation PavedDrive  TotalBsmtSF  \\\n",
       "PID                                                                           \n",
       "526301100        1Fl     Attchd       TA     CBlock          P       1080.0   \n",
       "526302030        1Fl     Attchd       TA     CBlock          Y       1178.0   \n",
       "526302040        1Fl     Attchd       TA     CBlock          Y       1008.0   \n",
       "526302110        1Fl     Attchd       Fa     CBlock          Y        882.0   \n",
       "526302120        1Fl     Attchd       TA     CBlock          Y       1617.0   \n",
       "\n",
       "           AllBathBsmt  AllBathAbv  TotRmsAbvGrd  Fireplaces  ... Sector  \\\n",
       "PID                                                           ...          \n",
       "526301100          1.0         1.0           6.0           2  ...     NO   \n",
       "526302030          1.0         2.0           3.0           0  ...     NO   \n",
       "526302040          1.0         1.0           4.0           2  ...     NO   \n",
       "526302110          0.0         1.0           4.0           0  ...     NO   \n",
       "526302120          0.0         1.5           5.0           1  ...     NO   \n",
       "\n",
       "          YearBuilt OverallQual  LotFrontage  1stFlrSF  2ndFlrSF  PorchArea  \\\n",
       "PID                                                                           \n",
       "526301100      1960           6        141.0      1656         0        272   \n",
       "526302030      1954           6          0.0      1293         0        280   \n",
       "526302040      1956           6         85.0      1024         0        280   \n",
       "526302110      1956           6         74.0       882         0          0   \n",
       "526302120      1957           5          0.0      1797         0          0   \n",
       "\n",
       "            ALLSF  HasPool   GaragePCA  \n",
       "PID                                     \n",
       "526301100  3536.0        0   61.316909  \n",
       "526302030  3203.0        0  -14.682728  \n",
       "526302040  2625.0        0 -153.685154  \n",
       "526302110  2266.0        0   35.313944  \n",
       "526302120  4377.0        0  496.317923  \n",
       "\n",
       "[5 rows x 22 columns]"
      ]
     },
     "execution_count": 99,
     "metadata": {},
     "output_type": "execute_result"
    }
   ],
   "source": [
    "new_data.head()"
   ]
  },
  {
   "cell_type": "markdown",
   "id": "edc58941",
   "metadata": {},
   "source": [
    "#### Try PCA to combine Features\n",
    "'TotalBsmtSF', '1stFlrSF', '2ndFlrSF'<br>"
   ]
  },
  {
   "cell_type": "code",
   "execution_count": 100,
   "id": "4e05b445",
   "metadata": {},
   "outputs": [
    {
     "data": {
      "text/plain": [
       "array([0.62116, 0.31151, 0.06733])"
      ]
     },
     "execution_count": 100,
     "metadata": {},
     "output_type": "execute_result"
    }
   ],
   "source": [
    "pca_data = data[['TotalBsmtSF', '1stFlrSF', '2ndFlrSF']]\n",
    "\n",
    "pca = PCA()\n",
    "pca.fit(pca_data)\n",
    "np.round(pca.explained_variance_ratio_,5)"
   ]
  },
  {
   "cell_type": "code",
   "execution_count": 101,
   "id": "a44c5544",
   "metadata": {},
   "outputs": [],
   "source": [
    "# Keep 2 PCA transformed GarageData\n",
    "new_data = new_data.drop(['TotalBsmtSF', '1stFlrSF', '2ndFlrSF'],axis=1)\n",
    "pca.set_params(n_components=2)\n",
    "new_data = pd.concat([new_data.reset_index(),pd.DataFrame(pca.fit_transform(pca_data))],axis=1)"
   ]
  },
  {
   "cell_type": "code",
   "execution_count": 103,
   "id": "d9622f14",
   "metadata": {},
   "outputs": [
    {
     "data": {
      "text/html": [
       "<div>\n",
       "<style scoped>\n",
       "    .dataframe tbody tr th:only-of-type {\n",
       "        vertical-align: middle;\n",
       "    }\n",
       "\n",
       "    .dataframe tbody tr th {\n",
       "        vertical-align: top;\n",
       "    }\n",
       "\n",
       "    .dataframe thead th {\n",
       "        text-align: right;\n",
       "    }\n",
       "</style>\n",
       "<table border=\"1\" class=\"dataframe\">\n",
       "  <thead>\n",
       "    <tr style=\"text-align: right;\">\n",
       "      <th></th>\n",
       "      <th>MSSubClass</th>\n",
       "      <th>GarageType</th>\n",
       "      <th>BsmtQual</th>\n",
       "      <th>Foundation</th>\n",
       "      <th>PavedDrive</th>\n",
       "      <th>AllBathBsmt</th>\n",
       "      <th>AllBathAbv</th>\n",
       "      <th>TotRmsAbvGrd</th>\n",
       "      <th>Fireplaces</th>\n",
       "      <th>HeatingQC</th>\n",
       "      <th>...</th>\n",
       "      <th>Sector</th>\n",
       "      <th>YearBuilt</th>\n",
       "      <th>OverallQual</th>\n",
       "      <th>LotFrontage</th>\n",
       "      <th>PorchArea</th>\n",
       "      <th>ALLSF</th>\n",
       "      <th>HasPool</th>\n",
       "      <th>GaragePCA</th>\n",
       "      <th>sizePCA_1</th>\n",
       "      <th>sizePCA_2</th>\n",
       "    </tr>\n",
       "    <tr>\n",
       "      <th>PID</th>\n",
       "      <th></th>\n",
       "      <th></th>\n",
       "      <th></th>\n",
       "      <th></th>\n",
       "      <th></th>\n",
       "      <th></th>\n",
       "      <th></th>\n",
       "      <th></th>\n",
       "      <th></th>\n",
       "      <th></th>\n",
       "      <th></th>\n",
       "      <th></th>\n",
       "      <th></th>\n",
       "      <th></th>\n",
       "      <th></th>\n",
       "      <th></th>\n",
       "      <th></th>\n",
       "      <th></th>\n",
       "      <th></th>\n",
       "      <th></th>\n",
       "      <th></th>\n",
       "    </tr>\n",
       "  </thead>\n",
       "  <tbody>\n",
       "    <tr>\n",
       "      <th>526301100</th>\n",
       "      <td>1Fl</td>\n",
       "      <td>Attchd</td>\n",
       "      <td>TA</td>\n",
       "      <td>CBlock</td>\n",
       "      <td>P</td>\n",
       "      <td>1.0</td>\n",
       "      <td>1.0</td>\n",
       "      <td>6.0</td>\n",
       "      <td>2</td>\n",
       "      <td>Fa</td>\n",
       "      <td>...</td>\n",
       "      <td>NO</td>\n",
       "      <td>1960</td>\n",
       "      <td>6</td>\n",
       "      <td>141.0</td>\n",
       "      <td>272</td>\n",
       "      <td>3536.0</td>\n",
       "      <td>0</td>\n",
       "      <td>61.316909</td>\n",
       "      <td>476.763304</td>\n",
       "      <td>-174.221194</td>\n",
       "    </tr>\n",
       "    <tr>\n",
       "      <th>526302030</th>\n",
       "      <td>1Fl</td>\n",
       "      <td>Attchd</td>\n",
       "      <td>TA</td>\n",
       "      <td>CBlock</td>\n",
       "      <td>Y</td>\n",
       "      <td>1.0</td>\n",
       "      <td>2.0</td>\n",
       "      <td>3.0</td>\n",
       "      <td>0</td>\n",
       "      <td>Gd</td>\n",
       "      <td>...</td>\n",
       "      <td>NO</td>\n",
       "      <td>1954</td>\n",
       "      <td>6</td>\n",
       "      <td>0.0</td>\n",
       "      <td>280</td>\n",
       "      <td>3203.0</td>\n",
       "      <td>0</td>\n",
       "      <td>-14.682728</td>\n",
       "      <td>323.326681</td>\n",
       "      <td>-225.369411</td>\n",
       "    </tr>\n",
       "    <tr>\n",
       "      <th>526302040</th>\n",
       "      <td>1Fl</td>\n",
       "      <td>Attchd</td>\n",
       "      <td>TA</td>\n",
       "      <td>CBlock</td>\n",
       "      <td>Y</td>\n",
       "      <td>1.0</td>\n",
       "      <td>1.0</td>\n",
       "      <td>4.0</td>\n",
       "      <td>2</td>\n",
       "      <td>TA</td>\n",
       "      <td>...</td>\n",
       "      <td>NO</td>\n",
       "      <td>1956</td>\n",
       "      <td>6</td>\n",
       "      <td>85.0</td>\n",
       "      <td>280</td>\n",
       "      <td>2625.0</td>\n",
       "      <td>0</td>\n",
       "      <td>-153.685154</td>\n",
       "      <td>43.888998</td>\n",
       "      <td>-344.908277</td>\n",
       "    </tr>\n",
       "    <tr>\n",
       "      <th>526302110</th>\n",
       "      <td>1Fl</td>\n",
       "      <td>Attchd</td>\n",
       "      <td>Fa</td>\n",
       "      <td>CBlock</td>\n",
       "      <td>Y</td>\n",
       "      <td>0.0</td>\n",
       "      <td>1.0</td>\n",
       "      <td>4.0</td>\n",
       "      <td>0</td>\n",
       "      <td>TA</td>\n",
       "      <td>...</td>\n",
       "      <td>NO</td>\n",
       "      <td>1956</td>\n",
       "      <td>6</td>\n",
       "      <td>74.0</td>\n",
       "      <td>0</td>\n",
       "      <td>2266.0</td>\n",
       "      <td>0</td>\n",
       "      <td>35.313944</td>\n",
       "      <td>-128.389987</td>\n",
       "      <td>-420.211117</td>\n",
       "    </tr>\n",
       "    <tr>\n",
       "      <th>526302120</th>\n",
       "      <td>1Fl</td>\n",
       "      <td>Attchd</td>\n",
       "      <td>TA</td>\n",
       "      <td>CBlock</td>\n",
       "      <td>Y</td>\n",
       "      <td>0.0</td>\n",
       "      <td>1.5</td>\n",
       "      <td>5.0</td>\n",
       "      <td>1</td>\n",
       "      <td>Fa</td>\n",
       "      <td>...</td>\n",
       "      <td>NO</td>\n",
       "      <td>1957</td>\n",
       "      <td>5</td>\n",
       "      <td>0.0</td>\n",
       "      <td>0</td>\n",
       "      <td>4377.0</td>\n",
       "      <td>0</td>\n",
       "      <td>496.317923</td>\n",
       "      <td>929.186689</td>\n",
       "      <td>39.139784</td>\n",
       "    </tr>\n",
       "  </tbody>\n",
       "</table>\n",
       "<p>5 rows × 21 columns</p>\n",
       "</div>"
      ],
      "text/plain": [
       "          MSSubClass GarageType BsmtQual Foundation PavedDrive  AllBathBsmt  \\\n",
       "PID                                                                           \n",
       "526301100        1Fl     Attchd       TA     CBlock          P          1.0   \n",
       "526302030        1Fl     Attchd       TA     CBlock          Y          1.0   \n",
       "526302040        1Fl     Attchd       TA     CBlock          Y          1.0   \n",
       "526302110        1Fl     Attchd       Fa     CBlock          Y          0.0   \n",
       "526302120        1Fl     Attchd       TA     CBlock          Y          0.0   \n",
       "\n",
       "           AllBathAbv  TotRmsAbvGrd  Fireplaces HeatingQC  ... Sector  \\\n",
       "PID                                                        ...          \n",
       "526301100         1.0           6.0           2        Fa  ...     NO   \n",
       "526302030         2.0           3.0           0        Gd  ...     NO   \n",
       "526302040         1.0           4.0           2        TA  ...     NO   \n",
       "526302110         1.0           4.0           0        TA  ...     NO   \n",
       "526302120         1.5           5.0           1        Fa  ...     NO   \n",
       "\n",
       "          YearBuilt  OverallQual  LotFrontage  PorchArea   ALLSF  HasPool  \\\n",
       "PID                                                                         \n",
       "526301100      1960            6        141.0        272  3536.0        0   \n",
       "526302030      1954            6          0.0        280  3203.0        0   \n",
       "526302040      1956            6         85.0        280  2625.0        0   \n",
       "526302110      1956            6         74.0          0  2266.0        0   \n",
       "526302120      1957            5          0.0          0  4377.0        0   \n",
       "\n",
       "            GaragePCA   sizePCA_1   sizePCA_2  \n",
       "PID                                            \n",
       "526301100   61.316909  476.763304 -174.221194  \n",
       "526302030  -14.682728  323.326681 -225.369411  \n",
       "526302040 -153.685154   43.888998 -344.908277  \n",
       "526302110   35.313944 -128.389987 -420.211117  \n",
       "526302120  496.317923  929.186689   39.139784  \n",
       "\n",
       "[5 rows x 21 columns]"
      ]
     },
     "execution_count": 103,
     "metadata": {},
     "output_type": "execute_result"
    }
   ],
   "source": [
    "new_data = new_data.rename(columns={0:'sizePCA_1',1:'sizePCA_2'}).set_index('PID')\n",
    "new_data.head()"
   ]
  },
  {
   "cell_type": "markdown",
   "id": "2e396b3b",
   "metadata": {},
   "source": [
    "## 📉 Multiple Regression 2"
   ]
  },
  {
   "cell_type": "code",
   "execution_count": 106,
   "id": "00f961ee",
   "metadata": {},
   "outputs": [],
   "source": [
    "data_final = new_data.drop(['Sector','ALLSF'],axis=1)"
   ]
  },
  {
   "cell_type": "code",
   "execution_count": 107,
   "id": "2d1a3983",
   "metadata": {},
   "outputs": [],
   "source": [
    "data_dum = pd.get_dummies(data_final, drop_first=True)\n",
    "X_train, X_test, y_train, y_test = train_test_split(data_dum, y, test_size=0.3)"
   ]
  },
  {
   "cell_type": "code",
   "execution_count": 108,
   "id": "f8845efd",
   "metadata": {},
   "outputs": [
    {
     "data": {
      "text/plain": [
       "{'alpha': 1.0,\n",
       " 'copy_X': True,\n",
       " 'fit_intercept': True,\n",
       " 'max_iter': 10000,\n",
       " 'normalize': True,\n",
       " 'positive': False,\n",
       " 'precompute': False,\n",
       " 'random_state': 44,\n",
       " 'selection': 'cyclic',\n",
       " 'tol': 0.0001,\n",
       " 'warm_start': False}"
      ]
     },
     "execution_count": 108,
     "metadata": {},
     "output_type": "execute_result"
    }
   ],
   "source": [
    "lasso = Lasso()\n",
    "lasso.set_params(normalize=True, max_iter=10000, random_state=44)\n",
    "lasso.get_params()"
   ]
  },
  {
   "cell_type": "code",
   "execution_count": 109,
   "id": "11954532",
   "metadata": {},
   "outputs": [
    {
     "name": "stderr",
     "output_type": "stream",
     "text": [
      "<ipython-input-109-02d8d1909f26>:9: UserWarning: With alpha=0, this algorithm does not converge well. You are advised to use the LinearRegression estimator\n",
      "  lasso.fit(X_train, np.log10(y_train))\n",
      "C:\\ProgramData\\Anaconda3\\lib\\site-packages\\sklearn\\linear_model\\_coordinate_descent.py:530: UserWarning: Coordinate descent with no regularization may lead to unexpected results and is discouraged.\n",
      "  model = cd_fast.enet_coordinate_descent(\n",
      "C:\\ProgramData\\Anaconda3\\lib\\site-packages\\sklearn\\linear_model\\_coordinate_descent.py:530: ConvergenceWarning: Objective did not converge. You might want to increase the number of iterations. Duality gap: 2.549313149117787, tolerance: 0.005215151102849098\n",
      "  model = cd_fast.enet_coordinate_descent(\n"
     ]
    }
   ],
   "source": [
    "#try different alphas\n",
    "alphas = np.linspace(0,0.002,100)\n",
    "coefs_lasso = []\n",
    "R2_train = []\n",
    "R2_test = []\n",
    "\n",
    "for a in alphas:\n",
    "    lasso.set_params(alpha=a)\n",
    "    lasso.fit(X_train, np.log10(y_train))\n",
    "    coefs_lasso.append(lasso.coef_)\n",
    "    R2_train.append(lasso.score(X_train, np.log10(y_train)))\n",
    "    R2_test.append(lasso.score(X_test, np.log10(y_test)))"
   ]
  },
  {
   "cell_type": "code",
   "execution_count": 110,
   "id": "9d2c5495",
   "metadata": {},
   "outputs": [
    {
     "data": {
      "text/html": [
       "<div>\n",
       "<style scoped>\n",
       "    .dataframe tbody tr th:only-of-type {\n",
       "        vertical-align: middle;\n",
       "    }\n",
       "\n",
       "    .dataframe tbody tr th {\n",
       "        vertical-align: top;\n",
       "    }\n",
       "\n",
       "    .dataframe thead th {\n",
       "        text-align: right;\n",
       "    }\n",
       "</style>\n",
       "<table border=\"1\" class=\"dataframe\">\n",
       "  <thead>\n",
       "    <tr style=\"text-align: right;\">\n",
       "      <th></th>\n",
       "      <th>AllBathBsmt</th>\n",
       "      <th>AllBathAbv</th>\n",
       "      <th>TotRmsAbvGrd</th>\n",
       "      <th>Fireplaces</th>\n",
       "      <th>YearBuilt</th>\n",
       "      <th>OverallQual</th>\n",
       "      <th>LotFrontage</th>\n",
       "      <th>PorchArea</th>\n",
       "      <th>HasPool</th>\n",
       "      <th>GaragePCA</th>\n",
       "      <th>...</th>\n",
       "      <th>Neighborhood_NoRidge</th>\n",
       "      <th>Neighborhood_NridgHt</th>\n",
       "      <th>Neighborhood_OldTown</th>\n",
       "      <th>Neighborhood_SWISU</th>\n",
       "      <th>Neighborhood_Sawyer</th>\n",
       "      <th>Neighborhood_SawyerW</th>\n",
       "      <th>Neighborhood_Somerst</th>\n",
       "      <th>Neighborhood_StoneBr</th>\n",
       "      <th>Neighborhood_Timber</th>\n",
       "      <th>Neighborhood_Veenker</th>\n",
       "    </tr>\n",
       "  </thead>\n",
       "  <tbody>\n",
       "    <tr>\n",
       "      <th>0.00000</th>\n",
       "      <td>0.028563</td>\n",
       "      <td>0.012187</td>\n",
       "      <td>0.001382</td>\n",
       "      <td>0.015563</td>\n",
       "      <td>0.000315</td>\n",
       "      <td>0.034893</td>\n",
       "      <td>0.000051</td>\n",
       "      <td>0.000045</td>\n",
       "      <td>0.015743</td>\n",
       "      <td>0.000056</td>\n",
       "      <td>...</td>\n",
       "      <td>0.015319</td>\n",
       "      <td>0.021445</td>\n",
       "      <td>-0.024470</td>\n",
       "      <td>-0.025862</td>\n",
       "      <td>-0.001009</td>\n",
       "      <td>-0.021130</td>\n",
       "      <td>0.022396</td>\n",
       "      <td>0.040950</td>\n",
       "      <td>0.018995</td>\n",
       "      <td>0.016199</td>\n",
       "    </tr>\n",
       "    <tr>\n",
       "      <th>0.00002</th>\n",
       "      <td>0.027973</td>\n",
       "      <td>0.010807</td>\n",
       "      <td>0.001389</td>\n",
       "      <td>0.016558</td>\n",
       "      <td>0.000542</td>\n",
       "      <td>0.037149</td>\n",
       "      <td>0.000051</td>\n",
       "      <td>0.000046</td>\n",
       "      <td>0.002884</td>\n",
       "      <td>0.000066</td>\n",
       "      <td>...</td>\n",
       "      <td>0.011399</td>\n",
       "      <td>0.018386</td>\n",
       "      <td>-0.010781</td>\n",
       "      <td>-0.008641</td>\n",
       "      <td>0.004558</td>\n",
       "      <td>-0.014227</td>\n",
       "      <td>0.017444</td>\n",
       "      <td>0.034491</td>\n",
       "      <td>0.017384</td>\n",
       "      <td>0.008951</td>\n",
       "    </tr>\n",
       "  </tbody>\n",
       "</table>\n",
       "<p>2 rows × 66 columns</p>\n",
       "</div>"
      ],
      "text/plain": [
       "         AllBathBsmt  AllBathAbv  TotRmsAbvGrd  Fireplaces  YearBuilt  \\\n",
       "0.00000     0.028563    0.012187      0.001382    0.015563   0.000315   \n",
       "0.00002     0.027973    0.010807      0.001389    0.016558   0.000542   \n",
       "\n",
       "         OverallQual  LotFrontage  PorchArea   HasPool  GaragePCA  ...  \\\n",
       "0.00000     0.034893     0.000051   0.000045  0.015743   0.000056  ...   \n",
       "0.00002     0.037149     0.000051   0.000046  0.002884   0.000066  ...   \n",
       "\n",
       "         Neighborhood_NoRidge  Neighborhood_NridgHt  Neighborhood_OldTown  \\\n",
       "0.00000              0.015319              0.021445             -0.024470   \n",
       "0.00002              0.011399              0.018386             -0.010781   \n",
       "\n",
       "         Neighborhood_SWISU  Neighborhood_Sawyer  Neighborhood_SawyerW  \\\n",
       "0.00000           -0.025862            -0.001009             -0.021130   \n",
       "0.00002           -0.008641             0.004558             -0.014227   \n",
       "\n",
       "         Neighborhood_Somerst  Neighborhood_StoneBr  Neighborhood_Timber  \\\n",
       "0.00000              0.022396              0.040950             0.018995   \n",
       "0.00002              0.017444              0.034491             0.017384   \n",
       "\n",
       "         Neighborhood_Veenker  \n",
       "0.00000              0.016199  \n",
       "0.00002              0.008951  \n",
       "\n",
       "[2 rows x 66 columns]"
      ]
     },
     "execution_count": 110,
     "metadata": {},
     "output_type": "execute_result"
    }
   ],
   "source": [
    "coefs_lasso = pd.DataFrame(coefs_lasso, index = alphas, columns = X_train.columns)\n",
    "R2_lasso = pd.DataFrame({'train': R2_train,'test':R2_test}, index = alphas)\n",
    "coefs_lasso.head(2)"
   ]
  },
  {
   "cell_type": "code",
   "execution_count": 111,
   "id": "6ca3cdc8",
   "metadata": {},
   "outputs": [
    {
     "data": {
      "text/plain": [
       "<matplotlib.legend.Legend at 0x1891b481760>"
      ]
     },
     "execution_count": 111,
     "metadata": {},
     "output_type": "execute_result"
    },
    {
     "data": {
      "image/png": "[encoded data removed]",
      "text/plain": [
       "<Figure size 1008x432 with 2 Axes>"
      ]
     },
     "metadata": {
      "needs_background": "light"
     },
     "output_type": "display_data"
    }
   ],
   "source": [
    "fig, (ax1, ax2) = plt.subplots(1, 2, figsize=(14,6))\n",
    "fig.suptitle('Lasso Regression results')\n",
    "\n",
    "for feat in coefs_lasso.columns:\n",
    "    ax1.plot(coefs_lasso.index, 10**coefs_lasso[feat]) \n",
    "ax1.set_xlabel(r'hyperparameter $\\lambda$')\n",
    "ax1.set_ylabel(r'slope values')\n",
    "#ax1.legend(loc=1)\n",
    "for each in R2_lasso.columns:\n",
    "    ax2.plot(R2_lasso.index, R2_lasso[each], label=each)\n",
    "ax2.set_xlabel(r'hyperparameter $\\lambda$')\n",
    "ax2.legend(loc=1)"
   ]
  },
  {
   "cell_type": "code",
   "execution_count": 114,
   "id": "176bd88f",
   "metadata": {},
   "outputs": [
    {
     "name": "stderr",
     "output_type": "stream",
     "text": [
      "C:\\ProgramData\\Anaconda3\\lib\\site-packages\\statsmodels\\regression\\linear_model.py:1717: RuntimeWarning: invalid value encountered in double_scalars\n",
      "  return 1 - self.ssr/self.uncentered_tss\n"
     ]
    },
    {
     "data": {
      "text/html": [
       "<div>\n",
       "<style scoped>\n",
       "    .dataframe tbody tr th:only-of-type {\n",
       "        vertical-align: middle;\n",
       "    }\n",
       "\n",
       "    .dataframe tbody tr th {\n",
       "        vertical-align: top;\n",
       "    }\n",
       "\n",
       "    .dataframe thead th {\n",
       "        text-align: right;\n",
       "    }\n",
       "</style>\n",
       "<table border=\"1\" class=\"dataframe\">\n",
       "  <thead>\n",
       "    <tr style=\"text-align: right;\">\n",
       "      <th></th>\n",
       "      <th>var</th>\n",
       "      <th>VIF</th>\n",
       "    </tr>\n",
       "  </thead>\n",
       "  <tbody>\n",
       "    <tr>\n",
       "      <th>1</th>\n",
       "      <td>AllBathAbv</td>\n",
       "      <td>35.229122</td>\n",
       "    </tr>\n",
       "    <tr>\n",
       "      <th>2</th>\n",
       "      <td>TotRmsAbvGrd</td>\n",
       "      <td>29.444179</td>\n",
       "    </tr>\n",
       "    <tr>\n",
       "      <th>4</th>\n",
       "      <td>YearBuilt</td>\n",
       "      <td>560.763313</td>\n",
       "    </tr>\n",
       "    <tr>\n",
       "      <th>5</th>\n",
       "      <td>OverallQual</td>\n",
       "      <td>71.089521</td>\n",
       "    </tr>\n",
       "    <tr>\n",
       "      <th>17</th>\n",
       "      <td>GarageType_Attchd</td>\n",
       "      <td>110.752833</td>\n",
       "    </tr>\n",
       "    <tr>\n",
       "      <th>19</th>\n",
       "      <td>GarageType_BuiltIn</td>\n",
       "      <td>12.288252</td>\n",
       "    </tr>\n",
       "    <tr>\n",
       "      <th>21</th>\n",
       "      <td>GarageType_Detchd</td>\n",
       "      <td>48.967629</td>\n",
       "    </tr>\n",
       "    <tr>\n",
       "      <th>22</th>\n",
       "      <td>GarageType_NoGarage</td>\n",
       "      <td>11.358207</td>\n",
       "    </tr>\n",
       "    <tr>\n",
       "      <th>27</th>\n",
       "      <td>BsmtQual_TA</td>\n",
       "      <td>15.672617</td>\n",
       "    </tr>\n",
       "    <tr>\n",
       "      <th>29</th>\n",
       "      <td>Foundation_PConc</td>\n",
       "      <td>10.287236</td>\n",
       "    </tr>\n",
       "    <tr>\n",
       "      <th>34</th>\n",
       "      <td>PavedDrive_Y</td>\n",
       "      <td>21.193223</td>\n",
       "    </tr>\n",
       "    <tr>\n",
       "      <th>43</th>\n",
       "      <td>Neighborhood_CollgCr</td>\n",
       "      <td>13.079960</td>\n",
       "    </tr>\n",
       "    <tr>\n",
       "      <th>53</th>\n",
       "      <td>Neighborhood_NAmes</td>\n",
       "      <td>22.363436</td>\n",
       "    </tr>\n",
       "    <tr>\n",
       "      <th>58</th>\n",
       "      <td>Neighborhood_OldTown</td>\n",
       "      <td>12.595943</td>\n",
       "    </tr>\n",
       "  </tbody>\n",
       "</table>\n",
       "</div>"
      ],
      "text/plain": [
       "                     var         VIF\n",
       "1             AllBathAbv   35.229122\n",
       "2           TotRmsAbvGrd   29.444179\n",
       "4              YearBuilt  560.763313\n",
       "5            OverallQual   71.089521\n",
       "17     GarageType_Attchd  110.752833\n",
       "19    GarageType_BuiltIn   12.288252\n",
       "21     GarageType_Detchd   48.967629\n",
       "22   GarageType_NoGarage   11.358207\n",
       "27           BsmtQual_TA   15.672617\n",
       "29      Foundation_PConc   10.287236\n",
       "34          PavedDrive_Y   21.193223\n",
       "43  Neighborhood_CollgCr   13.079960\n",
       "53    Neighborhood_NAmes   22.363436\n",
       "58  Neighborhood_OldTown   12.595943"
      ]
     },
     "execution_count": 114,
     "metadata": {},
     "output_type": "execute_result"
    }
   ],
   "source": [
    "vif = pd.DataFrame()\n",
    "vif['var'] = X_train.columns\n",
    "vif['VIF'] = [variance_inflation_factor(X_train.values, i) for i in range(X_train.shape[1])]\n",
    "# VIFs over 10\n",
    "vif[vif.VIF>10]"
   ]
  },
  {
   "cell_type": "code",
   "execution_count": null,
   "id": "ca9dd707",
   "metadata": {},
   "outputs": [],
   "source": []
  },
  {
   "cell_type": "markdown",
   "id": "37fe72be",
   "metadata": {},
   "source": [
    "## 🌲 Prepare for RandomForest"
   ]
  },
  {
   "cell_type": "code",
   "execution_count": 23,
   "id": "6b24199a",
   "metadata": {},
   "outputs": [],
   "source": [
    "from sklearn import ensemble\n",
    "from sklearn.preprocessing import LabelEncoder"
   ]
  },
  {
   "cell_type": "code",
   "execution_count": 24,
   "id": "c182e923",
   "metadata": {},
   "outputs": [
    {
     "data": {
      "text/plain": [
       "Index(['MSSubClass', 'GarageCars', 'GarageType', 'BsmtQual', 'Foundation',\n",
       "       'PavedDrive', 'TotalBsmtSF', 'AllBathBsmt', 'AllBathAbv',\n",
       "       'TotRmsAbvGrd', 'Fireplaces', 'HeatingQC', 'Neighborhood', 'YearBuilt',\n",
       "       'OverallQual', 'LotFrontage', 'DfromWalmart', '1stFlrSF', '2ndFlrSF',\n",
       "       'GarageArea', 'PorchArea'],\n",
       "      dtype='object')"
      ]
     },
     "execution_count": 24,
     "metadata": {},
     "output_type": "execute_result"
    }
   ],
   "source": [
    "data_le = data_4.copy()\n",
    "data_le.columns"
   ]
  },
  {
   "cell_type": "code",
   "execution_count": 25,
   "id": "5e1d217e",
   "metadata": {},
   "outputs": [],
   "source": [
    "# Use LabelEncoder on Categorical features\n",
    "le = LabelEncoder()\n",
    "data_le.MSSubClass = le.fit_transform(data.MSSubClass)\n",
    "data_le.GarageType = le.fit_transform(data.GarageType)\n",
    "data_le.Foundation = le.fit_transform(data.Foundation)\n",
    "data_le.PavedDrive = le.fit_transform(data.PavedDrive)\n",
    "data_le.Neighborhood = le.fit_transform(data.Neighborhood)\n",
    "# Manually Encode Ordinal features\n",
    "data_le.BsmtQual = data_le.BsmtQual.replace({'Po':1,'Fa':2,'TA':3,'Gd':4,'Ex':5,np.NaN:0})\n",
    "data_le.HeatingQC = data_le.HeatingQC.replace({'Po':1,'Fa':2,'TA':3,'Gd':4,'Ex':5})"
   ]
  },
  {
   "cell_type": "code",
   "execution_count": 26,
   "id": "bce0d88c",
   "metadata": {},
   "outputs": [],
   "source": [
    "X_train, X_test, y_train, y_test = train_test_split(data_le, y, test_size=0.25)"
   ]
  },
  {
   "cell_type": "code",
   "execution_count": 27,
   "id": "07259085",
   "metadata": {},
   "outputs": [
    {
     "name": "stdout",
     "output_type": "stream",
     "text": [
      "The training r2: 0.98374\n",
      "The test     r2: 0.85969\n"
     ]
    }
   ],
   "source": [
    "forest = ensemble.RandomForestRegressor()\n",
    "forest.set_params(n_estimators=50, random_state=42, max_features=10)\n",
    "forest.fit(X_train, y_train)\n",
    "print(\"The training r2: %.5f\" %(forest.score(X_train, y_train)))\n",
    "print(\"The test     r2: %.5f\" %(forest.score(X_test, y_test)))"
   ]
  },
  {
   "cell_type": "markdown",
   "id": "ea16161f",
   "metadata": {},
   "source": [
    "### Some Overfit?"
   ]
  },
  {
   "cell_type": "code",
   "execution_count": 28,
   "id": "4080138d",
   "metadata": {},
   "outputs": [
    {
     "data": {
      "text/plain": [
       "{'bootstrap': True,\n",
       " 'ccp_alpha': 0.0,\n",
       " 'criterion': 'mse',\n",
       " 'max_depth': None,\n",
       " 'max_features': 10,\n",
       " 'max_leaf_nodes': None,\n",
       " 'max_samples': None,\n",
       " 'min_impurity_decrease': 0.0,\n",
       " 'min_impurity_split': None,\n",
       " 'min_samples_leaf': 1,\n",
       " 'min_samples_split': 2,\n",
       " 'min_weight_fraction_leaf': 0.0,\n",
       " 'n_estimators': 50,\n",
       " 'n_jobs': None,\n",
       " 'oob_score': False,\n",
       " 'random_state': 42,\n",
       " 'verbose': 0,\n",
       " 'warm_start': False}"
      ]
     },
     "execution_count": 28,
     "metadata": {},
     "output_type": "execute_result"
    }
   ],
   "source": [
    "forest.get_params()"
   ]
  },
  {
   "cell_type": "code",
   "execution_count": 29,
   "id": "97fef045",
   "metadata": {},
   "outputs": [],
   "source": [
    "from sklearn.model_selection import GridSearchCV"
   ]
  },
  {
   "cell_type": "code",
   "execution_count": 30,
   "id": "ab0e3be3",
   "metadata": {},
   "outputs": [
    {
     "name": "stdout",
     "output_type": "stream",
     "text": [
      "Wall time: 31.6 s\n"
     ]
    },
    {
     "data": {
      "text/plain": [
       "GridSearchCV(cv=4,\n",
       "             estimator=RandomForestRegressor(max_features=10, n_estimators=50,\n",
       "                                             random_state=42),\n",
       "             n_jobs=-1,\n",
       "             param_grid=[{'max_depth': array([ 6,  8, 10, 12, 14, 16, 18, 20, 22, 24, 26, 28, 30]),\n",
       "                          'max_features': array([ 8,  9, 10, 11, 12, 13, 14])}],\n",
       "             scoring='r2')"
      ]
     },
     "execution_count": 30,
     "metadata": {},
     "output_type": "execute_result"
    }
   ],
   "source": [
    "grid_para_forest = [{\n",
    "    \"max_features\":np.arange(8,15,1),\n",
    "    \"max_depth\": np.linspace(start=6, stop=30, num=13, dtype=int)}]\n",
    "gs_forest = GridSearchCV(forest, grid_para_forest, scoring='r2', cv=4, n_jobs=-1)\n",
    "%time gs_forest.fit(X_train, y_train)"
   ]
  },
  {
   "cell_type": "code",
   "execution_count": 31,
   "id": "5fbddf7c",
   "metadata": {},
   "outputs": [
    {
     "data": {
      "text/plain": [
       "{'max_depth': 20, 'max_features': 8}"
      ]
     },
     "execution_count": 31,
     "metadata": {},
     "output_type": "execute_result"
    }
   ],
   "source": [
    "gs_forest.best_params_"
   ]
  },
  {
   "cell_type": "code",
   "execution_count": 32,
   "id": "5c522d3c",
   "metadata": {},
   "outputs": [
    {
     "name": "stdout",
     "output_type": "stream",
     "text": [
      "The training r2: 0.98314\n",
      "The test     r2: 0.86689\n"
     ]
    }
   ],
   "source": [
    "print(\"The training r2: %.5f\" % (gs_forest.score(X_train, y_train)))\n",
    "print(\"The test     r2: %.5f\" % (gs_forest.score(X_test, y_test)))"
   ]
  },
  {
   "cell_type": "code",
   "execution_count": 33,
   "id": "f0f23edb",
   "metadata": {},
   "outputs": [
    {
     "data": {
      "text/html": [
       "<div>\n",
       "<style scoped>\n",
       "    .dataframe tbody tr th:only-of-type {\n",
       "        vertical-align: middle;\n",
       "    }\n",
       "\n",
       "    .dataframe tbody tr th {\n",
       "        vertical-align: top;\n",
       "    }\n",
       "\n",
       "    .dataframe thead th {\n",
       "        text-align: right;\n",
       "    }\n",
       "</style>\n",
       "<table border=\"1\" class=\"dataframe\">\n",
       "  <thead>\n",
       "    <tr style=\"text-align: right;\">\n",
       "      <th></th>\n",
       "      <th>Feat</th>\n",
       "      <th>Importance</th>\n",
       "    </tr>\n",
       "  </thead>\n",
       "  <tbody>\n",
       "    <tr>\n",
       "      <th>14</th>\n",
       "      <td>OverallQual</td>\n",
       "      <td>0.298260</td>\n",
       "    </tr>\n",
       "    <tr>\n",
       "      <th>1</th>\n",
       "      <td>GarageCars</td>\n",
       "      <td>0.095636</td>\n",
       "    </tr>\n",
       "    <tr>\n",
       "      <th>13</th>\n",
       "      <td>YearBuilt</td>\n",
       "      <td>0.095492</td>\n",
       "    </tr>\n",
       "    <tr>\n",
       "      <th>17</th>\n",
       "      <td>1stFlrSF</td>\n",
       "      <td>0.085871</td>\n",
       "    </tr>\n",
       "    <tr>\n",
       "      <th>6</th>\n",
       "      <td>TotalBsmtSF</td>\n",
       "      <td>0.081958</td>\n",
       "    </tr>\n",
       "    <tr>\n",
       "      <th>19</th>\n",
       "      <td>GarageArea</td>\n",
       "      <td>0.072357</td>\n",
       "    </tr>\n",
       "    <tr>\n",
       "      <th>8</th>\n",
       "      <td>AllBathAbv</td>\n",
       "      <td>0.058487</td>\n",
       "    </tr>\n",
       "    <tr>\n",
       "      <th>3</th>\n",
       "      <td>BsmtQual</td>\n",
       "      <td>0.044465</td>\n",
       "    </tr>\n",
       "    <tr>\n",
       "      <th>18</th>\n",
       "      <td>2ndFlrSF</td>\n",
       "      <td>0.034376</td>\n",
       "    </tr>\n",
       "    <tr>\n",
       "      <th>9</th>\n",
       "      <td>TotRmsAbvGrd</td>\n",
       "      <td>0.022409</td>\n",
       "    </tr>\n",
       "    <tr>\n",
       "      <th>10</th>\n",
       "      <td>Fireplaces</td>\n",
       "      <td>0.019634</td>\n",
       "    </tr>\n",
       "    <tr>\n",
       "      <th>20</th>\n",
       "      <td>PorchArea</td>\n",
       "      <td>0.018743</td>\n",
       "    </tr>\n",
       "    <tr>\n",
       "      <th>16</th>\n",
       "      <td>DfromWalmart</td>\n",
       "      <td>0.015338</td>\n",
       "    </tr>\n",
       "    <tr>\n",
       "      <th>15</th>\n",
       "      <td>LotFrontage</td>\n",
       "      <td>0.012444</td>\n",
       "    </tr>\n",
       "    <tr>\n",
       "      <th>2</th>\n",
       "      <td>GarageType</td>\n",
       "      <td>0.011262</td>\n",
       "    </tr>\n",
       "    <tr>\n",
       "      <th>12</th>\n",
       "      <td>Neighborhood</td>\n",
       "      <td>0.010531</td>\n",
       "    </tr>\n",
       "    <tr>\n",
       "      <th>7</th>\n",
       "      <td>AllBathBsmt</td>\n",
       "      <td>0.009350</td>\n",
       "    </tr>\n",
       "    <tr>\n",
       "      <th>0</th>\n",
       "      <td>MSSubClass</td>\n",
       "      <td>0.005143</td>\n",
       "    </tr>\n",
       "    <tr>\n",
       "      <th>11</th>\n",
       "      <td>HeatingQC</td>\n",
       "      <td>0.004192</td>\n",
       "    </tr>\n",
       "    <tr>\n",
       "      <th>4</th>\n",
       "      <td>Foundation</td>\n",
       "      <td>0.002396</td>\n",
       "    </tr>\n",
       "    <tr>\n",
       "      <th>5</th>\n",
       "      <td>PavedDrive</td>\n",
       "      <td>0.001658</td>\n",
       "    </tr>\n",
       "  </tbody>\n",
       "</table>\n",
       "</div>"
      ],
      "text/plain": [
       "            Feat  Importance\n",
       "14   OverallQual    0.298260\n",
       "1     GarageCars    0.095636\n",
       "13     YearBuilt    0.095492\n",
       "17      1stFlrSF    0.085871\n",
       "6    TotalBsmtSF    0.081958\n",
       "19    GarageArea    0.072357\n",
       "8     AllBathAbv    0.058487\n",
       "3       BsmtQual    0.044465\n",
       "18      2ndFlrSF    0.034376\n",
       "9   TotRmsAbvGrd    0.022409\n",
       "10    Fireplaces    0.019634\n",
       "20     PorchArea    0.018743\n",
       "16  DfromWalmart    0.015338\n",
       "15   LotFrontage    0.012444\n",
       "2     GarageType    0.011262\n",
       "12  Neighborhood    0.010531\n",
       "7    AllBathBsmt    0.009350\n",
       "0     MSSubClass    0.005143\n",
       "11     HeatingQC    0.004192\n",
       "4     Foundation    0.002396\n",
       "5     PavedDrive    0.001658"
      ]
     },
     "execution_count": 33,
     "metadata": {},
     "output_type": "execute_result"
    }
   ],
   "source": [
    "pd.DataFrame({'Feat':X_train.columns,'Importance':gs_forest.best_estimator_.feature_importances_}).\\\n",
    "sort_values(by='Importance', ascending=False)"
   ]
  },
  {
   "cell_type": "markdown",
   "id": "bb146ea4",
   "metadata": {},
   "source": [
    "## 🚀 Boosting"
   ]
  },
  {
   "cell_type": "code",
   "execution_count": 34,
   "id": "759c1a10",
   "metadata": {},
   "outputs": [],
   "source": [
    "from sklearn.ensemble import GradientBoostingRegressor"
   ]
  },
  {
   "cell_type": "code",
   "execution_count": 35,
   "id": "c37c8921",
   "metadata": {},
   "outputs": [
    {
     "data": {
      "text/plain": [
       "0.8560322306912452"
      ]
     },
     "execution_count": 35,
     "metadata": {},
     "output_type": "execute_result"
    }
   ],
   "source": [
    "gbm = GradientBoostingRegressor()\n",
    "gbm.fit(X_train, y_train)\n",
    "gbm.score(X_test, y_test)"
   ]
  },
  {
   "cell_type": "code",
   "execution_count": 36,
   "id": "96360da4",
   "metadata": {},
   "outputs": [
    {
     "data": {
      "text/plain": [
       "{'alpha': 0.9,\n",
       " 'ccp_alpha': 0.0,\n",
       " 'criterion': 'friedman_mse',\n",
       " 'init': None,\n",
       " 'learning_rate': 0.1,\n",
       " 'loss': 'ls',\n",
       " 'max_depth': 3,\n",
       " 'max_features': None,\n",
       " 'max_leaf_nodes': None,\n",
       " 'min_impurity_decrease': 0.0,\n",
       " 'min_impurity_split': None,\n",
       " 'min_samples_leaf': 1,\n",
       " 'min_samples_split': 2,\n",
       " 'min_weight_fraction_leaf': 0.0,\n",
       " 'n_estimators': 100,\n",
       " 'n_iter_no_change': None,\n",
       " 'random_state': None,\n",
       " 'subsample': 1.0,\n",
       " 'tol': 0.0001,\n",
       " 'validation_fraction': 0.1,\n",
       " 'verbose': 0,\n",
       " 'warm_start': False}"
      ]
     },
     "execution_count": 36,
     "metadata": {},
     "output_type": "execute_result"
    }
   ],
   "source": [
    "gbm.get_params()"
   ]
  },
  {
   "cell_type": "code",
   "execution_count": 37,
   "id": "48b3a7ab",
   "metadata": {},
   "outputs": [
    {
     "name": "stdout",
     "output_type": "stream",
     "text": [
      "Wall time: 1min 26s\n"
     ]
    },
    {
     "data": {
      "text/plain": [
       "GridSearchCV(cv=5, estimator=GradientBoostingRegressor(), n_jobs=-1,\n",
       "             param_grid=[{'learning_rate': [0.1, 0.25, 0.5, 1],\n",
       "                          'max_depth': array([ 6,  8, 10, 12, 14, 16, 18, 20, 22, 24, 26, 28, 30])}],\n",
       "             scoring='r2')"
      ]
     },
     "execution_count": 37,
     "metadata": {},
     "output_type": "execute_result"
    }
   ],
   "source": [
    "grid_para_boost = [{\n",
    "    \"learning_rate\":[0.1,0.25,0.5,1],\n",
    "    \"max_depth\": np.linspace(start=6, stop=30, num=13, dtype=int)}]\n",
    "gs_boost = GridSearchCV(gbm, grid_para_boost, scoring='r2', cv=5, n_jobs=-1)\n",
    "%time gs_boost.fit(X_train, y_train)"
   ]
  },
  {
   "cell_type": "code",
   "execution_count": 38,
   "id": "4ab12f9f",
   "metadata": {},
   "outputs": [
    {
     "data": {
      "text/plain": [
       "{'learning_rate': 0.1, 'max_depth': 6}"
      ]
     },
     "execution_count": 38,
     "metadata": {},
     "output_type": "execute_result"
    }
   ],
   "source": [
    "gs_boost.best_params_"
   ]
  },
  {
   "cell_type": "code",
   "execution_count": 39,
   "id": "0b0d10d2",
   "metadata": {},
   "outputs": [
    {
     "name": "stdout",
     "output_type": "stream",
     "text": [
      "The training r2: 0.99035\n",
      "The test     r2: 0.86980\n"
     ]
    }
   ],
   "source": [
    "print(\"The training r2: %.5f\" % (gs_boost.score(X_train, y_train)))\n",
    "print(\"The test     r2: %.5f\" % (gs_boost.score(X_test, y_test)))"
   ]
  },
  {
   "cell_type": "code",
   "execution_count": null,
   "id": "50de28b9",
   "metadata": {},
   "outputs": [],
   "source": []
  }
 ],
 "metadata": {
  "kernelspec": {
   "display_name": "Python 3",
   "language": "python",
   "name": "python3"
  },
  "language_info": {
   "codemirror_mode": {
    "name": "ipython",
    "version": 3
   },
   "file_extension": ".py",
   "mimetype": "text/x-python",
   "name": "python",
   "nbconvert_exporter": "python",
   "pygments_lexer": "ipython3",
   "version": "3.8.8"
  }
 },
 "nbformat": 4,
 "nbformat_minor": 5
}
