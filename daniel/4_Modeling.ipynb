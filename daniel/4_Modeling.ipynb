{
 "cells": [
  {
   "cell_type": "code",
   "execution_count": 120,
   "id": "818b52f5",
   "metadata": {},
   "outputs": [],
   "source": [
    "import pandas as pd\n",
    "import numpy as np\n",
    "\n",
    "import seaborn as sns\n",
    "import matplotlib.pyplot as plt\n",
    "%matplotlib inline \n",
    "\n",
    "from sklearn.linear_model import Lasso, Ridge, LinearRegression\n",
    "from sklearn.model_selection import train_test_split, cross_validate\n",
    "\n",
    "from statsmodels.stats.outliers_influence import variance_inflation_factor"
   ]
  },
  {
   "cell_type": "code",
   "execution_count": 121,
   "id": "bf84646e",
   "metadata": {
    "scrolled": true
   },
   "outputs": [
    {
     "data": {
      "text/plain": [
       "(2579, 23)"
      ]
     },
     "execution_count": 121,
     "metadata": {},
     "output_type": "execute_result"
    }
   ],
   "source": [
    "data = pd.read_csv('model_data.csv', index_col='PID')\n",
    "data.shape"
   ]
  },
  {
   "cell_type": "markdown",
   "id": "971faf8f",
   "metadata": {},
   "source": [
    "#### Independent Variable (y)"
   ]
  },
  {
   "cell_type": "code",
   "execution_count": 122,
   "id": "2b456e2f",
   "metadata": {},
   "outputs": [],
   "source": [
    "y = data.SalePrice.copy()\n",
    "data.drop('SalePrice', axis=1, inplace=True)"
   ]
  },
  {
   "cell_type": "markdown",
   "id": "ff56c337",
   "metadata": {},
   "source": [
    "#### Choose Dependents (Use Sector or Neighborhood) (Use ALLSF, or split columns)"
   ]
  },
  {
   "cell_type": "code",
   "execution_count": 123,
   "id": "9e47de64",
   "metadata": {
    "scrolled": true
   },
   "outputs": [
    {
     "data": {
      "text/plain": [
       "Index(['MSSubClass', 'GarageCars', 'GarageType', 'BsmtQual', 'Foundation',\n",
       "       'PavedDrive', 'TotalBsmtSF', 'AllBathBsmt', 'AllBathAbv',\n",
       "       'TotRmsAbvGrd', 'Fireplaces', 'HeatingQC', 'Neighborhood', 'Sector',\n",
       "       'YearBuilt', 'OverallQual', 'LotFrontage', '1stFlrSF', '2ndFlrSF',\n",
       "       'GarageArea', 'PorchArea', 'ALLSF'],\n",
       "      dtype='object')"
      ]
     },
     "execution_count": 123,
     "metadata": {},
     "output_type": "execute_result"
    }
   ],
   "source": [
    "data.columns"
   ]
  },
  {
   "cell_type": "markdown",
   "id": "5415f4c9",
   "metadata": {},
   "source": [
    "* Sectors & ALLSF"
   ]
  },
  {
   "cell_type": "code",
   "execution_count": 124,
   "id": "4726a9d1",
   "metadata": {},
   "outputs": [],
   "source": [
    "data_1 = data.drop(['Neighborhood','1stFlrSF', '2ndFlrSF', 'GarageArea', 'PorchArea', 'TotalBsmtSF'],axis=1)"
   ]
  },
  {
   "cell_type": "markdown",
   "id": "2632c2b7",
   "metadata": {},
   "source": [
    "* Sectors & Split SF"
   ]
  },
  {
   "cell_type": "code",
   "execution_count": 125,
   "id": "07c1cbb7",
   "metadata": {},
   "outputs": [],
   "source": [
    "data_2 = data.drop(['Neighborhood','ALLSF'],axis=1)"
   ]
  },
  {
   "cell_type": "markdown",
   "id": "31cd160b",
   "metadata": {},
   "source": [
    "* Neighborhood & ALLSF"
   ]
  },
  {
   "cell_type": "code",
   "execution_count": 126,
   "id": "616f2f88",
   "metadata": {},
   "outputs": [],
   "source": [
    "data_3 = data.drop(['Sector','1stFlrSF', '2ndFlrSF', 'GarageArea', 'PorchArea', 'TotalBsmtSF'],axis=1)"
   ]
  },
  {
   "cell_type": "markdown",
   "id": "cf4bf04f",
   "metadata": {},
   "source": [
    "* Neighborhood & Split SF"
   ]
  },
  {
   "cell_type": "code",
   "execution_count": 127,
   "id": "6cd39085",
   "metadata": {},
   "outputs": [],
   "source": [
    "data_4 = data.drop(['Sector','ALLSF'],axis=1)"
   ]
  },
  {
   "cell_type": "markdown",
   "id": "9a8e1028",
   "metadata": {},
   "source": [
    "## 📉 Multiple Regression"
   ]
  },
  {
   "cell_type": "markdown",
   "id": "e5b07170",
   "metadata": {},
   "source": [
    "#### Data_1"
   ]
  },
  {
   "cell_type": "code",
   "execution_count": 130,
   "id": "f4a33a7e",
   "metadata": {},
   "outputs": [
    {
     "data": {
      "text/plain": [
       "0.6441628927347836"
      ]
     },
     "execution_count": 130,
     "metadata": {},
     "output_type": "execute_result"
    }
   ],
   "source": [
    "lasso = Lasso(max_iter=10000)\n",
    "\n",
    "data_dum = pd.get_dummies(data_1, drop_first=True)\n",
    "scores = cross_validate(lasso, data_dum, np.log10(y), cv=4)\n",
    "np.mean(scores['test_score'])"
   ]
  },
  {
   "cell_type": "markdown",
   "id": "c27117ce",
   "metadata": {},
   "source": [
    "#### Data_2"
   ]
  },
  {
   "cell_type": "code",
   "execution_count": 132,
   "id": "25cc022d",
   "metadata": {},
   "outputs": [
    {
     "data": {
      "text/plain": [
       "0.6435204263023244"
      ]
     },
     "execution_count": 132,
     "metadata": {},
     "output_type": "execute_result"
    }
   ],
   "source": [
    "data_dum = pd.get_dummies(data_2, drop_first=True)\n",
    "scores = cross_validate(lasso, data_dum, np.log10(y), cv=4)\n",
    "np.mean(scores['test_score'])"
   ]
  },
  {
   "cell_type": "markdown",
   "id": "98b51a77",
   "metadata": {},
   "source": [
    "#### Data_3"
   ]
  },
  {
   "cell_type": "code",
   "execution_count": 133,
   "id": "4f7d725f",
   "metadata": {},
   "outputs": [
    {
     "data": {
      "text/plain": [
       "0.6441628927347836"
      ]
     },
     "execution_count": 133,
     "metadata": {},
     "output_type": "execute_result"
    }
   ],
   "source": [
    "data_dum = pd.get_dummies(data_3, drop_first=True)\n",
    "scores = cross_validate(lasso, data_dum, np.log10(y), cv=4)\n",
    "np.mean(scores['test_score'])"
   ]
  },
  {
   "cell_type": "markdown",
   "id": "7aaaf3cf",
   "metadata": {},
   "source": [
    "#### Data_4"
   ]
  },
  {
   "cell_type": "code",
   "execution_count": 134,
   "id": "631c4c4f",
   "metadata": {},
   "outputs": [
    {
     "data": {
      "text/plain": [
       "0.6435204263023244"
      ]
     },
     "execution_count": 134,
     "metadata": {},
     "output_type": "execute_result"
    }
   ],
   "source": [
    "data_dum = pd.get_dummies(data_4, drop_first=True)\n",
    "scores = cross_validate(lasso, data_dum, np.log10(y), cv=4)\n",
    "np.mean(scores['test_score'])"
   ]
  },
  {
   "cell_type": "code",
   "execution_count": 144,
   "id": "6290c4b8",
   "metadata": {},
   "outputs": [],
   "source": [
    "X_train, X_test, y_train, y_test = train_test_split(data_dum, y, test_size=0.3)"
   ]
  },
  {
   "cell_type": "code",
   "execution_count": 155,
   "id": "987bcafc",
   "metadata": {},
   "outputs": [
    {
     "data": {
      "text/plain": [
       "0.8818029573424763"
      ]
     },
     "execution_count": 155,
     "metadata": {},
     "output_type": "execute_result"
    }
   ],
   "source": [
    "lasso.fit(X_train,np.log10(y_train))\n",
    "lasso.score(X_test,np.log10(y_test))"
   ]
  },
  {
   "cell_type": "code",
   "execution_count": 158,
   "id": "beca7e09",
   "metadata": {},
   "outputs": [
    {
     "data": {
      "text/plain": [
       "{'alpha': 0.003,\n",
       " 'copy_X': True,\n",
       " 'fit_intercept': True,\n",
       " 'max_iter': 10000,\n",
       " 'normalize': True,\n",
       " 'positive': False,\n",
       " 'precompute': False,\n",
       " 'random_state': 44,\n",
       " 'selection': 'cyclic',\n",
       " 'tol': 0.0001,\n",
       " 'warm_start': False}"
      ]
     },
     "execution_count": 158,
     "metadata": {},
     "output_type": "execute_result"
    }
   ],
   "source": [
    "lasso.set_params(normalize=True, random_state=44)\n",
    "lasso.get_params()"
   ]
  },
  {
   "cell_type": "code",
   "execution_count": 159,
   "id": "334cfd5c",
   "metadata": {},
   "outputs": [],
   "source": [
    "#try different alphas\n",
    "alphas = np.linspace(0.00001,0.003,400)\n",
    "coefs_lasso = []\n",
    "R2_train = []\n",
    "R2_test = []\n",
    "\n",
    "for a in alphas:\n",
    "    lasso.set_params(alpha=a)\n",
    "    lasso.fit(X_train, np.log10(y_train))\n",
    "    coefs_lasso.append(lasso.coef_)\n",
    "    R2_train.append(lasso.score(X_train, np.log10(y_train)))\n",
    "    R2_test.append(lasso.score(X_test, np.log10(y_test)))"
   ]
  },
  {
   "cell_type": "code",
   "execution_count": 160,
   "id": "66ffd13b",
   "metadata": {},
   "outputs": [
    {
     "data": {
      "text/html": [
       "<div>\n",
       "<style scoped>\n",
       "    .dataframe tbody tr th:only-of-type {\n",
       "        vertical-align: middle;\n",
       "    }\n",
       "\n",
       "    .dataframe tbody tr th {\n",
       "        vertical-align: top;\n",
       "    }\n",
       "\n",
       "    .dataframe thead th {\n",
       "        text-align: right;\n",
       "    }\n",
       "</style>\n",
       "<table border=\"1\" class=\"dataframe\">\n",
       "  <thead>\n",
       "    <tr style=\"text-align: right;\">\n",
       "      <th></th>\n",
       "      <th>GarageCars</th>\n",
       "      <th>TotalBsmtSF</th>\n",
       "      <th>AllBathBsmt</th>\n",
       "      <th>AllBathAbv</th>\n",
       "      <th>TotRmsAbvGrd</th>\n",
       "      <th>Fireplaces</th>\n",
       "      <th>YearBuilt</th>\n",
       "      <th>OverallQual</th>\n",
       "      <th>LotFrontage</th>\n",
       "      <th>1stFlrSF</th>\n",
       "      <th>...</th>\n",
       "      <th>Neighborhood_NoRidge</th>\n",
       "      <th>Neighborhood_NridgHt</th>\n",
       "      <th>Neighborhood_OldTown</th>\n",
       "      <th>Neighborhood_SWISU</th>\n",
       "      <th>Neighborhood_Sawyer</th>\n",
       "      <th>Neighborhood_SawyerW</th>\n",
       "      <th>Neighborhood_Somerst</th>\n",
       "      <th>Neighborhood_StoneBr</th>\n",
       "      <th>Neighborhood_Timber</th>\n",
       "      <th>Neighborhood_Veenker</th>\n",
       "    </tr>\n",
       "  </thead>\n",
       "  <tbody>\n",
       "    <tr>\n",
       "      <th>0.000010</th>\n",
       "      <td>0.009306</td>\n",
       "      <td>0.000037</td>\n",
       "      <td>0.030325</td>\n",
       "      <td>0.003402</td>\n",
       "      <td>0.000000</td>\n",
       "      <td>0.016206</td>\n",
       "      <td>0.000634</td>\n",
       "      <td>0.033531</td>\n",
       "      <td>0.00005</td>\n",
       "      <td>0.000118</td>\n",
       "      <td>...</td>\n",
       "      <td>0.017570</td>\n",
       "      <td>0.039676</td>\n",
       "      <td>-0.016238</td>\n",
       "      <td>-0.016366</td>\n",
       "      <td>-0.0</td>\n",
       "      <td>-0.010207</td>\n",
       "      <td>0.026810</td>\n",
       "      <td>0.052919</td>\n",
       "      <td>0.014535</td>\n",
       "      <td>0.025948</td>\n",
       "    </tr>\n",
       "    <tr>\n",
       "      <th>0.000017</th>\n",
       "      <td>0.008872</td>\n",
       "      <td>0.000037</td>\n",
       "      <td>0.030081</td>\n",
       "      <td>0.003380</td>\n",
       "      <td>0.000039</td>\n",
       "      <td>0.016166</td>\n",
       "      <td>0.000684</td>\n",
       "      <td>0.034149</td>\n",
       "      <td>0.00005</td>\n",
       "      <td>0.000118</td>\n",
       "      <td>...</td>\n",
       "      <td>0.015267</td>\n",
       "      <td>0.035325</td>\n",
       "      <td>-0.014692</td>\n",
       "      <td>-0.012795</td>\n",
       "      <td>-0.0</td>\n",
       "      <td>-0.009512</td>\n",
       "      <td>0.023021</td>\n",
       "      <td>0.046989</td>\n",
       "      <td>0.011224</td>\n",
       "      <td>0.021205</td>\n",
       "    </tr>\n",
       "  </tbody>\n",
       "</table>\n",
       "<p>2 rows × 65 columns</p>\n",
       "</div>"
      ],
      "text/plain": [
       "          GarageCars  TotalBsmtSF  AllBathBsmt  AllBathAbv  TotRmsAbvGrd  \\\n",
       "0.000010    0.009306     0.000037     0.030325    0.003402      0.000000   \n",
       "0.000017    0.008872     0.000037     0.030081    0.003380      0.000039   \n",
       "\n",
       "          Fireplaces  YearBuilt  OverallQual  LotFrontage  1stFlrSF  ...  \\\n",
       "0.000010    0.016206   0.000634     0.033531      0.00005  0.000118  ...   \n",
       "0.000017    0.016166   0.000684     0.034149      0.00005  0.000118  ...   \n",
       "\n",
       "          Neighborhood_NoRidge  Neighborhood_NridgHt  Neighborhood_OldTown  \\\n",
       "0.000010              0.017570              0.039676             -0.016238   \n",
       "0.000017              0.015267              0.035325             -0.014692   \n",
       "\n",
       "          Neighborhood_SWISU  Neighborhood_Sawyer  Neighborhood_SawyerW  \\\n",
       "0.000010           -0.016366                 -0.0             -0.010207   \n",
       "0.000017           -0.012795                 -0.0             -0.009512   \n",
       "\n",
       "          Neighborhood_Somerst  Neighborhood_StoneBr  Neighborhood_Timber  \\\n",
       "0.000010              0.026810              0.052919             0.014535   \n",
       "0.000017              0.023021              0.046989             0.011224   \n",
       "\n",
       "          Neighborhood_Veenker  \n",
       "0.000010              0.025948  \n",
       "0.000017              0.021205  \n",
       "\n",
       "[2 rows x 65 columns]"
      ]
     },
     "execution_count": 160,
     "metadata": {},
     "output_type": "execute_result"
    }
   ],
   "source": [
    "coefs_lasso = pd.DataFrame(coefs_lasso, index = alphas, columns = X_train.columns)\n",
    "R2_lasso = pd.DataFrame({'train': R2_train,'test':R2_test}, index = alphas)\n",
    "coefs_lasso.head(2)"
   ]
  },
  {
   "cell_type": "code",
   "execution_count": 161,
   "id": "6094ad67",
   "metadata": {},
   "outputs": [
    {
     "data": {
      "text/plain": [
       "<matplotlib.legend.Legend at 0x25c61ffd3a0>"
      ]
     },
     "execution_count": 161,
     "metadata": {},
     "output_type": "execute_result"
    },
    {
     "data": {
      "image/png": "[encoded data removed]",
      "text/plain": [
       "<Figure size 1008x432 with 2 Axes>"
      ]
     },
     "metadata": {
      "needs_background": "light"
     },
     "output_type": "display_data"
    }
   ],
   "source": [
    "fig, (ax1, ax2) = plt.subplots(1, 2, figsize=(14,6))\n",
    "fig.suptitle('Lasso Regression results')\n",
    "\n",
    "for feat in coefs_lasso.columns:\n",
    "    ax1.plot(coefs_lasso.index, 10**coefs_lasso[feat]) \n",
    "ax1.set_xlabel(r'hyperparameter $\\lambda$')\n",
    "ax1.set_ylabel(r'slope values')\n",
    "#ax1.legend(loc=1)\n",
    "for each in R2_lasso.columns:\n",
    "    ax2.plot(R2_lasso.index, R2_lasso[each], label=each)\n",
    "ax2.set_xlabel(r'hyperparameter $\\lambda$')\n",
    "ax2.legend(loc=1)"
   ]
  },
  {
   "cell_type": "markdown",
   "id": "37fe72be",
   "metadata": {},
   "source": [
    "## 🌲 Prepare for RandomForest"
   ]
  },
  {
   "cell_type": "code",
   "execution_count": 163,
   "id": "6b24199a",
   "metadata": {},
   "outputs": [],
   "source": [
    "from sklearn import ensemble\n",
    "from sklearn.preprocessing import LabelEncoder"
   ]
  },
  {
   "cell_type": "code",
   "execution_count": 164,
   "id": "c182e923",
   "metadata": {},
   "outputs": [
    {
     "data": {
      "text/plain": [
       "Index(['MSSubClass', 'GarageCars', 'GarageType', 'BsmtQual', 'Foundation',\n",
       "       'PavedDrive', 'TotalBsmtSF', 'AllBathBsmt', 'AllBathAbv',\n",
       "       'TotRmsAbvGrd', 'Fireplaces', 'HeatingQC', 'Neighborhood', 'YearBuilt',\n",
       "       'OverallQual', 'LotFrontage', '1stFlrSF', '2ndFlrSF', 'GarageArea',\n",
       "       'PorchArea'],\n",
       "      dtype='object')"
      ]
     },
     "execution_count": 164,
     "metadata": {},
     "output_type": "execute_result"
    }
   ],
   "source": [
    "data_le = data_4.copy()\n",
    "data_le.columns"
   ]
  },
  {
   "cell_type": "code",
   "execution_count": 165,
   "id": "5e1d217e",
   "metadata": {},
   "outputs": [],
   "source": [
    "# Use LabelEncoder on Categorical features\n",
    "le = LabelEncoder()\n",
    "data_le.MSSubClass = le.fit_transform(data.MSSubClass)\n",
    "data_le.GarageType = le.fit_transform(data.GarageType)\n",
    "data_le.Foundation = le.fit_transform(data.Foundation)\n",
    "data_le.PavedDrive = le.fit_transform(data.PavedDrive)\n",
    "data_le.Neighborhood = le.fit_transform(data.Neighborhood)\n",
    "# Manually Encode Ordinal features\n",
    "data_le.BsmtQual = data_le.BsmtQual.replace({'Po':1,'Fa':2,'TA':3,'Gd':4,'Ex':5,np.NaN:0})\n",
    "data_le.HeatingQC = data_le.HeatingQC.replace({'Po':1,'Fa':2,'TA':3,'Gd':4,'Ex':5})"
   ]
  },
  {
   "cell_type": "code",
   "execution_count": 166,
   "id": "bce0d88c",
   "metadata": {},
   "outputs": [],
   "source": [
    "X_train, X_test, y_train, y_test = train_test_split(data_le, y, test_size=0.25)"
   ]
  },
  {
   "cell_type": "code",
   "execution_count": 167,
   "id": "07259085",
   "metadata": {},
   "outputs": [
    {
     "name": "stdout",
     "output_type": "stream",
     "text": [
      "The training r2: 0.98415\n",
      "The test     r2: 0.85991\n"
     ]
    }
   ],
   "source": [
    "forest = ensemble.RandomForestRegressor()\n",
    "forest.set_params(n_estimators=50, random_state=42, max_features=10)\n",
    "forest.fit(X_train, y_train)\n",
    "print(\"The training r2: %.5f\" %(forest.score(X_train, y_train)))\n",
    "print(\"The test     r2: %.5f\" %(forest.score(X_test, y_test)))"
   ]
  },
  {
   "cell_type": "markdown",
   "id": "ea16161f",
   "metadata": {},
   "source": [
    "### Some Overfit?"
   ]
  },
  {
   "cell_type": "code",
   "execution_count": 168,
   "id": "4080138d",
   "metadata": {},
   "outputs": [
    {
     "data": {
      "text/plain": [
       "{'bootstrap': True,\n",
       " 'ccp_alpha': 0.0,\n",
       " 'criterion': 'mse',\n",
       " 'max_depth': None,\n",
       " 'max_features': 10,\n",
       " 'max_leaf_nodes': None,\n",
       " 'max_samples': None,\n",
       " 'min_impurity_decrease': 0.0,\n",
       " 'min_impurity_split': None,\n",
       " 'min_samples_leaf': 1,\n",
       " 'min_samples_split': 2,\n",
       " 'min_weight_fraction_leaf': 0.0,\n",
       " 'n_estimators': 50,\n",
       " 'n_jobs': None,\n",
       " 'oob_score': False,\n",
       " 'random_state': 42,\n",
       " 'verbose': 0,\n",
       " 'warm_start': False}"
      ]
     },
     "execution_count": 168,
     "metadata": {},
     "output_type": "execute_result"
    }
   ],
   "source": [
    "forest.get_params()"
   ]
  },
  {
   "cell_type": "code",
   "execution_count": 169,
   "id": "97fef045",
   "metadata": {},
   "outputs": [],
   "source": [
    "from sklearn.model_selection import GridSearchCV"
   ]
  },
  {
   "cell_type": "code",
   "execution_count": 170,
   "id": "ab0e3be3",
   "metadata": {},
   "outputs": [
    {
     "name": "stdout",
     "output_type": "stream",
     "text": [
      "Wall time: 24.7 s\n"
     ]
    },
    {
     "data": {
      "text/plain": [
       "GridSearchCV(cv=4,\n",
       "             estimator=RandomForestRegressor(max_features=10, n_estimators=50,\n",
       "                                             random_state=42),\n",
       "             n_jobs=-1,\n",
       "             param_grid=[{'max_depth': array([ 6,  8, 10, 12, 14, 16, 18, 20, 22, 24, 26, 28, 30]),\n",
       "                          'max_features': array([ 8,  9, 10, 11, 12, 13, 14])}],\n",
       "             scoring='r2')"
      ]
     },
     "execution_count": 170,
     "metadata": {},
     "output_type": "execute_result"
    }
   ],
   "source": [
    "grid_para_forest = [{\n",
    "    \"max_features\":np.arange(8,15,1),\n",
    "    \"max_depth\": np.linspace(start=6, stop=30, num=13, dtype=int)}]\n",
    "gs_forest = GridSearchCV(forest, grid_para_forest, scoring='r2', cv=4, n_jobs=-1)\n",
    "%time gs_forest.fit(X_train, y_train)"
   ]
  },
  {
   "cell_type": "code",
   "execution_count": 171,
   "id": "5fbddf7c",
   "metadata": {},
   "outputs": [
    {
     "data": {
      "text/plain": [
       "{'max_depth': 26, 'max_features': 8}"
      ]
     },
     "execution_count": 171,
     "metadata": {},
     "output_type": "execute_result"
    }
   ],
   "source": [
    "gs_forest.best_params_"
   ]
  },
  {
   "cell_type": "code",
   "execution_count": 172,
   "id": "5c522d3c",
   "metadata": {},
   "outputs": [
    {
     "name": "stdout",
     "output_type": "stream",
     "text": [
      "The training r2: 0.98341\n",
      "The test     r2: 0.85717\n"
     ]
    }
   ],
   "source": [
    "print(\"The training r2: %.5f\" % (gs_forest.score(X_train, y_train)))\n",
    "print(\"The test     r2: %.5f\" % (gs_forest.score(X_test, y_test)))"
   ]
  },
  {
   "cell_type": "code",
   "execution_count": 173,
   "id": "f0f23edb",
   "metadata": {},
   "outputs": [
    {
     "data": {
      "text/html": [
       "<div>\n",
       "<style scoped>\n",
       "    .dataframe tbody tr th:only-of-type {\n",
       "        vertical-align: middle;\n",
       "    }\n",
       "\n",
       "    .dataframe tbody tr th {\n",
       "        vertical-align: top;\n",
       "    }\n",
       "\n",
       "    .dataframe thead th {\n",
       "        text-align: right;\n",
       "    }\n",
       "</style>\n",
       "<table border=\"1\" class=\"dataframe\">\n",
       "  <thead>\n",
       "    <tr style=\"text-align: right;\">\n",
       "      <th></th>\n",
       "      <th>Feat</th>\n",
       "      <th>Importance</th>\n",
       "    </tr>\n",
       "  </thead>\n",
       "  <tbody>\n",
       "    <tr>\n",
       "      <th>14</th>\n",
       "      <td>OverallQual</td>\n",
       "      <td>0.282800</td>\n",
       "    </tr>\n",
       "    <tr>\n",
       "      <th>1</th>\n",
       "      <td>GarageCars</td>\n",
       "      <td>0.127154</td>\n",
       "    </tr>\n",
       "    <tr>\n",
       "      <th>6</th>\n",
       "      <td>TotalBsmtSF</td>\n",
       "      <td>0.110044</td>\n",
       "    </tr>\n",
       "    <tr>\n",
       "      <th>16</th>\n",
       "      <td>1stFlrSF</td>\n",
       "      <td>0.073829</td>\n",
       "    </tr>\n",
       "    <tr>\n",
       "      <th>13</th>\n",
       "      <td>YearBuilt</td>\n",
       "      <td>0.070696</td>\n",
       "    </tr>\n",
       "    <tr>\n",
       "      <th>18</th>\n",
       "      <td>GarageArea</td>\n",
       "      <td>0.067861</td>\n",
       "    </tr>\n",
       "    <tr>\n",
       "      <th>8</th>\n",
       "      <td>AllBathAbv</td>\n",
       "      <td>0.051542</td>\n",
       "    </tr>\n",
       "    <tr>\n",
       "      <th>3</th>\n",
       "      <td>BsmtQual</td>\n",
       "      <td>0.046765</td>\n",
       "    </tr>\n",
       "    <tr>\n",
       "      <th>17</th>\n",
       "      <td>2ndFlrSF</td>\n",
       "      <td>0.034919</td>\n",
       "    </tr>\n",
       "    <tr>\n",
       "      <th>10</th>\n",
       "      <td>Fireplaces</td>\n",
       "      <td>0.025677</td>\n",
       "    </tr>\n",
       "    <tr>\n",
       "      <th>19</th>\n",
       "      <td>PorchArea</td>\n",
       "      <td>0.021558</td>\n",
       "    </tr>\n",
       "    <tr>\n",
       "      <th>9</th>\n",
       "      <td>TotRmsAbvGrd</td>\n",
       "      <td>0.021495</td>\n",
       "    </tr>\n",
       "    <tr>\n",
       "      <th>12</th>\n",
       "      <td>Neighborhood</td>\n",
       "      <td>0.014538</td>\n",
       "    </tr>\n",
       "    <tr>\n",
       "      <th>2</th>\n",
       "      <td>GarageType</td>\n",
       "      <td>0.012572</td>\n",
       "    </tr>\n",
       "    <tr>\n",
       "      <th>15</th>\n",
       "      <td>LotFrontage</td>\n",
       "      <td>0.012183</td>\n",
       "    </tr>\n",
       "    <tr>\n",
       "      <th>7</th>\n",
       "      <td>AllBathBsmt</td>\n",
       "      <td>0.008365</td>\n",
       "    </tr>\n",
       "    <tr>\n",
       "      <th>11</th>\n",
       "      <td>HeatingQC</td>\n",
       "      <td>0.006982</td>\n",
       "    </tr>\n",
       "    <tr>\n",
       "      <th>0</th>\n",
       "      <td>MSSubClass</td>\n",
       "      <td>0.005605</td>\n",
       "    </tr>\n",
       "    <tr>\n",
       "      <th>4</th>\n",
       "      <td>Foundation</td>\n",
       "      <td>0.003715</td>\n",
       "    </tr>\n",
       "    <tr>\n",
       "      <th>5</th>\n",
       "      <td>PavedDrive</td>\n",
       "      <td>0.001700</td>\n",
       "    </tr>\n",
       "  </tbody>\n",
       "</table>\n",
       "</div>"
      ],
      "text/plain": [
       "            Feat  Importance\n",
       "14   OverallQual    0.282800\n",
       "1     GarageCars    0.127154\n",
       "6    TotalBsmtSF    0.110044\n",
       "16      1stFlrSF    0.073829\n",
       "13     YearBuilt    0.070696\n",
       "18    GarageArea    0.067861\n",
       "8     AllBathAbv    0.051542\n",
       "3       BsmtQual    0.046765\n",
       "17      2ndFlrSF    0.034919\n",
       "10    Fireplaces    0.025677\n",
       "19     PorchArea    0.021558\n",
       "9   TotRmsAbvGrd    0.021495\n",
       "12  Neighborhood    0.014538\n",
       "2     GarageType    0.012572\n",
       "15   LotFrontage    0.012183\n",
       "7    AllBathBsmt    0.008365\n",
       "11     HeatingQC    0.006982\n",
       "0     MSSubClass    0.005605\n",
       "4     Foundation    0.003715\n",
       "5     PavedDrive    0.001700"
      ]
     },
     "execution_count": 173,
     "metadata": {},
     "output_type": "execute_result"
    }
   ],
   "source": [
    "pd.DataFrame({'Feat':X_train.columns,'Importance':gs_forest.best_estimator_.feature_importances_}).\\\n",
    "sort_values(by='Importance', ascending=False)"
   ]
  },
  {
   "cell_type": "markdown",
   "id": "bb146ea4",
   "metadata": {},
   "source": [
    "## 🚀 Boosting"
   ]
  },
  {
   "cell_type": "code",
   "execution_count": 174,
   "id": "759c1a10",
   "metadata": {},
   "outputs": [],
   "source": [
    "from sklearn.ensemble import GradientBoostingRegressor"
   ]
  },
  {
   "cell_type": "code",
   "execution_count": 175,
   "id": "c37c8921",
   "metadata": {},
   "outputs": [
    {
     "data": {
      "text/plain": [
       "0.8609993238128317"
      ]
     },
     "execution_count": 175,
     "metadata": {},
     "output_type": "execute_result"
    }
   ],
   "source": [
    "gbm = GradientBoostingRegressor()\n",
    "gbm.fit(X_train, y_train)\n",
    "gbm.score(X_test, y_test)"
   ]
  },
  {
   "cell_type": "code",
   "execution_count": 176,
   "id": "96360da4",
   "metadata": {},
   "outputs": [
    {
     "data": {
      "text/plain": [
       "{'alpha': 0.9,\n",
       " 'ccp_alpha': 0.0,\n",
       " 'criterion': 'friedman_mse',\n",
       " 'init': None,\n",
       " 'learning_rate': 0.1,\n",
       " 'loss': 'ls',\n",
       " 'max_depth': 3,\n",
       " 'max_features': None,\n",
       " 'max_leaf_nodes': None,\n",
       " 'min_impurity_decrease': 0.0,\n",
       " 'min_impurity_split': None,\n",
       " 'min_samples_leaf': 1,\n",
       " 'min_samples_split': 2,\n",
       " 'min_weight_fraction_leaf': 0.0,\n",
       " 'n_estimators': 100,\n",
       " 'n_iter_no_change': None,\n",
       " 'random_state': None,\n",
       " 'subsample': 1.0,\n",
       " 'tol': 0.0001,\n",
       " 'validation_fraction': 0.1,\n",
       " 'verbose': 0,\n",
       " 'warm_start': False}"
      ]
     },
     "execution_count": 176,
     "metadata": {},
     "output_type": "execute_result"
    }
   ],
   "source": [
    "gbm.get_params()"
   ]
  },
  {
   "cell_type": "code",
   "execution_count": 91,
   "id": "48b3a7ab",
   "metadata": {},
   "outputs": [
    {
     "name": "stdout",
     "output_type": "stream",
     "text": [
      "Wall time: 1min 15s\n"
     ]
    },
    {
     "data": {
      "text/plain": [
       "GridSearchCV(cv=5, estimator=GradientBoostingRegressor(), n_jobs=-1,\n",
       "             param_grid=[{'learning_rate': [0.1, 0.25, 0.5, 1],\n",
       "                          'max_depth': array([ 6,  8, 10, 12, 14, 16, 18, 20, 22, 24, 26, 28, 30])}],\n",
       "             scoring='r2')"
      ]
     },
     "execution_count": 91,
     "metadata": {},
     "output_type": "execute_result"
    }
   ],
   "source": [
    "grid_para_boost = [{\n",
    "    \"learning_rate\":[0.1,0.25,0.5,1],\n",
    "    \"max_depth\": np.linspace(start=6, stop=30, num=13, dtype=int)}]\n",
    "gs_boost = GridSearchCV(gbm, grid_para_boost, scoring='r2', cv=5, n_jobs=-1)\n",
    "%time gs_boost.fit(X_train, y_train)"
   ]
  },
  {
   "cell_type": "code",
   "execution_count": 92,
   "id": "4ab12f9f",
   "metadata": {},
   "outputs": [
    {
     "data": {
      "text/plain": [
       "{'learning_rate': 0.1, 'max_depth': 6}"
      ]
     },
     "execution_count": 92,
     "metadata": {},
     "output_type": "execute_result"
    }
   ],
   "source": [
    "gs_boost.best_params_"
   ]
  },
  {
   "cell_type": "code",
   "execution_count": 93,
   "id": "0b0d10d2",
   "metadata": {},
   "outputs": [
    {
     "name": "stdout",
     "output_type": "stream",
     "text": [
      "The training r2: 0.98753\n",
      "The test     r2: 0.87752\n"
     ]
    }
   ],
   "source": [
    "print(\"The training r2: %.5f\" % (gs_boost.score(X_train, y_train)))\n",
    "print(\"The test     r2: %.5f\" % (gs_boost.score(X_test, y_test)))"
   ]
  },
  {
   "cell_type": "code",
   "execution_count": null,
   "id": "50de28b9",
   "metadata": {},
   "outputs": [],
   "source": []
  }
 ],
 "metadata": {
  "kernelspec": {
   "display_name": "Python 3",
   "language": "python",
   "name": "python3"
  },
  "language_info": {
   "codemirror_mode": {
    "name": "ipython",
    "version": 3
   },
   "file_extension": ".py",
   "mimetype": "text/x-python",
   "name": "python",
   "nbconvert_exporter": "python",
   "pygments_lexer": "ipython3",
   "version": "3.8.8"
  }
 },
 "nbformat": 4,
 "nbformat_minor": 5
}
