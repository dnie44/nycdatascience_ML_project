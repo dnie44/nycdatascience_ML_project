{
 "cells": [
  {
   "cell_type": "code",
   "execution_count": 24,
   "id": "818b52f5",
   "metadata": {},
   "outputs": [],
   "source": [
    "import pandas as pd\n",
    "import numpy as np\n",
    "\n",
    "import seaborn as sns\n",
    "import matplotlib.pyplot as plt\n",
    "%matplotlib inline \n",
    "\n",
    "from sklearn.preprocessing import StandardScaler\n",
    "from sklearn.linear_model import Lasso, Ridge, LinearRegression\n",
    "from sklearn.model_selection import train_test_split, cross_validate\n",
    "\n",
    "from statsmodels.stats.outliers_influence import variance_inflation_factor"
   ]
  },
  {
   "cell_type": "code",
   "execution_count": 25,
   "id": "bf84646e",
   "metadata": {
    "scrolled": true
   },
   "outputs": [
    {
     "data": {
      "text/plain": [
       "(2579, 20)"
      ]
     },
     "execution_count": 25,
     "metadata": {},
     "output_type": "execute_result"
    }
   ],
   "source": [
    "data = pd.read_csv('model_data.csv', index_col='PID')\n",
    "data.shape"
   ]
  },
  {
   "cell_type": "markdown",
   "id": "971faf8f",
   "metadata": {},
   "source": [
    "#### Independent Variable (y)"
   ]
  },
  {
   "cell_type": "code",
   "execution_count": 26,
   "id": "2b456e2f",
   "metadata": {},
   "outputs": [],
   "source": [
    "y = data.SalePrice.copy()\n",
    "data.drop('SalePrice', axis=1, inplace=True)"
   ]
  },
  {
   "cell_type": "markdown",
   "id": "37fe72be",
   "metadata": {},
   "source": [
    "## 🌲 Prepare for RandomForest"
   ]
  },
  {
   "cell_type": "code",
   "execution_count": 27,
   "id": "6b24199a",
   "metadata": {},
   "outputs": [],
   "source": [
    "from sklearn import ensemble\n",
    "from sklearn.preprocessing import LabelEncoder"
   ]
  },
  {
   "cell_type": "code",
   "execution_count": 28,
   "id": "c182e923",
   "metadata": {},
   "outputs": [
    {
     "data": {
      "text/plain": [
       "Index(['MSSubClass', 'Foundation', 'PavedDrive', 'BsmtUnfSF', 'AllBathBsmt',\n",
       "       'AllBathAbv', 'HeatingQC', 'Neighborhood', 'YearBuilt', 'GarageCars',\n",
       "       'PorchArea', 'GoodLivArea', 'CentralAir', 'KitchenQual', 'ExterQual',\n",
       "       'BsmtCond', 'FireplaceQu', 'GarageQual', 'HasPool'],\n",
       "      dtype='object')"
      ]
     },
     "execution_count": 28,
     "metadata": {},
     "output_type": "execute_result"
    }
   ],
   "source": [
    "data_le = data.copy()\n",
    "data_le.columns"
   ]
  },
  {
   "cell_type": "code",
   "execution_count": 29,
   "id": "ba36b540",
   "metadata": {},
   "outputs": [],
   "source": [
    "# Label CentralAir Y or N with 1 or 0\n",
    "data_le.CentralAir = data_le.CentralAir.apply(lambda x: 1 if x=='Y' else 0, )"
   ]
  },
  {
   "cell_type": "code",
   "execution_count": 30,
   "id": "5e1d217e",
   "metadata": {},
   "outputs": [],
   "source": [
    "# Use LabelEncoder on Categorical features\n",
    "le = LabelEncoder()\n",
    "data_le.MSSubClass = le.fit_transform(data.MSSubClass)\n",
    "#data_le.GarageType = le.fit_transform(data.GarageType)\n",
    "data_le.Foundation = le.fit_transform(data.Foundation)\n",
    "data_le.PavedDrive = le.fit_transform(data.PavedDrive)\n",
    "data_le.Neighborhood = le.fit_transform(data.Neighborhood)\n",
    "# Manually Encode Ordinal features\n",
    "#data_le.BsmtQual = data_le.BsmtQual.replace({'Po':1,'Fa':2,'TA':3,'Gd':4,'Ex':5,np.NaN:0})\n",
    "data_le.HeatingQC = data_le.HeatingQC.replace({'Po':1,'Fa':2,'TA':3,'Gd':4,'Ex':5})\n",
    "data_le.KitchenQual = data_le.KitchenQual.replace({'Po':1,'Fa':2,'TA':3,'Gd':4,'Ex':5})\n",
    "data_le.ExterQual = data_le.ExterQual.replace({'Po':1,'Fa':2,'TA':3,'Gd':4,'Ex':5})\n",
    "data_le.BsmtCond = data_le.BsmtCond.replace({'Po':1,'Fa':2,'TA':3,'Gd':4,'Ex':5,'None':0})\n",
    "data_le.FireplaceQu = data_le.FireplaceQu.replace({'Po':1,'Fa':2,'TA':3,'Gd':4,'Ex':5,'None':0})\n",
    "data_le.GarageQual = data_le.GarageQual.replace({'Po':1,'Fa':2,'TA':3,'Gd':4,'Ex':5,'None':0})"
   ]
  },
  {
   "cell_type": "code",
   "execution_count": 31,
   "id": "bce0d88c",
   "metadata": {},
   "outputs": [],
   "source": [
    "X_train, X_test, y_train, y_test = train_test_split(data_le, y, test_size=0.25)"
   ]
  },
  {
   "cell_type": "code",
   "execution_count": 32,
   "id": "07259085",
   "metadata": {},
   "outputs": [
    {
     "name": "stdout",
     "output_type": "stream",
     "text": [
      "The training r2: 0.98396\n",
      "The test     r2: 0.83247\n"
     ]
    }
   ],
   "source": [
    "forest = ensemble.RandomForestRegressor()\n",
    "forest.set_params(n_estimators=50, random_state=42, max_features=10)\n",
    "forest.fit(X_train, y_train)\n",
    "print(\"The training r2: %.5f\" %(forest.score(X_train, y_train)))\n",
    "print(\"The test     r2: %.5f\" %(forest.score(X_test, y_test)))"
   ]
  },
  {
   "cell_type": "markdown",
   "id": "ea16161f",
   "metadata": {},
   "source": [
    "### Some Overfit?"
   ]
  },
  {
   "cell_type": "code",
   "execution_count": 33,
   "id": "4080138d",
   "metadata": {},
   "outputs": [
    {
     "data": {
      "text/plain": [
       "{'bootstrap': True,\n",
       " 'ccp_alpha': 0.0,\n",
       " 'criterion': 'mse',\n",
       " 'max_depth': None,\n",
       " 'max_features': 10,\n",
       " 'max_leaf_nodes': None,\n",
       " 'max_samples': None,\n",
       " 'min_impurity_decrease': 0.0,\n",
       " 'min_impurity_split': None,\n",
       " 'min_samples_leaf': 1,\n",
       " 'min_samples_split': 2,\n",
       " 'min_weight_fraction_leaf': 0.0,\n",
       " 'n_estimators': 50,\n",
       " 'n_jobs': None,\n",
       " 'oob_score': False,\n",
       " 'random_state': 42,\n",
       " 'verbose': 0,\n",
       " 'warm_start': False}"
      ]
     },
     "execution_count": 33,
     "metadata": {},
     "output_type": "execute_result"
    }
   ],
   "source": [
    "forest.get_params()"
   ]
  },
  {
   "cell_type": "code",
   "execution_count": 34,
   "id": "97fef045",
   "metadata": {},
   "outputs": [],
   "source": [
    "from sklearn.model_selection import GridSearchCV"
   ]
  },
  {
   "cell_type": "code",
   "execution_count": 35,
   "id": "ab0e3be3",
   "metadata": {},
   "outputs": [
    {
     "name": "stdout",
     "output_type": "stream",
     "text": [
      "Wall time: 24.3 s\n"
     ]
    },
    {
     "data": {
      "text/plain": [
       "GridSearchCV(cv=4,\n",
       "             estimator=RandomForestRegressor(max_features=10, n_estimators=50,\n",
       "                                             random_state=42),\n",
       "             n_jobs=-1,\n",
       "             param_grid=[{'max_depth': array([ 6,  8, 10, 12, 14, 16, 18, 20, 22, 24, 26, 28, 30]),\n",
       "                          'max_features': array([ 8,  9, 10, 11, 12, 13, 14])}],\n",
       "             scoring='r2')"
      ]
     },
     "execution_count": 35,
     "metadata": {},
     "output_type": "execute_result"
    }
   ],
   "source": [
    "grid_para_forest = [{\n",
    "    \"max_features\":np.arange(8,15,1),\n",
    "    \"max_depth\": np.linspace(start=6, stop=30, num=13, dtype=int)}]\n",
    "gs_forest = GridSearchCV(forest, grid_para_forest, scoring='r2', cv=4, n_jobs=-1)\n",
    "%time gs_forest.fit(X_train, y_train)"
   ]
  },
  {
   "cell_type": "code",
   "execution_count": 36,
   "id": "5fbddf7c",
   "metadata": {},
   "outputs": [
    {
     "data": {
      "text/plain": [
       "{'max_depth': 20, 'max_features': 8}"
      ]
     },
     "execution_count": 36,
     "metadata": {},
     "output_type": "execute_result"
    }
   ],
   "source": [
    "gs_forest.best_params_"
   ]
  },
  {
   "cell_type": "code",
   "execution_count": 37,
   "id": "5c522d3c",
   "metadata": {},
   "outputs": [
    {
     "name": "stdout",
     "output_type": "stream",
     "text": [
      "The training r2: 0.98381\n",
      "The test     r2: 0.83786\n"
     ]
    }
   ],
   "source": [
    "print(\"The training r2: %.5f\" % (gs_forest.score(X_train, y_train)))\n",
    "print(\"The test     r2: %.5f\" % (gs_forest.score(X_test, y_test)))"
   ]
  },
  {
   "cell_type": "code",
   "execution_count": 38,
   "id": "f0f23edb",
   "metadata": {},
   "outputs": [
    {
     "data": {
      "text/html": [
       "<div>\n",
       "<style scoped>\n",
       "    .dataframe tbody tr th:only-of-type {\n",
       "        vertical-align: middle;\n",
       "    }\n",
       "\n",
       "    .dataframe tbody tr th {\n",
       "        vertical-align: top;\n",
       "    }\n",
       "\n",
       "    .dataframe thead th {\n",
       "        text-align: right;\n",
       "    }\n",
       "</style>\n",
       "<table border=\"1\" class=\"dataframe\">\n",
       "  <thead>\n",
       "    <tr style=\"text-align: right;\">\n",
       "      <th></th>\n",
       "      <th>Feat</th>\n",
       "      <th>Importance</th>\n",
       "    </tr>\n",
       "  </thead>\n",
       "  <tbody>\n",
       "    <tr>\n",
       "      <th>11</th>\n",
       "      <td>GoodLivArea</td>\n",
       "      <td>0.367879</td>\n",
       "    </tr>\n",
       "    <tr>\n",
       "      <th>9</th>\n",
       "      <td>GarageCars</td>\n",
       "      <td>0.145803</td>\n",
       "    </tr>\n",
       "    <tr>\n",
       "      <th>14</th>\n",
       "      <td>ExterQual</td>\n",
       "      <td>0.127889</td>\n",
       "    </tr>\n",
       "    <tr>\n",
       "      <th>8</th>\n",
       "      <td>YearBuilt</td>\n",
       "      <td>0.092827</td>\n",
       "    </tr>\n",
       "    <tr>\n",
       "      <th>13</th>\n",
       "      <td>KitchenQual</td>\n",
       "      <td>0.080107</td>\n",
       "    </tr>\n",
       "    <tr>\n",
       "      <th>5</th>\n",
       "      <td>AllBathAbv</td>\n",
       "      <td>0.035407</td>\n",
       "    </tr>\n",
       "    <tr>\n",
       "      <th>3</th>\n",
       "      <td>BsmtUnfSF</td>\n",
       "      <td>0.031360</td>\n",
       "    </tr>\n",
       "    <tr>\n",
       "      <th>16</th>\n",
       "      <td>FireplaceQu</td>\n",
       "      <td>0.029795</td>\n",
       "    </tr>\n",
       "    <tr>\n",
       "      <th>10</th>\n",
       "      <td>PorchArea</td>\n",
       "      <td>0.027351</td>\n",
       "    </tr>\n",
       "    <tr>\n",
       "      <th>7</th>\n",
       "      <td>Neighborhood</td>\n",
       "      <td>0.018925</td>\n",
       "    </tr>\n",
       "    <tr>\n",
       "      <th>0</th>\n",
       "      <td>MSSubClass</td>\n",
       "      <td>0.007994</td>\n",
       "    </tr>\n",
       "    <tr>\n",
       "      <th>4</th>\n",
       "      <td>AllBathBsmt</td>\n",
       "      <td>0.006961</td>\n",
       "    </tr>\n",
       "    <tr>\n",
       "      <th>1</th>\n",
       "      <td>Foundation</td>\n",
       "      <td>0.005979</td>\n",
       "    </tr>\n",
       "    <tr>\n",
       "      <th>6</th>\n",
       "      <td>HeatingQC</td>\n",
       "      <td>0.005787</td>\n",
       "    </tr>\n",
       "    <tr>\n",
       "      <th>12</th>\n",
       "      <td>CentralAir</td>\n",
       "      <td>0.005118</td>\n",
       "    </tr>\n",
       "    <tr>\n",
       "      <th>17</th>\n",
       "      <td>GarageQual</td>\n",
       "      <td>0.003654</td>\n",
       "    </tr>\n",
       "    <tr>\n",
       "      <th>2</th>\n",
       "      <td>PavedDrive</td>\n",
       "      <td>0.003654</td>\n",
       "    </tr>\n",
       "    <tr>\n",
       "      <th>15</th>\n",
       "      <td>BsmtCond</td>\n",
       "      <td>0.002426</td>\n",
       "    </tr>\n",
       "    <tr>\n",
       "      <th>18</th>\n",
       "      <td>HasPool</td>\n",
       "      <td>0.001084</td>\n",
       "    </tr>\n",
       "  </tbody>\n",
       "</table>\n",
       "</div>"
      ],
      "text/plain": [
       "            Feat  Importance\n",
       "11   GoodLivArea    0.367879\n",
       "9     GarageCars    0.145803\n",
       "14     ExterQual    0.127889\n",
       "8      YearBuilt    0.092827\n",
       "13   KitchenQual    0.080107\n",
       "5     AllBathAbv    0.035407\n",
       "3      BsmtUnfSF    0.031360\n",
       "16   FireplaceQu    0.029795\n",
       "10     PorchArea    0.027351\n",
       "7   Neighborhood    0.018925\n",
       "0     MSSubClass    0.007994\n",
       "4    AllBathBsmt    0.006961\n",
       "1     Foundation    0.005979\n",
       "6      HeatingQC    0.005787\n",
       "12    CentralAir    0.005118\n",
       "17    GarageQual    0.003654\n",
       "2     PavedDrive    0.003654\n",
       "15      BsmtCond    0.002426\n",
       "18       HasPool    0.001084"
      ]
     },
     "execution_count": 38,
     "metadata": {},
     "output_type": "execute_result"
    }
   ],
   "source": [
    "pd.DataFrame({'Feat':X_train.columns,'Importance':gs_forest.best_estimator_.feature_importances_}).\\\n",
    "sort_values(by='Importance', ascending=False)"
   ]
  },
  {
   "cell_type": "markdown",
   "id": "bb146ea4",
   "metadata": {},
   "source": [
    "## 🚀 Boosting"
   ]
  },
  {
   "cell_type": "code",
   "execution_count": 115,
   "id": "759c1a10",
   "metadata": {},
   "outputs": [],
   "source": [
    "from sklearn.ensemble import GradientBoostingRegressor"
   ]
  },
  {
   "cell_type": "code",
   "execution_count": 116,
   "id": "c37c8921",
   "metadata": {},
   "outputs": [
    {
     "data": {
      "text/plain": [
       "0.8854790428596276"
      ]
     },
     "execution_count": 116,
     "metadata": {},
     "output_type": "execute_result"
    }
   ],
   "source": [
    "gbm = GradientBoostingRegressor()\n",
    "gbm.fit(X_train, y_train)\n",
    "gbm.score(X_test, y_test)"
   ]
  },
  {
   "cell_type": "code",
   "execution_count": 117,
   "id": "96360da4",
   "metadata": {},
   "outputs": [
    {
     "data": {
      "text/plain": [
       "{'alpha': 0.9,\n",
       " 'ccp_alpha': 0.0,\n",
       " 'criterion': 'friedman_mse',\n",
       " 'init': None,\n",
       " 'learning_rate': 0.1,\n",
       " 'loss': 'ls',\n",
       " 'max_depth': 3,\n",
       " 'max_features': None,\n",
       " 'max_leaf_nodes': None,\n",
       " 'min_impurity_decrease': 0.0,\n",
       " 'min_impurity_split': None,\n",
       " 'min_samples_leaf': 1,\n",
       " 'min_samples_split': 2,\n",
       " 'min_weight_fraction_leaf': 0.0,\n",
       " 'n_estimators': 100,\n",
       " 'n_iter_no_change': None,\n",
       " 'random_state': None,\n",
       " 'subsample': 1.0,\n",
       " 'tol': 0.0001,\n",
       " 'validation_fraction': 0.1,\n",
       " 'verbose': 0,\n",
       " 'warm_start': False}"
      ]
     },
     "execution_count": 117,
     "metadata": {},
     "output_type": "execute_result"
    }
   ],
   "source": [
    "gbm.get_params()"
   ]
  },
  {
   "cell_type": "code",
   "execution_count": 118,
   "id": "48b3a7ab",
   "metadata": {},
   "outputs": [
    {
     "name": "stdout",
     "output_type": "stream",
     "text": [
      "Wall time: 1min 5s\n"
     ]
    },
    {
     "data": {
      "text/plain": [
       "GridSearchCV(cv=5, estimator=GradientBoostingRegressor(), n_jobs=-1,\n",
       "             param_grid=[{'learning_rate': [0.1, 0.25, 0.5, 1],\n",
       "                          'max_depth': array([ 6,  8, 10, 12, 14, 16, 18, 20, 22, 24, 26, 28, 30])}],\n",
       "             scoring='r2')"
      ]
     },
     "execution_count": 118,
     "metadata": {},
     "output_type": "execute_result"
    }
   ],
   "source": [
    "grid_para_boost = [{\n",
    "    \"learning_rate\":[0.1,0.25,0.5,1],\n",
    "    \"max_depth\": np.linspace(start=6, stop=30, num=13, dtype=int)}]\n",
    "gs_boost = GridSearchCV(gbm, grid_para_boost, scoring='r2', cv=5, n_jobs=-1)\n",
    "%time gs_boost.fit(X_train, y_train)"
   ]
  },
  {
   "cell_type": "code",
   "execution_count": 119,
   "id": "4ab12f9f",
   "metadata": {},
   "outputs": [
    {
     "data": {
      "text/plain": [
       "{'learning_rate': 0.1, 'max_depth': 6}"
      ]
     },
     "execution_count": 119,
     "metadata": {},
     "output_type": "execute_result"
    }
   ],
   "source": [
    "gs_boost.best_params_"
   ]
  },
  {
   "cell_type": "code",
   "execution_count": 120,
   "id": "0b0d10d2",
   "metadata": {},
   "outputs": [
    {
     "name": "stdout",
     "output_type": "stream",
     "text": [
      "The training r2: 0.98737\n",
      "The test     r2: 0.88791\n"
     ]
    }
   ],
   "source": [
    "print(\"The training r2: %.5f\" % (gs_boost.score(X_train, y_train)))\n",
    "print(\"The test     r2: %.5f\" % (gs_boost.score(X_test, y_test)))"
   ]
  },
  {
   "cell_type": "code",
   "execution_count": null,
   "id": "50de28b9",
   "metadata": {},
   "outputs": [],
   "source": []
  }
 ],
 "metadata": {
  "kernelspec": {
   "display_name": "Python 3",
   "language": "python",
   "name": "python3"
  },
  "language_info": {
   "codemirror_mode": {
    "name": "ipython",
    "version": 3
   },
   "file_extension": ".py",
   "mimetype": "text/x-python",
   "name": "python",
   "nbconvert_exporter": "python",
   "pygments_lexer": "ipython3",
   "version": "3.8.8"
  }
 },
 "nbformat": 4,
 "nbformat_minor": 5
}
