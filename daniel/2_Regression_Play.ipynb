{
 "cells": [
  {
   "cell_type": "code",
   "execution_count": 1,
   "id": "ab9635a1",
   "metadata": {},
   "outputs": [],
   "source": [
    "import pandas as pd\n",
    "import numpy as np\n",
    "import re\n",
    "\n",
    "import seaborn as sns\n",
    "import matplotlib.pyplot as plt\n",
    "%matplotlib inline \n",
    "\n",
    "from sklearn.linear_model import Lasso, Ridge, LinearRegression\n",
    "from sklearn.model_selection import train_test_split\n",
    "\n",
    "from statsmodels.stats.outliers_influence import variance_inflation_factor"
   ]
  },
  {
   "cell_type": "code",
   "execution_count": 2,
   "id": "beb6cb12",
   "metadata": {},
   "outputs": [
    {
     "data": {
      "text/plain": [
       "(2579, 83)"
      ]
     },
     "execution_count": 2,
     "metadata": {},
     "output_type": "execute_result"
    }
   ],
   "source": [
    "data = pd.read_csv('ALL_data.csv', index_col='PID')\n",
    "sector = pd.read_csv('sectors_walmart.csv', index_col='PID')\n",
    "data = data.merge(sector[['Sector','DfromWalmart']], on='PID')\n",
    "data.shape"
   ]
  },
  {
   "cell_type": "code",
   "execution_count": 3,
   "id": "366e1ab9",
   "metadata": {},
   "outputs": [],
   "source": [
    "# Define y as \"SalePrice\"\n",
    "y = data.SalePrice.copy()"
   ]
  },
  {
   "cell_type": "markdown",
   "id": "21404f57",
   "metadata": {},
   "source": [
    "## 🧪 <span style='background:yellow'> Try Multiple Linear Regression </span>\n",
    "* Split data into Train and Test sets\n",
    "* Use Lasso to select best features"
   ]
  },
  {
   "cell_type": "code",
   "execution_count": 4,
   "id": "fe26bc65",
   "metadata": {},
   "outputs": [
    {
     "data": {
      "text/plain": [
       "GrLivArea         0\n",
       "LotArea           0\n",
       "MasVnrArea       14\n",
       "BsmtUnfSF         1\n",
       "TotalBsmtSF       1\n",
       "1stFlrSF          0\n",
       "2ndFlrSF          0\n",
       "LowQualFinSF      0\n",
       "GarageArea        1\n",
       "WoodDeckSF        0\n",
       "OpenPorchSF       0\n",
       "EnclosedPorch     0\n",
       "3SsnPorch         0\n",
       "ScreenPorch       0\n",
       "PoolArea          0\n",
       "dtype: int64"
      ]
     },
     "execution_count": 4,
     "metadata": {},
     "output_type": "execute_result"
    }
   ],
   "source": [
    "size_related = data.filter(regex='SF$|Area$|(Porch)')\n",
    "size_related.isnull().sum(axis=0)"
   ]
  },
  {
   "cell_type": "code",
   "execution_count": 5,
   "id": "35bc7db0",
   "metadata": {},
   "outputs": [],
   "source": [
    "size_related = size_related.fillna(0.0)  # We fill the very minor missing values by 0.0"
   ]
  },
  {
   "cell_type": "markdown",
   "id": "7a067904",
   "metadata": {},
   "source": [
    "### Create new Feature called <span style=\"color:brown\">PorchArea</span> (Sum of all Porch & Deck)\n",
    "* WoodDeckSF + OpenPorchSF + EnclosedPorch + 3SsnPorch + ScreenPorch"
   ]
  },
  {
   "cell_type": "code",
   "execution_count": 6,
   "id": "ac3eadf3",
   "metadata": {},
   "outputs": [],
   "source": [
    "size_related['PorchArea'] = size_related[['WoodDeckSF','OpenPorchSF','EnclosedPorch','3SsnPorch','ScreenPorch']].sum(axis=1)\n",
    "size_related.drop(['WoodDeckSF','OpenPorchSF','EnclosedPorch','3SsnPorch','ScreenPorch'],axis=1,inplace=True)"
   ]
  },
  {
   "cell_type": "markdown",
   "id": "04efc646",
   "metadata": {},
   "source": [
    "#### Remove potential collinearity features\n",
    "* **only Keep**: LotArea, 1stFlrSF, 2ndFlrSF, GarageArea, PorchArea"
   ]
  },
  {
   "cell_type": "code",
   "execution_count": 7,
   "id": "ab2e8cb6",
   "metadata": {},
   "outputs": [],
   "source": [
    "X = size_related[['LotArea', '1stFlrSF', '2ndFlrSF', 'GarageArea', 'PorchArea']]"
   ]
  },
  {
   "cell_type": "code",
   "execution_count": 8,
   "id": "b741606f",
   "metadata": {},
   "outputs": [],
   "source": [
    "X_train, X_test, y_train, y_test = train_test_split(X, y, test_size=0.30, random_state=44)"
   ]
  },
  {
   "cell_type": "markdown",
   "id": "2335c083",
   "metadata": {},
   "source": [
    "### 🥢 Lasso"
   ]
  },
  {
   "cell_type": "code",
   "execution_count": 9,
   "id": "cc5d9444",
   "metadata": {},
   "outputs": [
    {
     "data": {
      "text/plain": [
       "Lasso()"
      ]
     },
     "execution_count": 9,
     "metadata": {},
     "output_type": "execute_result"
    }
   ],
   "source": [
    "lasso_lm = Lasso()\n",
    "lasso_lm.set_params(normalize=False)"
   ]
  },
  {
   "cell_type": "code",
   "execution_count": 10,
   "id": "5e8f5fcf",
   "metadata": {},
   "outputs": [],
   "source": [
    "#try different alphas\n",
    "alphas = np.linspace(0.001,50,200)\n",
    "coefs_lasso = []\n",
    "R2_train = []\n",
    "R2_test = []\n",
    "\n",
    "for a in alphas:\n",
    "    lasso_lm.set_params(alpha=a)\n",
    "    lasso_lm.fit(X_train, np.log10(y_train))\n",
    "    coefs_lasso.append(lasso_lm.coef_)\n",
    "    R2_train.append(lasso_lm.score(X_train, np.log10(y_train)))\n",
    "    R2_test.append(lasso_lm.score(X_test, np.log10(y_test)))"
   ]
  },
  {
   "cell_type": "code",
   "execution_count": 11,
   "id": "5e540c7b",
   "metadata": {},
   "outputs": [
    {
     "data": {
      "text/html": [
       "<div>\n",
       "<style scoped>\n",
       "    .dataframe tbody tr th:only-of-type {\n",
       "        vertical-align: middle;\n",
       "    }\n",
       "\n",
       "    .dataframe tbody tr th {\n",
       "        vertical-align: top;\n",
       "    }\n",
       "\n",
       "    .dataframe thead th {\n",
       "        text-align: right;\n",
       "    }\n",
       "</style>\n",
       "<table border=\"1\" class=\"dataframe\">\n",
       "  <thead>\n",
       "    <tr style=\"text-align: right;\">\n",
       "      <th></th>\n",
       "      <th>LotArea</th>\n",
       "      <th>1stFlrSF</th>\n",
       "      <th>2ndFlrSF</th>\n",
       "      <th>GarageArea</th>\n",
       "      <th>PorchArea</th>\n",
       "    </tr>\n",
       "  </thead>\n",
       "  <tbody>\n",
       "    <tr>\n",
       "      <th>0.001000</th>\n",
       "      <td>2.404249e-07</td>\n",
       "      <td>0.00023</td>\n",
       "      <td>0.000139</td>\n",
       "      <td>0.000279</td>\n",
       "      <td>0.000104</td>\n",
       "    </tr>\n",
       "    <tr>\n",
       "      <th>0.252251</th>\n",
       "      <td>2.880177e-07</td>\n",
       "      <td>0.00023</td>\n",
       "      <td>0.000138</td>\n",
       "      <td>0.000275</td>\n",
       "      <td>0.000096</td>\n",
       "    </tr>\n",
       "  </tbody>\n",
       "</table>\n",
       "</div>"
      ],
      "text/plain": [
       "               LotArea  1stFlrSF  2ndFlrSF  GarageArea  PorchArea\n",
       "0.001000  2.404249e-07   0.00023  0.000139    0.000279   0.000104\n",
       "0.252251  2.880177e-07   0.00023  0.000138    0.000275   0.000096"
      ]
     },
     "execution_count": 11,
     "metadata": {},
     "output_type": "execute_result"
    }
   ],
   "source": [
    "coefs_lasso = pd.DataFrame(coefs_lasso, index = alphas, columns = X_train.columns)\n",
    "R2_lasso = pd.DataFrame({'train': R2_train,'test':R2_test}, index = alphas)\n",
    "coefs_lasso.head(2)"
   ]
  },
  {
   "cell_type": "code",
   "execution_count": 12,
   "id": "f82e3ed4",
   "metadata": {},
   "outputs": [
    {
     "data": {
      "text/plain": [
       "<matplotlib.legend.Legend at 0x1c71dd902e0>"
      ]
     },
     "execution_count": 12,
     "metadata": {},
     "output_type": "execute_result"
    },
    {
     "data": {
      "image/png": "[encoded data removed]",
      "text/plain": [
       "<Figure size 1008x432 with 2 Axes>"
      ]
     },
     "metadata": {
      "needs_background": "light"
     },
     "output_type": "display_data"
    }
   ],
   "source": [
    "fig, (ax1, ax2) = plt.subplots(1, 2, figsize=(14,6))\n",
    "fig.suptitle('Lasso Regression results')\n",
    "\n",
    "for feat in coefs_lasso.columns:\n",
    "    ax1.plot(coefs_lasso.index, 10**coefs_lasso[feat], label=feat) \n",
    "ax1.set_xlabel(r'hyperparameter $\\lambda$')\n",
    "ax1.set_ylabel(r'slope values')\n",
    "ax1.legend(loc=1)\n",
    "for each in R2_lasso.columns:\n",
    "    ax2.plot(R2_lasso.index, R2_lasso[each], label=each)\n",
    "ax2.set_xlabel(r'hyperparameter $\\lambda$')\n",
    "ax2.legend(loc=1)"
   ]
  },
  {
   "cell_type": "markdown",
   "id": "f9201356",
   "metadata": {},
   "source": [
    "#### 1stFlr and 2ndFlr are best, Maybe Garage"
   ]
  },
  {
   "cell_type": "code",
   "execution_count": 13,
   "id": "23662d14",
   "metadata": {},
   "outputs": [
    {
     "data": {
      "text/plain": [
       "0.6165579769266639"
      ]
     },
     "execution_count": 13,
     "metadata": {},
     "output_type": "execute_result"
    }
   ],
   "source": [
    "lm = LinearRegression()\n",
    "lm.fit(X_train,np.log10(y_train))\n",
    "lm.score(X_test,np.log10(y_test))"
   ]
  },
  {
   "cell_type": "code",
   "execution_count": 14,
   "id": "1c08d007",
   "metadata": {},
   "outputs": [
    {
     "data": {
      "text/html": [
       "<div>\n",
       "<style scoped>\n",
       "    .dataframe tbody tr th:only-of-type {\n",
       "        vertical-align: middle;\n",
       "    }\n",
       "\n",
       "    .dataframe tbody tr th {\n",
       "        vertical-align: top;\n",
       "    }\n",
       "\n",
       "    .dataframe thead th {\n",
       "        text-align: right;\n",
       "    }\n",
       "</style>\n",
       "<table border=\"1\" class=\"dataframe\">\n",
       "  <thead>\n",
       "    <tr style=\"text-align: right;\">\n",
       "      <th></th>\n",
       "      <th>var</th>\n",
       "      <th>VIF</th>\n",
       "    </tr>\n",
       "  </thead>\n",
       "  <tbody>\n",
       "    <tr>\n",
       "      <th>0</th>\n",
       "      <td>LotArea</td>\n",
       "      <td>2.808927</td>\n",
       "    </tr>\n",
       "    <tr>\n",
       "      <th>1</th>\n",
       "      <td>1stFlrSF</td>\n",
       "      <td>9.666886</td>\n",
       "    </tr>\n",
       "    <tr>\n",
       "      <th>2</th>\n",
       "      <td>2ndFlrSF</td>\n",
       "      <td>1.753926</td>\n",
       "    </tr>\n",
       "    <tr>\n",
       "      <th>3</th>\n",
       "      <td>GarageArea</td>\n",
       "      <td>8.697197</td>\n",
       "    </tr>\n",
       "    <tr>\n",
       "      <th>4</th>\n",
       "      <td>PorchArea</td>\n",
       "      <td>2.763854</td>\n",
       "    </tr>\n",
       "  </tbody>\n",
       "</table>\n",
       "</div>"
      ],
      "text/plain": [
       "          var       VIF\n",
       "0     LotArea  2.808927\n",
       "1    1stFlrSF  9.666886\n",
       "2    2ndFlrSF  1.753926\n",
       "3  GarageArea  8.697197\n",
       "4   PorchArea  2.763854"
      ]
     },
     "execution_count": 14,
     "metadata": {},
     "output_type": "execute_result"
    }
   ],
   "source": [
    "vif = pd.DataFrame()\n",
    "vif['var'] = X_train.columns\n",
    "vif['VIF'] = [variance_inflation_factor(X_train.values, i) for i in range(X_train.shape[1])]\n",
    "vif"
   ]
  },
  {
   "cell_type": "markdown",
   "id": "00108b7a",
   "metadata": {},
   "source": [
    "#### High VIFs (1stFlrSF and GarageArea), \n",
    "* try removing Garage"
   ]
  },
  {
   "cell_type": "code",
   "execution_count": 15,
   "id": "81718513",
   "metadata": {},
   "outputs": [
    {
     "data": {
      "text/plain": [
       "0.5781747664657413"
      ]
     },
     "execution_count": 15,
     "metadata": {},
     "output_type": "execute_result"
    }
   ],
   "source": [
    "X = size_related[['LotArea', '1stFlrSF', '2ndFlrSF', 'PorchArea']]\n",
    "X_train, X_test, y_train, y_test = train_test_split(X, y, test_size=0.30, random_state=44)\n",
    "lm = LinearRegression()\n",
    "lm.fit(X_train,np.log10(y_train))\n",
    "lm.score(X_test,np.log10(y_test))"
   ]
  },
  {
   "cell_type": "code",
   "execution_count": 16,
   "id": "7a269102",
   "metadata": {},
   "outputs": [
    {
     "data": {
      "text/html": [
       "<div>\n",
       "<style scoped>\n",
       "    .dataframe tbody tr th:only-of-type {\n",
       "        vertical-align: middle;\n",
       "    }\n",
       "\n",
       "    .dataframe tbody tr th {\n",
       "        vertical-align: top;\n",
       "    }\n",
       "\n",
       "    .dataframe thead th {\n",
       "        text-align: right;\n",
       "    }\n",
       "</style>\n",
       "<table border=\"1\" class=\"dataframe\">\n",
       "  <thead>\n",
       "    <tr style=\"text-align: right;\">\n",
       "      <th></th>\n",
       "      <th>var</th>\n",
       "      <th>VIF</th>\n",
       "    </tr>\n",
       "  </thead>\n",
       "  <tbody>\n",
       "    <tr>\n",
       "      <th>0</th>\n",
       "      <td>LotArea</td>\n",
       "      <td>2.808449</td>\n",
       "    </tr>\n",
       "    <tr>\n",
       "      <th>1</th>\n",
       "      <td>1stFlrSF</td>\n",
       "      <td>3.990350</td>\n",
       "    </tr>\n",
       "    <tr>\n",
       "      <th>2</th>\n",
       "      <td>2ndFlrSF</td>\n",
       "      <td>1.514106</td>\n",
       "    </tr>\n",
       "    <tr>\n",
       "      <th>3</th>\n",
       "      <td>PorchArea</td>\n",
       "      <td>2.752236</td>\n",
       "    </tr>\n",
       "  </tbody>\n",
       "</table>\n",
       "</div>"
      ],
      "text/plain": [
       "         var       VIF\n",
       "0    LotArea  2.808449\n",
       "1   1stFlrSF  3.990350\n",
       "2   2ndFlrSF  1.514106\n",
       "3  PorchArea  2.752236"
      ]
     },
     "execution_count": 16,
     "metadata": {},
     "output_type": "execute_result"
    }
   ],
   "source": [
    "vif = pd.DataFrame()\n",
    "vif['var'] = X_train.columns\n",
    "vif['VIF'] = [variance_inflation_factor(X_train.values, i) for i in range(X_train.shape[1])]\n",
    "vif"
   ]
  },
  {
   "cell_type": "markdown",
   "id": "5ad8e84c",
   "metadata": {},
   "source": [
    "## 🧪Try \n",
    "1. Bsmt, Garage, Pool, DeckORPorch into **<span style=\"color:red\">BINARY</span>** features (Y or N)\n",
    "2. Remove **LotArea**"
   ]
  },
  {
   "cell_type": "code",
   "execution_count": 17,
   "id": "dffca0ce",
   "metadata": {},
   "outputs": [],
   "source": [
    "size_related['Bsmt_YN'] = size_related.TotalBsmtSF != 0\n",
    "size_related['Garage_YN'] = size_related.GarageArea != 0\n",
    "size_related['Pool_YN'] = size_related.PoolArea != 0\n",
    "size_related['DeckPorch_YN'] = size_related.PorchArea != 0"
   ]
  },
  {
   "cell_type": "markdown",
   "id": "1c67b01f",
   "metadata": {},
   "source": [
    "#### Multiple Regression with the 3 Continuous features from before plus the 4 new Binary features"
   ]
  },
  {
   "cell_type": "code",
   "execution_count": 18,
   "id": "95b96198",
   "metadata": {},
   "outputs": [],
   "source": [
    "X = size_related[['1stFlrSF', '2ndFlrSF','Bsmt_YN','Garage_YN','Pool_YN','DeckPorch_YN']].copy()"
   ]
  },
  {
   "cell_type": "code",
   "execution_count": 19,
   "id": "cf028f87",
   "metadata": {},
   "outputs": [
    {
     "data": {
      "text/plain": [
       "Bsmt_YN         2510\n",
       "Garage_YN       2451\n",
       "Pool_YN            9\n",
       "DeckPorch_YN    2147\n",
       "dtype: int64"
      ]
     },
     "execution_count": 19,
     "metadata": {},
     "output_type": "execute_result"
    }
   ],
   "source": [
    "#Check\n",
    "X[['Bsmt_YN','Garage_YN','Pool_YN','DeckPorch_YN']].sum(axis=0)"
   ]
  },
  {
   "cell_type": "code",
   "execution_count": 20,
   "id": "2f6e23ca",
   "metadata": {},
   "outputs": [
    {
     "data": {
      "image/png": "[encoded data removed]",
      "text/plain": [
       "<Figure size 720x720 with 4 Axes>"
      ]
     },
     "metadata": {
      "needs_background": "light"
     },
     "output_type": "display_data"
    }
   ],
   "source": [
    "fig, ax = plt.subplots(2,2, figsize=(10,10))\n",
    "\n",
    "for idx, COL in enumerate(X.drop(['1stFlrSF', '2ndFlrSF'], axis=1).columns):\n",
    "    sns.boxplot(ax=ax[idx//2,idx%2],\n",
    "            x=X[COL], y=y, \n",
    "            order = X[COL].value_counts().index,\n",
    "            palette=\"mako_r\", linewidth=1)"
   ]
  },
  {
   "cell_type": "code",
   "execution_count": 21,
   "id": "6fc3b8d0",
   "metadata": {},
   "outputs": [
    {
     "data": {
      "text/plain": [
       "0.6233449100379519"
      ]
     },
     "execution_count": 21,
     "metadata": {},
     "output_type": "execute_result"
    }
   ],
   "source": [
    "X_train, X_test, y_train, y_test = train_test_split(X, y, test_size=0.30, random_state=44)\n",
    "lm = LinearRegression()\n",
    "lm.fit(X_train,np.log10(y_train))\n",
    "lm.score(X_test,np.log10(y_test))"
   ]
  },
  {
   "cell_type": "markdown",
   "id": "c2d48c55",
   "metadata": {},
   "source": [
    "#### <span style=\"color:green\">Interpret Coefficients</span> 💹"
   ]
  },
  {
   "cell_type": "code",
   "execution_count": 22,
   "id": "0bb8c914",
   "metadata": {
    "scrolled": true
   },
   "outputs": [
    {
     "name": "stdout",
     "output_type": "stream",
     "text": [
      "Intercept: 31620.086\n"
     ]
    },
    {
     "data": {
      "text/html": [
       "<div>\n",
       "<style scoped>\n",
       "    .dataframe tbody tr th:only-of-type {\n",
       "        vertical-align: middle;\n",
       "    }\n",
       "\n",
       "    .dataframe tbody tr th {\n",
       "        vertical-align: top;\n",
       "    }\n",
       "\n",
       "    .dataframe thead th {\n",
       "        text-align: right;\n",
       "    }\n",
       "</style>\n",
       "<table border=\"1\" class=\"dataframe\">\n",
       "  <thead>\n",
       "    <tr style=\"text-align: right;\">\n",
       "      <th></th>\n",
       "      <th>0</th>\n",
       "    </tr>\n",
       "  </thead>\n",
       "  <tbody>\n",
       "    <tr>\n",
       "      <th>1stFlrSF</th>\n",
       "      <td>0.072</td>\n",
       "    </tr>\n",
       "    <tr>\n",
       "      <th>2ndFlrSF</th>\n",
       "      <td>0.040</td>\n",
       "    </tr>\n",
       "    <tr>\n",
       "      <th>Bsmt_YN</th>\n",
       "      <td>43.363</td>\n",
       "    </tr>\n",
       "    <tr>\n",
       "      <th>Garage_YN</th>\n",
       "      <td>30.124</td>\n",
       "    </tr>\n",
       "    <tr>\n",
       "      <th>Pool_YN</th>\n",
       "      <td>-11.513</td>\n",
       "    </tr>\n",
       "    <tr>\n",
       "      <th>DeckPorch_YN</th>\n",
       "      <td>12.179</td>\n",
       "    </tr>\n",
       "  </tbody>\n",
       "</table>\n",
       "</div>"
      ],
      "text/plain": [
       "                   0\n",
       "1stFlrSF       0.072\n",
       "2ndFlrSF       0.040\n",
       "Bsmt_YN       43.363\n",
       "Garage_YN     30.124\n",
       "Pool_YN      -11.513\n",
       "DeckPorch_YN  12.179"
      ]
     },
     "execution_count": 22,
     "metadata": {},
     "output_type": "execute_result"
    }
   ],
   "source": [
    "print(f'Intercept: {round(10**lm.intercept_,3)}')\n",
    "pd.DataFrame(np.round(((10**lm.coef_-1)*100),3),index=X.columns)"
   ]
  },
  {
   "cell_type": "markdown",
   "id": "68dd13d3",
   "metadata": {},
   "source": [
    "## 🧪Try \n",
    "* 2nd floor Area (2ndFlrSF): **bin** and dummify"
   ]
  },
  {
   "cell_type": "code",
   "execution_count": 23,
   "id": "1c2b584b",
   "metadata": {},
   "outputs": [
    {
     "data": {
      "text/plain": [
       "<matplotlib.collections.PathCollection at 0x1c71e1ffd90>"
      ]
     },
     "execution_count": 23,
     "metadata": {},
     "output_type": "execute_result"
    },
    {
     "data": {
      "image/png": "[encoded data removed]",
      "text/plain": [
       "<Figure size 1008x360 with 2 Axes>"
      ]
     },
     "metadata": {
      "needs_background": "light"
     },
     "output_type": "display_data"
    }
   ],
   "source": [
    "fig, (ax1, ax2) = plt.subplots(1, 2, figsize=(14,5))\n",
    "fig.suptitle('2ndFlrSF Hist   &   2ndFlrSF vs log10(Price) Scat')\n",
    "\n",
    "X['2ndFlrSF'].hist(ax=ax1, bins=20)\n",
    "ax2.scatter(x=X['2ndFlrSF'],y=np.log10(y),s=2,c='k')"
   ]
  },
  {
   "cell_type": "code",
   "execution_count": 24,
   "id": "4944276a",
   "metadata": {},
   "outputs": [],
   "source": [
    "X['2F_Class'] = pd.cut(x=X['2ndFlrSF'] , bins=[-1,1,650,850,5000], labels=['2F_0','2F_650under','2F_850under','2F_850plus'])"
   ]
  },
  {
   "cell_type": "code",
   "execution_count": 25,
   "id": "e64f510f",
   "metadata": {},
   "outputs": [
    {
     "data": {
      "text/plain": [
       "2F_0           1464\n",
       "2F_850plus      388\n",
       "2F_850under     368\n",
       "2F_650under     359\n",
       "Name: 2F_Class, dtype: int64"
      ]
     },
     "execution_count": 25,
     "metadata": {},
     "output_type": "execute_result"
    }
   ],
   "source": [
    "X['2F_Class'].value_counts()"
   ]
  },
  {
   "cell_type": "code",
   "execution_count": 26,
   "id": "5c821131",
   "metadata": {},
   "outputs": [],
   "source": [
    "X = pd.concat([X, pd.get_dummies(X['2F_Class'], drop_first=True)],axis=1)\n",
    "X.drop(['2ndFlrSF','2F_Class'],axis=1, inplace=True)"
   ]
  },
  {
   "cell_type": "code",
   "execution_count": 27,
   "id": "406102c6",
   "metadata": {
    "scrolled": true
   },
   "outputs": [
    {
     "data": {
      "text/plain": [
       "0.6227983916083779"
      ]
     },
     "execution_count": 27,
     "metadata": {},
     "output_type": "execute_result"
    }
   ],
   "source": [
    "X_train, X_test, y_train, y_test = train_test_split(X, y, test_size=0.30, random_state=44)\n",
    "lm = LinearRegression()\n",
    "lm.fit(X_train,np.log10(y_train))\n",
    "lm.score(X_test,np.log10(y_test))"
   ]
  },
  {
   "cell_type": "markdown",
   "id": "510d1e2f",
   "metadata": {},
   "source": [
    "#### <span style=\"color:green\">Interpret Coefficients</span> 💹"
   ]
  },
  {
   "cell_type": "code",
   "execution_count": 28,
   "id": "08d71d3b",
   "metadata": {},
   "outputs": [
    {
     "name": "stdout",
     "output_type": "stream",
     "text": [
      "Intercept: 32493.378\n"
     ]
    },
    {
     "data": {
      "text/html": [
       "<div>\n",
       "<style scoped>\n",
       "    .dataframe tbody tr th:only-of-type {\n",
       "        vertical-align: middle;\n",
       "    }\n",
       "\n",
       "    .dataframe tbody tr th {\n",
       "        vertical-align: top;\n",
       "    }\n",
       "\n",
       "    .dataframe thead th {\n",
       "        text-align: right;\n",
       "    }\n",
       "</style>\n",
       "<table border=\"1\" class=\"dataframe\">\n",
       "  <thead>\n",
       "    <tr style=\"text-align: right;\">\n",
       "      <th></th>\n",
       "      <th>0</th>\n",
       "    </tr>\n",
       "  </thead>\n",
       "  <tbody>\n",
       "    <tr>\n",
       "      <th>1stFlrSF</th>\n",
       "      <td>0.070</td>\n",
       "    </tr>\n",
       "    <tr>\n",
       "      <th>Bsmt_YN</th>\n",
       "      <td>43.907</td>\n",
       "    </tr>\n",
       "    <tr>\n",
       "      <th>Garage_YN</th>\n",
       "      <td>30.415</td>\n",
       "    </tr>\n",
       "    <tr>\n",
       "      <th>Pool_YN</th>\n",
       "      <td>-10.325</td>\n",
       "    </tr>\n",
       "    <tr>\n",
       "      <th>DeckPorch_YN</th>\n",
       "      <td>11.552</td>\n",
       "    </tr>\n",
       "    <tr>\n",
       "      <th>2F_650under</th>\n",
       "      <td>10.267</td>\n",
       "    </tr>\n",
       "    <tr>\n",
       "      <th>2F_850under</th>\n",
       "      <td>35.829</td>\n",
       "    </tr>\n",
       "    <tr>\n",
       "      <th>2F_850plus</th>\n",
       "      <td>55.340</td>\n",
       "    </tr>\n",
       "  </tbody>\n",
       "</table>\n",
       "</div>"
      ],
      "text/plain": [
       "                   0\n",
       "1stFlrSF       0.070\n",
       "Bsmt_YN       43.907\n",
       "Garage_YN     30.415\n",
       "Pool_YN      -10.325\n",
       "DeckPorch_YN  11.552\n",
       "2F_650under   10.267\n",
       "2F_850under   35.829\n",
       "2F_850plus    55.340"
      ]
     },
     "execution_count": 28,
     "metadata": {},
     "output_type": "execute_result"
    }
   ],
   "source": [
    "print(f'Intercept: {round(10**lm.intercept_,3)}')\n",
    "pd.DataFrame(np.round(((10**lm.coef_-1)*100),3),index=X.columns)"
   ]
  },
  {
   "cell_type": "markdown",
   "id": "dac1f3f1",
   "metadata": {},
   "source": [
    "#### Tho no improvement from leaving 2ndFlrSF unbinned"
   ]
  },
  {
   "cell_type": "markdown",
   "id": "3ee281d4",
   "metadata": {},
   "source": [
    "## 🧪 <span style='background:yellow'> Bring in other features </span>\n",
    "* YearBuilt / OverallQual / DfromWalmart"
   ]
  },
  {
   "cell_type": "code",
   "execution_count": 29,
   "id": "1bdebfd2",
   "metadata": {},
   "outputs": [],
   "source": [
    "X = X.merge(data[['YearBuilt','OverallQual','DfromWalmart']], on='PID')"
   ]
  },
  {
   "cell_type": "code",
   "execution_count": 30,
   "id": "e4d170d8",
   "metadata": {},
   "outputs": [],
   "source": [
    "X_train, X_test, y_train, y_test = train_test_split(X, y, test_size=0.30, random_state=44)\n",
    "lm = LinearRegression()"
   ]
  },
  {
   "cell_type": "code",
   "execution_count": 31,
   "id": "2a72e50a",
   "metadata": {},
   "outputs": [
    {
     "data": {
      "text/plain": [
       "0.37724749993317375"
      ]
     },
     "execution_count": 31,
     "metadata": {},
     "output_type": "execute_result"
    }
   ],
   "source": [
    "# Simple on YEARBUILT\n",
    "lm.fit(X_train[['YearBuilt']],np.log10(y_train))\n",
    "lm.score(X_test[['YearBuilt']],np.log10(y_test))"
   ]
  },
  {
   "cell_type": "code",
   "execution_count": 32,
   "id": "28195f01",
   "metadata": {},
   "outputs": [
    {
     "data": {
      "text/plain": [
       "0.6569135330651092"
      ]
     },
     "execution_count": 32,
     "metadata": {},
     "output_type": "execute_result"
    }
   ],
   "source": [
    "# Simple on OverallQual\n",
    "lm.fit(X_train[['OverallQual']],np.log10(y_train))\n",
    "lm.score(X_test[['OverallQual']],np.log10(y_test))"
   ]
  },
  {
   "cell_type": "code",
   "execution_count": 33,
   "id": "f3cf1f01",
   "metadata": {},
   "outputs": [
    {
     "data": {
      "text/plain": [
       "0.21923436192912382"
      ]
     },
     "execution_count": 33,
     "metadata": {},
     "output_type": "execute_result"
    }
   ],
   "source": [
    "# Simple on DfromWalmart\n",
    "lm.fit(X_train[['DfromWalmart']],np.log10(y_train))\n",
    "lm.score(X_test[['DfromWalmart']],np.log10(y_test))"
   ]
  },
  {
   "cell_type": "markdown",
   "id": "cbf7cde0",
   "metadata": {},
   "source": [
    "### 🧵 Ridge"
   ]
  },
  {
   "cell_type": "code",
   "execution_count": 34,
   "id": "218c559d",
   "metadata": {},
   "outputs": [
    {
     "data": {
      "text/plain": [
       "Ridge(normalize=True)"
      ]
     },
     "execution_count": 34,
     "metadata": {},
     "output_type": "execute_result"
    }
   ],
   "source": [
    "ridge = Ridge()\n",
    "ridge.set_params(normalize=True)"
   ]
  },
  {
   "cell_type": "code",
   "execution_count": 35,
   "id": "74f7064c",
   "metadata": {},
   "outputs": [],
   "source": [
    "alphas = np.arange(0,20)\n",
    "coefs_ridge  = []\n",
    "R2_train = []\n",
    "R2_test = []\n",
    "for alpha in alphas:\n",
    "    ridge.set_params(alpha=alpha)\n",
    "    ridge.fit(X_train, np.log10(y_train))\n",
    "    coefs_ridge.append(ridge.coef_)\n",
    "    R2_train.append(ridge.score(X_train, np.log10(y_train)))\n",
    "    R2_test.append(ridge.score(X_test, np.log10(y_test)))"
   ]
  },
  {
   "cell_type": "code",
   "execution_count": 36,
   "id": "c1b89182",
   "metadata": {},
   "outputs": [
    {
     "data": {
      "text/html": [
       "<div>\n",
       "<style scoped>\n",
       "    .dataframe tbody tr th:only-of-type {\n",
       "        vertical-align: middle;\n",
       "    }\n",
       "\n",
       "    .dataframe tbody tr th {\n",
       "        vertical-align: top;\n",
       "    }\n",
       "\n",
       "    .dataframe thead th {\n",
       "        text-align: right;\n",
       "    }\n",
       "</style>\n",
       "<table border=\"1\" class=\"dataframe\">\n",
       "  <thead>\n",
       "    <tr style=\"text-align: right;\">\n",
       "      <th></th>\n",
       "      <th>1stFlrSF</th>\n",
       "      <th>Bsmt_YN</th>\n",
       "      <th>Garage_YN</th>\n",
       "      <th>Pool_YN</th>\n",
       "      <th>DeckPorch_YN</th>\n",
       "      <th>2F_650under</th>\n",
       "      <th>2F_850under</th>\n",
       "      <th>2F_850plus</th>\n",
       "      <th>YearBuilt</th>\n",
       "      <th>OverallQual</th>\n",
       "      <th>DfromWalmart</th>\n",
       "    </tr>\n",
       "  </thead>\n",
       "  <tbody>\n",
       "    <tr>\n",
       "      <th>0</th>\n",
       "      <td>0.000200</td>\n",
       "      <td>0.076807</td>\n",
       "      <td>0.060970</td>\n",
       "      <td>0.008489</td>\n",
       "      <td>0.016200</td>\n",
       "      <td>0.039747</td>\n",
       "      <td>0.084328</td>\n",
       "      <td>0.124807</td>\n",
       "      <td>0.001071</td>\n",
       "      <td>0.046266</td>\n",
       "      <td>0.003200</td>\n",
       "    </tr>\n",
       "    <tr>\n",
       "      <th>1</th>\n",
       "      <td>0.000096</td>\n",
       "      <td>0.056194</td>\n",
       "      <td>0.058648</td>\n",
       "      <td>0.039839</td>\n",
       "      <td>0.028401</td>\n",
       "      <td>-0.013850</td>\n",
       "      <td>0.019495</td>\n",
       "      <td>0.059898</td>\n",
       "      <td>0.000776</td>\n",
       "      <td>0.031759</td>\n",
       "      <td>0.012447</td>\n",
       "    </tr>\n",
       "  </tbody>\n",
       "</table>\n",
       "</div>"
      ],
      "text/plain": [
       "   1stFlrSF   Bsmt_YN  Garage_YN   Pool_YN  DeckPorch_YN  2F_650under  \\\n",
       "0  0.000200  0.076807   0.060970  0.008489      0.016200     0.039747   \n",
       "1  0.000096  0.056194   0.058648  0.039839      0.028401    -0.013850   \n",
       "\n",
       "   2F_850under  2F_850plus  YearBuilt  OverallQual  DfromWalmart  \n",
       "0     0.084328    0.124807   0.001071     0.046266      0.003200  \n",
       "1     0.019495    0.059898   0.000776     0.031759      0.012447  "
      ]
     },
     "execution_count": 36,
     "metadata": {},
     "output_type": "execute_result"
    }
   ],
   "source": [
    "coefs_ridge = pd.DataFrame(coefs_ridge, index=alphas, columns=X_train.columns)\n",
    "R2_ridge = pd.DataFrame({'R2_train':R2_train,'R2_test':R2_test})\n",
    "coefs_ridge.head(2)"
   ]
  },
  {
   "cell_type": "code",
   "execution_count": 37,
   "id": "73be61c4",
   "metadata": {},
   "outputs": [
    {
     "data": {
      "text/plain": [
       "<matplotlib.legend.Legend at 0x1c71edfaf70>"
      ]
     },
     "execution_count": 37,
     "metadata": {},
     "output_type": "execute_result"
    },
    {
     "data": {
      "image/png": "[encoded data removed]",
      "text/plain": [
       "<Figure size 1008x432 with 2 Axes>"
      ]
     },
     "metadata": {
      "needs_background": "light"
     },
     "output_type": "display_data"
    }
   ],
   "source": [
    "fig, (ax1, ax2) = plt.subplots(1, 2, figsize=(14,6))\n",
    "fig.suptitle('Ridge Regression results')\n",
    "\n",
    "for feat in coefs_ridge.columns:\n",
    "    ax1.plot(coefs_ridge.index, 10**coefs_ridge[feat], label=feat) \n",
    "ax1.set_xlabel(r'hyperparameter $\\lambda$')\n",
    "ax1.set_ylabel(r'coef_ values')\n",
    "ax1.legend(loc=1)\n",
    "for each in R2_ridge.columns:\n",
    "    ax2.plot(R2_ridge.index, R2_ridge[each], label=each)\n",
    "ax2.set_xlabel(r'hyperparameter $\\lambda$')\n",
    "ax2.legend(loc=1)"
   ]
  },
  {
   "cell_type": "code",
   "execution_count": 38,
   "id": "ca392701",
   "metadata": {
    "scrolled": false
   },
   "outputs": [
    {
     "data": {
      "text/plain": [
       "2F_850plus      0.124807\n",
       "2F_850under     0.084328\n",
       "Bsmt_YN         0.076807\n",
       "Garage_YN       0.060970\n",
       "OverallQual     0.046266\n",
       "2F_650under     0.039747\n",
       "DeckPorch_YN    0.016200\n",
       "Pool_YN         0.008489\n",
       "DfromWalmart    0.003200\n",
       "YearBuilt       0.001071\n",
       "1stFlrSF        0.000200\n",
       "Name: 0, dtype: float64"
      ]
     },
     "execution_count": 38,
     "metadata": {},
     "output_type": "execute_result"
    }
   ],
   "source": [
    "coefs_ridge.iloc[0].sort_values(ascending=False)"
   ]
  },
  {
   "cell_type": "markdown",
   "id": "8146637f",
   "metadata": {},
   "source": [
    "## 🧪 <span style='background:yellow'> Bring in other features </span>\n",
    "* Sector (dummify)"
   ]
  },
  {
   "cell_type": "code",
   "execution_count": 44,
   "id": "197d1583",
   "metadata": {},
   "outputs": [],
   "source": [
    "# Dummify Sector\n",
    "X = X.merge(pd.get_dummies(data['Sector'], drop_first=True), on='PID')"
   ]
  },
  {
   "cell_type": "code",
   "execution_count": 58,
   "id": "991b3681",
   "metadata": {},
   "outputs": [],
   "source": [
    "X_train, X_test, y_train, y_test = train_test_split(X, y, test_size=0.30, random_state=44)"
   ]
  },
  {
   "cell_type": "markdown",
   "id": "ee7d5f33",
   "metadata": {},
   "source": [
    "### 🧵 Ridge"
   ]
  },
  {
   "cell_type": "code",
   "execution_count": 69,
   "id": "f77beef8",
   "metadata": {},
   "outputs": [
    {
     "data": {
      "text/plain": [
       "Ridge(normalize=True)"
      ]
     },
     "execution_count": 69,
     "metadata": {},
     "output_type": "execute_result"
    }
   ],
   "source": [
    "ridge = Ridge()\n",
    "ridge.set_params(normalize=True)"
   ]
  },
  {
   "cell_type": "code",
   "execution_count": 80,
   "id": "1ed6d1b9",
   "metadata": {},
   "outputs": [],
   "source": [
    "alphas = np.linspace(0.0001,50,5)\n",
    "coefs_ridge  = []\n",
    "R2_train = []\n",
    "R2_test = []\n",
    "for alpha in alphas:\n",
    "    ridge.set_params(alpha=alpha)\n",
    "    ridge.fit(X_train, np.log10(y_train))\n",
    "    coefs_ridge.append(ridge.coef_)\n",
    "    R2_train.append(ridge.score(X_train, np.log10(y_train)))\n",
    "    R2_test.append(ridge.score(X_test, np.log10(y_test)))"
   ]
  },
  {
   "cell_type": "code",
   "execution_count": 81,
   "id": "3c7ea746",
   "metadata": {},
   "outputs": [
    {
     "data": {
      "text/html": [
       "<div>\n",
       "<style scoped>\n",
       "    .dataframe tbody tr th:only-of-type {\n",
       "        vertical-align: middle;\n",
       "    }\n",
       "\n",
       "    .dataframe tbody tr th {\n",
       "        vertical-align: top;\n",
       "    }\n",
       "\n",
       "    .dataframe thead th {\n",
       "        text-align: right;\n",
       "    }\n",
       "</style>\n",
       "<table border=\"1\" class=\"dataframe\">\n",
       "  <thead>\n",
       "    <tr style=\"text-align: right;\">\n",
       "      <th></th>\n",
       "      <th>1stFlrSF</th>\n",
       "      <th>Bsmt_YN</th>\n",
       "      <th>Garage_YN</th>\n",
       "      <th>Pool_YN</th>\n",
       "      <th>DeckPorch_YN</th>\n",
       "      <th>2F_650under</th>\n",
       "      <th>2F_850under</th>\n",
       "      <th>2F_850plus</th>\n",
       "      <th>YearBuilt</th>\n",
       "      <th>OverallQual</th>\n",
       "      <th>DfromWalmart</th>\n",
       "      <th>NO</th>\n",
       "      <th>NW</th>\n",
       "      <th>SE</th>\n",
       "      <th>SW</th>\n",
       "    </tr>\n",
       "  </thead>\n",
       "  <tbody>\n",
       "    <tr>\n",
       "      <th>0.000100</th>\n",
       "      <td>0.000197</td>\n",
       "      <td>0.078502</td>\n",
       "      <td>0.060749</td>\n",
       "      <td>0.006731</td>\n",
       "      <td>0.016075</td>\n",
       "      <td>0.039305</td>\n",
       "      <td>0.085754</td>\n",
       "      <td>0.123744</td>\n",
       "      <td>0.001089</td>\n",
       "      <td>0.045818</td>\n",
       "      <td>-0.004791</td>\n",
       "      <td>0.010597</td>\n",
       "      <td>0.031927</td>\n",
       "      <td>0.007319</td>\n",
       "      <td>0.024263</td>\n",
       "    </tr>\n",
       "    <tr>\n",
       "      <th>12.500075</th>\n",
       "      <td>0.000019</td>\n",
       "      <td>0.014107</td>\n",
       "      <td>0.015205</td>\n",
       "      <td>0.010396</td>\n",
       "      <td>0.008773</td>\n",
       "      <td>-0.007748</td>\n",
       "      <td>0.001745</td>\n",
       "      <td>0.011662</td>\n",
       "      <td>0.000215</td>\n",
       "      <td>0.006678</td>\n",
       "      <td>0.004478</td>\n",
       "      <td>-0.000472</td>\n",
       "      <td>0.008740</td>\n",
       "      <td>-0.005348</td>\n",
       "      <td>0.000887</td>\n",
       "    </tr>\n",
       "  </tbody>\n",
       "</table>\n",
       "</div>"
      ],
      "text/plain": [
       "           1stFlrSF   Bsmt_YN  Garage_YN   Pool_YN  DeckPorch_YN  2F_650under  \\\n",
       "0.000100   0.000197  0.078502   0.060749  0.006731      0.016075     0.039305   \n",
       "12.500075  0.000019  0.014107   0.015205  0.010396      0.008773    -0.007748   \n",
       "\n",
       "           2F_850under  2F_850plus  YearBuilt  OverallQual  DfromWalmart  \\\n",
       "0.000100      0.085754    0.123744   0.001089     0.045818     -0.004791   \n",
       "12.500075     0.001745    0.011662   0.000215     0.006678      0.004478   \n",
       "\n",
       "                 NO        NW        SE        SW  \n",
       "0.000100   0.010597  0.031927  0.007319  0.024263  \n",
       "12.500075 -0.000472  0.008740 -0.005348  0.000887  "
      ]
     },
     "execution_count": 81,
     "metadata": {},
     "output_type": "execute_result"
    }
   ],
   "source": [
    "coefs_ridge = pd.DataFrame(coefs_ridge, index=alphas, columns=X_train.columns)\n",
    "R2_ridge = pd.DataFrame({'R2_train':R2_train,'R2_test':R2_test})\n",
    "coefs_ridge.head(2)"
   ]
  },
  {
   "cell_type": "code",
   "execution_count": 82,
   "id": "267fab9e",
   "metadata": {},
   "outputs": [
    {
     "data": {
      "text/plain": [
       "<matplotlib.legend.Legend at 0x1c723a5f040>"
      ]
     },
     "execution_count": 82,
     "metadata": {},
     "output_type": "execute_result"
    },
    {
     "data": {
      "image/png": "[encoded data removed]",
      "text/plain": [
       "<Figure size 1008x432 with 2 Axes>"
      ]
     },
     "metadata": {
      "needs_background": "light"
     },
     "output_type": "display_data"
    }
   ],
   "source": [
    "fig, (ax1, ax2) = plt.subplots(1, 2, figsize=(14,6))\n",
    "fig.suptitle('Ridge Regression results')\n",
    "\n",
    "for feat in coefs_ridge.columns:\n",
    "    ax1.plot(coefs_ridge.index, 10**coefs_ridge[feat], label=feat) \n",
    "ax1.set_xlabel(r'hyperparameter $\\lambda$')\n",
    "ax1.set_ylabel(r'coef_ values')\n",
    "ax1.legend(loc=1)\n",
    "for each in R2_ridge.columns:\n",
    "    ax2.plot(R2_ridge.index, R2_ridge[each], label=each)\n",
    "ax2.set_xlabel(r'hyperparameter $\\lambda$')\n",
    "ax2.legend(loc=1)"
   ]
  },
  {
   "cell_type": "code",
   "execution_count": 83,
   "id": "c732032d",
   "metadata": {},
   "outputs": [
    {
     "data": {
      "text/plain": [
       "2F_850plus      0.123744\n",
       "2F_850under     0.085754\n",
       "Bsmt_YN         0.078502\n",
       "Garage_YN       0.060749\n",
       "OverallQual     0.045818\n",
       "2F_650under     0.039305\n",
       "NW              0.031927\n",
       "SW              0.024263\n",
       "DeckPorch_YN    0.016075\n",
       "NO              0.010597\n",
       "SE              0.007319\n",
       "Pool_YN         0.006731\n",
       "YearBuilt       0.001089\n",
       "1stFlrSF        0.000197\n",
       "DfromWalmart   -0.004791\n",
       "Name: 0.0001, dtype: float64"
      ]
     },
     "execution_count": 83,
     "metadata": {},
     "output_type": "execute_result"
    }
   ],
   "source": [
    "coefs_ridge.iloc[0].sort_values(ascending=False)"
   ]
  },
  {
   "cell_type": "code",
   "execution_count": null,
   "id": "eb40e9f0",
   "metadata": {},
   "outputs": [],
   "source": []
  }
 ],
 "metadata": {
  "kernelspec": {
   "display_name": "Python 3",
   "language": "python",
   "name": "python3"
  },
  "language_info": {
   "codemirror_mode": {
    "name": "ipython",
    "version": 3
   },
   "file_extension": ".py",
   "mimetype": "text/x-python",
   "name": "python",
   "nbconvert_exporter": "python",
   "pygments_lexer": "ipython3",
   "version": "3.8.8"
  }
 },
 "nbformat": 4,
 "nbformat_minor": 5
}
