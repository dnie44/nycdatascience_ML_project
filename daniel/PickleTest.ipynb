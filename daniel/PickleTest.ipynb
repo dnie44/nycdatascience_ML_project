{
 "cells": [
  {
   "cell_type": "code",
   "execution_count": 1,
   "id": "eac7eb9f",
   "metadata": {},
   "outputs": [],
   "source": [
    "import pandas as pd\n",
    "import numpy as np\n",
    "from sklearn.model_selection import train_test_split\n",
    "import pickle\n",
    "import re"
   ]
  },
  {
   "cell_type": "code",
   "execution_count": 2,
   "id": "816fb0b6",
   "metadata": {},
   "outputs": [
    {
     "data": {
      "text/plain": [
       "(2579, 20)"
      ]
     },
     "execution_count": 2,
     "metadata": {},
     "output_type": "execute_result"
    }
   ],
   "source": [
    "data = pd.read_csv('model_data.csv', index_col='PID')\n",
    "data.shape"
   ]
  },
  {
   "cell_type": "code",
   "execution_count": 3,
   "id": "89684906",
   "metadata": {},
   "outputs": [],
   "source": [
    "y = data.SalePrice.copy()\n",
    "data.drop('SalePrice', axis=1, inplace=True)"
   ]
  },
  {
   "cell_type": "code",
   "execution_count": 4,
   "id": "0a39a76a",
   "metadata": {},
   "outputs": [],
   "source": [
    "data_dum = pd.get_dummies(data, drop_first=True)"
   ]
  },
  {
   "cell_type": "code",
   "execution_count": 5,
   "id": "7f3737fb",
   "metadata": {},
   "outputs": [],
   "source": [
    "X_train, X_test, y_train, y_test = train_test_split(data_dum, y, test_size=0.3)"
   ]
  },
  {
   "cell_type": "code",
   "execution_count": 6,
   "id": "03de2a39",
   "metadata": {},
   "outputs": [
    {
     "data": {
      "text/plain": [
       "(1805, 72)"
      ]
     },
     "execution_count": 6,
     "metadata": {},
     "output_type": "execute_result"
    }
   ],
   "source": [
    "X_train.shape"
   ]
  },
  {
   "cell_type": "code",
   "execution_count": 7,
   "id": "07aa7bda",
   "metadata": {},
   "outputs": [
    {
     "data": {
      "text/html": [
       "<div>\n",
       "<style scoped>\n",
       "    .dataframe tbody tr th:only-of-type {\n",
       "        vertical-align: middle;\n",
       "    }\n",
       "\n",
       "    .dataframe tbody tr th {\n",
       "        vertical-align: top;\n",
       "    }\n",
       "\n",
       "    .dataframe thead th {\n",
       "        text-align: right;\n",
       "    }\n",
       "</style>\n",
       "<table border=\"1\" class=\"dataframe\">\n",
       "  <thead>\n",
       "    <tr style=\"text-align: right;\">\n",
       "      <th></th>\n",
       "      <th>BsmtUnfSF</th>\n",
       "      <th>AllBathBsmt</th>\n",
       "      <th>AllBathAbv</th>\n",
       "      <th>YearBuilt</th>\n",
       "      <th>GarageCars</th>\n",
       "      <th>PorchArea</th>\n",
       "      <th>GoodLivArea</th>\n",
       "      <th>HasPool</th>\n",
       "      <th>MSSubClass_1FlPUD</th>\n",
       "      <th>MSSubClass_2Fl</th>\n",
       "      <th>...</th>\n",
       "      <th>FireplaceQu_Fa</th>\n",
       "      <th>FireplaceQu_Gd</th>\n",
       "      <th>FireplaceQu_None</th>\n",
       "      <th>FireplaceQu_Po</th>\n",
       "      <th>FireplaceQu_TA</th>\n",
       "      <th>GarageQual_Fa</th>\n",
       "      <th>GarageQual_Gd</th>\n",
       "      <th>GarageQual_None</th>\n",
       "      <th>GarageQual_Po</th>\n",
       "      <th>GarageQual_TA</th>\n",
       "    </tr>\n",
       "  </thead>\n",
       "  <tbody>\n",
       "    <tr>\n",
       "      <th>528387050</th>\n",
       "      <td>223.0</td>\n",
       "      <td>1.0</td>\n",
       "      <td>2.5</td>\n",
       "      <td>1994.0</td>\n",
       "      <td>2.0</td>\n",
       "      <td>303.0</td>\n",
       "      <td>3127.0</td>\n",
       "      <td>0.0</td>\n",
       "      <td>0.0</td>\n",
       "      <td>1.0</td>\n",
       "      <td>...</td>\n",
       "      <td>0.0</td>\n",
       "      <td>0.0</td>\n",
       "      <td>0.0</td>\n",
       "      <td>0.0</td>\n",
       "      <td>1.0</td>\n",
       "      <td>0.0</td>\n",
       "      <td>0.0</td>\n",
       "      <td>0.0</td>\n",
       "      <td>0.0</td>\n",
       "      <td>1.0</td>\n",
       "    </tr>\n",
       "  </tbody>\n",
       "</table>\n",
       "<p>1 rows × 72 columns</p>\n",
       "</div>"
      ],
      "text/plain": [
       "           BsmtUnfSF  AllBathBsmt  AllBathAbv  YearBuilt  GarageCars  \\\n",
       "528387050      223.0          1.0         2.5     1994.0         2.0   \n",
       "\n",
       "           PorchArea  GoodLivArea  HasPool  MSSubClass_1FlPUD  MSSubClass_2Fl  \\\n",
       "528387050      303.0       3127.0      0.0                0.0             1.0   \n",
       "\n",
       "           ...  FireplaceQu_Fa  FireplaceQu_Gd  FireplaceQu_None  \\\n",
       "528387050  ...             0.0             0.0               0.0   \n",
       "\n",
       "           FireplaceQu_Po  FireplaceQu_TA  GarageQual_Fa  GarageQual_Gd  \\\n",
       "528387050             0.0             1.0            0.0            0.0   \n",
       "\n",
       "           GarageQual_None  GarageQual_Po  GarageQual_TA  \n",
       "528387050              0.0            0.0            1.0  \n",
       "\n",
       "[1 rows x 72 columns]"
      ]
     },
     "execution_count": 7,
     "metadata": {},
     "output_type": "execute_result"
    }
   ],
   "source": [
    "X_test.iloc[0,:].to_frame().T"
   ]
  },
  {
   "cell_type": "code",
   "execution_count": 8,
   "id": "b11fc819",
   "metadata": {},
   "outputs": [
    {
     "data": {
      "text/plain": [
       "array([275969.51906563])"
      ]
     },
     "execution_count": 8,
     "metadata": {},
     "output_type": "execute_result"
    }
   ],
   "source": [
    "pickled_model = pickle.load(open('APP_model.pkl', 'rb'))\n",
    "10**pickled_model.predict(X_test.iloc[0,:].to_frame().T)"
   ]
  },
  {
   "cell_type": "code",
   "execution_count": 9,
   "id": "0303855d",
   "metadata": {},
   "outputs": [],
   "source": [
    "X_test.iloc[0,:].to_frame().T.to_csv('pickle_base.csv', index=False)"
   ]
  },
  {
   "cell_type": "code",
   "execution_count": 10,
   "id": "bc80cabc",
   "metadata": {},
   "outputs": [],
   "source": [
    "baseline = pd.read_csv('pickle_base.csv')"
   ]
  },
  {
   "cell_type": "code",
   "execution_count": 11,
   "id": "cc2e27b6",
   "metadata": {},
   "outputs": [
    {
     "data": {
      "text/plain": [
       "0    1\n",
       "Name: HasPool, dtype: int64"
      ]
     },
     "execution_count": 11,
     "metadata": {},
     "output_type": "execute_result"
    }
   ],
   "source": [
    "baseline['HasPool'] = 1\n",
    "baseline.HasPool"
   ]
  },
  {
   "cell_type": "code",
   "execution_count": 12,
   "id": "2c2afdfd",
   "metadata": {},
   "outputs": [
    {
     "data": {
      "text/plain": [
       "'1,415'"
      ]
     },
     "execution_count": 12,
     "metadata": {},
     "output_type": "execute_result"
    }
   ],
   "source": [
    "def num_format(num):\n",
    "    # converts any int/float to human readable string with thousandth commas\n",
    "    new_num = ''\n",
    "    for idx, c in enumerate(str(np.int64(num))[::-1]):\n",
    "        if (idx+1)%4 == 0:\n",
    "            new_num += ','\n",
    "        new_num += c\n",
    "    return new_num[::-1]\n",
    "        \n",
    "num_format(1415)"
   ]
  },
  {
   "cell_type": "code",
   "execution_count": 13,
   "id": "51de45f0",
   "metadata": {},
   "outputs": [
    {
     "data": {
      "text/plain": [
       "Neighborhood_Blueste    0.0\n",
       "Neighborhood_BrDale     0.0\n",
       "Neighborhood_BrkSide    0.0\n",
       "Neighborhood_ClearCr    0.0\n",
       "Neighborhood_CollgCr    0.0\n",
       "Neighborhood_Crawfor    0.0\n",
       "Neighborhood_Edwards    0.0\n",
       "Neighborhood_Gilbert    0.0\n",
       "Neighborhood_Greens     0.0\n",
       "Neighborhood_GrnHill    0.0\n",
       "Neighborhood_IDOTRR     0.0\n",
       "Neighborhood_Landmrk    0.0\n",
       "Neighborhood_MeadowV    0.0\n",
       "Neighborhood_Mitchel    0.0\n",
       "Neighborhood_NAmes      0.0\n",
       "Neighborhood_NPkVill    0.0\n",
       "Neighborhood_NWAmes     0.0\n",
       "Neighborhood_NoRidge    0.0\n",
       "Neighborhood_NridgHt    0.0\n",
       "Neighborhood_OldTown    0.0\n",
       "Neighborhood_SWISU      0.0\n",
       "Neighborhood_Sawyer     0.0\n",
       "Neighborhood_SawyerW    0.0\n",
       "Neighborhood_Somerst    0.0\n",
       "Neighborhood_StoneBr    0.0\n",
       "Neighborhood_Timber     0.0\n",
       "Neighborhood_Veenker    0.0\n",
       "Name: 0, dtype: float64"
      ]
     },
     "execution_count": 13,
     "metadata": {},
     "output_type": "execute_result"
    }
   ],
   "source": [
    "neigh_cols = list(baseline.filter(regex='^Neigh').columns)\n",
    "baseline.loc[0,'Neighborhood_Blueste']\n",
    "baseline.loc[0,neigh_cols] = 0\n",
    "baseline.loc[0,neigh_cols]"
   ]
  },
  {
   "cell_type": "code",
   "execution_count": 14,
   "id": "93975d84",
   "metadata": {},
   "outputs": [],
   "source": [
    "neigh_cols.remove('Neighborhood_Blueste')"
   ]
  },
  {
   "cell_type": "code",
   "execution_count": 15,
   "id": "910318d7",
   "metadata": {
    "scrolled": true
   },
   "outputs": [
    {
     "data": {
      "text/html": [
       "<div>\n",
       "<style scoped>\n",
       "    .dataframe tbody tr th:only-of-type {\n",
       "        vertical-align: middle;\n",
       "    }\n",
       "\n",
       "    .dataframe tbody tr th {\n",
       "        vertical-align: top;\n",
       "    }\n",
       "\n",
       "    .dataframe thead th {\n",
       "        text-align: right;\n",
       "    }\n",
       "</style>\n",
       "<table border=\"1\" class=\"dataframe\">\n",
       "  <thead>\n",
       "    <tr style=\"text-align: right;\">\n",
       "      <th></th>\n",
       "      <th>BsmtUnfSF</th>\n",
       "      <th>AllBathBsmt</th>\n",
       "      <th>AllBathAbv</th>\n",
       "      <th>YearBuilt</th>\n",
       "      <th>GarageCars</th>\n",
       "      <th>PorchArea</th>\n",
       "      <th>GoodLivArea</th>\n",
       "      <th>HasPool</th>\n",
       "      <th>MSSubClass_1FlPUD</th>\n",
       "      <th>MSSubClass_2Fl</th>\n",
       "      <th>...</th>\n",
       "      <th>FireplaceQu_Fa</th>\n",
       "      <th>FireplaceQu_Gd</th>\n",
       "      <th>FireplaceQu_None</th>\n",
       "      <th>FireplaceQu_Po</th>\n",
       "      <th>FireplaceQu_TA</th>\n",
       "      <th>GarageQual_Fa</th>\n",
       "      <th>GarageQual_Gd</th>\n",
       "      <th>GarageQual_None</th>\n",
       "      <th>GarageQual_Po</th>\n",
       "      <th>GarageQual_TA</th>\n",
       "    </tr>\n",
       "  </thead>\n",
       "  <tbody>\n",
       "    <tr>\n",
       "      <th>0</th>\n",
       "      <td>223.0</td>\n",
       "      <td>1.0</td>\n",
       "      <td>2.5</td>\n",
       "      <td>1994.0</td>\n",
       "      <td>2.0</td>\n",
       "      <td>303.0</td>\n",
       "      <td>3127.0</td>\n",
       "      <td>1</td>\n",
       "      <td>0.0</td>\n",
       "      <td>1.0</td>\n",
       "      <td>...</td>\n",
       "      <td>0.0</td>\n",
       "      <td>0.0</td>\n",
       "      <td>0.0</td>\n",
       "      <td>0.0</td>\n",
       "      <td>1.0</td>\n",
       "      <td>0.0</td>\n",
       "      <td>0.0</td>\n",
       "      <td>0.0</td>\n",
       "      <td>0.0</td>\n",
       "      <td>1.0</td>\n",
       "    </tr>\n",
       "  </tbody>\n",
       "</table>\n",
       "<p>1 rows × 72 columns</p>\n",
       "</div>"
      ],
      "text/plain": [
       "   BsmtUnfSF  AllBathBsmt  AllBathAbv  YearBuilt  GarageCars  PorchArea  \\\n",
       "0      223.0          1.0         2.5     1994.0         2.0      303.0   \n",
       "\n",
       "   GoodLivArea  HasPool  MSSubClass_1FlPUD  MSSubClass_2Fl  ...  \\\n",
       "0       3127.0        1                0.0             1.0  ...   \n",
       "\n",
       "   FireplaceQu_Fa  FireplaceQu_Gd  FireplaceQu_None  FireplaceQu_Po  \\\n",
       "0             0.0             0.0               0.0             0.0   \n",
       "\n",
       "   FireplaceQu_TA  GarageQual_Fa  GarageQual_Gd  GarageQual_None  \\\n",
       "0             1.0            0.0            0.0              0.0   \n",
       "\n",
       "   GarageQual_Po  GarageQual_TA  \n",
       "0            0.0            1.0  \n",
       "\n",
       "[1 rows x 72 columns]"
      ]
     },
     "execution_count": 15,
     "metadata": {},
     "output_type": "execute_result"
    }
   ],
   "source": [
    "def pkl_encode_nbr(base_data, code):\n",
    "    # Encodes the neighborhood selected with 1, all other dummy columns are set to 0\n",
    "    target = 'Neighborhood_'+code\n",
    "    neigh_cols = list(base_data.filter(regex='^Neigh').columns)\n",
    "    base_data.loc[0,neigh_cols] = 0\n",
    "    if target in neigh_cols:\n",
    "        neigh_cols.remove(target)\n",
    "        base_data.loc[0,target] = 1\n",
    "    return base_data\n",
    "\n",
    "pkl_encode_nbr(baseline, 'Blmngtn')"
   ]
  },
  {
   "cell_type": "code",
   "execution_count": 16,
   "id": "9c1f96d0",
   "metadata": {},
   "outputs": [],
   "source": [
    "t = data.groupby(['Neighborhood','MSSubClass']).agg('median')"
   ]
  },
  {
   "cell_type": "code",
   "execution_count": 17,
   "id": "fd2fad5d",
   "metadata": {},
   "outputs": [
    {
     "data": {
      "text/plain": [
       "BsmtUnfSF       289.0\n",
       "AllBathBsmt       1.0\n",
       "AllBathAbv        2.0\n",
       "YearBuilt      1976.0\n",
       "GarageCars        2.0\n",
       "PorchArea       348.0\n",
       "GoodLivArea    2503.0\n",
       "HasPool           0.0\n",
       "Name: (Veenker, SPLIT), dtype: float64"
      ]
     },
     "execution_count": 17,
     "metadata": {},
     "output_type": "execute_result"
    }
   ],
   "source": [
    "t.loc[('Veenker', 'SPLIT')]"
   ]
  },
  {
   "cell_type": "markdown",
   "id": "037a00df",
   "metadata": {},
   "source": [
    "## CatPickle"
   ]
  },
  {
   "cell_type": "code",
   "execution_count": 41,
   "id": "95a9ad0d",
   "metadata": {},
   "outputs": [],
   "source": [
    "pickled_model = pickle.load(open('C:\\\\Users\\\\dn-83\\\\Documents\\\\bootcamp\\\\ML_proj\\\\tony\\\\APP_model_tony.pkl', 'rb'))"
   ]
  },
  {
   "cell_type": "code",
   "execution_count": 42,
   "id": "a30e30a1",
   "metadata": {
    "scrolled": true
   },
   "outputs": [],
   "source": [
    "data = pd.read_csv('C:\\\\Users\\\\dn-83\\\\Documents\\\\bootcamp\\\\ML_proj\\\\tony\\\\00_pickle_df_tony.csv', index_col='PID')"
   ]
  },
  {
   "cell_type": "code",
   "execution_count": 43,
   "id": "16e5482b",
   "metadata": {},
   "outputs": [],
   "source": [
    "y = data[['SalePrice']]\n",
    "X = data.drop('SalePrice', axis=1)"
   ]
  },
  {
   "cell_type": "code",
   "execution_count": 65,
   "id": "d4ba153f",
   "metadata": {},
   "outputs": [
    {
     "data": {
      "text/plain": [
       "array([144595.98437578])"
      ]
     },
     "execution_count": 65,
     "metadata": {},
     "output_type": "execute_result"
    }
   ],
   "source": [
    "pickled_model.predict(X.loc[[535454150]])"
   ]
  },
  {
   "cell_type": "code",
   "execution_count": 52,
   "id": "ff9ae750",
   "metadata": {},
   "outputs": [],
   "source": [
    "data.reset_index(inplace=True)"
   ]
  },
  {
   "cell_type": "code",
   "execution_count": 64,
   "id": "d7b658b6",
   "metadata": {},
   "outputs": [
    {
     "data": {
      "text/plain": [
       "PID             535454150.0\n",
       "AllBathAbv              2.0\n",
       "AllBathBsmt             0.0\n",
       "BsmtCond                2.0\n",
       "BsmtUnfSF             448.0\n",
       "CentralAir              1.0\n",
       "ExterQual               2.0\n",
       "FireplaceQu             1.0\n",
       "Foundation              5.0\n",
       "GarageCars              2.0\n",
       "GarageQual              2.0\n",
       "GoodLivArea          1855.0\n",
       "HasPool                 0.0\n",
       "HeatingQC               4.0\n",
       "KitchenQual             2.0\n",
       "MSSubClass              5.0\n",
       "Neighborhood           15.0\n",
       "PavedDrive              1.0\n",
       "PorchArea             167.0\n",
       "SalePrice          159900.0\n",
       "YearBuilt            1972.0\n",
       "dtype: float64"
      ]
     },
     "execution_count": 64,
     "metadata": {},
     "output_type": "execute_result"
    }
   ],
   "source": [
    "data.agg('median')"
   ]
  },
  {
   "cell_type": "code",
   "execution_count": 63,
   "id": "c65ddf9b",
   "metadata": {},
   "outputs": [],
   "source": [
    "# Append Median Basehouse"
   ]
  },
  {
   "cell_type": "code",
   "execution_count": 54,
   "id": "338aec90",
   "metadata": {},
   "outputs": [
    {
     "data": {
      "text/html": [
       "<div>\n",
       "<style scoped>\n",
       "    .dataframe tbody tr th:only-of-type {\n",
       "        vertical-align: middle;\n",
       "    }\n",
       "\n",
       "    .dataframe tbody tr th {\n",
       "        vertical-align: top;\n",
       "    }\n",
       "\n",
       "    .dataframe thead th {\n",
       "        text-align: right;\n",
       "    }\n",
       "</style>\n",
       "<table border=\"1\" class=\"dataframe\">\n",
       "  <thead>\n",
       "    <tr style=\"text-align: right;\">\n",
       "      <th></th>\n",
       "      <th>PID</th>\n",
       "      <th>AllBathAbv</th>\n",
       "      <th>AllBathBsmt</th>\n",
       "      <th>BsmtCond</th>\n",
       "      <th>BsmtUnfSF</th>\n",
       "      <th>CentralAir</th>\n",
       "      <th>ExterQual</th>\n",
       "      <th>FireplaceQu</th>\n",
       "      <th>Foundation</th>\n",
       "      <th>GarageCars</th>\n",
       "      <th>...</th>\n",
       "      <th>GoodLivArea</th>\n",
       "      <th>HasPool</th>\n",
       "      <th>HeatingQC</th>\n",
       "      <th>KitchenQual</th>\n",
       "      <th>MSSubClass</th>\n",
       "      <th>Neighborhood</th>\n",
       "      <th>PavedDrive</th>\n",
       "      <th>PorchArea</th>\n",
       "      <th>SalePrice</th>\n",
       "      <th>YearBuilt</th>\n",
       "    </tr>\n",
       "  </thead>\n",
       "  <tbody>\n",
       "    <tr>\n",
       "      <th>0</th>\n",
       "      <td>5.263011e+08</td>\n",
       "      <td>1.0</td>\n",
       "      <td>1.0</td>\n",
       "      <td>3.0</td>\n",
       "      <td>441.0</td>\n",
       "      <td>1.0</td>\n",
       "      <td>2.0</td>\n",
       "      <td>3.0</td>\n",
       "      <td>5.0</td>\n",
       "      <td>2.0</td>\n",
       "      <td>...</td>\n",
       "      <td>2295.0</td>\n",
       "      <td>0.0</td>\n",
       "      <td>1.0</td>\n",
       "      <td>2.0</td>\n",
       "      <td>5.0</td>\n",
       "      <td>15.0</td>\n",
       "      <td>1.0</td>\n",
       "      <td>272.0</td>\n",
       "      <td>215000.0</td>\n",
       "      <td>1960.0</td>\n",
       "    </tr>\n",
       "    <tr>\n",
       "      <th>1</th>\n",
       "      <td>5.263020e+08</td>\n",
       "      <td>2.0</td>\n",
       "      <td>1.0</td>\n",
       "      <td>2.0</td>\n",
       "      <td>171.0</td>\n",
       "      <td>1.0</td>\n",
       "      <td>2.0</td>\n",
       "      <td>0.0</td>\n",
       "      <td>5.0</td>\n",
       "      <td>2.0</td>\n",
       "      <td>...</td>\n",
       "      <td>2300.0</td>\n",
       "      <td>0.0</td>\n",
       "      <td>3.0</td>\n",
       "      <td>2.0</td>\n",
       "      <td>5.0</td>\n",
       "      <td>15.0</td>\n",
       "      <td>1.0</td>\n",
       "      <td>280.0</td>\n",
       "      <td>149900.0</td>\n",
       "      <td>1954.0</td>\n",
       "    </tr>\n",
       "    <tr>\n",
       "      <th>2</th>\n",
       "      <td>5.263020e+08</td>\n",
       "      <td>1.0</td>\n",
       "      <td>1.0</td>\n",
       "      <td>2.0</td>\n",
       "      <td>235.0</td>\n",
       "      <td>1.0</td>\n",
       "      <td>2.0</td>\n",
       "      <td>2.0</td>\n",
       "      <td>5.0</td>\n",
       "      <td>1.0</td>\n",
       "      <td>...</td>\n",
       "      <td>1797.0</td>\n",
       "      <td>0.0</td>\n",
       "      <td>2.0</td>\n",
       "      <td>3.0</td>\n",
       "      <td>5.0</td>\n",
       "      <td>15.0</td>\n",
       "      <td>1.0</td>\n",
       "      <td>280.0</td>\n",
       "      <td>157500.0</td>\n",
       "      <td>1956.0</td>\n",
       "    </tr>\n",
       "    <tr>\n",
       "      <th>3</th>\n",
       "      <td>5.263021e+08</td>\n",
       "      <td>1.0</td>\n",
       "      <td>0.0</td>\n",
       "      <td>1.0</td>\n",
       "      <td>318.0</td>\n",
       "      <td>1.0</td>\n",
       "      <td>2.0</td>\n",
       "      <td>0.0</td>\n",
       "      <td>5.0</td>\n",
       "      <td>1.0</td>\n",
       "      <td>...</td>\n",
       "      <td>1446.0</td>\n",
       "      <td>0.0</td>\n",
       "      <td>2.0</td>\n",
       "      <td>2.0</td>\n",
       "      <td>5.0</td>\n",
       "      <td>15.0</td>\n",
       "      <td>1.0</td>\n",
       "      <td>0.0</td>\n",
       "      <td>124500.0</td>\n",
       "      <td>1956.0</td>\n",
       "    </tr>\n",
       "    <tr>\n",
       "      <th>4</th>\n",
       "      <td>5.263021e+08</td>\n",
       "      <td>1.5</td>\n",
       "      <td>0.0</td>\n",
       "      <td>2.0</td>\n",
       "      <td>490.0</td>\n",
       "      <td>1.0</td>\n",
       "      <td>2.0</td>\n",
       "      <td>2.0</td>\n",
       "      <td>5.0</td>\n",
       "      <td>3.0</td>\n",
       "      <td>...</td>\n",
       "      <td>2924.0</td>\n",
       "      <td>0.0</td>\n",
       "      <td>1.0</td>\n",
       "      <td>2.0</td>\n",
       "      <td>5.0</td>\n",
       "      <td>15.0</td>\n",
       "      <td>1.0</td>\n",
       "      <td>0.0</td>\n",
       "      <td>169000.0</td>\n",
       "      <td>1957.0</td>\n",
       "    </tr>\n",
       "    <tr>\n",
       "      <th>...</th>\n",
       "      <td>...</td>\n",
       "      <td>...</td>\n",
       "      <td>...</td>\n",
       "      <td>...</td>\n",
       "      <td>...</td>\n",
       "      <td>...</td>\n",
       "      <td>...</td>\n",
       "      <td>...</td>\n",
       "      <td>...</td>\n",
       "      <td>...</td>\n",
       "      <td>...</td>\n",
       "      <td>...</td>\n",
       "      <td>...</td>\n",
       "      <td>...</td>\n",
       "      <td>...</td>\n",
       "      <td>...</td>\n",
       "      <td>...</td>\n",
       "      <td>...</td>\n",
       "      <td>...</td>\n",
       "      <td>...</td>\n",
       "      <td>...</td>\n",
       "    </tr>\n",
       "    <tr>\n",
       "      <th>2575</th>\n",
       "      <td>9.241510e+08</td>\n",
       "      <td>2.5</td>\n",
       "      <td>1.5</td>\n",
       "      <td>3.0</td>\n",
       "      <td>54.0</td>\n",
       "      <td>1.0</td>\n",
       "      <td>3.0</td>\n",
       "      <td>2.0</td>\n",
       "      <td>6.0</td>\n",
       "      <td>2.0</td>\n",
       "      <td>...</td>\n",
       "      <td>3428.0</td>\n",
       "      <td>0.0</td>\n",
       "      <td>4.0</td>\n",
       "      <td>3.0</td>\n",
       "      <td>5.0</td>\n",
       "      <td>14.0</td>\n",
       "      <td>1.0</td>\n",
       "      <td>415.0</td>\n",
       "      <td>285000.0</td>\n",
       "      <td>1994.0</td>\n",
       "    </tr>\n",
       "    <tr>\n",
       "      <th>2576</th>\n",
       "      <td>9.241510e+08</td>\n",
       "      <td>2.5</td>\n",
       "      <td>0.0</td>\n",
       "      <td>2.0</td>\n",
       "      <td>238.0</td>\n",
       "      <td>1.0</td>\n",
       "      <td>2.0</td>\n",
       "      <td>2.0</td>\n",
       "      <td>6.0</td>\n",
       "      <td>3.0</td>\n",
       "      <td>...</td>\n",
       "      <td>2758.0</td>\n",
       "      <td>0.0</td>\n",
       "      <td>4.0</td>\n",
       "      <td>2.0</td>\n",
       "      <td>6.0</td>\n",
       "      <td>14.0</td>\n",
       "      <td>1.0</td>\n",
       "      <td>238.0</td>\n",
       "      <td>188000.0</td>\n",
       "      <td>1993.0</td>\n",
       "    </tr>\n",
       "    <tr>\n",
       "      <th>2577</th>\n",
       "      <td>9.241520e+08</td>\n",
       "      <td>2.5</td>\n",
       "      <td>1.0</td>\n",
       "      <td>2.0</td>\n",
       "      <td>208.0</td>\n",
       "      <td>1.0</td>\n",
       "      <td>3.0</td>\n",
       "      <td>1.0</td>\n",
       "      <td>6.0</td>\n",
       "      <td>2.0</td>\n",
       "      <td>...</td>\n",
       "      <td>2741.0</td>\n",
       "      <td>0.0</td>\n",
       "      <td>4.0</td>\n",
       "      <td>3.0</td>\n",
       "      <td>6.0</td>\n",
       "      <td>14.0</td>\n",
       "      <td>1.0</td>\n",
       "      <td>474.0</td>\n",
       "      <td>231000.0</td>\n",
       "      <td>1993.0</td>\n",
       "    </tr>\n",
       "    <tr>\n",
       "      <th>2578</th>\n",
       "      <td>1.007100e+09</td>\n",
       "      <td>2.0</td>\n",
       "      <td>0.0</td>\n",
       "      <td>2.0</td>\n",
       "      <td>686.0</td>\n",
       "      <td>1.0</td>\n",
       "      <td>2.0</td>\n",
       "      <td>0.0</td>\n",
       "      <td>4.0</td>\n",
       "      <td>1.0</td>\n",
       "      <td>...</td>\n",
       "      <td>1836.0</td>\n",
       "      <td>0.0</td>\n",
       "      <td>4.0</td>\n",
       "      <td>2.0</td>\n",
       "      <td>6.0</td>\n",
       "      <td>11.0</td>\n",
       "      <td>0.0</td>\n",
       "      <td>0.0</td>\n",
       "      <td>103000.0</td>\n",
       "      <td>1900.0</td>\n",
       "    </tr>\n",
       "    <tr>\n",
       "      <th>2579</th>\n",
       "      <td>5.354542e+08</td>\n",
       "      <td>2.0</td>\n",
       "      <td>0.0</td>\n",
       "      <td>2.0</td>\n",
       "      <td>448.0</td>\n",
       "      <td>1.0</td>\n",
       "      <td>2.0</td>\n",
       "      <td>1.0</td>\n",
       "      <td>5.0</td>\n",
       "      <td>2.0</td>\n",
       "      <td>...</td>\n",
       "      <td>1855.0</td>\n",
       "      <td>0.0</td>\n",
       "      <td>4.0</td>\n",
       "      <td>2.0</td>\n",
       "      <td>5.0</td>\n",
       "      <td>15.0</td>\n",
       "      <td>1.0</td>\n",
       "      <td>167.0</td>\n",
       "      <td>159900.0</td>\n",
       "      <td>1972.0</td>\n",
       "    </tr>\n",
       "  </tbody>\n",
       "</table>\n",
       "<p>2580 rows × 21 columns</p>\n",
       "</div>"
      ],
      "text/plain": [
       "               PID  AllBathAbv  AllBathBsmt  BsmtCond  BsmtUnfSF  CentralAir  \\\n",
       "0     5.263011e+08         1.0          1.0       3.0      441.0         1.0   \n",
       "1     5.263020e+08         2.0          1.0       2.0      171.0         1.0   \n",
       "2     5.263020e+08         1.0          1.0       2.0      235.0         1.0   \n",
       "3     5.263021e+08         1.0          0.0       1.0      318.0         1.0   \n",
       "4     5.263021e+08         1.5          0.0       2.0      490.0         1.0   \n",
       "...            ...         ...          ...       ...        ...         ...   \n",
       "2575  9.241510e+08         2.5          1.5       3.0       54.0         1.0   \n",
       "2576  9.241510e+08         2.5          0.0       2.0      238.0         1.0   \n",
       "2577  9.241520e+08         2.5          1.0       2.0      208.0         1.0   \n",
       "2578  1.007100e+09         2.0          0.0       2.0      686.0         1.0   \n",
       "2579  5.354542e+08         2.0          0.0       2.0      448.0         1.0   \n",
       "\n",
       "      ExterQual  FireplaceQu  Foundation  GarageCars  ...  GoodLivArea  \\\n",
       "0           2.0          3.0         5.0         2.0  ...       2295.0   \n",
       "1           2.0          0.0         5.0         2.0  ...       2300.0   \n",
       "2           2.0          2.0         5.0         1.0  ...       1797.0   \n",
       "3           2.0          0.0         5.0         1.0  ...       1446.0   \n",
       "4           2.0          2.0         5.0         3.0  ...       2924.0   \n",
       "...         ...          ...         ...         ...  ...          ...   \n",
       "2575        3.0          2.0         6.0         2.0  ...       3428.0   \n",
       "2576        2.0          2.0         6.0         3.0  ...       2758.0   \n",
       "2577        3.0          1.0         6.0         2.0  ...       2741.0   \n",
       "2578        2.0          0.0         4.0         1.0  ...       1836.0   \n",
       "2579        2.0          1.0         5.0         2.0  ...       1855.0   \n",
       "\n",
       "      HasPool  HeatingQC  KitchenQual  MSSubClass  Neighborhood  PavedDrive  \\\n",
       "0         0.0        1.0          2.0         5.0          15.0         1.0   \n",
       "1         0.0        3.0          2.0         5.0          15.0         1.0   \n",
       "2         0.0        2.0          3.0         5.0          15.0         1.0   \n",
       "3         0.0        2.0          2.0         5.0          15.0         1.0   \n",
       "4         0.0        1.0          2.0         5.0          15.0         1.0   \n",
       "...       ...        ...          ...         ...           ...         ...   \n",
       "2575      0.0        4.0          3.0         5.0          14.0         1.0   \n",
       "2576      0.0        4.0          2.0         6.0          14.0         1.0   \n",
       "2577      0.0        4.0          3.0         6.0          14.0         1.0   \n",
       "2578      0.0        4.0          2.0         6.0          11.0         0.0   \n",
       "2579      0.0        4.0          2.0         5.0          15.0         1.0   \n",
       "\n",
       "      PorchArea  SalePrice  YearBuilt  \n",
       "0         272.0   215000.0     1960.0  \n",
       "1         280.0   149900.0     1954.0  \n",
       "2         280.0   157500.0     1956.0  \n",
       "3           0.0   124500.0     1956.0  \n",
       "4           0.0   169000.0     1957.0  \n",
       "...         ...        ...        ...  \n",
       "2575      415.0   285000.0     1994.0  \n",
       "2576      238.0   188000.0     1993.0  \n",
       "2577      474.0   231000.0     1993.0  \n",
       "2578        0.0   103000.0     1900.0  \n",
       "2579      167.0   159900.0     1972.0  \n",
       "\n",
       "[2580 rows x 21 columns]"
      ]
     },
     "execution_count": 54,
     "metadata": {},
     "output_type": "execute_result"
    }
   ],
   "source": [
    "data.append(data.agg('median'), ignore_index=True)"
   ]
  },
  {
   "cell_type": "code",
   "execution_count": 60,
   "id": "a5a9ec9b",
   "metadata": {},
   "outputs": [
    {
     "data": {
      "text/plain": [
       "0"
      ]
     },
     "execution_count": 60,
     "metadata": {},
     "output_type": "execute_result"
    }
   ],
   "source": []
  },
  {
   "cell_type": "code",
   "execution_count": null,
   "id": "ec15d8fd",
   "metadata": {},
   "outputs": [],
   "source": []
  }
 ],
 "metadata": {
  "kernelspec": {
   "display_name": "Python 3",
   "language": "python",
   "name": "python3"
  },
  "language_info": {
   "codemirror_mode": {
    "name": "ipython",
    "version": 3
   },
   "file_extension": ".py",
   "mimetype": "text/x-python",
   "name": "python",
   "nbconvert_exporter": "python",
   "pygments_lexer": "ipython3",
   "version": "3.8.8"
  }
 },
 "nbformat": 4,
 "nbformat_minor": 5
}
