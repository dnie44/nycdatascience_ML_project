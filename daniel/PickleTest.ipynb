{
 "cells": [
  {
   "cell_type": "code",
   "execution_count": 1,
   "id": "eac7eb9f",
   "metadata": {},
   "outputs": [],
   "source": [
    "import pandas as pd\n",
    "import numpy as np\n",
    "from sklearn.model_selection import train_test_split\n",
    "import pickle\n",
    "import re"
   ]
  },
  {
   "cell_type": "code",
   "execution_count": 2,
   "id": "816fb0b6",
   "metadata": {},
   "outputs": [
    {
     "data": {
      "text/plain": [
       "(2579, 20)"
      ]
     },
     "execution_count": 2,
     "metadata": {},
     "output_type": "execute_result"
    }
   ],
   "source": [
    "data = pd.read_csv('model_data.csv', index_col='PID')\n",
    "data.shape"
   ]
  },
  {
   "cell_type": "code",
   "execution_count": 3,
   "id": "89684906",
   "metadata": {},
   "outputs": [],
   "source": [
    "y = data.SalePrice.copy()\n",
    "data.drop('SalePrice', axis=1, inplace=True)"
   ]
  },
  {
   "cell_type": "code",
   "execution_count": 4,
   "id": "0a39a76a",
   "metadata": {},
   "outputs": [],
   "source": [
    "data_dum = pd.get_dummies(data, drop_first=True)"
   ]
  },
  {
   "cell_type": "code",
   "execution_count": 5,
   "id": "7f3737fb",
   "metadata": {},
   "outputs": [],
   "source": [
    "X_train, X_test, y_train, y_test = train_test_split(data_dum, y, test_size=0.3)"
   ]
  },
  {
   "cell_type": "code",
   "execution_count": 6,
   "id": "03de2a39",
   "metadata": {},
   "outputs": [
    {
     "data": {
      "text/plain": [
       "(1805, 72)"
      ]
     },
     "execution_count": 6,
     "metadata": {},
     "output_type": "execute_result"
    }
   ],
   "source": [
    "X_train.shape"
   ]
  },
  {
   "cell_type": "code",
   "execution_count": 7,
   "id": "07aa7bda",
   "metadata": {},
   "outputs": [
    {
     "data": {
      "text/html": [
       "<div>\n",
       "<style scoped>\n",
       "    .dataframe tbody tr th:only-of-type {\n",
       "        vertical-align: middle;\n",
       "    }\n",
       "\n",
       "    .dataframe tbody tr th {\n",
       "        vertical-align: top;\n",
       "    }\n",
       "\n",
       "    .dataframe thead th {\n",
       "        text-align: right;\n",
       "    }\n",
       "</style>\n",
       "<table border=\"1\" class=\"dataframe\">\n",
       "  <thead>\n",
       "    <tr style=\"text-align: right;\">\n",
       "      <th></th>\n",
       "      <th>BsmtUnfSF</th>\n",
       "      <th>AllBathBsmt</th>\n",
       "      <th>AllBathAbv</th>\n",
       "      <th>YearBuilt</th>\n",
       "      <th>GarageCars</th>\n",
       "      <th>PorchArea</th>\n",
       "      <th>GoodLivArea</th>\n",
       "      <th>HasPool</th>\n",
       "      <th>MSSubClass_1FlPUD</th>\n",
       "      <th>MSSubClass_2Fl</th>\n",
       "      <th>...</th>\n",
       "      <th>FireplaceQu_Fa</th>\n",
       "      <th>FireplaceQu_Gd</th>\n",
       "      <th>FireplaceQu_None</th>\n",
       "      <th>FireplaceQu_Po</th>\n",
       "      <th>FireplaceQu_TA</th>\n",
       "      <th>GarageQual_Fa</th>\n",
       "      <th>GarageQual_Gd</th>\n",
       "      <th>GarageQual_None</th>\n",
       "      <th>GarageQual_Po</th>\n",
       "      <th>GarageQual_TA</th>\n",
       "    </tr>\n",
       "  </thead>\n",
       "  <tbody>\n",
       "    <tr>\n",
       "      <th>923225310</th>\n",
       "      <td>25.0</td>\n",
       "      <td>1.0</td>\n",
       "      <td>1.0</td>\n",
       "      <td>1973.0</td>\n",
       "      <td>1.0</td>\n",
       "      <td>221.0</td>\n",
       "      <td>1489.0</td>\n",
       "      <td>0.0</td>\n",
       "      <td>0.0</td>\n",
       "      <td>0.0</td>\n",
       "      <td>...</td>\n",
       "      <td>0.0</td>\n",
       "      <td>0.0</td>\n",
       "      <td>1.0</td>\n",
       "      <td>0.0</td>\n",
       "      <td>0.0</td>\n",
       "      <td>0.0</td>\n",
       "      <td>0.0</td>\n",
       "      <td>0.0</td>\n",
       "      <td>0.0</td>\n",
       "      <td>1.0</td>\n",
       "    </tr>\n",
       "  </tbody>\n",
       "</table>\n",
       "<p>1 rows × 72 columns</p>\n",
       "</div>"
      ],
      "text/plain": [
       "           BsmtUnfSF  AllBathBsmt  AllBathAbv  YearBuilt  GarageCars  \\\n",
       "923225310       25.0          1.0         1.0     1973.0         1.0   \n",
       "\n",
       "           PorchArea  GoodLivArea  HasPool  MSSubClass_1FlPUD  MSSubClass_2Fl  \\\n",
       "923225310      221.0       1489.0      0.0                0.0             0.0   \n",
       "\n",
       "           ...  FireplaceQu_Fa  FireplaceQu_Gd  FireplaceQu_None  \\\n",
       "923225310  ...             0.0             0.0               1.0   \n",
       "\n",
       "           FireplaceQu_Po  FireplaceQu_TA  GarageQual_Fa  GarageQual_Gd  \\\n",
       "923225310             0.0             0.0            0.0            0.0   \n",
       "\n",
       "           GarageQual_None  GarageQual_Po  GarageQual_TA  \n",
       "923225310              0.0            0.0            1.0  \n",
       "\n",
       "[1 rows x 72 columns]"
      ]
     },
     "execution_count": 7,
     "metadata": {},
     "output_type": "execute_result"
    }
   ],
   "source": [
    "X_test.iloc[0,:].to_frame().T"
   ]
  },
  {
   "cell_type": "code",
   "execution_count": 9,
   "id": "b11fc819",
   "metadata": {},
   "outputs": [
    {
     "data": {
      "text/plain": [
       "array([93638.37528021])"
      ]
     },
     "execution_count": 9,
     "metadata": {},
     "output_type": "execute_result"
    }
   ],
   "source": [
    "pickled_model = pickle.load(open('APP_model.pkl', 'rb'))\n",
    "10**pickled_model.predict(X_test.iloc[0,:].to_frame().T)"
   ]
  },
  {
   "cell_type": "code",
   "execution_count": 112,
   "id": "0303855d",
   "metadata": {},
   "outputs": [],
   "source": [
    "X_test.iloc[0,:].to_frame().T.to_csv('pickle_base.csv', index=False)"
   ]
  },
  {
   "cell_type": "code",
   "execution_count": 12,
   "id": "bc80cabc",
   "metadata": {},
   "outputs": [],
   "source": [
    "baseline = pd.read_csv('pickle_base.csv')"
   ]
  },
  {
   "cell_type": "code",
   "execution_count": 13,
   "id": "cc2e27b6",
   "metadata": {},
   "outputs": [
    {
     "data": {
      "text/plain": [
       "0    1\n",
       "Name: HasPool, dtype: int64"
      ]
     },
     "execution_count": 13,
     "metadata": {},
     "output_type": "execute_result"
    }
   ],
   "source": [
    "baseline['HasPool'] = 1\n",
    "baseline.HasPool"
   ]
  },
  {
   "cell_type": "code",
   "execution_count": 14,
   "id": "2c2afdfd",
   "metadata": {},
   "outputs": [
    {
     "data": {
      "text/plain": [
       "'1,415'"
      ]
     },
     "execution_count": 14,
     "metadata": {},
     "output_type": "execute_result"
    }
   ],
   "source": [
    "def num_format(num):\n",
    "    # converts any int/float to human readable string with thousandth commas\n",
    "    new_num = ''\n",
    "    for idx, c in enumerate(str(np.int64(num))[::-1]):\n",
    "        if (idx+1)%4 == 0:\n",
    "            new_num += ','\n",
    "        new_num += c\n",
    "    return new_num[::-1]\n",
    "        \n",
    "num_format(1415)"
   ]
  },
  {
   "cell_type": "code",
   "execution_count": 20,
   "id": "1b412b8c",
   "metadata": {},
   "outputs": [
    {
     "name": "stdout",
     "output_type": "stream",
     "text": [
      "BsmtUnfSF : 6.337042937167557e-05\n",
      "AllBathBsmt : 0.006016079653607398\n",
      "AllBathAbv : 0.00909928465588731\n",
      "YearBuilt : 0.00047288832480718893\n",
      "GarageCars : 0.020850567691074053\n",
      "PorchArea : 4.76831882342999e-05\n",
      "GoodLivArea : 0.00010289558729031867\n",
      "HasPool : 0.009031361081837101\n",
      "MSSubClass_1FlPUD : -0.019353792921089377\n",
      "MSSubClass_2Fl : 0.017883438621467247\n",
      "MSSubClass_2FlPUD : -0.04552855055120762\n",
      "MSSubClass_DUP2FAM : -0.01758100508831451\n",
      "MSSubClass_SPLIT : 0.022873351494003075\n",
      "Foundation_CBlock : -0.0\n",
      "Foundation_PConc : 0.008978441451801626\n",
      "Foundation_Slab : 0.007039442275788678\n",
      "Foundation_Stone : 0.05210234942062659\n",
      "Foundation_Wood : 0.0\n",
      "PavedDrive_P : 0.016005736373704494\n",
      "PavedDrive_Y : 0.03207715128043419\n",
      "HeatingQC_Fa : -0.02577842385304068\n",
      "HeatingQC_Gd : -0.006330353287868188\n",
      "HeatingQC_TA : -0.020789698823141613\n",
      "Neighborhood_Blueste : 0.0\n",
      "Neighborhood_BrDale : -0.013862409859160534\n",
      "Neighborhood_BrkSide : -0.0005551559666542575\n",
      "Neighborhood_ClearCr : 0.03771316256133862\n",
      "Neighborhood_CollgCr : 0.003954307944284103\n",
      "Neighborhood_Crawfor : 0.06494464898937403\n",
      "Neighborhood_Edwards : -0.025338842969202812\n",
      "Neighborhood_Gilbert : 0.0\n",
      "Neighborhood_Greens : 0.06302800516456594\n",
      "Neighborhood_GrnHill : 0.23295880309361755\n",
      "Neighborhood_IDOTRR : -0.03523648738864983\n",
      "Neighborhood_Landmrk : 0.0\n",
      "Neighborhood_MeadowV : -0.07181765531932788\n",
      "Neighborhood_Mitchel : -0.0017499600982291187\n",
      "Neighborhood_NAmes : -0.009063749524937211\n",
      "Neighborhood_NPkVill : 0.011412312517751258\n",
      "Neighborhood_NWAmes : 7.46998486311567e-05\n",
      "Neighborhood_NoRidge : 0.025956444144351252\n",
      "Neighborhood_NridgHt : 0.047926568037812846\n",
      "Neighborhood_OldTown : -0.02470176738581505\n",
      "Neighborhood_SWISU : -0.0019734910245736348\n",
      "Neighborhood_Sawyer : -0.008480841740599281\n",
      "Neighborhood_SawyerW : -0.014565384621487163\n",
      "Neighborhood_Somerst : 0.04363778256861489\n",
      "Neighborhood_StoneBr : 0.07159767494314599\n",
      "Neighborhood_Timber : 0.028792312739407164\n",
      "Neighborhood_Veenker : 0.0\n",
      "CentralAir_Y : 0.054424279566976354\n",
      "KitchenQual_Fa : -0.0730766249026841\n",
      "KitchenQual_Gd : -0.03207624686620614\n",
      "KitchenQual_Po : -0.0\n",
      "KitchenQual_TA : -0.061063251226295745\n",
      "ExterQual_Fa : -0.07754993659274384\n",
      "ExterQual_Gd : -0.01804253861995769\n",
      "ExterQual_TA : -0.03221606982248164\n",
      "BsmtCond_Fa : -0.031832086577054046\n",
      "BsmtCond_Gd : 0.0195578508446636\n",
      "BsmtCond_None : 0.0\n",
      "BsmtCond_TA : -0.0\n",
      "FireplaceQu_Fa : -0.0049149541044345765\n",
      "FireplaceQu_Gd : 0.0027537377468274966\n",
      "FireplaceQu_None : -0.0203213402179518\n",
      "FireplaceQu_Po : 0.0\n",
      "FireplaceQu_TA : -0.0\n",
      "GarageQual_Fa : -0.017981720924813017\n",
      "GarageQual_Gd : 0.016778941244880448\n",
      "GarageQual_None : -0.0\n",
      "GarageQual_Po : -0.025581275128640016\n",
      "GarageQual_TA : -0.0\n"
     ]
    }
   ],
   "source": [
    "for i, j in zip(X_test.columns,pickled_model.coef_):\n",
    "    print(f'{i} : {j}')"
   ]
  },
  {
   "cell_type": "code",
   "execution_count": 160,
   "id": "51de45f0",
   "metadata": {},
   "outputs": [
    {
     "data": {
      "text/plain": [
       "Neighborhood_Blueste    0.0\n",
       "Neighborhood_BrDale     0.0\n",
       "Neighborhood_BrkSide    0.0\n",
       "Neighborhood_ClearCr    0.0\n",
       "Neighborhood_CollgCr    0.0\n",
       "Neighborhood_Crawfor    0.0\n",
       "Neighborhood_Edwards    0.0\n",
       "Neighborhood_Gilbert    0.0\n",
       "Neighborhood_Greens     0.0\n",
       "Neighborhood_GrnHill    0.0\n",
       "Neighborhood_IDOTRR     0.0\n",
       "Neighborhood_Landmrk    0.0\n",
       "Neighborhood_MeadowV    0.0\n",
       "Neighborhood_Mitchel    0.0\n",
       "Neighborhood_NAmes      0.0\n",
       "Neighborhood_NPkVill    0.0\n",
       "Neighborhood_NWAmes     0.0\n",
       "Neighborhood_NoRidge    0.0\n",
       "Neighborhood_NridgHt    0.0\n",
       "Neighborhood_OldTown    0.0\n",
       "Neighborhood_SWISU      0.0\n",
       "Neighborhood_Sawyer     0.0\n",
       "Neighborhood_SawyerW    0.0\n",
       "Neighborhood_Somerst    0.0\n",
       "Neighborhood_StoneBr    0.0\n",
       "Neighborhood_Timber     0.0\n",
       "Neighborhood_Veenker    0.0\n",
       "Name: 0, dtype: float64"
      ]
     },
     "execution_count": 160,
     "metadata": {},
     "output_type": "execute_result"
    }
   ],
   "source": [
    "neigh_cols = list(baseline.filter(regex='^Neigh').columns)\n",
    "baseline.loc[0,'Neighborhood_Blueste']\n",
    "baseline.loc[0,neigh_cols] = 0\n",
    "baseline.loc[0,neigh_cols]"
   ]
  },
  {
   "cell_type": "code",
   "execution_count": 151,
   "id": "93975d84",
   "metadata": {},
   "outputs": [],
   "source": [
    "neigh_cols.remove('Neighborhood_Blueste')"
   ]
  },
  {
   "cell_type": "code",
   "execution_count": 162,
   "id": "910318d7",
   "metadata": {},
   "outputs": [
    {
     "data": {
      "text/html": [
       "<div>\n",
       "<style scoped>\n",
       "    .dataframe tbody tr th:only-of-type {\n",
       "        vertical-align: middle;\n",
       "    }\n",
       "\n",
       "    .dataframe tbody tr th {\n",
       "        vertical-align: top;\n",
       "    }\n",
       "\n",
       "    .dataframe thead th {\n",
       "        text-align: right;\n",
       "    }\n",
       "</style>\n",
       "<table border=\"1\" class=\"dataframe\">\n",
       "  <thead>\n",
       "    <tr style=\"text-align: right;\">\n",
       "      <th></th>\n",
       "      <th>BsmtUnfSF</th>\n",
       "      <th>AllBathBsmt</th>\n",
       "      <th>AllBathAbv</th>\n",
       "      <th>YearBuilt</th>\n",
       "      <th>GarageCars</th>\n",
       "      <th>PorchArea</th>\n",
       "      <th>GoodLivArea</th>\n",
       "      <th>HasPool</th>\n",
       "      <th>MSSubClass_1FlPUD</th>\n",
       "      <th>MSSubClass_2Fl</th>\n",
       "      <th>MSSubClass_2FlPUD</th>\n",
       "      <th>MSSubClass_DUP2FAM</th>\n",
       "      <th>MSSubClass_SPLIT</th>\n",
       "      <th>Foundation_CBlock</th>\n",
       "      <th>Foundation_PConc</th>\n",
       "      <th>Foundation_Slab</th>\n",
       "      <th>Foundation_Stone</th>\n",
       "      <th>Foundation_Wood</th>\n",
       "      <th>PavedDrive_P</th>\n",
       "      <th>PavedDrive_Y</th>\n",
       "      <th>HeatingQC_Fa</th>\n",
       "      <th>HeatingQC_Gd</th>\n",
       "      <th>HeatingQC_TA</th>\n",
       "      <th>Neighborhood_Blueste</th>\n",
       "      <th>Neighborhood_BrDale</th>\n",
       "      <th>Neighborhood_BrkSide</th>\n",
       "      <th>Neighborhood_ClearCr</th>\n",
       "      <th>Neighborhood_CollgCr</th>\n",
       "      <th>Neighborhood_Crawfor</th>\n",
       "      <th>Neighborhood_Edwards</th>\n",
       "      <th>Neighborhood_Gilbert</th>\n",
       "      <th>Neighborhood_Greens</th>\n",
       "      <th>Neighborhood_GrnHill</th>\n",
       "      <th>Neighborhood_IDOTRR</th>\n",
       "      <th>Neighborhood_Landmrk</th>\n",
       "      <th>Neighborhood_MeadowV</th>\n",
       "      <th>Neighborhood_Mitchel</th>\n",
       "      <th>Neighborhood_NAmes</th>\n",
       "      <th>Neighborhood_NPkVill</th>\n",
       "      <th>Neighborhood_NWAmes</th>\n",
       "      <th>Neighborhood_NoRidge</th>\n",
       "      <th>Neighborhood_NridgHt</th>\n",
       "      <th>Neighborhood_OldTown</th>\n",
       "      <th>Neighborhood_SWISU</th>\n",
       "      <th>Neighborhood_Sawyer</th>\n",
       "      <th>Neighborhood_SawyerW</th>\n",
       "      <th>Neighborhood_Somerst</th>\n",
       "      <th>Neighborhood_StoneBr</th>\n",
       "      <th>Neighborhood_Timber</th>\n",
       "      <th>Neighborhood_Veenker</th>\n",
       "      <th>CentralAir_Y</th>\n",
       "      <th>KitchenQual_Fa</th>\n",
       "      <th>KitchenQual_Gd</th>\n",
       "      <th>KitchenQual_Po</th>\n",
       "      <th>KitchenQual_TA</th>\n",
       "      <th>ExterQual_Fa</th>\n",
       "      <th>ExterQual_Gd</th>\n",
       "      <th>ExterQual_TA</th>\n",
       "      <th>BsmtCond_Fa</th>\n",
       "      <th>BsmtCond_Gd</th>\n",
       "      <th>BsmtCond_None</th>\n",
       "      <th>BsmtCond_TA</th>\n",
       "      <th>FireplaceQu_Fa</th>\n",
       "      <th>FireplaceQu_Gd</th>\n",
       "      <th>FireplaceQu_None</th>\n",
       "      <th>FireplaceQu_Po</th>\n",
       "      <th>FireplaceQu_TA</th>\n",
       "      <th>GarageQual_Fa</th>\n",
       "      <th>GarageQual_Gd</th>\n",
       "      <th>GarageQual_None</th>\n",
       "      <th>GarageQual_Po</th>\n",
       "      <th>GarageQual_TA</th>\n",
       "    </tr>\n",
       "  </thead>\n",
       "  <tbody>\n",
       "    <tr>\n",
       "      <th>0</th>\n",
       "      <td>88.0</td>\n",
       "      <td>1.0</td>\n",
       "      <td>2.5</td>\n",
       "      <td>1994.0</td>\n",
       "      <td>3.0</td>\n",
       "      <td>593.0</td>\n",
       "      <td>3989.0</td>\n",
       "      <td>1</td>\n",
       "      <td>0.0</td>\n",
       "      <td>1.0</td>\n",
       "      <td>0.0</td>\n",
       "      <td>0.0</td>\n",
       "      <td>0.0</td>\n",
       "      <td>0.0</td>\n",
       "      <td>1.0</td>\n",
       "      <td>0.0</td>\n",
       "      <td>0.0</td>\n",
       "      <td>0.0</td>\n",
       "      <td>0.0</td>\n",
       "      <td>1.0</td>\n",
       "      <td>0.0</td>\n",
       "      <td>0.0</td>\n",
       "      <td>0.0</td>\n",
       "      <td>0.0</td>\n",
       "      <td>0.0</td>\n",
       "      <td>0.0</td>\n",
       "      <td>0.0</td>\n",
       "      <td>0.0</td>\n",
       "      <td>0.0</td>\n",
       "      <td>0.0</td>\n",
       "      <td>0.0</td>\n",
       "      <td>0.0</td>\n",
       "      <td>0.0</td>\n",
       "      <td>0.0</td>\n",
       "      <td>0.0</td>\n",
       "      <td>0.0</td>\n",
       "      <td>0.0</td>\n",
       "      <td>0.0</td>\n",
       "      <td>0.0</td>\n",
       "      <td>0.0</td>\n",
       "      <td>0.0</td>\n",
       "      <td>0.0</td>\n",
       "      <td>0.0</td>\n",
       "      <td>0.0</td>\n",
       "      <td>0.0</td>\n",
       "      <td>0.0</td>\n",
       "      <td>0.0</td>\n",
       "      <td>0.0</td>\n",
       "      <td>0.0</td>\n",
       "      <td>0.0</td>\n",
       "      <td>1.0</td>\n",
       "      <td>0.0</td>\n",
       "      <td>1.0</td>\n",
       "      <td>0.0</td>\n",
       "      <td>0.0</td>\n",
       "      <td>0.0</td>\n",
       "      <td>1.0</td>\n",
       "      <td>0.0</td>\n",
       "      <td>0.0</td>\n",
       "      <td>1.0</td>\n",
       "      <td>0.0</td>\n",
       "      <td>0.0</td>\n",
       "      <td>0.0</td>\n",
       "      <td>0.0</td>\n",
       "      <td>0.0</td>\n",
       "      <td>0.0</td>\n",
       "      <td>1.0</td>\n",
       "      <td>0.0</td>\n",
       "      <td>0.0</td>\n",
       "      <td>0.0</td>\n",
       "      <td>0.0</td>\n",
       "      <td>1.0</td>\n",
       "    </tr>\n",
       "  </tbody>\n",
       "</table>\n",
       "</div>"
      ],
      "text/plain": [
       "   BsmtUnfSF  AllBathBsmt  AllBathAbv  YearBuilt  GarageCars  PorchArea  \\\n",
       "0       88.0          1.0         2.5     1994.0         3.0      593.0   \n",
       "\n",
       "   GoodLivArea  HasPool  MSSubClass_1FlPUD  MSSubClass_2Fl  MSSubClass_2FlPUD  \\\n",
       "0       3989.0        1                0.0             1.0                0.0   \n",
       "\n",
       "   MSSubClass_DUP2FAM  MSSubClass_SPLIT  Foundation_CBlock  Foundation_PConc  \\\n",
       "0                 0.0               0.0                0.0               1.0   \n",
       "\n",
       "   Foundation_Slab  Foundation_Stone  Foundation_Wood  PavedDrive_P  \\\n",
       "0              0.0               0.0              0.0           0.0   \n",
       "\n",
       "   PavedDrive_Y  HeatingQC_Fa  HeatingQC_Gd  HeatingQC_TA  \\\n",
       "0           1.0           0.0           0.0           0.0   \n",
       "\n",
       "   Neighborhood_Blueste  Neighborhood_BrDale  Neighborhood_BrkSide  \\\n",
       "0                   0.0                  0.0                   0.0   \n",
       "\n",
       "   Neighborhood_ClearCr  Neighborhood_CollgCr  Neighborhood_Crawfor  \\\n",
       "0                   0.0                   0.0                   0.0   \n",
       "\n",
       "   Neighborhood_Edwards  Neighborhood_Gilbert  Neighborhood_Greens  \\\n",
       "0                   0.0                   0.0                  0.0   \n",
       "\n",
       "   Neighborhood_GrnHill  Neighborhood_IDOTRR  Neighborhood_Landmrk  \\\n",
       "0                   0.0                  0.0                   0.0   \n",
       "\n",
       "   Neighborhood_MeadowV  Neighborhood_Mitchel  Neighborhood_NAmes  \\\n",
       "0                   0.0                   0.0                 0.0   \n",
       "\n",
       "   Neighborhood_NPkVill  Neighborhood_NWAmes  Neighborhood_NoRidge  \\\n",
       "0                   0.0                  0.0                   0.0   \n",
       "\n",
       "   Neighborhood_NridgHt  Neighborhood_OldTown  Neighborhood_SWISU  \\\n",
       "0                   0.0                   0.0                 0.0   \n",
       "\n",
       "   Neighborhood_Sawyer  Neighborhood_SawyerW  Neighborhood_Somerst  \\\n",
       "0                  0.0                   0.0                   0.0   \n",
       "\n",
       "   Neighborhood_StoneBr  Neighborhood_Timber  Neighborhood_Veenker  \\\n",
       "0                   0.0                  0.0                   0.0   \n",
       "\n",
       "   CentralAir_Y  KitchenQual_Fa  KitchenQual_Gd  KitchenQual_Po  \\\n",
       "0           1.0             0.0             1.0             0.0   \n",
       "\n",
       "   KitchenQual_TA  ExterQual_Fa  ExterQual_Gd  ExterQual_TA  BsmtCond_Fa  \\\n",
       "0             0.0           0.0           1.0           0.0          0.0   \n",
       "\n",
       "   BsmtCond_Gd  BsmtCond_None  BsmtCond_TA  FireplaceQu_Fa  FireplaceQu_Gd  \\\n",
       "0          1.0            0.0          0.0             0.0             0.0   \n",
       "\n",
       "   FireplaceQu_None  FireplaceQu_Po  FireplaceQu_TA  GarageQual_Fa  \\\n",
       "0               0.0             0.0             1.0            0.0   \n",
       "\n",
       "   GarageQual_Gd  GarageQual_None  GarageQual_Po  GarageQual_TA  \n",
       "0            0.0              0.0            0.0            1.0  "
      ]
     },
     "execution_count": 162,
     "metadata": {},
     "output_type": "execute_result"
    }
   ],
   "source": [
    "def pkl_encode_nbr(base_data, code):\n",
    "    # Encodes the neighborhood selected with 1, all other dummy columns are set to 0\n",
    "    target = 'Neighborhood_'+code\n",
    "    neigh_cols = list(base_data.filter(regex='^Neigh').columns)\n",
    "    base_data.loc[0,neigh_cols] = 0\n",
    "    if target in neigh_cols:\n",
    "        neigh_cols.remove(target)\n",
    "        base_data.loc[0,target] = 1\n",
    "    return base_data\n",
    "\n",
    "pkl_encode_nbr(baseline, 'Blmngtn')"
   ]
  },
  {
   "cell_type": "code",
   "execution_count": 33,
   "id": "d0ff083e",
   "metadata": {},
   "outputs": [
    {
     "data": {
      "text/plain": [
       "MultiIndex([('Blmngtn',     '1Fl'),\n",
       "            ('Blmngtn',  '1FlPUD'),\n",
       "            ('Blueste',  '1FlPUD'),\n",
       "            ('Blueste',  '2FlPUD'),\n",
       "            ( 'BrDale',  '2FlPUD'),\n",
       "            ('BrkSide',     '1Fl'),\n",
       "            ('BrkSide',     '2Fl'),\n",
       "            ('BrkSide', 'DUP2FAM'),\n",
       "            ('ClearCr',     '1Fl'),\n",
       "            ('ClearCr',  '1FlPUD'),\n",
       "            ('ClearCr',     '2Fl'),\n",
       "            ('ClearCr', 'DUP2FAM'),\n",
       "            ('ClearCr',   'SPLIT'),\n",
       "            ('CollgCr',     '1Fl'),\n",
       "            ('CollgCr',  '1FlPUD'),\n",
       "            ('CollgCr',     '2Fl'),\n",
       "            ('CollgCr', 'DUP2FAM'),\n",
       "            ('CollgCr',   'SPLIT'),\n",
       "            ('Crawfor',     '1Fl'),\n",
       "            ('Crawfor',  '1FlPUD'),\n",
       "            ('Crawfor',     '2Fl'),\n",
       "            ('Crawfor', 'DUP2FAM'),\n",
       "            ('Crawfor',   'SPLIT'),\n",
       "            ('Edwards',     '1Fl'),\n",
       "            ('Edwards',  '1FlPUD'),\n",
       "            ('Edwards',     '2Fl'),\n",
       "            ('Edwards',  '2FlPUD'),\n",
       "            ('Edwards', 'DUP2FAM'),\n",
       "            ('Edwards',   'SPLIT'),\n",
       "            ('Gilbert',     '1Fl'),\n",
       "            ('Gilbert',     '2Fl'),\n",
       "            ('Gilbert', 'DUP2FAM'),\n",
       "            ('Gilbert',   'SPLIT'),\n",
       "            ( 'Greens',  '1FlPUD'),\n",
       "            ('GrnHill',  '1FlPUD'),\n",
       "            ( 'IDOTRR',     '1Fl'),\n",
       "            ( 'IDOTRR',     '2Fl'),\n",
       "            ( 'IDOTRR', 'DUP2FAM'),\n",
       "            ( 'IDOTRR',   'SPLIT'),\n",
       "            ('Landmrk',  '2FlPUD'),\n",
       "            ('MeadowV',  '1FlPUD'),\n",
       "            ('MeadowV',  '2FlPUD'),\n",
       "            ('Mitchel',     '1Fl'),\n",
       "            ('Mitchel',  '1FlPUD'),\n",
       "            ('Mitchel',     '2Fl'),\n",
       "            ('Mitchel', 'DUP2FAM'),\n",
       "            ('Mitchel',   'SPLIT'),\n",
       "            (  'NAmes',     '1Fl'),\n",
       "            (  'NAmes',  '1FlPUD'),\n",
       "            (  'NAmes',     '2Fl'),\n",
       "            (  'NAmes', 'DUP2FAM'),\n",
       "            (  'NAmes',   'SPLIT'),\n",
       "            ('NPkVill',  '1FlPUD'),\n",
       "            ('NPkVill',  '2FlPUD'),\n",
       "            ( 'NWAmes',     '1Fl'),\n",
       "            ( 'NWAmes',     '2Fl'),\n",
       "            ( 'NWAmes', 'DUP2FAM'),\n",
       "            ( 'NWAmes',   'SPLIT'),\n",
       "            ('NoRidge',     '1Fl'),\n",
       "            ('NoRidge',     '2Fl'),\n",
       "            ('NridgHt',     '1Fl'),\n",
       "            ('NridgHt',  '1FlPUD'),\n",
       "            ('NridgHt',     '2Fl'),\n",
       "            ('NridgHt',  '2FlPUD'),\n",
       "            ('OldTown',     '1Fl'),\n",
       "            ('OldTown',     '2Fl'),\n",
       "            ('OldTown', 'DUP2FAM'),\n",
       "            ('OldTown',   'SPLIT'),\n",
       "            (  'SWISU',     '1Fl'),\n",
       "            (  'SWISU',     '2Fl'),\n",
       "            (  'SWISU', 'DUP2FAM'),\n",
       "            ( 'Sawyer',     '1Fl'),\n",
       "            ( 'Sawyer',     '2Fl'),\n",
       "            ( 'Sawyer', 'DUP2FAM'),\n",
       "            ( 'Sawyer',   'SPLIT'),\n",
       "            ('SawyerW',     '1Fl'),\n",
       "            ('SawyerW',  '1FlPUD'),\n",
       "            ('SawyerW',     '2Fl'),\n",
       "            ('SawyerW',  '2FlPUD'),\n",
       "            ('SawyerW', 'DUP2FAM'),\n",
       "            ('SawyerW',   'SPLIT'),\n",
       "            ('Somerst',     '1Fl'),\n",
       "            ('Somerst',  '1FlPUD'),\n",
       "            ('Somerst',     '2Fl'),\n",
       "            ('Somerst',  '2FlPUD'),\n",
       "            ('StoneBr',     '1Fl'),\n",
       "            ('StoneBr',  '1FlPUD'),\n",
       "            ('StoneBr',     '2Fl'),\n",
       "            ('StoneBr',  '2FlPUD'),\n",
       "            ( 'Timber',     '1Fl'),\n",
       "            ( 'Timber',  '1FlPUD'),\n",
       "            ( 'Timber',     '2Fl'),\n",
       "            ( 'Timber', 'DUP2FAM'),\n",
       "            ( 'Timber',   'SPLIT'),\n",
       "            ('Veenker',     '1Fl'),\n",
       "            ('Veenker',  '1FlPUD'),\n",
       "            ('Veenker',     '2Fl'),\n",
       "            ('Veenker',   'SPLIT')],\n",
       "           names=['Neighborhood', 'MSSubClass'])"
      ]
     },
     "execution_count": 33,
     "metadata": {},
     "output_type": "execute_result"
    }
   ],
   "source": [
    "data.groupby(['Neighborhood','MSSubClass']).agg('median').index"
   ]
  },
  {
   "cell_type": "code",
   "execution_count": 34,
   "id": "9c1f96d0",
   "metadata": {},
   "outputs": [],
   "source": [
    "t = data.groupby(['Neighborhood','MSSubClass']).agg('median')"
   ]
  },
  {
   "cell_type": "code",
   "execution_count": 37,
   "id": "fd2fad5d",
   "metadata": {},
   "outputs": [
    {
     "data": {
      "text/plain": [
       "BsmtUnfSF       289.0\n",
       "AllBathBsmt       1.0\n",
       "AllBathAbv        2.0\n",
       "YearBuilt      1976.0\n",
       "GarageCars        2.0\n",
       "PorchArea       348.0\n",
       "GoodLivArea    2503.0\n",
       "HasPool           0.0\n",
       "Name: (Veenker, SPLIT), dtype: float64"
      ]
     },
     "execution_count": 37,
     "metadata": {},
     "output_type": "execute_result"
    }
   ],
   "source": [
    "t.loc[('Veenker', 'SPLIT')]"
   ]
  },
  {
   "cell_type": "code",
   "execution_count": null,
   "id": "95a9ad0d",
   "metadata": {},
   "outputs": [],
   "source": []
  }
 ],
 "metadata": {
  "kernelspec": {
   "display_name": "Python 3",
   "language": "python",
   "name": "python3"
  },
  "language_info": {
   "codemirror_mode": {
    "name": "ipython",
    "version": 3
   },
   "file_extension": ".py",
   "mimetype": "text/x-python",
   "name": "python",
   "nbconvert_exporter": "python",
   "pygments_lexer": "ipython3",
   "version": "3.8.8"
  }
 },
 "nbformat": 4,
 "nbformat_minor": 5
}
