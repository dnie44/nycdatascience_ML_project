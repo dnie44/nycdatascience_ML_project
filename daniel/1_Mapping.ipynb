{
 "cells": [
  {
   "cell_type": "code",
   "execution_count": 17,
   "id": "567e2dde",
   "metadata": {},
   "outputs": [],
   "source": [
    "import pandas as pd\n",
    "import numpy as np\n",
    "import re\n",
    "\n",
    "from bokeh.plotting import figure, show\n",
    "from bokeh.tile_providers import get_provider, STAMEN_TONER, CARTODBPOSITRON_RETINA\n",
    "from bokeh.models import HoverTool, FreehandDrawTool, BoxEditTool, ColumnDataSource"
   ]
  },
  {
   "cell_type": "markdown",
   "id": "5a6950ec",
   "metadata": {},
   "source": [
    "### For some reason bokeh maps uses Web Mercator coordinates"
   ]
  },
  {
   "cell_type": "code",
   "execution_count": 2,
   "id": "1a3129f9",
   "metadata": {},
   "outputs": [],
   "source": [
    "# Define function to switch from lat/long to mercator x/y coordinates\n",
    "def to_mercator(lat, lon):\n",
    "    \n",
    "    r_major = 6378137.000\n",
    "    x = r_major * np.radians(lon)\n",
    "    scale = x/lon\n",
    "    y = 180.0/np.pi * np.log(np.tan(np.pi/4.0 + \n",
    "        lat * (np.pi/180.0)/2.0)) * scale\n",
    "    return (x, y)"
   ]
  },
  {
   "cell_type": "code",
   "execution_count": 3,
   "id": "3d7d74ac",
   "metadata": {},
   "outputs": [],
   "source": [
    "# Ames, Iowa lat long, converted to mercator\n",
    "Ames_center = to_mercator(42.034534, -93.620369)"
   ]
  },
  {
   "cell_type": "code",
   "execution_count": 4,
   "id": "373c5409",
   "metadata": {},
   "outputs": [
    {
     "data": {
      "text/plain": [
       "(2624, 2)"
      ]
     },
     "execution_count": 4,
     "metadata": {},
     "output_type": "execute_result"
    }
   ],
   "source": [
    "geo = pd.read_csv('geodata.csv')\n",
    "geo.shape"
   ]
  },
  {
   "cell_type": "code",
   "execution_count": 5,
   "id": "80ebaf4a",
   "metadata": {},
   "outputs": [],
   "source": [
    "#list of house mercator coordinates\n",
    "x_merc = []\n",
    "y_merc = []\n",
    "\n",
    "for each in geo['lat_long']:\n",
    "    ll = re.sub(\"[^0-9.\\- ]\",\"\",each).split()\n",
    "    #if 0, append center of Ames (-10421771.804958373, 5166153.874296733)\n",
    "    if ll == ['0']:\n",
    "        x_merc.append(Ames_center[0])\n",
    "        y_merc.append(Ames_center[1])\n",
    "    else:\n",
    "        x, y = to_mercator(float(ll[0]),float(ll[1]))\n",
    "        x_merc.append(x)\n",
    "        y_merc.append(y)"
   ]
  },
  {
   "cell_type": "code",
   "execution_count": 6,
   "id": "beebfde0",
   "metadata": {},
   "outputs": [],
   "source": [
    "geo = pd.concat([geo, pd.Series(x_merc), pd.Series(y_merc)],axis=1).set_index('PID')"
   ]
  },
  {
   "cell_type": "code",
   "execution_count": 7,
   "id": "a8f92f58",
   "metadata": {},
   "outputs": [],
   "source": [
    "geo = geo.rename(columns={0:'x_merc',1:'y_merc'})"
   ]
  },
  {
   "cell_type": "code",
   "execution_count": 8,
   "id": "9345d7b6",
   "metadata": {},
   "outputs": [],
   "source": [
    "landmarks = {'landmarks':['Iowa State University',\n",
    "                          'Municipal Airport',\n",
    "                          'North Grand Mall',\n",
    "                          'Mary Greeley Medical Center',\n",
    "                          'Jack Trice Stadium'],\n",
    "            'x_merc':[to_mercator(42.0267,-93.6465)[0],\n",
    "                      to_mercator(41.9987,-93.6223)[0],\n",
    "                      to_mercator(42.0494,-93.6224)[0],\n",
    "                      to_mercator(42.0323,-93.6111)[0],\n",
    "                      to_mercator(42.0140,-93.6359)[0]],\n",
    "            'y_merc':[to_mercator(42.0267,-93.6465)[1],\n",
    "                      to_mercator(41.9987,-93.6223)[1],\n",
    "                      to_mercator(42.0494,-93.6224)[1],\n",
    "                      to_mercator(42.0323,-93.6111)[1],\n",
    "                      to_mercator(42.0140,-93.6359)[1]]}\n",
    "\n",
    "marks = pd.DataFrame(landmarks)"
   ]
  },
  {
   "cell_type": "code",
   "execution_count": 21,
   "id": "8b795e70",
   "metadata": {},
   "outputs": [],
   "source": [
    "background = get_provider(CARTODBPOSITRON_RETINA) #CARTODBPOSITRON_RETINA, STAMEN_TONER\n",
    "x_zoom = 7000\n",
    "y_zoom = 5000\n",
    "\n",
    "# Base Map Layer\n",
    "fig = figure(plot_width=1200, plot_height=800,\n",
    "             x_range=(Ames_center[0]-x_zoom, Ames_center[0]+y_zoom), \n",
    "             y_range=(Ames_center[1]-x_zoom, Ames_center[1]+y_zoom),\n",
    "             x_axis_type=\"mercator\", y_axis_type=\"mercator\",\n",
    "             title=\"Ames Iowa Housing Map\")\n",
    "fig.add_tile(background)\n",
    "\n",
    "# Dots for Houses\n",
    "fig.circle(x=\"x_merc\", y=\"y_merc\",\n",
    "         size=4,\n",
    "         fill_color=\"orange\", line_color='dodgerblue',\n",
    "         fill_alpha=0.6,\n",
    "         source=geo)\n",
    "\n",
    "# Big Dots for Landmarks, with Hover interactivity\n",
    "my_hover = HoverTool(names=['landmark'])\n",
    "my_hover.tooltips = [('X', '@landmarks')]\n",
    "fig.circle(x=\"x_merc\", y=\"y_merc\",\n",
    "           size=10,\n",
    "           fill_color=\"tomato\", line_color='tomato',\n",
    "           fill_alpha=0.3,\n",
    "           name='landmark',\n",
    "           source=marks)\n",
    "fig.add_tools(my_hover)\n",
    "\n",
    "# Boxes\n",
    "sectordata = ColumnDataSource(\n",
    "    data={'x': [], 'y': [], 'width': [], 'height': []})\n",
    "\n",
    "mybox = fig.rect('x', 'y', 'width', 'height', color='pink', source=sectordata, alpha=0.4)\n",
    "boxes = BoxEditTool(renderers=[mybox],num_objects=5)\n",
    "fig.add_tools(boxes)\n",
    "\n",
    "# Add draw tool\n",
    "renderer = fig.multi_line([[1, 9]], [[5, 5]], line_width=4, alpha=0.4, color='red')\n",
    "draw_tool = FreehandDrawTool(renderers=[renderer], num_objects=4)\n",
    "fig.add_tools(draw_tool)\n",
    "\n",
    "show(fig)"
   ]
  },
  {
   "cell_type": "markdown",
   "id": "4d021140",
   "metadata": {},
   "source": [
    "![citymap](Ames.png)"
   ]
  },
  {
   "cell_type": "code",
   "execution_count": 23,
   "id": "d127029f",
   "metadata": {},
   "outputs": [
    {
     "data": {
      "text/plain": [
       "array(['SWISU', 'Edwards', 'IDOTRR', 'OldTown', 'NWAmes', 'Blmngtn',\n",
       "       'Mitchel', 'NridgHt', 'NAmes', 'CollgCr', 'SawyerW', 'MeadowV',\n",
       "       'BrDale', 'Gilbert', 'Timber', 'Somerst', 'BrkSide', 'NoRidge',\n",
       "       'Sawyer', 'Crawfor', 'Greens', 'ClearCr', 'GrnHill', 'StoneBr',\n",
       "       'Veenker', 'NPkVill', 'Blueste', 'Landmrk'], dtype=object)"
      ]
     },
     "execution_count": 23,
     "metadata": {},
     "output_type": "execute_result"
    }
   ],
   "source": [
    "data = pd.read_csv('ALL_data.csv', index_col='PID')\n",
    "data.Neighborhood.unique()"
   ]
  },
  {
   "cell_type": "code",
   "execution_count": null,
   "id": "5d9523dc",
   "metadata": {},
   "outputs": [],
   "source": []
  }
 ],
 "metadata": {
  "kernelspec": {
   "display_name": "Python 3",
   "language": "python",
   "name": "python3"
  },
  "language_info": {
   "codemirror_mode": {
    "name": "ipython",
    "version": 3
   },
   "file_extension": ".py",
   "mimetype": "text/x-python",
   "name": "python",
   "nbconvert_exporter": "python",
   "pygments_lexer": "ipython3",
   "version": "3.8.8"
  }
 },
 "nbformat": 4,
 "nbformat_minor": 5
}
