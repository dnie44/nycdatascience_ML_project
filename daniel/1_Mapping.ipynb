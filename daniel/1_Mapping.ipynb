{
 "cells": [
  {
   "cell_type": "code",
   "execution_count": 1,
   "id": "567e2dde",
   "metadata": {},
   "outputs": [],
   "source": [
    "import pandas as pd\n",
    "import numpy as np\n",
    "import re\n",
    "\n",
    "from bokeh.plotting import figure, show\n",
    "from bokeh.tile_providers import get_provider, STAMEN_TONER, CARTODBPOSITRON_RETINA\n",
    "from bokeh.models import HoverTool, FreehandDrawTool, BoxEditTool, ColumnDataSource"
   ]
  },
  {
   "cell_type": "markdown",
   "id": "5a6950ec",
   "metadata": {},
   "source": [
    "### For some reason bokeh maps uses Web Mercator coordinates\n",
    "* Define function to switch from lat/long to mercator x/y coordinates"
   ]
  },
  {
   "cell_type": "code",
   "execution_count": 2,
   "id": "1a3129f9",
   "metadata": {},
   "outputs": [],
   "source": [
    "# Define function to switch from lat/long to mercator x/y coordinates\n",
    "def to_mercator(lat, lon):\n",
    "    \n",
    "    r_major = 6378137.000\n",
    "    x = r_major * np.radians(lon)\n",
    "    scale = x/lon\n",
    "    y = 180.0/np.pi * np.log(np.tan(np.pi/4.0 + \n",
    "        lat * (np.pi/180.0)/2.0)) * scale\n",
    "    return (x, y)"
   ]
  },
  {
   "cell_type": "markdown",
   "id": "603e2d04",
   "metadata": {},
   "source": [
    "#### Ames, Iowa latitude-longitude (42.034534, -93.620369), converted to mercator"
   ]
  },
  {
   "cell_type": "code",
   "execution_count": 3,
   "id": "3d7d74ac",
   "metadata": {},
   "outputs": [],
   "source": [
    "# Ames, Iowa lat long, converted to mercator\n",
    "Ames_center = to_mercator(42.034534, -93.620369)"
   ]
  },
  {
   "cell_type": "code",
   "execution_count": 4,
   "id": "373c5409",
   "metadata": {},
   "outputs": [
    {
     "data": {
      "text/plain": [
       "(2624, 2)"
      ]
     },
     "execution_count": 4,
     "metadata": {},
     "output_type": "execute_result"
    }
   ],
   "source": [
    "geo = pd.read_csv('geodata.csv')\n",
    "geo.shape"
   ]
  },
  {
   "cell_type": "code",
   "execution_count": 5,
   "id": "0f263287",
   "metadata": {},
   "outputs": [
    {
     "data": {
      "text/html": [
       "<div>\n",
       "<style scoped>\n",
       "    .dataframe tbody tr th:only-of-type {\n",
       "        vertical-align: middle;\n",
       "    }\n",
       "\n",
       "    .dataframe tbody tr th {\n",
       "        vertical-align: top;\n",
       "    }\n",
       "\n",
       "    .dataframe thead th {\n",
       "        text-align: right;\n",
       "    }\n",
       "</style>\n",
       "<table border=\"1\" class=\"dataframe\">\n",
       "  <thead>\n",
       "    <tr style=\"text-align: right;\">\n",
       "      <th></th>\n",
       "      <th>PID</th>\n",
       "      <th>lat_long</th>\n",
       "    </tr>\n",
       "  </thead>\n",
       "  <tbody>\n",
       "    <tr>\n",
       "      <th>0</th>\n",
       "      <td>909176150</td>\n",
       "      <td>(42.01856448979592, -93.65161918367347)</td>\n",
       "    </tr>\n",
       "    <tr>\n",
       "      <th>1</th>\n",
       "      <td>905476230</td>\n",
       "      <td>(42.024855315930424, -93.66367099341755)</td>\n",
       "    </tr>\n",
       "    <tr>\n",
       "      <th>2</th>\n",
       "      <td>905476230</td>\n",
       "      <td>(42.024855315930424, -93.66367099341755)</td>\n",
       "    </tr>\n",
       "    <tr>\n",
       "      <th>3</th>\n",
       "      <td>911128020</td>\n",
       "      <td>(42.021547615297024, -93.61406809992513)</td>\n",
       "    </tr>\n",
       "    <tr>\n",
       "      <th>4</th>\n",
       "      <td>535377150</td>\n",
       "      <td>(42.03739146938776, -93.61220695918368)</td>\n",
       "    </tr>\n",
       "  </tbody>\n",
       "</table>\n",
       "</div>"
      ],
      "text/plain": [
       "         PID                                  lat_long\n",
       "0  909176150   (42.01856448979592, -93.65161918367347)\n",
       "1  905476230  (42.024855315930424, -93.66367099341755)\n",
       "2  905476230  (42.024855315930424, -93.66367099341755)\n",
       "3  911128020  (42.021547615297024, -93.61406809992513)\n",
       "4  535377150   (42.03739146938776, -93.61220695918368)"
      ]
     },
     "execution_count": 5,
     "metadata": {},
     "output_type": "execute_result"
    }
   ],
   "source": [
    "geo.head()"
   ]
  },
  {
   "cell_type": "markdown",
   "id": "a6fe77c1",
   "metadata": {},
   "source": [
    "#### Convert all house lat_long to mercator coordinates"
   ]
  },
  {
   "cell_type": "code",
   "execution_count": 6,
   "id": "80ebaf4a",
   "metadata": {},
   "outputs": [],
   "source": [
    "#list of house mercator coordinates\n",
    "x_merc = []\n",
    "y_merc = []\n",
    "\n",
    "for each in geo['lat_long']:\n",
    "    ll = re.sub(\"[^0-9.\\- ]\",\"\",each).split()\n",
    "    #if 0, append center of Ames (-10421771.804958373, 5166153.874296733)\n",
    "    if ll == ['0']:\n",
    "        x_merc.append(Ames_center[0])\n",
    "        y_merc.append(Ames_center[1])\n",
    "    else:\n",
    "        x, y = to_mercator(float(ll[0]),float(ll[1]))\n",
    "        x_merc.append(x)\n",
    "        y_merc.append(y)"
   ]
  },
  {
   "cell_type": "code",
   "execution_count": 7,
   "id": "beebfde0",
   "metadata": {},
   "outputs": [],
   "source": [
    "geo = pd.concat([geo, pd.Series(x_merc), pd.Series(y_merc)],axis=1).set_index('PID')"
   ]
  },
  {
   "cell_type": "code",
   "execution_count": 8,
   "id": "a8f92f58",
   "metadata": {},
   "outputs": [],
   "source": [
    "geo = geo.rename(columns={0:'x_merc',1:'y_merc'})"
   ]
  },
  {
   "cell_type": "markdown",
   "id": "7a8c7940",
   "metadata": {},
   "source": [
    "#### Create list of landmarks in Ames"
   ]
  },
  {
   "cell_type": "code",
   "execution_count": 9,
   "id": "9345d7b6",
   "metadata": {},
   "outputs": [],
   "source": [
    "landmarks = {'landmarks':['Iowa State University',\n",
    "                          'Municipal Airport',\n",
    "                          'North Grand Mall',\n",
    "                          'Mary Greeley Medical Center',\n",
    "                          'Jack Trice Stadium',\n",
    "                          'Walmart Supercenter'],\n",
    "            'x_merc':[to_mercator(42.0267,-93.6465)[0],\n",
    "                      to_mercator(41.9987,-93.6223)[0],\n",
    "                      to_mercator(42.0494,-93.6224)[0],\n",
    "                      to_mercator(42.0323,-93.6111)[0],\n",
    "                      to_mercator(42.0140,-93.6359)[0],\n",
    "                      to_mercator(42.0160016, -93.6068719)[0]],\n",
    "            'y_merc':[to_mercator(42.0267,-93.6465)[1],\n",
    "                      to_mercator(41.9987,-93.6223)[1],\n",
    "                      to_mercator(42.0494,-93.6224)[1],\n",
    "                      to_mercator(42.0323,-93.6111)[1],\n",
    "                      to_mercator(42.0140,-93.6359)[1],\n",
    "                      to_mercator(42.0160016, -93.6068719)[1]]}\n",
    "\n",
    "marks = pd.DataFrame(landmarks)"
   ]
  },
  {
   "cell_type": "markdown",
   "id": "0504fa90",
   "metadata": {},
   "source": [
    "### Draw Map of Houses and Landmarks"
   ]
  },
  {
   "cell_type": "code",
   "execution_count": 10,
   "id": "8b795e70",
   "metadata": {},
   "outputs": [],
   "source": [
    "background = get_provider(CARTODBPOSITRON_RETINA) #CARTODBPOSITRON_RETINA, STAMEN_TONER\n",
    "x_zoom = 7000\n",
    "y_zoom = 5000\n",
    "\n",
    "# Base Map Layer\n",
    "fig = figure(plot_width=1200, plot_height=800,\n",
    "             x_range=(Ames_center[0]-x_zoom, Ames_center[0]+y_zoom), \n",
    "             y_range=(Ames_center[1]-x_zoom, Ames_center[1]+y_zoom),\n",
    "             x_axis_type=\"mercator\", y_axis_type=\"mercator\",\n",
    "             title=\"Ames Iowa Housing Map\")\n",
    "fig.add_tile(background)\n",
    "\n",
    "# Dots for Houses\n",
    "fig.circle(x=\"x_merc\", y=\"y_merc\",\n",
    "         size=4,\n",
    "         fill_color=\"orange\", line_color='dodgerblue',\n",
    "         fill_alpha=0.6,\n",
    "         source=geo)\n",
    "\n",
    "# Big Dots for Landmarks, with Hover interactivity\n",
    "my_hover = HoverTool(names=['landmark'])\n",
    "my_hover.tooltips = [('X', '@landmarks')]\n",
    "fig.circle(x=\"x_merc\", y=\"y_merc\",\n",
    "           size=10,\n",
    "           fill_color=\"tomato\", line_color='tomato',\n",
    "           fill_alpha=0.3,\n",
    "           name='landmark',\n",
    "           source=marks)\n",
    "fig.add_tools(my_hover)\n",
    "\n",
    "# # Boxes\n",
    "# sectordata = ColumnDataSource(\n",
    "#     data={'x': [], 'y': [], 'width': [], 'height': []})\n",
    "\n",
    "# mybox = fig.rect('x', 'y', 'width', 'height', color='pink', source=sectordata, alpha=0.4)\n",
    "# boxes = BoxEditTool(renderers=[mybox],num_objects=5)\n",
    "# fig.add_tools(boxes)\n",
    "\n",
    "# Add draw tool\n",
    "renderer = fig.multi_line([[1, 9]], [[5, 5]], line_width=4, alpha=0.4, color='red')\n",
    "draw_tool = FreehandDrawTool(renderers=[renderer], num_objects=4)\n",
    "fig.add_tools(draw_tool)\n",
    "\n",
    "show(fig)"
   ]
  },
  {
   "cell_type": "markdown",
   "id": "4d021140",
   "metadata": {},
   "source": [
    "![citymap](Ames.png)"
   ]
  },
  {
   "cell_type": "markdown",
   "id": "53c800bb",
   "metadata": {},
   "source": [
    "### Since data has neighborhood information, recode neighborhoods to bigger city \"sectors\"\n",
    "* as per  https://www.thinkames.com/maps/"
   ]
  },
  {
   "cell_type": "code",
   "execution_count": 12,
   "id": "d127029f",
   "metadata": {},
   "outputs": [
    {
     "data": {
      "text/plain": [
       "(2579, 81)"
      ]
     },
     "execution_count": 12,
     "metadata": {},
     "output_type": "execute_result"
    }
   ],
   "source": [
    "data = pd.read_csv('ALL_data.csv', index_col='PID')\n",
    "data.shape"
   ]
  },
  {
   "cell_type": "code",
   "execution_count": 13,
   "id": "5d9523dc",
   "metadata": {},
   "outputs": [],
   "source": [
    "temp = data.Neighborhood.to_frame().copy()"
   ]
  },
  {
   "cell_type": "markdown",
   "id": "d15737d3",
   "metadata": {},
   "source": [
    "#### Create recoding dictionary"
   ]
  },
  {
   "cell_type": "code",
   "execution_count": 14,
   "id": "3a3568fc",
   "metadata": {},
   "outputs": [],
   "source": [
    "code = {'Blmngtn': 'NO', 'Blueste':'SW', 'BrDale': 'NO',\n",
    "        'BrkSide':'DT', 'ClearCr': 'SW', 'CollgCr':'SW',\n",
    "        'Crawfor':'SW', 'Edwards':'SW', 'Gilbert': 'NO',\n",
    "        'IDOTRR':'DT', 'MeadowV':'SE', 'Mitchel':'SE',\n",
    "        'NAmes':'NO', 'NoRidge':'NW', 'NPkVill':'NO',\n",
    "        'NridgHt':'NW', 'NWAmes':'NO', 'OldTown':'DT',\n",
    "        'SWISU':'SW', 'Sawyer':'NW', 'SawyerW':'NW',\n",
    "        'Somerst':'NW', 'StoneBr':'NO', 'Timber':'SW',\n",
    "        'Veenker':'NW', 'Greens':'NW', 'GrnHill':'SW', 'Landmrk':'DT'}\n",
    "\n",
    "# NW            NorthWest\n",
    "# NO            North\n",
    "# NE            NorthEast (No Houses)\n",
    "# SW            SoutWest\n",
    "# DT            Downtown\n",
    "# SO            South     (No Houses)\n",
    "# SE            SouthEast"
   ]
  },
  {
   "cell_type": "markdown",
   "id": "ac69679b",
   "metadata": {},
   "source": [
    "* Create new Column with House Sector Data"
   ]
  },
  {
   "cell_type": "code",
   "execution_count": 15,
   "id": "9e136dab",
   "metadata": {},
   "outputs": [],
   "source": [
    "temp['Sector'] = [code[each] for each in temp.Neighborhood]"
   ]
  },
  {
   "cell_type": "code",
   "execution_count": 16,
   "id": "4110091e",
   "metadata": {},
   "outputs": [
    {
     "data": {
      "text/plain": [
       "NO    793\n",
       "SW    641\n",
       "NW    614\n",
       "DT    393\n",
       "SE    138\n",
       "Name: Sector, dtype: int64"
      ]
     },
     "execution_count": 16,
     "metadata": {},
     "output_type": "execute_result"
    }
   ],
   "source": [
    "temp.Sector.value_counts()"
   ]
  },
  {
   "cell_type": "code",
   "execution_count": 17,
   "id": "89056717",
   "metadata": {},
   "outputs": [],
   "source": [
    "assert temp.Sector.value_counts().agg('sum') == temp.Neighborhood.count() == 2579, \"Check Counts!\""
   ]
  },
  {
   "cell_type": "code",
   "execution_count": 18,
   "id": "045f64ce",
   "metadata": {},
   "outputs": [],
   "source": [
    "# Set Sector Colors for Map\n",
    "color_dict = {'NO':'green',\n",
    "              'SW':'purple',\n",
    "              'NW':'yellow',\n",
    "              'DT':'dodgerblue',\n",
    "              'SE':'red',\n",
    "              'SO':'black'}\n",
    "temp['Color'] = [color_dict[each] for each in temp.Sector]"
   ]
  },
  {
   "cell_type": "markdown",
   "id": "86a1108c",
   "metadata": {},
   "source": [
    "#### Join to geo DF"
   ]
  },
  {
   "cell_type": "code",
   "execution_count": 19,
   "id": "d806b135",
   "metadata": {},
   "outputs": [],
   "source": [
    "map_data1 = geo.merge(temp,how='left',on='PID')"
   ]
  },
  {
   "cell_type": "markdown",
   "id": "4c9f0d59",
   "metadata": {},
   "source": [
    "### Map again with Sector Colors"
   ]
  },
  {
   "cell_type": "code",
   "execution_count": 20,
   "id": "0089f1a4",
   "metadata": {},
   "outputs": [],
   "source": [
    "background = get_provider(CARTODBPOSITRON_RETINA) #CARTODBPOSITRON_RETINA, STAMEN_TONER\n",
    "x_zoom = 7000\n",
    "y_zoom = 5000\n",
    "\n",
    "# Base Map Layer\n",
    "fig = figure(plot_width=1200, plot_height=800,\n",
    "             x_range=(Ames_center[0]-x_zoom, Ames_center[0]+y_zoom), \n",
    "             y_range=(Ames_center[1]-x_zoom, Ames_center[1]+y_zoom),\n",
    "             x_axis_type=\"mercator\", y_axis_type=\"mercator\",\n",
    "             title=\"Ames Iowa Housing Map\")\n",
    "fig.add_tile(background)\n",
    "\n",
    "# Dots for Houses\n",
    "my_hover = HoverTool(names=['House'])\n",
    "my_hover.tooltips = [('PID', '@Neighborhood')]\n",
    "fig.circle(x=\"x_merc\", y=\"y_merc\",\n",
    "           size=5,\n",
    "           color='Color', line_color='black', line_width = 0.5,\n",
    "           fill_alpha=0.6,\n",
    "           name='House',\n",
    "           source=map_data1)\n",
    "fig.add_tools(my_hover)\n",
    "\n",
    "# Big Dots for Landmarks, with Hover interactivity\n",
    "my_hover = HoverTool(names=['landmark'])\n",
    "my_hover.tooltips = [('X', '@landmarks')]\n",
    "fig.circle(x=\"x_merc\", y=\"y_merc\",\n",
    "           size=10,\n",
    "           fill_color=\"tomato\", line_color='tomato',\n",
    "           fill_alpha=0.3,\n",
    "           name='landmark',\n",
    "           source=marks)\n",
    "fig.add_tools(my_hover)\n",
    "\n",
    "\n",
    "# Add draw tool\n",
    "renderer = fig.multi_line([[1, 9]], [[5, 5]], line_width=4, alpha=0.4, color='red')\n",
    "draw_tool = FreehandDrawTool(renderers=[renderer], num_objects=4)\n",
    "fig.add_tools(draw_tool)\n",
    "\n",
    "show(fig)"
   ]
  },
  {
   "cell_type": "code",
   "execution_count": 21,
   "id": "626a0595",
   "metadata": {},
   "outputs": [],
   "source": [
    "anal_1 = data.merge(map_data1['Sector'], how='left', on='PID')\n",
    "anal_1.drop_duplicates(inplace=True)"
   ]
  },
  {
   "cell_type": "markdown",
   "id": "c7fbb6ec",
   "metadata": {},
   "source": [
    "#### Compare the prices of different sectors"
   ]
  },
  {
   "cell_type": "code",
   "execution_count": 22,
   "id": "dd557d0e",
   "metadata": {},
   "outputs": [
    {
     "data": {
      "text/html": [
       "<div>\n",
       "<style scoped>\n",
       "    .dataframe tbody tr th:only-of-type {\n",
       "        vertical-align: middle;\n",
       "    }\n",
       "\n",
       "    .dataframe tbody tr th {\n",
       "        vertical-align: top;\n",
       "    }\n",
       "\n",
       "    .dataframe thead th {\n",
       "        text-align: right;\n",
       "    }\n",
       "</style>\n",
       "<table border=\"1\" class=\"dataframe\">\n",
       "  <thead>\n",
       "    <tr style=\"text-align: right;\">\n",
       "      <th></th>\n",
       "      <th>mean</th>\n",
       "      <th>std</th>\n",
       "    </tr>\n",
       "    <tr>\n",
       "      <th>Sector</th>\n",
       "      <th></th>\n",
       "      <th></th>\n",
       "    </tr>\n",
       "  </thead>\n",
       "  <tbody>\n",
       "    <tr>\n",
       "      <th>NW</th>\n",
       "      <td>228355.210098</td>\n",
       "      <td>94494.859699</td>\n",
       "    </tr>\n",
       "    <tr>\n",
       "      <th>SW</th>\n",
       "      <td>181907.879875</td>\n",
       "      <td>63577.687234</td>\n",
       "    </tr>\n",
       "    <tr>\n",
       "      <th>NO</th>\n",
       "      <td>168734.272383</td>\n",
       "      <td>56512.411747</td>\n",
       "    </tr>\n",
       "    <tr>\n",
       "      <th>SE</th>\n",
       "      <td>146439.057971</td>\n",
       "      <td>46025.290063</td>\n",
       "    </tr>\n",
       "    <tr>\n",
       "      <th>DT</th>\n",
       "      <td>123083.740458</td>\n",
       "      <td>41681.521694</td>\n",
       "    </tr>\n",
       "  </tbody>\n",
       "</table>\n",
       "</div>"
      ],
      "text/plain": [
       "                 mean           std\n",
       "Sector                             \n",
       "NW      228355.210098  94494.859699\n",
       "SW      181907.879875  63577.687234\n",
       "NO      168734.272383  56512.411747\n",
       "SE      146439.057971  46025.290063\n",
       "DT      123083.740458  41681.521694"
      ]
     },
     "execution_count": 22,
     "metadata": {},
     "output_type": "execute_result"
    }
   ],
   "source": [
    "anal_1.groupby('Sector')['SalePrice'].agg(['mean','std']).sort_values(by='mean', ascending=False)"
   ]
  },
  {
   "cell_type": "markdown",
   "id": "96fd27b9",
   "metadata": {},
   "source": [
    "# Regroup the Sectors"
   ]
  },
  {
   "cell_type": "markdown",
   "id": "9d362e79",
   "metadata": {},
   "source": [
    "![citymap](Recode.png)"
   ]
  },
  {
   "cell_type": "code",
   "execution_count": 41,
   "id": "cd107c68",
   "metadata": {},
   "outputs": [],
   "source": [
    "code = {'Blmngtn': 'NW', 'Blueste':'SO', 'BrDale': 'NO',\n",
    "        'BrkSide':'DT', 'ClearCr': 'WE', 'CollgCr':'WE',\n",
    "        'Crawfor':'SO', 'Edwards':'WE', 'Gilbert': 'NW',\n",
    "        'IDOTRR':'DT', 'MeadowV':'SE', 'Mitchel':'SE',\n",
    "        'NAmes':'NO', 'NoRidge':'NW', 'NPkVill':'NO',\n",
    "        'NridgHt':'NW', 'NWAmes':'NW', 'OldTown':'DT',\n",
    "        'SWISU':'SO', 'Sawyer':'WE', 'SawyerW':'WE',\n",
    "        'Somerst':'NW', 'StoneBr':'NW', 'Timber':'SO',\n",
    "        'Veenker':'NW', 'Greens':'NW', 'GrnHill':'SO', 'Landmrk':'DT'}\n",
    "\n",
    "# NW            NorthWest\n",
    "# NO            North\n",
    "# WE            West\n",
    "# SO            South\n",
    "# DT            Downtown\n",
    "# SE            SouthEast"
   ]
  },
  {
   "cell_type": "code",
   "execution_count": 42,
   "id": "37967fab",
   "metadata": {},
   "outputs": [
    {
     "data": {
      "text/plain": [
       "NW    694\n",
       "WE    693\n",
       "NO    461\n",
       "DT    393\n",
       "SO    200\n",
       "SE    138\n",
       "Name: Sector, dtype: int64"
      ]
     },
     "execution_count": 42,
     "metadata": {},
     "output_type": "execute_result"
    }
   ],
   "source": [
    "temp['Sector'] = [code[each] for each in temp.Neighborhood]\n",
    "temp.Sector.value_counts()"
   ]
  },
  {
   "cell_type": "code",
   "execution_count": 43,
   "id": "c1772fb3",
   "metadata": {},
   "outputs": [],
   "source": [
    "assert temp.Sector.value_counts().agg('sum') == temp.Neighborhood.count() == 2579, \"Check Counts!\""
   ]
  },
  {
   "cell_type": "code",
   "execution_count": 44,
   "id": "349218e6",
   "metadata": {},
   "outputs": [],
   "source": [
    "# Set Sector Colors for Map\n",
    "color_dict = {'NW':'white',\n",
    "              'NO':'green',\n",
    "              'WE':'purple',\n",
    "              'DT':'dodgerblue',\n",
    "              'SE':'red',\n",
    "              'SO':'orange'}\n",
    "temp['Color'] = [color_dict[each] for each in temp.Sector]"
   ]
  },
  {
   "cell_type": "code",
   "execution_count": 45,
   "id": "0f9856e7",
   "metadata": {},
   "outputs": [],
   "source": [
    "map_data2 = geo.merge(temp,how='left',on='PID')"
   ]
  },
  {
   "cell_type": "code",
   "execution_count": 46,
   "id": "d7032549",
   "metadata": {},
   "outputs": [],
   "source": [
    "background = get_provider(CARTODBPOSITRON_RETINA) #CARTODBPOSITRON_RETINA, STAMEN_TONER\n",
    "x_zoom = 7000\n",
    "y_zoom = 5000\n",
    "\n",
    "# Base Map Layer\n",
    "fig = figure(plot_width=1200, plot_height=800,\n",
    "             x_range=(Ames_center[0]-x_zoom, Ames_center[0]+y_zoom), \n",
    "             y_range=(Ames_center[1]-x_zoom, Ames_center[1]+y_zoom),\n",
    "             x_axis_type=\"mercator\", y_axis_type=\"mercator\",\n",
    "             title=\"Ames Iowa Housing Map\")\n",
    "fig.add_tile(background)\n",
    "\n",
    "# Dots for Houses\n",
    "my_hover = HoverTool(names=['House'])\n",
    "my_hover.tooltips = [('PID', '@Neighborhood')]\n",
    "fig.circle(x=\"x_merc\", y=\"y_merc\",\n",
    "           size=5,\n",
    "           color='Color', line_color='black', line_width = 0.5,\n",
    "           fill_alpha=0.6,\n",
    "           name='House',\n",
    "           source=map_data2)\n",
    "fig.add_tools(my_hover)\n",
    "\n",
    "# Big Dots for Landmarks, with Hover interactivity\n",
    "my_hover = HoverTool(names=['landmark'])\n",
    "my_hover.tooltips = [('X', '@landmarks')]\n",
    "fig.circle(x=\"x_merc\", y=\"y_merc\",\n",
    "           size=10,\n",
    "           fill_color=\"tomato\", line_color='tomato',\n",
    "           fill_alpha=0.3,\n",
    "           name='landmark',\n",
    "           source=marks)\n",
    "fig.add_tools(my_hover)\n",
    "\n",
    "\n",
    "# Add draw tool\n",
    "renderer = fig.multi_line([[1, 9]], [[5, 5]], line_width=4, alpha=0.4, color='red')\n",
    "draw_tool = FreehandDrawTool(renderers=[renderer], num_objects=4)\n",
    "fig.add_tools(draw_tool)\n",
    "\n",
    "show(fig)"
   ]
  },
  {
   "cell_type": "markdown",
   "id": "75bcb9e6",
   "metadata": {},
   "source": [
    "### Compare Prices Again"
   ]
  },
  {
   "cell_type": "code",
   "execution_count": 47,
   "id": "ddd091a3",
   "metadata": {},
   "outputs": [],
   "source": [
    "anal_2 = data.merge(map_data2['Sector'], how='left', on='PID')\n",
    "anal_2.drop_duplicates(inplace=True)"
   ]
  },
  {
   "cell_type": "code",
   "execution_count": 48,
   "id": "0208cdcd",
   "metadata": {},
   "outputs": [],
   "source": [
    "import seaborn as sns\n",
    "import matplotlib.pyplot as plt"
   ]
  },
  {
   "cell_type": "code",
   "execution_count": 49,
   "id": "30a04068",
   "metadata": {},
   "outputs": [
    {
     "data": {
      "text/html": [
       "<div>\n",
       "<style scoped>\n",
       "    .dataframe tbody tr th:only-of-type {\n",
       "        vertical-align: middle;\n",
       "    }\n",
       "\n",
       "    .dataframe tbody tr th {\n",
       "        vertical-align: top;\n",
       "    }\n",
       "\n",
       "    .dataframe thead th {\n",
       "        text-align: right;\n",
       "    }\n",
       "</style>\n",
       "<table border=\"1\" class=\"dataframe\">\n",
       "  <thead>\n",
       "    <tr style=\"text-align: right;\">\n",
       "      <th></th>\n",
       "      <th>mean</th>\n",
       "      <th>std</th>\n",
       "    </tr>\n",
       "    <tr>\n",
       "      <th>Sector</th>\n",
       "      <th></th>\n",
       "      <th></th>\n",
       "    </tr>\n",
       "  </thead>\n",
       "  <tbody>\n",
       "    <tr>\n",
       "      <th>NW</th>\n",
       "      <td>228355.210098</td>\n",
       "      <td>94494.859699</td>\n",
       "    </tr>\n",
       "    <tr>\n",
       "      <th>SW</th>\n",
       "      <td>181907.879875</td>\n",
       "      <td>63577.687234</td>\n",
       "    </tr>\n",
       "    <tr>\n",
       "      <th>NO</th>\n",
       "      <td>168734.272383</td>\n",
       "      <td>56512.411747</td>\n",
       "    </tr>\n",
       "    <tr>\n",
       "      <th>SE</th>\n",
       "      <td>146439.057971</td>\n",
       "      <td>46025.290063</td>\n",
       "    </tr>\n",
       "    <tr>\n",
       "      <th>DT</th>\n",
       "      <td>123083.740458</td>\n",
       "      <td>41681.521694</td>\n",
       "    </tr>\n",
       "  </tbody>\n",
       "</table>\n",
       "</div>"
      ],
      "text/plain": [
       "                 mean           std\n",
       "Sector                             \n",
       "NW      228355.210098  94494.859699\n",
       "SW      181907.879875  63577.687234\n",
       "NO      168734.272383  56512.411747\n",
       "SE      146439.057971  46025.290063\n",
       "DT      123083.740458  41681.521694"
      ]
     },
     "execution_count": 49,
     "metadata": {},
     "output_type": "execute_result"
    }
   ],
   "source": [
    "anal_1.groupby('Sector')['SalePrice'].agg(['mean','std']).sort_values(by='mean', ascending=False)"
   ]
  },
  {
   "cell_type": "code",
   "execution_count": 50,
   "id": "04f5b6ab",
   "metadata": {},
   "outputs": [
    {
     "data": {
      "text/html": [
       "<div>\n",
       "<style scoped>\n",
       "    .dataframe tbody tr th:only-of-type {\n",
       "        vertical-align: middle;\n",
       "    }\n",
       "\n",
       "    .dataframe tbody tr th {\n",
       "        vertical-align: top;\n",
       "    }\n",
       "\n",
       "    .dataframe thead th {\n",
       "        text-align: right;\n",
       "    }\n",
       "</style>\n",
       "<table border=\"1\" class=\"dataframe\">\n",
       "  <thead>\n",
       "    <tr style=\"text-align: right;\">\n",
       "      <th></th>\n",
       "      <th>mean</th>\n",
       "      <th>std</th>\n",
       "    </tr>\n",
       "    <tr>\n",
       "      <th>Sector</th>\n",
       "      <th></th>\n",
       "      <th></th>\n",
       "    </tr>\n",
       "  </thead>\n",
       "  <tbody>\n",
       "    <tr>\n",
       "      <th>NW</th>\n",
       "      <td>242061.191643</td>\n",
       "      <td>86512.835733</td>\n",
       "    </tr>\n",
       "    <tr>\n",
       "      <th>SO</th>\n",
       "      <td>196570.850000</td>\n",
       "      <td>70206.452454</td>\n",
       "    </tr>\n",
       "    <tr>\n",
       "      <th>WE</th>\n",
       "      <td>169777.510823</td>\n",
       "      <td>54752.139543</td>\n",
       "    </tr>\n",
       "    <tr>\n",
       "      <th>SE</th>\n",
       "      <td>146439.057971</td>\n",
       "      <td>46025.290063</td>\n",
       "    </tr>\n",
       "    <tr>\n",
       "      <th>NO</th>\n",
       "      <td>142427.062907</td>\n",
       "      <td>30765.860220</td>\n",
       "    </tr>\n",
       "    <tr>\n",
       "      <th>DT</th>\n",
       "      <td>123083.740458</td>\n",
       "      <td>41681.521694</td>\n",
       "    </tr>\n",
       "  </tbody>\n",
       "</table>\n",
       "</div>"
      ],
      "text/plain": [
       "                 mean           std\n",
       "Sector                             \n",
       "NW      242061.191643  86512.835733\n",
       "SO      196570.850000  70206.452454\n",
       "WE      169777.510823  54752.139543\n",
       "SE      146439.057971  46025.290063\n",
       "NO      142427.062907  30765.860220\n",
       "DT      123083.740458  41681.521694"
      ]
     },
     "execution_count": 50,
     "metadata": {},
     "output_type": "execute_result"
    }
   ],
   "source": [
    "anal_2.groupby('Sector')['SalePrice'].agg(['mean','std']).sort_values(by='mean', ascending=False)"
   ]
  },
  {
   "cell_type": "code",
   "execution_count": 52,
   "id": "f281facb",
   "metadata": {},
   "outputs": [
    {
     "data": {
      "text/plain": [
       "<AxesSubplot:xlabel='Sector', ylabel='SalePrice'>"
      ]
     },
     "execution_count": 52,
     "metadata": {},
     "output_type": "execute_result"
    },
    {
     "data": {
      "image/png": "[encoded data removed]",
      "text/plain": [
       "<Figure size 1008x432 with 2 Axes>"
      ]
     },
     "metadata": {
      "needs_background": "light"
     },
     "output_type": "display_data"
    }
   ],
   "source": [
    "#Set plot size\n",
    "fig, (ax1, ax2) = plt.subplots(1, 2, figsize=(14,6))\n",
    "fig.suptitle('SalePrice by Sectors')\n",
    "\n",
    "sns.boxplot(ax=ax1, x=anal_1['Sector'], y=anal_1['SalePrice'], \n",
    "            order=['NW','SW','NO','SE','DT'],\n",
    "            palette=\"Blues\")\n",
    "sns.boxplot(ax=ax2, x=anal_2['Sector'], y=anal_2['SalePrice'], \n",
    "            order=['NW','SO','WE','SE','NO','DT'],\n",
    "            palette=\"Greens\")"
   ]
  },
  {
   "cell_type": "markdown",
   "id": "cb17a1a8",
   "metadata": {},
   "source": [
    "USe new Sectors? (map_data2)"
   ]
  },
  {
   "cell_type": "markdown",
   "id": "55f9eb1a",
   "metadata": {},
   "source": [
    "#### Export to CSV"
   ]
  },
  {
   "cell_type": "code",
   "execution_count": 54,
   "id": "cffd4b53",
   "metadata": {},
   "outputs": [
    {
     "data": {
      "text/html": [
       "<div>\n",
       "<style scoped>\n",
       "    .dataframe tbody tr th:only-of-type {\n",
       "        vertical-align: middle;\n",
       "    }\n",
       "\n",
       "    .dataframe tbody tr th {\n",
       "        vertical-align: top;\n",
       "    }\n",
       "\n",
       "    .dataframe thead th {\n",
       "        text-align: right;\n",
       "    }\n",
       "</style>\n",
       "<table border=\"1\" class=\"dataframe\">\n",
       "  <thead>\n",
       "    <tr style=\"text-align: right;\">\n",
       "      <th></th>\n",
       "      <th>lat_long</th>\n",
       "      <th>x_merc</th>\n",
       "      <th>y_merc</th>\n",
       "      <th>Neighborhood</th>\n",
       "      <th>Sector</th>\n",
       "      <th>Color</th>\n",
       "    </tr>\n",
       "    <tr>\n",
       "      <th>PID</th>\n",
       "      <th></th>\n",
       "      <th></th>\n",
       "      <th></th>\n",
       "      <th></th>\n",
       "      <th></th>\n",
       "      <th></th>\n",
       "    </tr>\n",
       "  </thead>\n",
       "  <tbody>\n",
       "    <tr>\n",
       "      <th>909176150</th>\n",
       "      <td>(42.01856448979592, -93.65161918367347)</td>\n",
       "      <td>-1.042525e+07</td>\n",
       "      <td>5.163761e+06</td>\n",
       "      <td>SWISU</td>\n",
       "      <td>SO</td>\n",
       "      <td>orange</td>\n",
       "    </tr>\n",
       "    <tr>\n",
       "      <th>905476230</th>\n",
       "      <td>(42.024855315930424, -93.66367099341755)</td>\n",
       "      <td>-1.042659e+07</td>\n",
       "      <td>5.164703e+06</td>\n",
       "      <td>Edwards</td>\n",
       "      <td>WE</td>\n",
       "      <td>purple</td>\n",
       "    </tr>\n",
       "    <tr>\n",
       "      <th>905476230</th>\n",
       "      <td>(42.024855315930424, -93.66367099341755)</td>\n",
       "      <td>-1.042659e+07</td>\n",
       "      <td>5.164703e+06</td>\n",
       "      <td>Edwards</td>\n",
       "      <td>WE</td>\n",
       "      <td>purple</td>\n",
       "    </tr>\n",
       "    <tr>\n",
       "      <th>911128020</th>\n",
       "      <td>(42.021547615297024, -93.61406809992513)</td>\n",
       "      <td>-1.042107e+07</td>\n",
       "      <td>5.164208e+06</td>\n",
       "      <td>IDOTRR</td>\n",
       "      <td>DT</td>\n",
       "      <td>dodgerblue</td>\n",
       "    </tr>\n",
       "    <tr>\n",
       "      <th>535377150</th>\n",
       "      <td>(42.03739146938776, -93.61220695918368)</td>\n",
       "      <td>-1.042086e+07</td>\n",
       "      <td>5.166582e+06</td>\n",
       "      <td>OldTown</td>\n",
       "      <td>DT</td>\n",
       "      <td>dodgerblue</td>\n",
       "    </tr>\n",
       "    <tr>\n",
       "      <th>...</th>\n",
       "      <td>...</td>\n",
       "      <td>...</td>\n",
       "      <td>...</td>\n",
       "      <td>...</td>\n",
       "      <td>...</td>\n",
       "      <td>...</td>\n",
       "    </tr>\n",
       "    <tr>\n",
       "      <th>903205040</th>\n",
       "      <td>(42.032101777475496, -93.6263728406611)</td>\n",
       "      <td>-1.042244e+07</td>\n",
       "      <td>5.165789e+06</td>\n",
       "      <td>BrkSide</td>\n",
       "      <td>DT</td>\n",
       "      <td>dodgerblue</td>\n",
       "    </tr>\n",
       "    <tr>\n",
       "      <th>905402060</th>\n",
       "      <td>(42.027669288907106, -93.6661381147073)</td>\n",
       "      <td>-1.042687e+07</td>\n",
       "      <td>5.165125e+06</td>\n",
       "      <td>Edwards</td>\n",
       "      <td>WE</td>\n",
       "      <td>purple</td>\n",
       "    </tr>\n",
       "    <tr>\n",
       "      <th>909275030</th>\n",
       "      <td>(42.020129, -93.643832)</td>\n",
       "      <td>-1.042438e+07</td>\n",
       "      <td>5.163995e+06</td>\n",
       "      <td>Crawfor</td>\n",
       "      <td>SO</td>\n",
       "      <td>orange</td>\n",
       "    </tr>\n",
       "    <tr>\n",
       "      <th>907192040</th>\n",
       "      <td>(42.016802051693205, -93.6897483798832)</td>\n",
       "      <td>-1.042950e+07</td>\n",
       "      <td>5.163497e+06</td>\n",
       "      <td>CollgCr</td>\n",
       "      <td>WE</td>\n",
       "      <td>purple</td>\n",
       "    </tr>\n",
       "    <tr>\n",
       "      <th>906223180</th>\n",
       "      <td>(42.031579353928, -93.68223191481248)</td>\n",
       "      <td>-1.042866e+07</td>\n",
       "      <td>5.165711e+06</td>\n",
       "      <td>SawyerW</td>\n",
       "      <td>WE</td>\n",
       "      <td>purple</td>\n",
       "    </tr>\n",
       "  </tbody>\n",
       "</table>\n",
       "<p>2624 rows × 6 columns</p>\n",
       "</div>"
      ],
      "text/plain": [
       "                                           lat_long        x_merc  \\\n",
       "PID                                                                 \n",
       "909176150   (42.01856448979592, -93.65161918367347) -1.042525e+07   \n",
       "905476230  (42.024855315930424, -93.66367099341755) -1.042659e+07   \n",
       "905476230  (42.024855315930424, -93.66367099341755) -1.042659e+07   \n",
       "911128020  (42.021547615297024, -93.61406809992513) -1.042107e+07   \n",
       "535377150   (42.03739146938776, -93.61220695918368) -1.042086e+07   \n",
       "...                                             ...           ...   \n",
       "903205040   (42.032101777475496, -93.6263728406611) -1.042244e+07   \n",
       "905402060   (42.027669288907106, -93.6661381147073) -1.042687e+07   \n",
       "909275030                   (42.020129, -93.643832) -1.042438e+07   \n",
       "907192040   (42.016802051693205, -93.6897483798832) -1.042950e+07   \n",
       "906223180     (42.031579353928, -93.68223191481248) -1.042866e+07   \n",
       "\n",
       "                 y_merc Neighborhood Sector       Color  \n",
       "PID                                                      \n",
       "909176150  5.163761e+06        SWISU     SO      orange  \n",
       "905476230  5.164703e+06      Edwards     WE      purple  \n",
       "905476230  5.164703e+06      Edwards     WE      purple  \n",
       "911128020  5.164208e+06       IDOTRR     DT  dodgerblue  \n",
       "535377150  5.166582e+06      OldTown     DT  dodgerblue  \n",
       "...                 ...          ...    ...         ...  \n",
       "903205040  5.165789e+06      BrkSide     DT  dodgerblue  \n",
       "905402060  5.165125e+06      Edwards     WE      purple  \n",
       "909275030  5.163995e+06      Crawfor     SO      orange  \n",
       "907192040  5.163497e+06      CollgCr     WE      purple  \n",
       "906223180  5.165711e+06      SawyerW     WE      purple  \n",
       "\n",
       "[2624 rows x 6 columns]"
      ]
     },
     "execution_count": 54,
     "metadata": {},
     "output_type": "execute_result"
    }
   ],
   "source": [
    "map_data2"
   ]
  },
  {
   "cell_type": "code",
   "execution_count": 55,
   "id": "11d3ae9a",
   "metadata": {},
   "outputs": [],
   "source": [
    "map_data2.to_csv('sectors.csv')"
   ]
  },
  {
   "cell_type": "code",
   "execution_count": null,
   "id": "f3d47115",
   "metadata": {},
   "outputs": [],
   "source": []
  }
 ],
 "metadata": {
  "kernelspec": {
   "display_name": "Python 3",
   "language": "python",
   "name": "python3"
  },
  "language_info": {
   "codemirror_mode": {
    "name": "ipython",
    "version": 3
   },
   "file_extension": ".py",
   "mimetype": "text/x-python",
   "name": "python",
   "nbconvert_exporter": "python",
   "pygments_lexer": "ipython3",
   "version": "3.8.8"
  }
 },
 "nbformat": 4,
 "nbformat_minor": 5
}
