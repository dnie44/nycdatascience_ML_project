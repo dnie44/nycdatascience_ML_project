{
 "cells": [
  {
   "cell_type": "code",
   "execution_count": 132,
   "id": "ab9635a1",
   "metadata": {},
   "outputs": [],
   "source": [
    "import pandas as pd\n",
    "import numpy as np\n",
    "import re\n",
    "\n",
    "import seaborn as sns\n",
    "import matplotlib.pyplot as plt\n",
    "%matplotlib inline \n",
    "\n",
    "from sklearn.linear_model import Lasso, Ridge, LinearRegression\n",
    "from sklearn.model_selection import train_test_split\n",
    "\n",
    "from statsmodels.stats.outliers_influence import variance_inflation_factor"
   ]
  },
  {
   "cell_type": "code",
   "execution_count": 3,
   "id": "beb6cb12",
   "metadata": {},
   "outputs": [
    {
     "data": {
      "text/plain": [
       "(2579, 83)"
      ]
     },
     "execution_count": 3,
     "metadata": {},
     "output_type": "execute_result"
    }
   ],
   "source": [
    "data = pd.read_csv('ALL_data.csv', index_col='PID')\n",
    "sector = pd.read_csv('sectors_walmart.csv', index_col='PID')\n",
    "data = data.merge(sector[['Sector','DfromWalmart']], on='PID')\n",
    "data.shape"
   ]
  },
  {
   "cell_type": "code",
   "execution_count": 9,
   "id": "366e1ab9",
   "metadata": {},
   "outputs": [],
   "source": [
    "# Define y as \"SalePrice\"\n",
    "y = data.SalePrice.copy()"
   ]
  },
  {
   "cell_type": "markdown",
   "id": "21404f57",
   "metadata": {},
   "source": [
    "## 🧪 <span style='background:yellow'> Try Multiple Linear Regression </span>\n",
    "* Split data into Train and Test sets\n",
    "* Use Lasso to select best features"
   ]
  },
  {
   "cell_type": "code",
   "execution_count": 4,
   "id": "fe26bc65",
   "metadata": {},
   "outputs": [
    {
     "data": {
      "text/plain": [
       "GrLivArea         0\n",
       "LotArea           0\n",
       "MasVnrArea       14\n",
       "BsmtUnfSF         1\n",
       "TotalBsmtSF       1\n",
       "1stFlrSF          0\n",
       "2ndFlrSF          0\n",
       "LowQualFinSF      0\n",
       "GarageArea        1\n",
       "WoodDeckSF        0\n",
       "OpenPorchSF       0\n",
       "EnclosedPorch     0\n",
       "3SsnPorch         0\n",
       "ScreenPorch       0\n",
       "PoolArea          0\n",
       "dtype: int64"
      ]
     },
     "execution_count": 4,
     "metadata": {},
     "output_type": "execute_result"
    }
   ],
   "source": [
    "size_related = data.filter(regex='SF$|Area$|(Porch)')\n",
    "size_related.isnull().sum(axis=0)"
   ]
  },
  {
   "cell_type": "code",
   "execution_count": 5,
   "id": "35bc7db0",
   "metadata": {},
   "outputs": [],
   "source": [
    "size_related = size_related.fillna(0.0)  # We fill the very minor missing values by 0.0"
   ]
  },
  {
   "cell_type": "markdown",
   "id": "7a067904",
   "metadata": {},
   "source": [
    "### Create new Feature called <span style=\"color:brown\">PorchArea</span> (Sum of all Porch & Deck)\n",
    "* WoodDeckSF + OpenPorchSF + EnclosedPorch + 3SsnPorch + ScreenPorch"
   ]
  },
  {
   "cell_type": "code",
   "execution_count": 6,
   "id": "ac3eadf3",
   "metadata": {},
   "outputs": [],
   "source": [
    "size_related['PorchArea'] = size_related[['WoodDeckSF','OpenPorchSF','EnclosedPorch','3SsnPorch','ScreenPorch']].sum(axis=1)\n",
    "size_related.drop(['WoodDeckSF','OpenPorchSF','EnclosedPorch','3SsnPorch','ScreenPorch'],axis=1,inplace=True)"
   ]
  },
  {
   "cell_type": "markdown",
   "id": "04efc646",
   "metadata": {},
   "source": [
    "#### Remove potential collinearity features\n",
    "* **only Keep**: LotArea, 1stFlrSF, 2ndFlrSF, GarageArea, PorchArea"
   ]
  },
  {
   "cell_type": "code",
   "execution_count": 7,
   "id": "ab2e8cb6",
   "metadata": {},
   "outputs": [],
   "source": [
    "X = size_related[['LotArea', '1stFlrSF', '2ndFlrSF', 'GarageArea', 'PorchArea']]"
   ]
  },
  {
   "cell_type": "code",
   "execution_count": 10,
   "id": "b741606f",
   "metadata": {},
   "outputs": [],
   "source": [
    "X_train, X_test, y_train, y_test = train_test_split(X, y, test_size=0.30, random_state=44)"
   ]
  },
  {
   "cell_type": "code",
   "execution_count": 11,
   "id": "cc5d9444",
   "metadata": {},
   "outputs": [
    {
     "data": {
      "text/plain": [
       "Lasso()"
      ]
     },
     "execution_count": 11,
     "metadata": {},
     "output_type": "execute_result"
    }
   ],
   "source": [
    "lasso_lm = Lasso()\n",
    "lasso_lm.set_params(normalize=False)"
   ]
  },
  {
   "cell_type": "code",
   "execution_count": 12,
   "id": "5e8f5fcf",
   "metadata": {},
   "outputs": [],
   "source": [
    "#try different alphas\n",
    "alphas = np.linspace(0.001,50,200)\n",
    "coefs_lasso = []\n",
    "R2_train = []\n",
    "R2_test = []\n",
    "\n",
    "for a in alphas:\n",
    "    lasso_lm.set_params(alpha=a)\n",
    "    lasso_lm.fit(X_train, np.log10(y_train))\n",
    "    coefs_lasso.append(lasso_lm.coef_)\n",
    "    R2_train.append(lasso_lm.score(X_train, np.log10(y_train)))\n",
    "    R2_test.append(lasso_lm.score(X_test, np.log10(y_test)))"
   ]
  },
  {
   "cell_type": "code",
   "execution_count": 13,
   "id": "5e540c7b",
   "metadata": {},
   "outputs": [
    {
     "data": {
      "text/html": [
       "<div>\n",
       "<style scoped>\n",
       "    .dataframe tbody tr th:only-of-type {\n",
       "        vertical-align: middle;\n",
       "    }\n",
       "\n",
       "    .dataframe tbody tr th {\n",
       "        vertical-align: top;\n",
       "    }\n",
       "\n",
       "    .dataframe thead th {\n",
       "        text-align: right;\n",
       "    }\n",
       "</style>\n",
       "<table border=\"1\" class=\"dataframe\">\n",
       "  <thead>\n",
       "    <tr style=\"text-align: right;\">\n",
       "      <th></th>\n",
       "      <th>LotArea</th>\n",
       "      <th>1stFlrSF</th>\n",
       "      <th>2ndFlrSF</th>\n",
       "      <th>GarageArea</th>\n",
       "      <th>PorchArea</th>\n",
       "    </tr>\n",
       "  </thead>\n",
       "  <tbody>\n",
       "    <tr>\n",
       "      <th>0.001000</th>\n",
       "      <td>2.404249e-07</td>\n",
       "      <td>0.00023</td>\n",
       "      <td>0.000139</td>\n",
       "      <td>0.000279</td>\n",
       "      <td>0.000104</td>\n",
       "    </tr>\n",
       "    <tr>\n",
       "      <th>0.252251</th>\n",
       "      <td>2.880177e-07</td>\n",
       "      <td>0.00023</td>\n",
       "      <td>0.000138</td>\n",
       "      <td>0.000275</td>\n",
       "      <td>0.000096</td>\n",
       "    </tr>\n",
       "  </tbody>\n",
       "</table>\n",
       "</div>"
      ],
      "text/plain": [
       "               LotArea  1stFlrSF  2ndFlrSF  GarageArea  PorchArea\n",
       "0.001000  2.404249e-07   0.00023  0.000139    0.000279   0.000104\n",
       "0.252251  2.880177e-07   0.00023  0.000138    0.000275   0.000096"
      ]
     },
     "execution_count": 13,
     "metadata": {},
     "output_type": "execute_result"
    }
   ],
   "source": [
    "coefs_lasso = pd.DataFrame(coefs_lasso, index = alphas, columns = X_train.columns)\n",
    "R2_lasso = pd.DataFrame({'train': R2_train,'test':R2_test}, index = alphas)\n",
    "coefs_lasso.head(2)"
   ]
  },
  {
   "cell_type": "code",
   "execution_count": 144,
   "id": "f82e3ed4",
   "metadata": {},
   "outputs": [
    {
     "data": {
      "text/plain": [
       "<matplotlib.legend.Legend at 0x1b07ac78fd0>"
      ]
     },
     "execution_count": 144,
     "metadata": {},
     "output_type": "execute_result"
    },
    {
     "data": {
      "image/png": "[encoded data removed]",
      "text/plain": [
       "<Figure size 1008x432 with 2 Axes>"
      ]
     },
     "metadata": {
      "needs_background": "light"
     },
     "output_type": "display_data"
    }
   ],
   "source": [
    "fig, (ax1, ax2) = plt.subplots(1, 2, figsize=(14,6))\n",
    "fig.suptitle('Lasso Regression results')\n",
    "\n",
    "for feat in coefs_lasso.columns:\n",
    "    ax1.plot(coefs_lasso.index, 10**coefs_lasso[feat], label=feat) \n",
    "ax1.set_xlabel(r'hyperparameter $\\lambda$')\n",
    "ax1.set_ylabel(r'slope values')\n",
    "ax1.legend(loc=1)\n",
    "for each in R2_lasso.columns:\n",
    "    ax2.plot(R2_lasso.index, R2_lasso[each], label=each)\n",
    "ax2.set_xlabel(r'hyperparameter $\\lambda$')\n",
    "ax2.legend(loc=1)"
   ]
  },
  {
   "cell_type": "markdown",
   "id": "f9201356",
   "metadata": {},
   "source": [
    "#### 1stFlr and 2ndFlr are best, Maybe Garage"
   ]
  },
  {
   "cell_type": "code",
   "execution_count": 17,
   "id": "23662d14",
   "metadata": {},
   "outputs": [
    {
     "data": {
      "text/plain": [
       "0.6165579769266639"
      ]
     },
     "execution_count": 17,
     "metadata": {},
     "output_type": "execute_result"
    }
   ],
   "source": [
    "lm = LinearRegression()\n",
    "lm.fit(X_train,np.log10(y_train))\n",
    "lm.score(X_test,np.log10(y_test))"
   ]
  },
  {
   "cell_type": "code",
   "execution_count": 19,
   "id": "1c08d007",
   "metadata": {},
   "outputs": [
    {
     "data": {
      "text/html": [
       "<div>\n",
       "<style scoped>\n",
       "    .dataframe tbody tr th:only-of-type {\n",
       "        vertical-align: middle;\n",
       "    }\n",
       "\n",
       "    .dataframe tbody tr th {\n",
       "        vertical-align: top;\n",
       "    }\n",
       "\n",
       "    .dataframe thead th {\n",
       "        text-align: right;\n",
       "    }\n",
       "</style>\n",
       "<table border=\"1\" class=\"dataframe\">\n",
       "  <thead>\n",
       "    <tr style=\"text-align: right;\">\n",
       "      <th></th>\n",
       "      <th>var</th>\n",
       "      <th>VIF</th>\n",
       "    </tr>\n",
       "  </thead>\n",
       "  <tbody>\n",
       "    <tr>\n",
       "      <th>0</th>\n",
       "      <td>LotArea</td>\n",
       "      <td>2.808927</td>\n",
       "    </tr>\n",
       "    <tr>\n",
       "      <th>1</th>\n",
       "      <td>1stFlrSF</td>\n",
       "      <td>9.666886</td>\n",
       "    </tr>\n",
       "    <tr>\n",
       "      <th>2</th>\n",
       "      <td>2ndFlrSF</td>\n",
       "      <td>1.753926</td>\n",
       "    </tr>\n",
       "    <tr>\n",
       "      <th>3</th>\n",
       "      <td>GarageArea</td>\n",
       "      <td>8.697197</td>\n",
       "    </tr>\n",
       "    <tr>\n",
       "      <th>4</th>\n",
       "      <td>PorchArea</td>\n",
       "      <td>2.763854</td>\n",
       "    </tr>\n",
       "  </tbody>\n",
       "</table>\n",
       "</div>"
      ],
      "text/plain": [
       "          var       VIF\n",
       "0     LotArea  2.808927\n",
       "1    1stFlrSF  9.666886\n",
       "2    2ndFlrSF  1.753926\n",
       "3  GarageArea  8.697197\n",
       "4   PorchArea  2.763854"
      ]
     },
     "execution_count": 19,
     "metadata": {},
     "output_type": "execute_result"
    }
   ],
   "source": [
    "vif = pd.DataFrame()\n",
    "vif['var'] = X_train.columns\n",
    "vif['VIF'] = [variance_inflation_factor(X_train.values, i) for i in range(X_train.shape[1])]\n",
    "vif"
   ]
  },
  {
   "cell_type": "markdown",
   "id": "00108b7a",
   "metadata": {},
   "source": [
    "#### High VIFs (1stFlrSF and GarageArea), \n",
    "* try removing Garage"
   ]
  },
  {
   "cell_type": "code",
   "execution_count": 20,
   "id": "81718513",
   "metadata": {},
   "outputs": [
    {
     "data": {
      "text/plain": [
       "0.5781747664657413"
      ]
     },
     "execution_count": 20,
     "metadata": {},
     "output_type": "execute_result"
    }
   ],
   "source": [
    "X = size_related[['LotArea', '1stFlrSF', '2ndFlrSF', 'PorchArea']]\n",
    "X_train, X_test, y_train, y_test = train_test_split(X, y, test_size=0.30, random_state=44)\n",
    "lm = LinearRegression()\n",
    "lm.fit(X_train,np.log10(y_train))\n",
    "lm.score(X_test,np.log10(y_test))"
   ]
  },
  {
   "cell_type": "code",
   "execution_count": 21,
   "id": "7a269102",
   "metadata": {},
   "outputs": [
    {
     "data": {
      "text/html": [
       "<div>\n",
       "<style scoped>\n",
       "    .dataframe tbody tr th:only-of-type {\n",
       "        vertical-align: middle;\n",
       "    }\n",
       "\n",
       "    .dataframe tbody tr th {\n",
       "        vertical-align: top;\n",
       "    }\n",
       "\n",
       "    .dataframe thead th {\n",
       "        text-align: right;\n",
       "    }\n",
       "</style>\n",
       "<table border=\"1\" class=\"dataframe\">\n",
       "  <thead>\n",
       "    <tr style=\"text-align: right;\">\n",
       "      <th></th>\n",
       "      <th>var</th>\n",
       "      <th>VIF</th>\n",
       "    </tr>\n",
       "  </thead>\n",
       "  <tbody>\n",
       "    <tr>\n",
       "      <th>0</th>\n",
       "      <td>LotArea</td>\n",
       "      <td>2.808449</td>\n",
       "    </tr>\n",
       "    <tr>\n",
       "      <th>1</th>\n",
       "      <td>1stFlrSF</td>\n",
       "      <td>3.990350</td>\n",
       "    </tr>\n",
       "    <tr>\n",
       "      <th>2</th>\n",
       "      <td>2ndFlrSF</td>\n",
       "      <td>1.514106</td>\n",
       "    </tr>\n",
       "    <tr>\n",
       "      <th>3</th>\n",
       "      <td>PorchArea</td>\n",
       "      <td>2.752236</td>\n",
       "    </tr>\n",
       "  </tbody>\n",
       "</table>\n",
       "</div>"
      ],
      "text/plain": [
       "         var       VIF\n",
       "0    LotArea  2.808449\n",
       "1   1stFlrSF  3.990350\n",
       "2   2ndFlrSF  1.514106\n",
       "3  PorchArea  2.752236"
      ]
     },
     "execution_count": 21,
     "metadata": {},
     "output_type": "execute_result"
    }
   ],
   "source": [
    "vif = pd.DataFrame()\n",
    "vif['var'] = X_train.columns\n",
    "vif['VIF'] = [variance_inflation_factor(X_train.values, i) for i in range(X_train.shape[1])]\n",
    "vif"
   ]
  },
  {
   "cell_type": "markdown",
   "id": "5ad8e84c",
   "metadata": {},
   "source": [
    "## 🧪Try \n",
    "1. Bsmt, Garage, Pool, DeckORPorch into **<span style=\"color:red\">BINARY</span>** features (Y or N)\n",
    "2. Remove **LotArea**"
   ]
  },
  {
   "cell_type": "code",
   "execution_count": 22,
   "id": "dffca0ce",
   "metadata": {},
   "outputs": [],
   "source": [
    "size_related['Bsmt_YN'] = size_related.TotalBsmtSF != 0\n",
    "size_related['Garage_YN'] = size_related.GarageArea != 0\n",
    "size_related['Pool_YN'] = size_related.PoolArea != 0\n",
    "size_related['DeckPorch_YN'] = size_related.PorchArea != 0"
   ]
  },
  {
   "cell_type": "markdown",
   "id": "1c67b01f",
   "metadata": {},
   "source": [
    "#### Multiple Regression with the 3 Continuous features from before plus the 4 new Binary features"
   ]
  },
  {
   "cell_type": "code",
   "execution_count": 125,
   "id": "95b96198",
   "metadata": {},
   "outputs": [],
   "source": [
    "X = size_related[['1stFlrSF', '2ndFlrSF','Bsmt_YN','Garage_YN','Pool_YN','DeckPorch_YN']].copy()"
   ]
  },
  {
   "cell_type": "code",
   "execution_count": 40,
   "id": "cf028f87",
   "metadata": {},
   "outputs": [
    {
     "data": {
      "text/plain": [
       "Bsmt_YN         2510\n",
       "Garage_YN       2451\n",
       "Pool_YN            9\n",
       "DeckPorch_YN    2147\n",
       "dtype: int64"
      ]
     },
     "execution_count": 40,
     "metadata": {},
     "output_type": "execute_result"
    }
   ],
   "source": [
    "#Check\n",
    "X[['Bsmt_YN','Garage_YN','Pool_YN','DeckPorch_YN']].sum(axis=0)"
   ]
  },
  {
   "cell_type": "code",
   "execution_count": 42,
   "id": "2f6e23ca",
   "metadata": {},
   "outputs": [
    {
     "data": {
      "image/png": "[encoded data removed]",
      "text/plain": [
       "<Figure size 720x720 with 4 Axes>"
      ]
     },
     "metadata": {
      "needs_background": "light"
     },
     "output_type": "display_data"
    }
   ],
   "source": [
    "fig, ax = plt.subplots(2,2, figsize=(10,10))\n",
    "\n",
    "for idx, COL in enumerate(X.drop(['1stFlrSF', '2ndFlrSF'], axis=1).columns):\n",
    "    sns.boxplot(ax=ax[idx//2,idx%2],\n",
    "            x=X[COL], y=y, \n",
    "            order = X[COL].value_counts().index,\n",
    "            palette=\"mako_r\", linewidth=1)"
   ]
  },
  {
   "cell_type": "code",
   "execution_count": 43,
   "id": "6fc3b8d0",
   "metadata": {},
   "outputs": [
    {
     "data": {
      "text/plain": [
       "0.6233449100379519"
      ]
     },
     "execution_count": 43,
     "metadata": {},
     "output_type": "execute_result"
    }
   ],
   "source": [
    "X_train, X_test, y_train, y_test = train_test_split(X, y, test_size=0.30, random_state=44)\n",
    "lm = LinearRegression()\n",
    "lm.fit(X_train,np.log10(y_train))\n",
    "lm.score(X_test,np.log10(y_test))"
   ]
  },
  {
   "cell_type": "markdown",
   "id": "c2d48c55",
   "metadata": {},
   "source": [
    "#### <span style=\"color:green\">Interpret Coefficients</span> 💹"
   ]
  },
  {
   "cell_type": "code",
   "execution_count": 44,
   "id": "0bb8c914",
   "metadata": {
    "scrolled": true
   },
   "outputs": [
    {
     "name": "stdout",
     "output_type": "stream",
     "text": [
      "Intercept: 31620.086\n"
     ]
    },
    {
     "data": {
      "text/html": [
       "<div>\n",
       "<style scoped>\n",
       "    .dataframe tbody tr th:only-of-type {\n",
       "        vertical-align: middle;\n",
       "    }\n",
       "\n",
       "    .dataframe tbody tr th {\n",
       "        vertical-align: top;\n",
       "    }\n",
       "\n",
       "    .dataframe thead th {\n",
       "        text-align: right;\n",
       "    }\n",
       "</style>\n",
       "<table border=\"1\" class=\"dataframe\">\n",
       "  <thead>\n",
       "    <tr style=\"text-align: right;\">\n",
       "      <th></th>\n",
       "      <th>0</th>\n",
       "    </tr>\n",
       "  </thead>\n",
       "  <tbody>\n",
       "    <tr>\n",
       "      <th>1stFlrSF</th>\n",
       "      <td>0.072</td>\n",
       "    </tr>\n",
       "    <tr>\n",
       "      <th>2ndFlrSF</th>\n",
       "      <td>0.040</td>\n",
       "    </tr>\n",
       "    <tr>\n",
       "      <th>Bsmt_YN</th>\n",
       "      <td>43.363</td>\n",
       "    </tr>\n",
       "    <tr>\n",
       "      <th>Garage_YN</th>\n",
       "      <td>30.124</td>\n",
       "    </tr>\n",
       "    <tr>\n",
       "      <th>Pool_YN</th>\n",
       "      <td>-11.513</td>\n",
       "    </tr>\n",
       "    <tr>\n",
       "      <th>DeckPorch_YN</th>\n",
       "      <td>12.179</td>\n",
       "    </tr>\n",
       "  </tbody>\n",
       "</table>\n",
       "</div>"
      ],
      "text/plain": [
       "                   0\n",
       "1stFlrSF       0.072\n",
       "2ndFlrSF       0.040\n",
       "Bsmt_YN       43.363\n",
       "Garage_YN     30.124\n",
       "Pool_YN      -11.513\n",
       "DeckPorch_YN  12.179"
      ]
     },
     "execution_count": 44,
     "metadata": {},
     "output_type": "execute_result"
    }
   ],
   "source": [
    "print(f'Intercept: {round(10**lm.intercept_,3)}')\n",
    "pd.DataFrame(np.round(((10**lm.coef_-1)*100),3),index=X.columns)"
   ]
  },
  {
   "cell_type": "markdown",
   "id": "68dd13d3",
   "metadata": {},
   "source": [
    "## 🧪Try \n",
    "* 2nd floor Area (2ndFlrSF): **bin** and dummify"
   ]
  },
  {
   "cell_type": "code",
   "execution_count": 83,
   "id": "1c2b584b",
   "metadata": {},
   "outputs": [
    {
     "data": {
      "text/plain": [
       "<matplotlib.collections.PathCollection at 0x1b0792bfca0>"
      ]
     },
     "execution_count": 83,
     "metadata": {},
     "output_type": "execute_result"
    },
    {
     "data": {
      "image/png": "[encoded data removed]",
      "text/plain": [
       "<Figure size 1008x360 with 2 Axes>"
      ]
     },
     "metadata": {
      "needs_background": "light"
     },
     "output_type": "display_data"
    }
   ],
   "source": [
    "fig, (ax1, ax2) = plt.subplots(1, 2, figsize=(14,5))\n",
    "fig.suptitle('2ndFlrSF Hist   &   2ndFlrSF vs log10(Price) Scat')\n",
    "\n",
    "X['2ndFlrSF'].hist(ax=ax1, bins=20)\n",
    "ax2.scatter(x=X['2ndFlrSF'],y=np.log10(y),s=2,c='k')"
   ]
  },
  {
   "cell_type": "code",
   "execution_count": 126,
   "id": "4944276a",
   "metadata": {},
   "outputs": [],
   "source": [
    "X['2F_Class'] = pd.cut(x=X['2ndFlrSF'] , bins=[-1,1,650,850,5000], labels=['2F_0','2F_650under','2F_850under','2F_850plus'])"
   ]
  },
  {
   "cell_type": "code",
   "execution_count": 127,
   "id": "e64f510f",
   "metadata": {},
   "outputs": [
    {
     "data": {
      "text/plain": [
       "2F_0           1464\n",
       "2F_850plus      388\n",
       "2F_850under     368\n",
       "2F_650under     359\n",
       "Name: 2F_Class, dtype: int64"
      ]
     },
     "execution_count": 127,
     "metadata": {},
     "output_type": "execute_result"
    }
   ],
   "source": [
    "X['2F_Class'].value_counts()"
   ]
  },
  {
   "cell_type": "code",
   "execution_count": 128,
   "id": "5c821131",
   "metadata": {},
   "outputs": [],
   "source": [
    "X = pd.concat([X, pd.get_dummies(X['2F_Class'], drop_first=True)],axis=1)\n",
    "X.drop(['2ndFlrSF','2F_Class'],axis=1, inplace=True)"
   ]
  },
  {
   "cell_type": "code",
   "execution_count": 130,
   "id": "406102c6",
   "metadata": {
    "scrolled": true
   },
   "outputs": [
    {
     "data": {
      "text/plain": [
       "0.6227983916083779"
      ]
     },
     "execution_count": 130,
     "metadata": {},
     "output_type": "execute_result"
    }
   ],
   "source": [
    "X_train, X_test, y_train, y_test = train_test_split(X, y, test_size=0.30, random_state=44)\n",
    "lm = LinearRegression()\n",
    "lm.fit(X_train,np.log10(y_train))\n",
    "lm.score(X_test,np.log10(y_test))"
   ]
  },
  {
   "cell_type": "markdown",
   "id": "510d1e2f",
   "metadata": {},
   "source": [
    "#### <span style=\"color:green\">Interpret Coefficients</span> 💹"
   ]
  },
  {
   "cell_type": "code",
   "execution_count": 131,
   "id": "08d71d3b",
   "metadata": {},
   "outputs": [
    {
     "name": "stdout",
     "output_type": "stream",
     "text": [
      "Intercept: 32493.378\n"
     ]
    },
    {
     "data": {
      "text/html": [
       "<div>\n",
       "<style scoped>\n",
       "    .dataframe tbody tr th:only-of-type {\n",
       "        vertical-align: middle;\n",
       "    }\n",
       "\n",
       "    .dataframe tbody tr th {\n",
       "        vertical-align: top;\n",
       "    }\n",
       "\n",
       "    .dataframe thead th {\n",
       "        text-align: right;\n",
       "    }\n",
       "</style>\n",
       "<table border=\"1\" class=\"dataframe\">\n",
       "  <thead>\n",
       "    <tr style=\"text-align: right;\">\n",
       "      <th></th>\n",
       "      <th>0</th>\n",
       "    </tr>\n",
       "  </thead>\n",
       "  <tbody>\n",
       "    <tr>\n",
       "      <th>1stFlrSF</th>\n",
       "      <td>0.070</td>\n",
       "    </tr>\n",
       "    <tr>\n",
       "      <th>Bsmt_YN</th>\n",
       "      <td>43.907</td>\n",
       "    </tr>\n",
       "    <tr>\n",
       "      <th>Garage_YN</th>\n",
       "      <td>30.415</td>\n",
       "    </tr>\n",
       "    <tr>\n",
       "      <th>Pool_YN</th>\n",
       "      <td>-10.325</td>\n",
       "    </tr>\n",
       "    <tr>\n",
       "      <th>DeckPorch_YN</th>\n",
       "      <td>11.552</td>\n",
       "    </tr>\n",
       "    <tr>\n",
       "      <th>2F_650under</th>\n",
       "      <td>10.267</td>\n",
       "    </tr>\n",
       "    <tr>\n",
       "      <th>2F_850under</th>\n",
       "      <td>35.829</td>\n",
       "    </tr>\n",
       "    <tr>\n",
       "      <th>2F_850plus</th>\n",
       "      <td>55.340</td>\n",
       "    </tr>\n",
       "  </tbody>\n",
       "</table>\n",
       "</div>"
      ],
      "text/plain": [
       "                   0\n",
       "1stFlrSF       0.070\n",
       "Bsmt_YN       43.907\n",
       "Garage_YN     30.415\n",
       "Pool_YN      -10.325\n",
       "DeckPorch_YN  11.552\n",
       "2F_650under   10.267\n",
       "2F_850under   35.829\n",
       "2F_850plus    55.340"
      ]
     },
     "execution_count": 131,
     "metadata": {},
     "output_type": "execute_result"
    }
   ],
   "source": [
    "print(f'Intercept: {round(10**lm.intercept_,3)}')\n",
    "pd.DataFrame(np.round(((10**lm.coef_-1)*100),3),index=X.columns)"
   ]
  },
  {
   "cell_type": "markdown",
   "id": "dac1f3f1",
   "metadata": {},
   "source": [
    "#### Tho no improvement from leaving 2ndFlrSF unbinned"
   ]
  },
  {
   "cell_type": "markdown",
   "id": "3ee281d4",
   "metadata": {},
   "source": [
    "## 🧪 <span style='background:yellow'> Bring in other features </span>\n",
    "* YearBuilt / OverallQual / DfromWalmart"
   ]
  },
  {
   "cell_type": "code",
   "execution_count": 33,
   "id": "1bdebfd2",
   "metadata": {},
   "outputs": [],
   "source": [
    "X = X.merge(data[['YearBuilt','OverallQual','DfromWalmart']], on='PID')"
   ]
  },
  {
   "cell_type": "code",
   "execution_count": 35,
   "id": "e4d170d8",
   "metadata": {},
   "outputs": [],
   "source": [
    "X_train, X_test, y_train, y_test = train_test_split(X, y, test_size=0.30, random_state=44)\n",
    "lm = LinearRegression()"
   ]
  },
  {
   "cell_type": "code",
   "execution_count": 36,
   "id": "2a72e50a",
   "metadata": {},
   "outputs": [
    {
     "data": {
      "text/plain": [
       "0.37724749993317375"
      ]
     },
     "execution_count": 36,
     "metadata": {},
     "output_type": "execute_result"
    }
   ],
   "source": [
    "# Simple on YEARBUILT\n",
    "lm.fit(X_train[['YearBuilt']],np.log10(y_train))\n",
    "lm.score(X_test[['YearBuilt']],np.log10(y_test))"
   ]
  },
  {
   "cell_type": "code",
   "execution_count": 37,
   "id": "28195f01",
   "metadata": {},
   "outputs": [
    {
     "data": {
      "text/plain": [
       "0.6569135330651092"
      ]
     },
     "execution_count": 37,
     "metadata": {},
     "output_type": "execute_result"
    }
   ],
   "source": [
    "# Simple on OverallQual\n",
    "lm.fit(X_train[['OverallQual']],np.log10(y_train))\n",
    "lm.score(X_test[['OverallQual']],np.log10(y_test))"
   ]
  },
  {
   "cell_type": "code",
   "execution_count": 38,
   "id": "f3cf1f01",
   "metadata": {},
   "outputs": [
    {
     "data": {
      "text/plain": [
       "0.21923436192912382"
      ]
     },
     "execution_count": 38,
     "metadata": {},
     "output_type": "execute_result"
    }
   ],
   "source": [
    "# Simple on DfromWalmart\n",
    "lm.fit(X_train[['DfromWalmart']],np.log10(y_train))\n",
    "lm.score(X_test[['DfromWalmart']],np.log10(y_test))"
   ]
  },
  {
   "cell_type": "markdown",
   "id": "cbf7cde0",
   "metadata": {},
   "source": [
    "#### 🧵 Ridge"
   ]
  },
  {
   "cell_type": "code",
   "execution_count": 133,
   "id": "218c559d",
   "metadata": {},
   "outputs": [
    {
     "data": {
      "text/plain": [
       "Ridge(normalize=True)"
      ]
     },
     "execution_count": 133,
     "metadata": {},
     "output_type": "execute_result"
    }
   ],
   "source": [
    "ridge = Ridge()\n",
    "ridge.set_params(normalize=True)"
   ]
  },
  {
   "cell_type": "code",
   "execution_count": 145,
   "id": "74f7064c",
   "metadata": {},
   "outputs": [],
   "source": [
    "alphas = np.arange(0,20)\n",
    "coefs_ridge  = []\n",
    "R2_train = []\n",
    "R2_test = []\n",
    "for alpha in alphas:\n",
    "    ridge.set_params(alpha=alpha)\n",
    "    ridge.fit(X_train, np.log10(y_train))\n",
    "    coefs_ridge.append(ridge.coef_)\n",
    "    R2_train.append(ridge.score(X_train, np.log10(y_train)))\n",
    "    R2_test.append(ridge.score(X_test, np.log10(y_test)))"
   ]
  },
  {
   "cell_type": "code",
   "execution_count": 146,
   "id": "c1b89182",
   "metadata": {},
   "outputs": [
    {
     "data": {
      "text/html": [
       "<div>\n",
       "<style scoped>\n",
       "    .dataframe tbody tr th:only-of-type {\n",
       "        vertical-align: middle;\n",
       "    }\n",
       "\n",
       "    .dataframe tbody tr th {\n",
       "        vertical-align: top;\n",
       "    }\n",
       "\n",
       "    .dataframe thead th {\n",
       "        text-align: right;\n",
       "    }\n",
       "</style>\n",
       "<table border=\"1\" class=\"dataframe\">\n",
       "  <thead>\n",
       "    <tr style=\"text-align: right;\">\n",
       "      <th></th>\n",
       "      <th>1stFlrSF</th>\n",
       "      <th>Bsmt_YN</th>\n",
       "      <th>Garage_YN</th>\n",
       "      <th>Pool_YN</th>\n",
       "      <th>DeckPorch_YN</th>\n",
       "      <th>2F_650under</th>\n",
       "      <th>2F_850under</th>\n",
       "      <th>2F_850plus</th>\n",
       "    </tr>\n",
       "  </thead>\n",
       "  <tbody>\n",
       "    <tr>\n",
       "      <th>0</th>\n",
       "      <td>0.000305</td>\n",
       "      <td>0.158083</td>\n",
       "      <td>0.115329</td>\n",
       "      <td>-0.047329</td>\n",
       "      <td>0.047479</td>\n",
       "      <td>0.042445</td>\n",
       "      <td>0.132991</td>\n",
       "      <td>0.191283</td>\n",
       "    </tr>\n",
       "    <tr>\n",
       "      <th>1</th>\n",
       "      <td>0.000131</td>\n",
       "      <td>0.089422</td>\n",
       "      <td>0.087871</td>\n",
       "      <td>0.032612</td>\n",
       "      <td>0.046990</td>\n",
       "      <td>-0.028379</td>\n",
       "      <td>0.028751</td>\n",
       "      <td>0.082112</td>\n",
       "    </tr>\n",
       "  </tbody>\n",
       "</table>\n",
       "</div>"
      ],
      "text/plain": [
       "   1stFlrSF   Bsmt_YN  Garage_YN   Pool_YN  DeckPorch_YN  2F_650under  \\\n",
       "0  0.000305  0.158083   0.115329 -0.047329      0.047479     0.042445   \n",
       "1  0.000131  0.089422   0.087871  0.032612      0.046990    -0.028379   \n",
       "\n",
       "   2F_850under  2F_850plus  \n",
       "0     0.132991    0.191283  \n",
       "1     0.028751    0.082112  "
      ]
     },
     "execution_count": 146,
     "metadata": {},
     "output_type": "execute_result"
    }
   ],
   "source": [
    "coefs_ridge = pd.DataFrame(coefs_ridge, index=alphas, columns=X_train.columns)\n",
    "R2_ridge = pd.DataFrame({'R2_train':R2_train,'R2_test':R2_test})\n",
    "coefs_ridge.head(2)"
   ]
  },
  {
   "cell_type": "code",
   "execution_count": 147,
   "id": "73be61c4",
   "metadata": {},
   "outputs": [
    {
     "data": {
      "text/plain": [
       "<matplotlib.legend.Legend at 0x1b07109d790>"
      ]
     },
     "execution_count": 147,
     "metadata": {},
     "output_type": "execute_result"
    },
    {
     "data": {
      "image/png": "[encoded data removed]",
      "text/plain": [
       "<Figure size 1008x432 with 2 Axes>"
      ]
     },
     "metadata": {
      "needs_background": "light"
     },
     "output_type": "display_data"
    }
   ],
   "source": [
    "fig, (ax1, ax2) = plt.subplots(1, 2, figsize=(14,6))\n",
    "fig.suptitle('Ridge Regression results')\n",
    "\n",
    "for feat in coefs_ridge.columns:\n",
    "    ax1.plot(coefs_ridge.index, 10**coefs_ridge[feat], label=feat) \n",
    "ax1.set_xlabel(r'hyperparameter $\\lambda$')\n",
    "ax1.set_ylabel(r'coef_ values')\n",
    "ax1.legend(loc=1)\n",
    "for each in R2_lasso.columns:\n",
    "    ax2.plot(R2_lasso.index, R2_lasso[each], label=each)\n",
    "ax2.set_xlabel(r'hyperparameter $\\lambda$')\n",
    "ax2.legend(loc=1)"
   ]
  },
  {
   "cell_type": "code",
   "execution_count": null,
   "id": "ca392701",
   "metadata": {},
   "outputs": [],
   "source": []
  }
 ],
 "metadata": {
  "kernelspec": {
   "display_name": "Python 3",
   "language": "python",
   "name": "python3"
  },
  "language_info": {
   "codemirror_mode": {
    "name": "ipython",
    "version": 3
   },
   "file_extension": ".py",
   "mimetype": "text/x-python",
   "name": "python",
   "nbconvert_exporter": "python",
   "pygments_lexer": "ipython3",
   "version": "3.8.8"
  }
 },
 "nbformat": 4,
 "nbformat_minor": 5
}
