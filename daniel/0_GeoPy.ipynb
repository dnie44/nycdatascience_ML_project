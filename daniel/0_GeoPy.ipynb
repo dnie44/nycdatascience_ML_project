{
 "cells": [
  {
   "cell_type": "code",
   "execution_count": 1,
   "id": "d0b43364",
   "metadata": {},
   "outputs": [],
   "source": [
    "import pandas as pd\n",
    "import numpy as np"
   ]
  },
  {
   "cell_type": "code",
   "execution_count": 2,
   "id": "ded1830f",
   "metadata": {},
   "outputs": [],
   "source": [
    "data = pd.read_csv('All_data.csv', index_col='PID')"
   ]
  },
  {
   "cell_type": "code",
   "execution_count": 3,
   "id": "e9570ea8",
   "metadata": {},
   "outputs": [
    {
     "data": {
      "text/html": [
       "<div>\n",
       "<style scoped>\n",
       "    .dataframe tbody tr th:only-of-type {\n",
       "        vertical-align: middle;\n",
       "    }\n",
       "\n",
       "    .dataframe tbody tr th {\n",
       "        vertical-align: top;\n",
       "    }\n",
       "\n",
       "    .dataframe thead th {\n",
       "        text-align: right;\n",
       "    }\n",
       "</style>\n",
       "<table border=\"1\" class=\"dataframe\">\n",
       "  <thead>\n",
       "    <tr style=\"text-align: right;\">\n",
       "      <th></th>\n",
       "      <th>GrLivArea</th>\n",
       "      <th>SalePrice</th>\n",
       "      <th>MSSubClass</th>\n",
       "      <th>MSZoning</th>\n",
       "      <th>LotFrontage</th>\n",
       "      <th>LotArea</th>\n",
       "      <th>Street</th>\n",
       "      <th>Alley</th>\n",
       "      <th>LotShape</th>\n",
       "      <th>LandContour</th>\n",
       "      <th>...</th>\n",
       "      <th>PoolArea</th>\n",
       "      <th>PoolQC</th>\n",
       "      <th>Fence</th>\n",
       "      <th>MiscFeature</th>\n",
       "      <th>MiscVal</th>\n",
       "      <th>MoSold</th>\n",
       "      <th>YrSold</th>\n",
       "      <th>SaleType</th>\n",
       "      <th>SaleCondition</th>\n",
       "      <th>Prop_Addr</th>\n",
       "    </tr>\n",
       "    <tr>\n",
       "      <th>PID</th>\n",
       "      <th></th>\n",
       "      <th></th>\n",
       "      <th></th>\n",
       "      <th></th>\n",
       "      <th></th>\n",
       "      <th></th>\n",
       "      <th></th>\n",
       "      <th></th>\n",
       "      <th></th>\n",
       "      <th></th>\n",
       "      <th></th>\n",
       "      <th></th>\n",
       "      <th></th>\n",
       "      <th></th>\n",
       "      <th></th>\n",
       "      <th></th>\n",
       "      <th></th>\n",
       "      <th></th>\n",
       "      <th></th>\n",
       "      <th></th>\n",
       "      <th></th>\n",
       "    </tr>\n",
       "  </thead>\n",
       "  <tbody>\n",
       "    <tr>\n",
       "      <th>526301100</th>\n",
       "      <td>1656</td>\n",
       "      <td>215000</td>\n",
       "      <td>20</td>\n",
       "      <td>RL</td>\n",
       "      <td>141.0</td>\n",
       "      <td>31770</td>\n",
       "      <td>Pave</td>\n",
       "      <td>NaN</td>\n",
       "      <td>IR1</td>\n",
       "      <td>Lvl</td>\n",
       "      <td>...</td>\n",
       "      <td>0</td>\n",
       "      <td>NaN</td>\n",
       "      <td>NaN</td>\n",
       "      <td>NaN</td>\n",
       "      <td>0</td>\n",
       "      <td>5</td>\n",
       "      <td>2010</td>\n",
       "      <td>WD</td>\n",
       "      <td>Normal</td>\n",
       "      <td>3126 NORTHWOOD DR</td>\n",
       "    </tr>\n",
       "    <tr>\n",
       "      <th>526302030</th>\n",
       "      <td>1293</td>\n",
       "      <td>149900</td>\n",
       "      <td>20</td>\n",
       "      <td>RL</td>\n",
       "      <td>NaN</td>\n",
       "      <td>11027</td>\n",
       "      <td>Pave</td>\n",
       "      <td>NaN</td>\n",
       "      <td>IR1</td>\n",
       "      <td>Lvl</td>\n",
       "      <td>...</td>\n",
       "      <td>0</td>\n",
       "      <td>NaN</td>\n",
       "      <td>NaN</td>\n",
       "      <td>NaN</td>\n",
       "      <td>0</td>\n",
       "      <td>5</td>\n",
       "      <td>2006</td>\n",
       "      <td>WD</td>\n",
       "      <td>Normal</td>\n",
       "      <td>3115 NORTHWOOD DR</td>\n",
       "    </tr>\n",
       "    <tr>\n",
       "      <th>526302040</th>\n",
       "      <td>1024</td>\n",
       "      <td>157500</td>\n",
       "      <td>20</td>\n",
       "      <td>RL</td>\n",
       "      <td>85.0</td>\n",
       "      <td>10533</td>\n",
       "      <td>Pave</td>\n",
       "      <td>NaN</td>\n",
       "      <td>IR1</td>\n",
       "      <td>Lvl</td>\n",
       "      <td>...</td>\n",
       "      <td>0</td>\n",
       "      <td>NaN</td>\n",
       "      <td>NaN</td>\n",
       "      <td>NaN</td>\n",
       "      <td>0</td>\n",
       "      <td>8</td>\n",
       "      <td>2006</td>\n",
       "      <td>WD</td>\n",
       "      <td>Normal</td>\n",
       "      <td>3113 NORTHWOOD DR</td>\n",
       "    </tr>\n",
       "    <tr>\n",
       "      <th>526302110</th>\n",
       "      <td>882</td>\n",
       "      <td>124500</td>\n",
       "      <td>20</td>\n",
       "      <td>RL</td>\n",
       "      <td>74.0</td>\n",
       "      <td>13008</td>\n",
       "      <td>Pave</td>\n",
       "      <td>NaN</td>\n",
       "      <td>IR1</td>\n",
       "      <td>Lvl</td>\n",
       "      <td>...</td>\n",
       "      <td>0</td>\n",
       "      <td>NaN</td>\n",
       "      <td>NaN</td>\n",
       "      <td>NaN</td>\n",
       "      <td>0</td>\n",
       "      <td>10</td>\n",
       "      <td>2009</td>\n",
       "      <td>WD</td>\n",
       "      <td>Normal</td>\n",
       "      <td>623 RIVER OAK DR</td>\n",
       "    </tr>\n",
       "    <tr>\n",
       "      <th>526302120</th>\n",
       "      <td>1797</td>\n",
       "      <td>169000</td>\n",
       "      <td>20</td>\n",
       "      <td>RL</td>\n",
       "      <td>NaN</td>\n",
       "      <td>11765</td>\n",
       "      <td>Pave</td>\n",
       "      <td>NaN</td>\n",
       "      <td>IR1</td>\n",
       "      <td>Lvl</td>\n",
       "      <td>...</td>\n",
       "      <td>0</td>\n",
       "      <td>NaN</td>\n",
       "      <td>NaN</td>\n",
       "      <td>NaN</td>\n",
       "      <td>0</td>\n",
       "      <td>6</td>\n",
       "      <td>2006</td>\n",
       "      <td>WD</td>\n",
       "      <td>Normal</td>\n",
       "      <td>627 RIVER OAK DR</td>\n",
       "    </tr>\n",
       "  </tbody>\n",
       "</table>\n",
       "<p>5 rows × 81 columns</p>\n",
       "</div>"
      ],
      "text/plain": [
       "           GrLivArea  SalePrice  MSSubClass MSZoning  LotFrontage  LotArea  \\\n",
       "PID                                                                          \n",
       "526301100       1656     215000          20       RL        141.0    31770   \n",
       "526302030       1293     149900          20       RL          NaN    11027   \n",
       "526302040       1024     157500          20       RL         85.0    10533   \n",
       "526302110        882     124500          20       RL         74.0    13008   \n",
       "526302120       1797     169000          20       RL          NaN    11765   \n",
       "\n",
       "          Street Alley LotShape LandContour  ... PoolArea PoolQC Fence  \\\n",
       "PID                                          ...                         \n",
       "526301100   Pave   NaN      IR1         Lvl  ...        0    NaN   NaN   \n",
       "526302030   Pave   NaN      IR1         Lvl  ...        0    NaN   NaN   \n",
       "526302040   Pave   NaN      IR1         Lvl  ...        0    NaN   NaN   \n",
       "526302110   Pave   NaN      IR1         Lvl  ...        0    NaN   NaN   \n",
       "526302120   Pave   NaN      IR1         Lvl  ...        0    NaN   NaN   \n",
       "\n",
       "          MiscFeature MiscVal MoSold YrSold SaleType  SaleCondition  \\\n",
       "PID                                                                   \n",
       "526301100         NaN       0      5   2010      WD          Normal   \n",
       "526302030         NaN       0      5   2006      WD          Normal   \n",
       "526302040         NaN       0      8   2006      WD          Normal   \n",
       "526302110         NaN       0     10   2009      WD          Normal   \n",
       "526302120         NaN       0      6   2006      WD          Normal   \n",
       "\n",
       "                   Prop_Addr  \n",
       "PID                           \n",
       "526301100  3126 NORTHWOOD DR  \n",
       "526302030  3115 NORTHWOOD DR  \n",
       "526302040  3113 NORTHWOOD DR  \n",
       "526302110   623 RIVER OAK DR  \n",
       "526302120   627 RIVER OAK DR  \n",
       "\n",
       "[5 rows x 81 columns]"
      ]
     },
     "execution_count": 3,
     "metadata": {},
     "output_type": "execute_result"
    }
   ],
   "source": [
    "data.head()"
   ]
  },
  {
   "cell_type": "code",
   "execution_count": 1,
   "id": "8dc03ce6",
   "metadata": {},
   "outputs": [],
   "source": [
    "import geopy\n",
    "from geopy import Nominatim\n",
    "from geopy.extra.rate_limiter import RateLimiter"
   ]
  },
  {
   "cell_type": "code",
   "execution_count": 3,
   "id": "7b6fae4c",
   "metadata": {},
   "outputs": [],
   "source": [
    "locator = Nominatim(user_agent=\"nycDSA\")\n",
    "geocode = RateLimiter(locator.geocode, min_delay_seconds=1.5)"
   ]
  },
  {
   "cell_type": "markdown",
   "id": "fc1ac584",
   "metadata": {},
   "source": [
    "## <span style='color:red'> Caution</span>: Takes 2-3hrs ⚠️"
   ]
  },
  {
   "cell_type": "code",
   "execution_count": 20,
   "id": "366e91fb",
   "metadata": {},
   "outputs": [],
   "source": [
    "geodata = [geocode(addr+', Ames, USA') if type(addr)==str else None for addr in data.Prop_Addr]"
   ]
  },
  {
   "cell_type": "markdown",
   "id": "96594687",
   "metadata": {},
   "source": [
    "#### "
   ]
  },
  {
   "cell_type": "markdown",
   "id": "46a61b85",
   "metadata": {},
   "source": [
    "#### "
   ]
  },
  {
   "cell_type": "markdown",
   "id": "01c16080",
   "metadata": {},
   "source": [
    "#### match collected geodata with PID and save as csv"
   ]
  },
  {
   "cell_type": "code",
   "execution_count": 84,
   "id": "5575e307",
   "metadata": {},
   "outputs": [
    {
     "data": {
      "text/plain": [
       "(2624, 84)"
      ]
     },
     "execution_count": 84,
     "metadata": {},
     "output_type": "execute_result"
    }
   ],
   "source": [
    "g = {'lat_long':[each[-1] if each is not None else 0 for each in geodata]}"
   ]
  },
  {
   "cell_type": "code",
   "execution_count": 85,
   "id": "3c802969",
   "metadata": {},
   "outputs": [
    {
     "data": {
      "text/plain": [
       "True"
      ]
     },
     "execution_count": 85,
     "metadata": {},
     "output_type": "execute_result"
    }
   ],
   "source": [
    "len(geodata) == data.shape[0]"
   ]
  },
  {
   "cell_type": "code",
   "execution_count": 104,
   "id": "e2745407",
   "metadata": {},
   "outputs": [],
   "source": [
    "to_export = pd.concat([pd.Series(data.index),pd.DataFrame(g)],axis=1,ignore_index=True)"
   ]
  },
  {
   "cell_type": "code",
   "execution_count": 107,
   "id": "773704eb",
   "metadata": {},
   "outputs": [],
   "source": [
    "to_export = to_export.rename(columns={0:'PID',1:'lat_long'}).set_index('PID')"
   ]
  },
  {
   "cell_type": "code",
   "execution_count": 108,
   "id": "e003a4ed",
   "metadata": {},
   "outputs": [],
   "source": [
    "to_export.to_csv('geodata.csv')"
   ]
  },
  {
   "cell_type": "code",
   "execution_count": null,
   "id": "62ef153b",
   "metadata": {},
   "outputs": [],
   "source": []
  }
 ],
 "metadata": {
  "kernelspec": {
   "display_name": "Python 3",
   "language": "python",
   "name": "python3"
  },
  "language_info": {
   "codemirror_mode": {
    "name": "ipython",
    "version": 3
   },
   "file_extension": ".py",
   "mimetype": "text/x-python",
   "name": "python",
   "nbconvert_exporter": "python",
   "pygments_lexer": "ipython3",
   "version": "3.8.8"
  }
 },
 "nbformat": 4,
 "nbformat_minor": 5
}
