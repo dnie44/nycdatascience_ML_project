{
 "cells": [
  {
   "cell_type": "code",
   "execution_count": 1,
   "id": "d0b43364",
   "metadata": {},
   "outputs": [],
   "source": [
    "import pandas as pd\n",
    "import numpy as np"
   ]
  },
  {
   "cell_type": "code",
   "execution_count": 4,
   "id": "ded1830f",
   "metadata": {},
   "outputs": [],
   "source": [
    "data = pd.read_csv('All_data.csv', index_col='PID')"
   ]
  },
  {
   "cell_type": "code",
   "execution_count": 5,
   "id": "e9570ea8",
   "metadata": {},
   "outputs": [
    {
     "data": {
      "text/html": [
       "<div>\n",
       "<style scoped>\n",
       "    .dataframe tbody tr th:only-of-type {\n",
       "        vertical-align: middle;\n",
       "    }\n",
       "\n",
       "    .dataframe tbody tr th {\n",
       "        vertical-align: top;\n",
       "    }\n",
       "\n",
       "    .dataframe thead th {\n",
       "        text-align: right;\n",
       "    }\n",
       "</style>\n",
       "<table border=\"1\" class=\"dataframe\">\n",
       "  <thead>\n",
       "    <tr style=\"text-align: right;\">\n",
       "      <th></th>\n",
       "      <th>GrLivArea</th>\n",
       "      <th>SalePrice</th>\n",
       "      <th>MSSubClass</th>\n",
       "      <th>MSZoning</th>\n",
       "      <th>LotFrontage</th>\n",
       "      <th>LotArea</th>\n",
       "      <th>Street</th>\n",
       "      <th>Alley</th>\n",
       "      <th>LotShape</th>\n",
       "      <th>LandContour</th>\n",
       "      <th>...</th>\n",
       "      <th>MiscFeature</th>\n",
       "      <th>MiscVal</th>\n",
       "      <th>MoSold</th>\n",
       "      <th>YrSold</th>\n",
       "      <th>SaleType</th>\n",
       "      <th>SaleCondition</th>\n",
       "      <th>Prop_Addr</th>\n",
       "      <th>MA_City</th>\n",
       "      <th>MA_State</th>\n",
       "      <th>MA_Zip1</th>\n",
       "    </tr>\n",
       "    <tr>\n",
       "      <th>PID</th>\n",
       "      <th></th>\n",
       "      <th></th>\n",
       "      <th></th>\n",
       "      <th></th>\n",
       "      <th></th>\n",
       "      <th></th>\n",
       "      <th></th>\n",
       "      <th></th>\n",
       "      <th></th>\n",
       "      <th></th>\n",
       "      <th></th>\n",
       "      <th></th>\n",
       "      <th></th>\n",
       "      <th></th>\n",
       "      <th></th>\n",
       "      <th></th>\n",
       "      <th></th>\n",
       "      <th></th>\n",
       "      <th></th>\n",
       "      <th></th>\n",
       "      <th></th>\n",
       "    </tr>\n",
       "  </thead>\n",
       "  <tbody>\n",
       "    <tr>\n",
       "      <th>909176150</th>\n",
       "      <td>856</td>\n",
       "      <td>126000</td>\n",
       "      <td>30</td>\n",
       "      <td>RL</td>\n",
       "      <td>NaN</td>\n",
       "      <td>7890</td>\n",
       "      <td>Pave</td>\n",
       "      <td>NaN</td>\n",
       "      <td>Reg</td>\n",
       "      <td>Lvl</td>\n",
       "      <td>...</td>\n",
       "      <td>NaN</td>\n",
       "      <td>0</td>\n",
       "      <td>3</td>\n",
       "      <td>2010</td>\n",
       "      <td>WD</td>\n",
       "      <td>Normal</td>\n",
       "      <td>436 HAYWARD AVE</td>\n",
       "      <td>AMES</td>\n",
       "      <td>IA</td>\n",
       "      <td>50010.0</td>\n",
       "    </tr>\n",
       "    <tr>\n",
       "      <th>905476230</th>\n",
       "      <td>1049</td>\n",
       "      <td>139500</td>\n",
       "      <td>120</td>\n",
       "      <td>RL</td>\n",
       "      <td>42.0</td>\n",
       "      <td>4235</td>\n",
       "      <td>Pave</td>\n",
       "      <td>NaN</td>\n",
       "      <td>Reg</td>\n",
       "      <td>Lvl</td>\n",
       "      <td>...</td>\n",
       "      <td>NaN</td>\n",
       "      <td>0</td>\n",
       "      <td>2</td>\n",
       "      <td>2009</td>\n",
       "      <td>WD</td>\n",
       "      <td>Normal</td>\n",
       "      <td>3416 WEST ST</td>\n",
       "      <td>AMES</td>\n",
       "      <td>IA</td>\n",
       "      <td>50014.0</td>\n",
       "    </tr>\n",
       "    <tr>\n",
       "      <th>905476230</th>\n",
       "      <td>1049</td>\n",
       "      <td>139500</td>\n",
       "      <td>120</td>\n",
       "      <td>RL</td>\n",
       "      <td>42.0</td>\n",
       "      <td>4235</td>\n",
       "      <td>Pave</td>\n",
       "      <td>NaN</td>\n",
       "      <td>Reg</td>\n",
       "      <td>Lvl</td>\n",
       "      <td>...</td>\n",
       "      <td>NaN</td>\n",
       "      <td>0</td>\n",
       "      <td>2</td>\n",
       "      <td>2009</td>\n",
       "      <td>WD</td>\n",
       "      <td>Normal</td>\n",
       "      <td>3416 WEST ST</td>\n",
       "      <td>AMES</td>\n",
       "      <td>IA</td>\n",
       "      <td>50014.0</td>\n",
       "    </tr>\n",
       "    <tr>\n",
       "      <th>911128020</th>\n",
       "      <td>1001</td>\n",
       "      <td>124900</td>\n",
       "      <td>30</td>\n",
       "      <td>C (all)</td>\n",
       "      <td>60.0</td>\n",
       "      <td>6060</td>\n",
       "      <td>Pave</td>\n",
       "      <td>NaN</td>\n",
       "      <td>Reg</td>\n",
       "      <td>Lvl</td>\n",
       "      <td>...</td>\n",
       "      <td>NaN</td>\n",
       "      <td>0</td>\n",
       "      <td>11</td>\n",
       "      <td>2007</td>\n",
       "      <td>WD</td>\n",
       "      <td>Normal</td>\n",
       "      <td>320 S 2ND ST</td>\n",
       "      <td>AMES</td>\n",
       "      <td>IA</td>\n",
       "      <td>50010.0</td>\n",
       "    </tr>\n",
       "    <tr>\n",
       "      <th>535377150</th>\n",
       "      <td>1039</td>\n",
       "      <td>114000</td>\n",
       "      <td>70</td>\n",
       "      <td>RL</td>\n",
       "      <td>80.0</td>\n",
       "      <td>8146</td>\n",
       "      <td>Pave</td>\n",
       "      <td>NaN</td>\n",
       "      <td>Reg</td>\n",
       "      <td>Lvl</td>\n",
       "      <td>...</td>\n",
       "      <td>NaN</td>\n",
       "      <td>0</td>\n",
       "      <td>5</td>\n",
       "      <td>2009</td>\n",
       "      <td>WD</td>\n",
       "      <td>Normal</td>\n",
       "      <td>1524 DOUGLAS AVE</td>\n",
       "      <td>AMES</td>\n",
       "      <td>IA</td>\n",
       "      <td>50010.0</td>\n",
       "    </tr>\n",
       "  </tbody>\n",
       "</table>\n",
       "<p>5 rows × 84 columns</p>\n",
       "</div>"
      ],
      "text/plain": [
       "           GrLivArea  SalePrice  MSSubClass MSZoning  LotFrontage  LotArea  \\\n",
       "PID                                                                          \n",
       "909176150        856     126000          30       RL          NaN     7890   \n",
       "905476230       1049     139500         120       RL         42.0     4235   \n",
       "905476230       1049     139500         120       RL         42.0     4235   \n",
       "911128020       1001     124900          30  C (all)         60.0     6060   \n",
       "535377150       1039     114000          70       RL         80.0     8146   \n",
       "\n",
       "          Street Alley LotShape LandContour  ... MiscFeature MiscVal MoSold  \\\n",
       "PID                                          ...                              \n",
       "909176150   Pave   NaN      Reg         Lvl  ...         NaN       0      3   \n",
       "905476230   Pave   NaN      Reg         Lvl  ...         NaN       0      2   \n",
       "905476230   Pave   NaN      Reg         Lvl  ...         NaN       0      2   \n",
       "911128020   Pave   NaN      Reg         Lvl  ...         NaN       0     11   \n",
       "535377150   Pave   NaN      Reg         Lvl  ...         NaN       0      5   \n",
       "\n",
       "          YrSold SaleType SaleCondition         Prop_Addr MA_City  MA_State  \\\n",
       "PID                                                                           \n",
       "909176150   2010      WD         Normal   436 HAYWARD AVE    AMES        IA   \n",
       "905476230   2009      WD         Normal      3416 WEST ST    AMES        IA   \n",
       "905476230   2009      WD         Normal      3416 WEST ST    AMES        IA   \n",
       "911128020   2007      WD         Normal      320 S 2ND ST    AMES        IA   \n",
       "535377150   2009      WD         Normal  1524 DOUGLAS AVE    AMES        IA   \n",
       "\n",
       "           MA_Zip1  \n",
       "PID                 \n",
       "909176150  50010.0  \n",
       "905476230  50014.0  \n",
       "905476230  50014.0  \n",
       "911128020  50010.0  \n",
       "535377150  50010.0  \n",
       "\n",
       "[5 rows x 84 columns]"
      ]
     },
     "execution_count": 5,
     "metadata": {},
     "output_type": "execute_result"
    }
   ],
   "source": [
    "data.head()"
   ]
  },
  {
   "cell_type": "code",
   "execution_count": 6,
   "id": "8dc03ce6",
   "metadata": {},
   "outputs": [],
   "source": [
    "import geopy\n",
    "from geopy import Nominatim\n",
    "from geopy.extra.rate_limiter import RateLimiter"
   ]
  },
  {
   "cell_type": "code",
   "execution_count": 9,
   "id": "7b6fae4c",
   "metadata": {},
   "outputs": [],
   "source": [
    "locator = Nominatim(user_agent=\"myGeocoder\")\n",
    "geocode = RateLimiter(locator.geocode, min_delay_seconds=1.5)"
   ]
  },
  {
   "cell_type": "markdown",
   "id": "fc1ac584",
   "metadata": {},
   "source": [
    "## <span style='color:red'> Caution</span>: Takes 2-3hrs ⚠️"
   ]
  },
  {
   "cell_type": "code",
   "execution_count": 20,
   "id": "366e91fb",
   "metadata": {},
   "outputs": [],
   "source": [
    "geodata = [geocode(addr+', Ames, USA') if type(addr)==str else None for addr in data.Prop_Addr]"
   ]
  },
  {
   "cell_type": "markdown",
   "id": "96594687",
   "metadata": {},
   "source": [
    "#### "
   ]
  },
  {
   "cell_type": "markdown",
   "id": "46a61b85",
   "metadata": {},
   "source": [
    "#### "
   ]
  },
  {
   "cell_type": "markdown",
   "id": "01c16080",
   "metadata": {},
   "source": [
    "#### match collected geodata with PID and save as csv"
   ]
  },
  {
   "cell_type": "code",
   "execution_count": 84,
   "id": "5575e307",
   "metadata": {},
   "outputs": [
    {
     "data": {
      "text/plain": [
       "(2624, 84)"
      ]
     },
     "execution_count": 84,
     "metadata": {},
     "output_type": "execute_result"
    }
   ],
   "source": [
    "g = {'lat_long':[each[-1] if each is not None else 0 for each in geodata]}"
   ]
  },
  {
   "cell_type": "code",
   "execution_count": 85,
   "id": "3c802969",
   "metadata": {},
   "outputs": [
    {
     "data": {
      "text/plain": [
       "True"
      ]
     },
     "execution_count": 85,
     "metadata": {},
     "output_type": "execute_result"
    }
   ],
   "source": [
    "len(geodata) == data.shape[0]"
   ]
  },
  {
   "cell_type": "code",
   "execution_count": 104,
   "id": "e2745407",
   "metadata": {},
   "outputs": [],
   "source": [
    "to_export = pd.concat([pd.Series(data.index),pd.DataFrame(g)],axis=1,ignore_index=True)"
   ]
  },
  {
   "cell_type": "code",
   "execution_count": 107,
   "id": "773704eb",
   "metadata": {},
   "outputs": [],
   "source": [
    "to_export = to_export.rename(columns={0:'PID',1:'lat_long'}).set_index('PID')"
   ]
  },
  {
   "cell_type": "code",
   "execution_count": 108,
   "id": "e003a4ed",
   "metadata": {},
   "outputs": [],
   "source": [
    "to_export.to_csv('geodata.csv')"
   ]
  },
  {
   "cell_type": "code",
   "execution_count": null,
   "id": "62ef153b",
   "metadata": {},
   "outputs": [],
   "source": []
  }
 ],
 "metadata": {
  "kernelspec": {
   "display_name": "Python 3",
   "language": "python",
   "name": "python3"
  },
  "language_info": {
   "codemirror_mode": {
    "name": "ipython",
    "version": 3
   },
   "file_extension": ".py",
   "mimetype": "text/x-python",
   "name": "python",
   "nbconvert_exporter": "python",
   "pygments_lexer": "ipython3",
   "version": "3.8.8"
  }
 },
 "nbformat": 4,
 "nbformat_minor": 5
}
