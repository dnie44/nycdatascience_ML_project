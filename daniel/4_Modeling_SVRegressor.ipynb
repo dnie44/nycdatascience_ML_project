{
 "cells": [
  {
   "cell_type": "code",
   "execution_count": 55,
   "id": "818b52f5",
   "metadata": {},
   "outputs": [],
   "source": [
    "import pandas as pd\n",
    "import numpy as np\n",
    "\n",
    "import seaborn as sns\n",
    "import matplotlib.pyplot as plt\n",
    "%matplotlib inline \n",
    "\n",
    "from sklearn.preprocessing import StandardScaler\n",
    "from sklearn.svm import SVR\n",
    "from sklearn.model_selection import train_test_split, cross_validate, GridSearchCV"
   ]
  },
  {
   "cell_type": "code",
   "execution_count": 46,
   "id": "bf84646e",
   "metadata": {
    "scrolled": true
   },
   "outputs": [
    {
     "data": {
      "text/plain": [
       "(2579, 20)"
      ]
     },
     "execution_count": 46,
     "metadata": {},
     "output_type": "execute_result"
    }
   ],
   "source": [
    "data = pd.read_csv('model_data.csv', index_col='PID')\n",
    "data.shape"
   ]
  },
  {
   "cell_type": "markdown",
   "id": "971faf8f",
   "metadata": {},
   "source": [
    "#### Independent Variable (y)"
   ]
  },
  {
   "cell_type": "code",
   "execution_count": 47,
   "id": "2b456e2f",
   "metadata": {},
   "outputs": [],
   "source": [
    "y = data.SalePrice.copy()\n",
    "data.drop('SalePrice', axis=1, inplace=True)"
   ]
  },
  {
   "cell_type": "markdown",
   "id": "37fe72be",
   "metadata": {},
   "source": [
    "## 🤖 Prepare for SVRegression"
   ]
  },
  {
   "cell_type": "code",
   "execution_count": 48,
   "id": "6b24199a",
   "metadata": {},
   "outputs": [],
   "source": [
    "from sklearn import ensemble\n",
    "from sklearn.preprocessing import LabelEncoder"
   ]
  },
  {
   "cell_type": "code",
   "execution_count": 49,
   "id": "c182e923",
   "metadata": {},
   "outputs": [
    {
     "data": {
      "text/plain": [
       "Index(['MSSubClass', 'Foundation', 'PavedDrive', 'BsmtUnfSF', 'AllBathBsmt',\n",
       "       'AllBathAbv', 'HeatingQC', 'Neighborhood', 'YearBuilt', 'GarageCars',\n",
       "       'PorchArea', 'GoodLivArea', 'CentralAir', 'KitchenQual', 'ExterQual',\n",
       "       'BsmtCond', 'FireplaceQu', 'GarageQual', 'HasPool'],\n",
       "      dtype='object')"
      ]
     },
     "execution_count": 49,
     "metadata": {},
     "output_type": "execute_result"
    }
   ],
   "source": [
    "data_le = data.copy()\n",
    "data_le.columns"
   ]
  },
  {
   "cell_type": "code",
   "execution_count": 50,
   "id": "ba36b540",
   "metadata": {},
   "outputs": [],
   "source": [
    "# Label CentralAir Y or N with 1 or 0\n",
    "data_le.CentralAir = data_le.CentralAir.apply(lambda x: 1 if x=='Y' else 0, )"
   ]
  },
  {
   "cell_type": "code",
   "execution_count": 51,
   "id": "5e1d217e",
   "metadata": {},
   "outputs": [],
   "source": [
    "# Use LabelEncoder on Categorical features\n",
    "le = LabelEncoder()\n",
    "data_le.MSSubClass = le.fit_transform(data.MSSubClass)\n",
    "#data_le.GarageType = le.fit_transform(data.GarageType)\n",
    "data_le.Foundation = le.fit_transform(data.Foundation)\n",
    "data_le.PavedDrive = le.fit_transform(data.PavedDrive)\n",
    "data_le.Neighborhood = le.fit_transform(data.Neighborhood)\n",
    "# Manually Encode Ordinal features\n",
    "#data_le.BsmtQual = data_le.BsmtQual.replace({'Po':1,'Fa':2,'TA':3,'Gd':4,'Ex':5,np.NaN:0})\n",
    "data_le.HeatingQC = data_le.HeatingQC.replace({'Po':1,'Fa':2,'TA':3,'Gd':4,'Ex':5})\n",
    "data_le.KitchenQual = data_le.KitchenQual.replace({'Po':1,'Fa':2,'TA':3,'Gd':4,'Ex':5})\n",
    "data_le.ExterQual = data_le.ExterQual.replace({'Po':1,'Fa':2,'TA':3,'Gd':4,'Ex':5})\n",
    "data_le.BsmtCond = data_le.BsmtCond.replace({'Po':1,'Fa':2,'TA':3,'Gd':4,'Ex':5,'None':0})\n",
    "data_le.FireplaceQu = data_le.FireplaceQu.replace({'Po':1,'Fa':2,'TA':3,'Gd':4,'Ex':5,'None':0})\n",
    "data_le.GarageQual = data_le.GarageQual.replace({'Po':1,'Fa':2,'TA':3,'Gd':4,'Ex':5,'None':0})"
   ]
  },
  {
   "cell_type": "code",
   "execution_count": 52,
   "id": "bce0d88c",
   "metadata": {},
   "outputs": [],
   "source": [
    "X_train, X_test, y_train, y_test = train_test_split(data_le, y, test_size=0.25)"
   ]
  },
  {
   "cell_type": "code",
   "execution_count": 53,
   "id": "50de28b9",
   "metadata": {},
   "outputs": [
    {
     "data": {
      "text/plain": [
       "{'C': 1.0,\n",
       " 'cache_size': 200,\n",
       " 'coef0': 0.0,\n",
       " 'degree': 3,\n",
       " 'epsilon': 0.1,\n",
       " 'gamma': 'scale',\n",
       " 'kernel': 'rbf',\n",
       " 'max_iter': -1,\n",
       " 'shrinking': True,\n",
       " 'tol': 0.001,\n",
       " 'verbose': False}"
      ]
     },
     "execution_count": 53,
     "metadata": {},
     "output_type": "execute_result"
    }
   ],
   "source": [
    "svr = SVR()\n",
    "svr.get_params()"
   ]
  },
  {
   "cell_type": "code",
   "execution_count": 54,
   "id": "11bbcfcd",
   "metadata": {},
   "outputs": [
    {
     "data": {
      "text/plain": [
       "0.7688358720238083"
      ]
     },
     "execution_count": 54,
     "metadata": {},
     "output_type": "execute_result"
    }
   ],
   "source": [
    "svr.fit(X_train, np.log10(y_train))\n",
    "svr.score(X_test, np.log10(y_test))"
   ]
  },
  {
   "cell_type": "code",
   "execution_count": 77,
   "id": "7edf3f98",
   "metadata": {},
   "outputs": [],
   "source": [
    "train_R2 = []\n",
    "test_R2 = []\n",
    "epsilons = np.linspace(0.000001,0.2,50)\n",
    "\n",
    "for eps in epsilons:\n",
    "    svr.set_params(epsilon=eps)\n",
    "    svr.fit(X_train, np.log10(y_train))\n",
    "    train_R2.append(svr.score(X_train, np.log10(y_train)))\n",
    "    test_R2.append(svr.score(X_test, np.log10(y_test)))"
   ]
  },
  {
   "cell_type": "code",
   "execution_count": 79,
   "id": "e5b19276",
   "metadata": {},
   "outputs": [
    {
     "data": {
      "image/png": "[encoded data removed]",
      "text/plain": [
       "<Figure size 432x288 with 1 Axes>"
      ]
     },
     "metadata": {
      "needs_background": "light"
     },
     "output_type": "display_data"
    }
   ],
   "source": [
    "to_plot = pd.DataFrame([train_R2,test_R2]).T.set_index(epsilons).rename(columns={0:'train',1:'test'})\n",
    "\n",
    "fig, ax = plt.subplots()\n",
    "fig.suptitle('SVR Regression results')\n",
    "\n",
    "for each in to_plot.columns:\n",
    "    ax.plot(to_plot.index, to_plot[each], label=each)\n",
    "    ax.legend(loc=1)"
   ]
  },
  {
   "cell_type": "code",
   "execution_count": 80,
   "id": "393991e5",
   "metadata": {},
   "outputs": [],
   "source": [
    "train_R2 = []\n",
    "test_R2 = []\n",
    "Cs = np.linspace(1,10000,50)\n",
    "\n",
    "for c in Cs:\n",
    "    svr.set_params(C=c)\n",
    "    svr.fit(X_train, np.log10(y_train))\n",
    "    train_R2.append(svr.score(X_train, np.log10(y_train)))\n",
    "    test_R2.append(svr.score(X_test, np.log10(y_test)))"
   ]
  },
  {
   "cell_type": "code",
   "execution_count": 82,
   "id": "45c930d1",
   "metadata": {},
   "outputs": [
    {
     "data": {
      "image/png": "[encoded data removed]",
      "text/plain": [
       "<Figure size 432x288 with 1 Axes>"
      ]
     },
     "metadata": {
      "needs_background": "light"
     },
     "output_type": "display_data"
    }
   ],
   "source": [
    "to_plot = pd.DataFrame([train_R2,test_R2]).T.set_index(Cs).rename(columns={0:'train',1:'test'})\n",
    "\n",
    "fig, ax = plt.subplots()\n",
    "fig.suptitle('SVR Regression results')\n",
    "\n",
    "for each in to_plot.columns:\n",
    "    ax.plot(to_plot.index, to_plot[each], label=each)\n",
    "    ax.legend(loc=1)"
   ]
  },
  {
   "cell_type": "code",
   "execution_count": 86,
   "id": "8229dc49",
   "metadata": {},
   "outputs": [
    {
     "data": {
      "text/plain": [
       "GridSearchCV(cv=4, estimator=SVR(C=10000.0, epsilon=0.2),\n",
       "             param_grid={'C': array([   1.        ,   53.57894737,  106.15789474,  158.73684211,\n",
       "        211.31578947,  263.89473684,  316.47368421,  369.05263158,\n",
       "        421.63157895,  474.21052632,  526.78947368,  579.36842105,\n",
       "        631.94736842,  684.52631579,  737.10526316,  789.68421053,\n",
       "        842.26315789,  894.84210526,  947.42105263, 1000.        ]),\n",
       "                         'epsilon': array([1.00000000e-07, 5.26325263e-03, 1.05264053e-02, 1.57895579e-02,\n",
       "       2.10527105e-02, 2.63158632e-02, 3.15790158e-02, 3.68421684e-02,\n",
       "       4.21053211e-02, 4.73684737e-02, 5.26316263e-02, 5.78947789e-02,\n",
       "       6.31579316e-02, 6.84210842e-02, 7.36842368e-02, 7.89473895e-02,\n",
       "       8.42105421e-02, 8.94736947e-02, 9.47368474e-02, 1.00000000e-01])},\n",
       "             scoring='r2')"
      ]
     },
     "execution_count": 86,
     "metadata": {},
     "output_type": "execute_result"
    }
   ],
   "source": [
    "grid_params = {\n",
    "    'C': np.linspace(1,1000,20),    \n",
    "    'epsilon': np.linspace(0.0000001,0.1,20)\n",
    "}\n",
    "grid = GridSearchCV(svr, grid_params, scoring='r2', cv=4)\n",
    "grid.fit(X_train, np.log10(y_train))"
   ]
  },
  {
   "cell_type": "code",
   "execution_count": 88,
   "id": "16da17d6",
   "metadata": {},
   "outputs": [
    {
     "name": "stdout",
     "output_type": "stream",
     "text": [
      "SVR(C=1000.0, epsilon=1e-07)\n",
      "0.8444165350557415\n"
     ]
    }
   ],
   "source": [
    "print(grid.best_estimator_)\n",
    "print(grid.score(X_test, np.log10(y_test)))"
   ]
  },
  {
   "cell_type": "code",
   "execution_count": null,
   "id": "2cc976ff",
   "metadata": {},
   "outputs": [],
   "source": [
    "# increase ranges of param tuning\n",
    "grid_params = {\n",
    "    'C': np.linspace(10000,100000,4),    \n",
    "    'epsilon': np.linspace(0.0000001,0.1,4)\n",
    "}\n",
    "grid = GridSearchCV(svr, grid_params, scoring='r2', cv=4)\n",
    "grid.fit(X_train, np.log10(y_train))"
   ]
  },
  {
   "cell_type": "code",
   "execution_count": null,
   "id": "d9144f49",
   "metadata": {},
   "outputs": [],
   "source": []
  }
 ],
 "metadata": {
  "kernelspec": {
   "display_name": "Python 3",
   "language": "python",
   "name": "python3"
  },
  "language_info": {
   "codemirror_mode": {
    "name": "ipython",
    "version": 3
   },
   "file_extension": ".py",
   "mimetype": "text/x-python",
   "name": "python",
   "nbconvert_exporter": "python",
   "pygments_lexer": "ipython3",
   "version": "3.8.8"
  }
 },
 "nbformat": 4,
 "nbformat_minor": 5
}
