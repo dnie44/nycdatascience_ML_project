{
 "cells": [
  {
   "cell_type": "code",
   "execution_count": 49,
   "id": "80111613",
   "metadata": {},
   "outputs": [],
   "source": [
    "import pandas as pd\n",
    "import numpy as np"
   ]
  },
  {
   "cell_type": "code",
   "execution_count": 50,
   "id": "4aba2c59",
   "metadata": {},
   "outputs": [
    {
     "data": {
      "text/plain": [
       "'C:\\\\Users\\\\dn-83\\\\Documents\\\\bootcamp\\\\ML_proj\\\\daniel'"
      ]
     },
     "execution_count": 50,
     "metadata": {},
     "output_type": "execute_result"
    }
   ],
   "source": [
    "pwd"
   ]
  },
  {
   "cell_type": "markdown",
   "id": "3d3784dc",
   "metadata": {},
   "source": [
    "### Load House Data"
   ]
  },
  {
   "cell_type": "code",
   "execution_count": 51,
   "id": "44d62709",
   "metadata": {
    "scrolled": true
   },
   "outputs": [
    {
     "data": {
      "text/plain": [
       "(2580, 80)"
      ]
     },
     "execution_count": 51,
     "metadata": {},
     "output_type": "execute_result"
    }
   ],
   "source": [
    "housing = pd.read_csv('C:\\\\Users\\\\dn-83\\\\Documents\\\\bootcamp\\\\ML_proj\\\\_data\\\\Ames_Housing_Price_Data.csv', index_col=0)\n",
    "housing = housing.set_index('PID')\n",
    "housing.shape"
   ]
  },
  {
   "cell_type": "markdown",
   "id": "978a04b3",
   "metadata": {},
   "source": [
    "### Load Address Data"
   ]
  },
  {
   "cell_type": "code",
   "execution_count": 52,
   "id": "08e3f8f1",
   "metadata": {},
   "outputs": [
    {
     "name": "stderr",
     "output_type": "stream",
     "text": [
      "C:\\ProgramData\\Anaconda3\\lib\\site-packages\\IPython\\core\\interactiveshell.py:3165: DtypeWarning: Columns (36,40,81,87) have mixed types.Specify dtype option on import or set low_memory=False.\n",
      "  has_raised = await self.run_ast_nodes(code_ast.body, cell_name,\n"
     ]
    }
   ],
   "source": [
    "location = pd.read_csv('C:\\\\Users\\\\dn-83\\\\Documents\\\\bootcamp\\\\ML_proj\\\\_data\\\\Ames_Real_Estate_Data.csv', index_col=0)"
   ]
  },
  {
   "cell_type": "code",
   "execution_count": 53,
   "id": "db8af35d",
   "metadata": {},
   "outputs": [],
   "source": [
    "location = location[['Prop_Addr']]"
   ]
  },
  {
   "cell_type": "code",
   "execution_count": 54,
   "id": "91b4d083",
   "metadata": {},
   "outputs": [
    {
     "data": {
      "text/plain": [
       "(22213, 1)"
      ]
     },
     "execution_count": 54,
     "metadata": {},
     "output_type": "execute_result"
    }
   ],
   "source": [
    "location.shape"
   ]
  },
  {
   "cell_type": "markdown",
   "id": "f26582f4",
   "metadata": {},
   "source": [
    "### Merge Address to House"
   ]
  },
  {
   "cell_type": "code",
   "execution_count": 62,
   "id": "14b7bf3f",
   "metadata": {},
   "outputs": [],
   "source": [
    "data = housing.merge(location, how='left', left_index=True, right_index=True)\n",
    "data.index.rename('PID', inplace=True)"
   ]
  },
  {
   "cell_type": "code",
   "execution_count": 63,
   "id": "3c010160",
   "metadata": {},
   "outputs": [],
   "source": [
    "data = data.drop_duplicates()"
   ]
  },
  {
   "cell_type": "code",
   "execution_count": 65,
   "id": "1e02df1f",
   "metadata": {},
   "outputs": [],
   "source": [
    "data.to_csv('C:\\\\Users\\\\dn-83\\\\Documents\\\\bootcamp\\\\ML_proj\\\\daniel\\\\All_Data.csv')"
   ]
  },
  {
   "cell_type": "code",
   "execution_count": null,
   "id": "75139f9a",
   "metadata": {},
   "outputs": [],
   "source": []
  }
 ],
 "metadata": {
  "kernelspec": {
   "display_name": "Python 3",
   "language": "python",
   "name": "python3"
  },
  "language_info": {
   "codemirror_mode": {
    "name": "ipython",
    "version": 3
   },
   "file_extension": ".py",
   "mimetype": "text/x-python",
   "name": "python",
   "nbconvert_exporter": "python",
   "pygments_lexer": "ipython3",
   "version": "3.8.8"
  }
 },
 "nbformat": 4,
 "nbformat_minor": 5
}
