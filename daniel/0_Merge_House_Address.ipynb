{
 "cells": [
  {
   "cell_type": "code",
   "execution_count": 1,
   "id": "80111613",
   "metadata": {},
   "outputs": [],
   "source": [
    "import pandas as pd\n",
    "import numpy as np"
   ]
  },
  {
   "cell_type": "code",
   "execution_count": 2,
   "id": "4aba2c59",
   "metadata": {},
   "outputs": [
    {
     "data": {
      "text/plain": [
       "'C:\\\\Users\\\\dn-83\\\\Documents\\\\bootcamp\\\\ML_proj\\\\daniel'"
      ]
     },
     "execution_count": 2,
     "metadata": {},
     "output_type": "execute_result"
    }
   ],
   "source": [
    "pwd"
   ]
  },
  {
   "cell_type": "markdown",
   "id": "3d3784dc",
   "metadata": {},
   "source": [
    "### Load House Data"
   ]
  },
  {
   "cell_type": "code",
   "execution_count": 3,
   "id": "44d62709",
   "metadata": {
    "scrolled": true
   },
   "outputs": [
    {
     "data": {
      "text/plain": [
       "(2580, 80)"
      ]
     },
     "execution_count": 3,
     "metadata": {},
     "output_type": "execute_result"
    }
   ],
   "source": [
    "housing = pd.read_csv('C:\\\\Users\\\\dn-83\\\\Documents\\\\bootcamp\\\\ML_proj\\\\_data\\\\Ames_Housing_Price_Data.csv', index_col=0)\n",
    "housing = housing.set_index('PID')\n",
    "housing.shape"
   ]
  },
  {
   "cell_type": "markdown",
   "id": "978a04b3",
   "metadata": {},
   "source": [
    "### Load Address Data"
   ]
  },
  {
   "cell_type": "code",
   "execution_count": 7,
   "id": "08e3f8f1",
   "metadata": {},
   "outputs": [
    {
     "name": "stderr",
     "output_type": "stream",
     "text": [
      "C:\\ProgramData\\Anaconda3\\lib\\site-packages\\IPython\\core\\interactiveshell.py:3165: DtypeWarning: Columns (36,40,81,87) have mixed types.Specify dtype option on import or set low_memory=False.\n",
      "  has_raised = await self.run_ast_nodes(code_ast.body, cell_name,\n"
     ]
    }
   ],
   "source": [
    "location = pd.read_csv('C:\\\\Users\\\\dn-83\\\\Documents\\\\bootcamp\\\\ML_proj\\\\_data\\\\Ames_Real_Estate_Data.csv', index_col=0)"
   ]
  },
  {
   "cell_type": "code",
   "execution_count": 5,
   "id": "db8af35d",
   "metadata": {},
   "outputs": [],
   "source": [
    "location = location[['Prop_Addr']]"
   ]
  },
  {
   "cell_type": "code",
   "execution_count": 9,
   "id": "91b4d083",
   "metadata": {},
   "outputs": [
    {
     "data": {
      "text/plain": [
       "Index(['GeoRefNo', 'Tier', 'Range', 'Prop_Addr', 'ZngCdPr', 'ZngCdSc',\n",
       "       'ZngOLPr', 'ZngOLSc', 'ClassPr_S', 'ClassSc_S', 'Legal_Pr', 'SchD_S',\n",
       "       'TxD_S', 'MA_Ownr1', 'MA_Ownr2', 'MA_Line1', 'MA_Line2', 'MA_City',\n",
       "       'MA_State', 'MA_Zip1', 'MA_Zip2', 'Rcrd_Yr', 'Rcrd_Mo', 'Inst1_No',\n",
       "       'Inst1_Yr', 'Inst1_Mo', 'Inst1TPr', 'LndAc_S', 'ImpAc_S', 'OthAc_S',\n",
       "       'TtlVal_AsrYr', 'ValType', 'X1TPr_D', 'X1TSc_D', 'X2TPr_D', 'X2TSc_D',\n",
       "       'X1TPr_S', 'X1TSc_S', 'X2TPr_S', 'X2TSc_S', 'LndAcX1S', 'ImpAcX1S',\n",
       "       'ImpAcX2S', 'HSTtl_D', 'MilVal_D', 'HSTtl_S', 'MilVal_S', 'AcreX_S1',\n",
       "       'AcreGr', 'AcreNt_S', 'Neighborhood', 'LotArea', 'ParType', 'BldgNo_S',\n",
       "       'DwlgNo_S', 'BldgType', 'YrBuilt', 'HouseStyle', 'Foundation',\n",
       "       'RoofMatl', 'Ext1', 'Ext2', 'MasVnrType', 'Heating', 'Central Air',\n",
       "       'GLA', 'TtlBsmtSF', 'TotRmsAbvGrd', 'Fireplaces', 'PoolArea',\n",
       "       'GarageType', 'GarYrBlt', 'Cars', 'GarageArea', 'YrSold_YYYY',\n",
       "       'MoSold_MM', 'SalePrice', 'SaleType', 'SaleCond', 'ParclRel', 'PA-Nmbr',\n",
       "       'PA-PreD', 'PA-Strt', 'PA-StSfx', 'PA-PostD', 'PA-UnTyp', 'PA-UntNo',\n",
       "       'Date', 'Source', 'NmbrBRs'],\n",
       "      dtype='object')"
      ]
     },
     "execution_count": 9,
     "metadata": {},
     "output_type": "execute_result"
    }
   ],
   "source": [
    "location.columns"
   ]
  },
  {
   "cell_type": "markdown",
   "id": "f26582f4",
   "metadata": {},
   "source": [
    "### Merge Address to House"
   ]
  },
  {
   "cell_type": "code",
   "execution_count": 62,
   "id": "14b7bf3f",
   "metadata": {},
   "outputs": [],
   "source": [
    "data = housing.merge(location, how='left', left_index=True, right_index=True)\n",
    "data.index.rename('PID', inplace=True)"
   ]
  },
  {
   "cell_type": "code",
   "execution_count": 63,
   "id": "3c010160",
   "metadata": {},
   "outputs": [],
   "source": [
    "data = data.drop_duplicates()"
   ]
  },
  {
   "cell_type": "code",
   "execution_count": 65,
   "id": "1e02df1f",
   "metadata": {},
   "outputs": [],
   "source": [
    "data.to_csv('C:\\\\Users\\\\dn-83\\\\Documents\\\\bootcamp\\\\ML_proj\\\\daniel\\\\All_Data.csv')"
   ]
  },
  {
   "cell_type": "code",
   "execution_count": null,
   "id": "75139f9a",
   "metadata": {},
   "outputs": [],
   "source": []
  }
 ],
 "metadata": {
  "kernelspec": {
   "display_name": "Python 3",
   "language": "python",
   "name": "python3"
  },
  "language_info": {
   "codemirror_mode": {
    "name": "ipython",
    "version": 3
   },
   "file_extension": ".py",
   "mimetype": "text/x-python",
   "name": "python",
   "nbconvert_exporter": "python",
   "pygments_lexer": "ipython3",
   "version": "3.8.8"
  }
 },
 "nbformat": 4,
 "nbformat_minor": 5
}
