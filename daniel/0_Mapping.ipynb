{
 "cells": [
  {
   "cell_type": "code",
   "execution_count": 111,
   "id": "567e2dde",
   "metadata": {},
   "outputs": [],
   "source": [
    "import pandas as pd\n",
    "import numpy as np\n",
    "import re\n",
    "\n",
    "from bokeh.plotting import figure\n",
    "from bokeh.tile_providers import get_provider, STAMEN_TONER, CARTODBPOSITRON_RETINA\n",
    "from bokeh.io import output_notebook, show"
   ]
  },
  {
   "cell_type": "markdown",
   "id": "5a6950ec",
   "metadata": {},
   "source": [
    "### For some reason bokeh maps uses Web Mercator coordinates"
   ]
  },
  {
   "cell_type": "code",
   "execution_count": 10,
   "id": "1a3129f9",
   "metadata": {},
   "outputs": [],
   "source": [
    "# Define function to switch from lat/long to mercator x/y coordinates\n",
    "def to_mercator(lat, lon):\n",
    "    \n",
    "    r_major = 6378137.000\n",
    "    x = r_major * np.radians(lon)\n",
    "    scale = x/lon\n",
    "    y = 180.0/np.pi * np.log(np.tan(np.pi/4.0 + \n",
    "        lat * (np.pi/180.0)/2.0)) * scale\n",
    "    return (x, y)"
   ]
  },
  {
   "cell_type": "code",
   "execution_count": 50,
   "id": "3d7d74ac",
   "metadata": {},
   "outputs": [],
   "source": [
    "# Ames, Iowa lat long, converted to mercator\n",
    "Ames_center = to_mercator(42.034534, -93.620369)"
   ]
  },
  {
   "cell_type": "code",
   "execution_count": 76,
   "id": "373c5409",
   "metadata": {},
   "outputs": [
    {
     "data": {
      "text/plain": [
       "(2624, 2)"
      ]
     },
     "execution_count": 76,
     "metadata": {},
     "output_type": "execute_result"
    }
   ],
   "source": [
    "geo = pd.read_csv('geodata.csv')\n",
    "geo.shape"
   ]
  },
  {
   "cell_type": "code",
   "execution_count": 77,
   "id": "80ebaf4a",
   "metadata": {},
   "outputs": [],
   "source": [
    "#list of house mercator coordinates\n",
    "x_merc = []\n",
    "y_merc = []\n",
    "\n",
    "for each in geo['lat_long']:\n",
    "    ll = re.sub(\"[^0-9.\\- ]\",\"\",each).split()\n",
    "    #if 0, append center of Ames (-10421771.804958373, 5166153.874296733)\n",
    "    if ll == ['0']:\n",
    "        x_merc.append(Ames_center[0])\n",
    "        y_merc.append(Ames_center[1])\n",
    "    else:\n",
    "        x, y = to_mercator(float(ll[0]),float(ll[1]))\n",
    "        x_merc.append(x)\n",
    "        y_merc.append(y)"
   ]
  },
  {
   "cell_type": "code",
   "execution_count": 78,
   "id": "4fa31ed2",
   "metadata": {},
   "outputs": [
    {
     "data": {
      "text/plain": [
       "2624"
      ]
     },
     "execution_count": 78,
     "metadata": {},
     "output_type": "execute_result"
    }
   ],
   "source": [
    "# concat to geo DataFrame\n",
    "len(x_merc)"
   ]
  },
  {
   "cell_type": "code",
   "execution_count": 82,
   "id": "beebfde0",
   "metadata": {},
   "outputs": [],
   "source": [
    "geo = pd.concat([geo, pd.Series(x_merc), pd.Series(y_merc)],axis=1).set_index('PID')"
   ]
  },
  {
   "cell_type": "code",
   "execution_count": 85,
   "id": "a8f92f58",
   "metadata": {},
   "outputs": [],
   "source": [
    "geo = geo.rename(columns={0:'x_merc',1:'y_merc'})"
   ]
  },
  {
   "cell_type": "code",
   "execution_count": 112,
   "id": "8b795e70",
   "metadata": {},
   "outputs": [],
   "source": [
    "background = get_provider(CARTODBPOSITRON_RETINA) #CARTODBPOSITRON_RETINA, STAMEN_TONER\n",
    "x_zoom = 7000\n",
    "y_zoom = 5000\n",
    "\n",
    "fig = figure(plot_width=1200, plot_height=800,\n",
    "             x_range=(Ames_center[0]-x_zoom, Ames_center[0]+y_zoom), \n",
    "             y_range=(Ames_center[1]-x_zoom, Ames_center[1]+y_zoom),\n",
    "             x_axis_type=\"mercator\", y_axis_type=\"mercator\")\n",
    "\n",
    "fig.circle(x=\"x_merc\", y=\"y_merc\",\n",
    "         size=4,\n",
    "         fill_color=\"orange\", line_color='dodgerblue',\n",
    "         fill_alpha=0.6,\n",
    "         source=geo)\n",
    "\n",
    "fig.add_tile(background)\n",
    "\n",
    "show(fig)"
   ]
  },
  {
   "cell_type": "code",
   "execution_count": null,
   "id": "e5080fd1",
   "metadata": {},
   "outputs": [],
   "source": []
  }
 ],
 "metadata": {
  "kernelspec": {
   "display_name": "Python 3",
   "language": "python",
   "name": "python3"
  },
  "language_info": {
   "codemirror_mode": {
    "name": "ipython",
    "version": 3
   },
   "file_extension": ".py",
   "mimetype": "text/x-python",
   "name": "python",
   "nbconvert_exporter": "python",
   "pygments_lexer": "ipython3",
   "version": "3.8.8"
  }
 },
 "nbformat": 4,
 "nbformat_minor": 5
}
