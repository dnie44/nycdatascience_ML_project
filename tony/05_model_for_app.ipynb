{
 "cells": [
  {
   "cell_type": "code",
   "execution_count": 303,
   "id": "190251af-70a9-4c58-93bd-ceb5c81e1c21",
   "metadata": {},
   "outputs": [],
   "source": [
    "import numpy as np\n",
    "import pandas as pd\n",
    "import matplotlib.pyplot as plt\n",
    "from sklearn.preprocessing import StandardScaler\n",
    "from sklearn.linear_model import Ridge, Lasso, ElasticNet, LinearRegression\n",
    "from sklearn.model_selection import train_test_split, GridSearchCV\n",
    "from sklearn.ensemble import RandomForestClassifier\n",
    "from sklearn.model_selection import KFold\n",
    "from catboost import CatBoostRegressor\n",
    "import sklearn.model_selection as ms\n",
    "from sklearn import ensemble\n",
    "from sklearn import metrics\n",
    "from sklearn import tree\n",
    "from sklearn.preprocessing import LabelEncoder\n",
    "from sklearn import svm\n",
    "import plotly.express as px\n",
    "import plotly.offline as pyo\n",
    "import plotly.graph_objs as go"
   ]
  },
  {
   "cell_type": "code",
   "execution_count": 304,
   "id": "adf77261-6ef8-4e0c-8cba-78327f12b061",
   "metadata": {},
   "outputs": [],
   "source": [
    "import warnings\n",
    "warnings.filterwarnings('ignore')"
   ]
  },
  {
   "cell_type": "code",
   "execution_count": 305,
   "id": "7685b62e-412c-46d3-b03f-b1feb592f7a0",
   "metadata": {},
   "outputs": [],
   "source": [
    "df = pd.read_csv('model_data.csv', index_col=0,low_memory=False)"
   ]
  },
  {
   "cell_type": "code",
   "execution_count": 306,
   "id": "fe801a3b-ad54-4029-8fd9-71059fa2688f",
   "metadata": {},
   "outputs": [],
   "source": [
    "df = df.fillna(0)\n",
    "df = df.sort_index(axis=1)\n",
    "# sort column names alphabetically"
   ]
  },
  {
   "cell_type": "code",
   "execution_count": 307,
   "id": "aed3ce97-26d6-44f8-a0ce-357618411e3d",
   "metadata": {},
   "outputs": [
    {
     "data": {
      "text/html": [
       "<div>\n",
       "<style scoped>\n",
       "    .dataframe tbody tr th:only-of-type {\n",
       "        vertical-align: middle;\n",
       "    }\n",
       "\n",
       "    .dataframe tbody tr th {\n",
       "        vertical-align: top;\n",
       "    }\n",
       "\n",
       "    .dataframe thead th {\n",
       "        text-align: right;\n",
       "    }\n",
       "</style>\n",
       "<table border=\"1\" class=\"dataframe\">\n",
       "  <thead>\n",
       "    <tr style=\"text-align: right;\">\n",
       "      <th></th>\n",
       "      <th>AllBathAbv</th>\n",
       "      <th>AllBathBsmt</th>\n",
       "      <th>BsmtCond</th>\n",
       "      <th>BsmtUnfSF</th>\n",
       "      <th>CentralAir</th>\n",
       "      <th>ExterQual</th>\n",
       "      <th>FireplaceQu</th>\n",
       "      <th>Foundation</th>\n",
       "      <th>GarageCars</th>\n",
       "      <th>GarageQual</th>\n",
       "      <th>GoodLivArea</th>\n",
       "      <th>HasPool</th>\n",
       "      <th>HeatingQC</th>\n",
       "      <th>KitchenQual</th>\n",
       "      <th>MSSubClass</th>\n",
       "      <th>Neighborhood</th>\n",
       "      <th>PavedDrive</th>\n",
       "      <th>PorchArea</th>\n",
       "      <th>SalePrice</th>\n",
       "      <th>YearBuilt</th>\n",
       "    </tr>\n",
       "    <tr>\n",
       "      <th>PID</th>\n",
       "      <th></th>\n",
       "      <th></th>\n",
       "      <th></th>\n",
       "      <th></th>\n",
       "      <th></th>\n",
       "      <th></th>\n",
       "      <th></th>\n",
       "      <th></th>\n",
       "      <th></th>\n",
       "      <th></th>\n",
       "      <th></th>\n",
       "      <th></th>\n",
       "      <th></th>\n",
       "      <th></th>\n",
       "      <th></th>\n",
       "      <th></th>\n",
       "      <th></th>\n",
       "      <th></th>\n",
       "      <th></th>\n",
       "      <th></th>\n",
       "    </tr>\n",
       "  </thead>\n",
       "  <tbody>\n",
       "    <tr>\n",
       "      <th>526301100</th>\n",
       "      <td>1.0</td>\n",
       "      <td>1.0</td>\n",
       "      <td>Gd</td>\n",
       "      <td>441.0</td>\n",
       "      <td>Y</td>\n",
       "      <td>TA</td>\n",
       "      <td>Gd</td>\n",
       "      <td>CBlock</td>\n",
       "      <td>2.0</td>\n",
       "      <td>TA</td>\n",
       "      <td>2295.0</td>\n",
       "      <td>0</td>\n",
       "      <td>Fa</td>\n",
       "      <td>TA</td>\n",
       "      <td>1Fl</td>\n",
       "      <td>NAmes</td>\n",
       "      <td>P</td>\n",
       "      <td>272</td>\n",
       "      <td>215000</td>\n",
       "      <td>1960</td>\n",
       "    </tr>\n",
       "    <tr>\n",
       "      <th>526302030</th>\n",
       "      <td>2.0</td>\n",
       "      <td>1.0</td>\n",
       "      <td>TA</td>\n",
       "      <td>171.0</td>\n",
       "      <td>Y</td>\n",
       "      <td>TA</td>\n",
       "      <td>None</td>\n",
       "      <td>CBlock</td>\n",
       "      <td>2.0</td>\n",
       "      <td>TA</td>\n",
       "      <td>2300.0</td>\n",
       "      <td>0</td>\n",
       "      <td>Gd</td>\n",
       "      <td>TA</td>\n",
       "      <td>1Fl</td>\n",
       "      <td>NAmes</td>\n",
       "      <td>Y</td>\n",
       "      <td>280</td>\n",
       "      <td>149900</td>\n",
       "      <td>1954</td>\n",
       "    </tr>\n",
       "    <tr>\n",
       "      <th>526302040</th>\n",
       "      <td>1.0</td>\n",
       "      <td>1.0</td>\n",
       "      <td>TA</td>\n",
       "      <td>235.0</td>\n",
       "      <td>Y</td>\n",
       "      <td>TA</td>\n",
       "      <td>TA</td>\n",
       "      <td>CBlock</td>\n",
       "      <td>1.0</td>\n",
       "      <td>TA</td>\n",
       "      <td>1797.0</td>\n",
       "      <td>0</td>\n",
       "      <td>TA</td>\n",
       "      <td>Gd</td>\n",
       "      <td>1Fl</td>\n",
       "      <td>NAmes</td>\n",
       "      <td>Y</td>\n",
       "      <td>280</td>\n",
       "      <td>157500</td>\n",
       "      <td>1956</td>\n",
       "    </tr>\n",
       "    <tr>\n",
       "      <th>526302110</th>\n",
       "      <td>1.0</td>\n",
       "      <td>0.0</td>\n",
       "      <td>Fa</td>\n",
       "      <td>318.0</td>\n",
       "      <td>Y</td>\n",
       "      <td>TA</td>\n",
       "      <td>None</td>\n",
       "      <td>CBlock</td>\n",
       "      <td>1.0</td>\n",
       "      <td>TA</td>\n",
       "      <td>1446.0</td>\n",
       "      <td>0</td>\n",
       "      <td>TA</td>\n",
       "      <td>TA</td>\n",
       "      <td>1Fl</td>\n",
       "      <td>NAmes</td>\n",
       "      <td>Y</td>\n",
       "      <td>0</td>\n",
       "      <td>124500</td>\n",
       "      <td>1956</td>\n",
       "    </tr>\n",
       "    <tr>\n",
       "      <th>526302120</th>\n",
       "      <td>1.5</td>\n",
       "      <td>0.0</td>\n",
       "      <td>TA</td>\n",
       "      <td>490.0</td>\n",
       "      <td>Y</td>\n",
       "      <td>TA</td>\n",
       "      <td>TA</td>\n",
       "      <td>CBlock</td>\n",
       "      <td>3.0</td>\n",
       "      <td>TA</td>\n",
       "      <td>2924.0</td>\n",
       "      <td>0</td>\n",
       "      <td>Fa</td>\n",
       "      <td>TA</td>\n",
       "      <td>1Fl</td>\n",
       "      <td>NAmes</td>\n",
       "      <td>Y</td>\n",
       "      <td>0</td>\n",
       "      <td>169000</td>\n",
       "      <td>1957</td>\n",
       "    </tr>\n",
       "  </tbody>\n",
       "</table>\n",
       "</div>"
      ],
      "text/plain": [
       "           AllBathAbv  AllBathBsmt BsmtCond  BsmtUnfSF CentralAir ExterQual  \\\n",
       "PID                                                                           \n",
       "526301100         1.0          1.0       Gd      441.0          Y        TA   \n",
       "526302030         2.0          1.0       TA      171.0          Y        TA   \n",
       "526302040         1.0          1.0       TA      235.0          Y        TA   \n",
       "526302110         1.0          0.0       Fa      318.0          Y        TA   \n",
       "526302120         1.5          0.0       TA      490.0          Y        TA   \n",
       "\n",
       "          FireplaceQu Foundation  GarageCars GarageQual  GoodLivArea  HasPool  \\\n",
       "PID                                                                             \n",
       "526301100          Gd     CBlock         2.0         TA       2295.0        0   \n",
       "526302030        None     CBlock         2.0         TA       2300.0        0   \n",
       "526302040          TA     CBlock         1.0         TA       1797.0        0   \n",
       "526302110        None     CBlock         1.0         TA       1446.0        0   \n",
       "526302120          TA     CBlock         3.0         TA       2924.0        0   \n",
       "\n",
       "          HeatingQC KitchenQual MSSubClass Neighborhood PavedDrive  PorchArea  \\\n",
       "PID                                                                             \n",
       "526301100        Fa          TA        1Fl        NAmes          P        272   \n",
       "526302030        Gd          TA        1Fl        NAmes          Y        280   \n",
       "526302040        TA          Gd        1Fl        NAmes          Y        280   \n",
       "526302110        TA          TA        1Fl        NAmes          Y          0   \n",
       "526302120        Fa          TA        1Fl        NAmes          Y          0   \n",
       "\n",
       "           SalePrice  YearBuilt  \n",
       "PID                              \n",
       "526301100     215000       1960  \n",
       "526302030     149900       1954  \n",
       "526302040     157500       1956  \n",
       "526302110     124500       1956  \n",
       "526302120     169000       1957  "
      ]
     },
     "execution_count": 307,
     "metadata": {},
     "output_type": "execute_result"
    }
   ],
   "source": [
    "df.head()"
   ]
  },
  {
   "cell_type": "code",
   "execution_count": 308,
   "id": "ba9fb9e0-98aa-47a2-a2a2-7b27dba74fa8",
   "metadata": {},
   "outputs": [],
   "source": [
    "dummies = pd.get_dummies(df[['AllBathBsmt','AllBathAbv','BsmtCond','CentralAir','ExterQual','FireplaceQu','Foundation',\n",
    "                          'GarageCars','GarageQual','HeatingQC', 'KitchenQual','MSSubClass','Neighborhood','PavedDrive']],drop_first=True)"
   ]
  },
  {
   "cell_type": "code",
   "execution_count": 309,
   "id": "17a7ebff-60ef-449d-9f1a-609bb6a107ef",
   "metadata": {},
   "outputs": [],
   "source": [
    "df_constants = df.drop(['AllBathBsmt','AllBathAbv','BsmtCond','CentralAir','ExterQual','FireplaceQu','Foundation',\n",
    "           'GarageCars','GarageQual','HeatingQC', 'KitchenQual','MSSubClass','Neighborhood','PavedDrive'],axis=1)"
   ]
  },
  {
   "cell_type": "code",
   "execution_count": 310,
   "id": "3cec9895-fc28-49c0-b29b-c7f3f0a44186",
   "metadata": {},
   "outputs": [],
   "source": [
    "X = pd.concat([dummies,df_constants],axis=1)\n",
    "y = X['SalePrice']\n",
    "X = X.drop(['SalePrice'],axis=1)"
   ]
  },
  {
   "cell_type": "code",
   "execution_count": 311,
   "id": "90d33cda-39ba-41d1-9507-f0277eb5829c",
   "metadata": {},
   "outputs": [
    {
     "name": "stdout",
     "output_type": "stream",
     "text": [
      "There is an equal number of rows\n"
     ]
    }
   ],
   "source": [
    "if len(X.index) == len(y.index):\n",
    "    print('There is an equal number of rows')\n",
    "else : print('Unequal rows')"
   ]
  },
  {
   "cell_type": "code",
   "execution_count": 312,
   "id": "3d607af2-afee-46fa-b62f-c2874ce3f4e4",
   "metadata": {},
   "outputs": [],
   "source": [
    "x_train, x_test, y_train, y_test = train_test_split(X, y, test_size = 0.25, random_state = 1)\n",
    "mlr = LinearRegression()"
   ]
  },
  {
   "cell_type": "code",
   "execution_count": 313,
   "id": "edeae247-e6fc-4034-84e7-d39e597abcba",
   "metadata": {},
   "outputs": [
    {
     "data": {
      "text/html": [
       "<div>\n",
       "<style scoped>\n",
       "    .dataframe tbody tr th:only-of-type {\n",
       "        vertical-align: middle;\n",
       "    }\n",
       "\n",
       "    .dataframe tbody tr th {\n",
       "        vertical-align: top;\n",
       "    }\n",
       "\n",
       "    .dataframe thead th {\n",
       "        text-align: right;\n",
       "    }\n",
       "</style>\n",
       "<table border=\"1\" class=\"dataframe\">\n",
       "  <thead>\n",
       "    <tr style=\"text-align: right;\">\n",
       "      <th></th>\n",
       "      <th>Actual value</th>\n",
       "      <th>Predicted value</th>\n",
       "    </tr>\n",
       "    <tr>\n",
       "      <th>PID</th>\n",
       "      <th></th>\n",
       "      <th></th>\n",
       "    </tr>\n",
       "  </thead>\n",
       "  <tbody>\n",
       "    <tr>\n",
       "      <th>535457010</th>\n",
       "      <td>160000</td>\n",
       "      <td>125439.244936</td>\n",
       "    </tr>\n",
       "    <tr>\n",
       "      <th>527401130</th>\n",
       "      <td>133000</td>\n",
       "      <td>130699.446467</td>\n",
       "    </tr>\n",
       "    <tr>\n",
       "      <th>907126030</th>\n",
       "      <td>155000</td>\n",
       "      <td>159889.002607</td>\n",
       "    </tr>\n",
       "    <tr>\n",
       "      <th>528315080</th>\n",
       "      <td>300000</td>\n",
       "      <td>298352.639583</td>\n",
       "    </tr>\n",
       "    <tr>\n",
       "      <th>535457040</th>\n",
       "      <td>141000</td>\n",
       "      <td>142521.520271</td>\n",
       "    </tr>\n",
       "  </tbody>\n",
       "</table>\n",
       "</div>"
      ],
      "text/plain": [
       "           Actual value  Predicted value\n",
       "PID                                     \n",
       "535457010        160000    125439.244936\n",
       "527401130        133000    130699.446467\n",
       "907126030        155000    159889.002607\n",
       "528315080        300000    298352.639583\n",
       "535457040        141000    142521.520271"
      ]
     },
     "execution_count": 313,
     "metadata": {},
     "output_type": "execute_result"
    }
   ],
   "source": [
    "mlr.fit(x_train,y_train)\n",
    "y_predict =  mlr.predict(x_test)\n",
    "mlr_diff = pd.DataFrame({'Actual value': y_test, 'Predicted value': y_predict})\n",
    "mlr_diff.head()"
   ]
  },
  {
   "cell_type": "code",
   "execution_count": 314,
   "id": "c276cbb9-46b3-4851-b7ee-9e31a9f5ad06",
   "metadata": {},
   "outputs": [
    {
     "name": "stdout",
     "output_type": "stream",
     "text": [
      "R squared: 88.82\n",
      "Mean Absolute Error: 17564.98321697658\n",
      "Mean Square Error: 763251297.2338201\n",
      "Root Mean Square Error: 27627.00304473542\n"
     ]
    }
   ],
   "source": [
    "meanAbErr = metrics.mean_absolute_error(y_test, y_predict)\n",
    "meanSqErr = metrics.mean_squared_error(y_test, y_predict)\n",
    "rootMeanSqErr = np.sqrt(metrics.mean_squared_error(y_test, y_predict))\n",
    "print('R squared: {:.2f}'.format(mlr.score(X,y) * 100))\n",
    "print('Mean Absolute Error:', meanAbErr)\n",
    "print('Mean Square Error:', meanSqErr)\n",
    "print('Root Mean Square Error:', rootMeanSqErr)"
   ]
  },
  {
   "cell_type": "markdown",
   "id": "3a525fbb-5b89-43c6-ae96-1934af15609e",
   "metadata": {},
   "source": [
    "<h2>Time to do CatBoost</h2>"
   ]
  },
  {
   "cell_type": "markdown",
   "id": "845aa075-0218-49a1-899e-1a44cc5e74d5",
   "metadata": {},
   "source": [
    "Label Encoding"
   ]
  },
  {
   "cell_type": "code",
   "execution_count": 315,
   "id": "ecf9448c-eb10-49ca-b678-1ddf5351d1ae",
   "metadata": {},
   "outputs": [
    {
     "data": {
      "text/plain": [
       "NAmes      410\n",
       "CollgCr    236\n",
       "OldTown    213\n",
       "Edwards    165\n",
       "Gilbert    143\n",
       "Somerst    143\n",
       "Sawyer     139\n",
       "NWAmes     123\n",
       "NridgHt    121\n",
       "SawyerW    113\n",
       "Mitchel    104\n",
       "BrkSide    103\n",
       "Crawfor     92\n",
       "IDOTRR      76\n",
       "NoRidge     67\n",
       "Timber      54\n",
       "StoneBr     43\n",
       "SWISU       42\n",
       "ClearCr     40\n",
       "MeadowV     34\n",
       "BrDale      29\n",
       "Veenker     23\n",
       "Blmngtn     23\n",
       "NPkVill     22\n",
       "Blueste     10\n",
       "Greens       8\n",
       "GrnHill      2\n",
       "Landmrk      1\n",
       "Name: Neighborhood, dtype: int64"
      ]
     },
     "execution_count": 315,
     "metadata": {},
     "output_type": "execute_result"
    }
   ],
   "source": [
    "df.Neighborhood.value_counts()"
   ]
  },
  {
   "cell_type": "code",
   "execution_count": 316,
   "id": "19a4d940-4709-4282-a5ff-0517d283c93d",
   "metadata": {},
   "outputs": [
    {
     "data": {
      "image/png": "[encoded data removed]",
      "text/plain": [
       "<Figure size 432x288 with 1 Axes>"
      ]
     },
     "metadata": {
      "needs_background": "light"
     },
     "output_type": "display_data"
    }
   ],
   "source": [
    "df.plot.scatter(x='MSSubClass',y='SalePrice');"
   ]
  },
  {
   "cell_type": "code",
   "execution_count": 317,
   "id": "b590b8fa-d664-4a5b-b60a-632d7cf14f5d",
   "metadata": {},
   "outputs": [],
   "source": [
    "df['CentralAir'] = df['CentralAir'].map(lambda x: 0 if x == 'N' else 1)\n",
    "\n",
    "df['Foundation'] = df['Foundation'].replace({'Wood':1,'Stone':2,'Slab':3,'BrkTil':4,'CBlock':5,'PConc':6})\n",
    "\n",
    "df['KitchenQual'] = df['KitchenQual'].replace({'Po': 'Fa'})\n",
    "df['KitchenQual'] = df['KitchenQual'].replace({'Fa':1,'TA':2,'Gd':3,'Ex':4})\n",
    "\n",
    "df['ExterQual'] = df['ExterQual'].replace({'Fa':1,'TA':2,'Gd':3,'Ex':4})\n",
    "\n",
    "df['FireplaceQu'] = df['FireplaceQu'].replace({'Po': 'Fa'})\n",
    "df['FireplaceQu'] = df['FireplaceQu'].replace({'None':0,'Fa':1,'TA':2,'Gd':3,'Ex':4})\n",
    "\n",
    "df['GarageQual'] = df['GarageQual'].replace({'Po': 'Fa','Ex':'Gd'})\n",
    "df['GarageQual'] = df['GarageQual'].replace({'None':0,'Fa':1,'TA':2,'Gd':3})\n",
    "\n",
    "df['BsmtCond'] = df['BsmtCond'].replace({'Po': 'Fa','Ex':'Gd'})\n",
    "df['BsmtCond'] = df['BsmtCond'].replace({'None':0,'Fa':1,'TA':2,'Gd':3})\n",
    "\n",
    "df['PavedDrive'] = df['PavedDrive'].replace({'P': 'Y'})\n",
    "df['PavedDrive'] = df['PavedDrive'].map(lambda x: 0 if x == 'N' else 1)\n",
    "\n",
    "df['HeatingQC'] = df['HeatingQC'].replace({'Fa':1,'TA':2,'Gd':3,'Ex':4})\n",
    "\n",
    "df['MSSubClass'] = df['MSSubClass'].replace({'DUP2FAM':1,'2FlPUD':2,'SPLIT':3,'1FlPUD':4,'1Fl': 5,'2Fl':6})\n",
    "#HasPool already exists"
   ]
  },
  {
   "cell_type": "code",
   "execution_count": 318,
   "id": "c185494c-d87f-4fca-a35a-e25942d9cf6a",
   "metadata": {},
   "outputs": [
    {
     "data": {
      "text/plain": [
       "5    1139\n",
       "6    1105\n",
       "4     278\n",
       "3      42\n",
       "2      10\n",
       "1       5\n",
       "Name: Foundation, dtype: int64"
      ]
     },
     "execution_count": 318,
     "metadata": {},
     "output_type": "execute_result"
    }
   ],
   "source": [
    "df.Foundation.value_counts()"
   ]
  },
  {
   "cell_type": "code",
   "execution_count": 324,
   "id": "b3057818-9e3a-4748-8f1c-300c6a5fd465",
   "metadata": {},
   "outputs": [
    {
     "ename": "KeyError",
     "evalue": "'SalePrice'",
     "output_type": "error",
     "traceback": [
      "\u001b[0;31m---------------------------------------------------------------------------\u001b[0m",
      "\u001b[0;31mKeyError\u001b[0m                                  Traceback (most recent call last)",
      "\u001b[0;32m/Library/Frameworks/Python.framework/Versions/3.8/lib/python3.8/site-packages/pandas/core/indexes/base.py\u001b[0m in \u001b[0;36mget_loc\u001b[0;34m(self, key, method, tolerance)\u001b[0m\n\u001b[1;32m   3079\u001b[0m             \u001b[0;32mtry\u001b[0m\u001b[0;34m:\u001b[0m\u001b[0;34m\u001b[0m\u001b[0;34m\u001b[0m\u001b[0m\n\u001b[0;32m-> 3080\u001b[0;31m                 \u001b[0;32mreturn\u001b[0m \u001b[0mself\u001b[0m\u001b[0;34m.\u001b[0m\u001b[0m_engine\u001b[0m\u001b[0;34m.\u001b[0m\u001b[0mget_loc\u001b[0m\u001b[0;34m(\u001b[0m\u001b[0mcasted_key\u001b[0m\u001b[0;34m)\u001b[0m\u001b[0;34m\u001b[0m\u001b[0;34m\u001b[0m\u001b[0m\n\u001b[0m\u001b[1;32m   3081\u001b[0m             \u001b[0;32mexcept\u001b[0m \u001b[0mKeyError\u001b[0m \u001b[0;32mas\u001b[0m \u001b[0merr\u001b[0m\u001b[0;34m:\u001b[0m\u001b[0;34m\u001b[0m\u001b[0;34m\u001b[0m\u001b[0m\n",
      "\u001b[0;32mpandas/_libs/index.pyx\u001b[0m in \u001b[0;36mpandas._libs.index.IndexEngine.get_loc\u001b[0;34m()\u001b[0m\n",
      "\u001b[0;32mpandas/_libs/index.pyx\u001b[0m in \u001b[0;36mpandas._libs.index.IndexEngine.get_loc\u001b[0;34m()\u001b[0m\n",
      "\u001b[0;32mpandas/_libs/hashtable_class_helper.pxi\u001b[0m in \u001b[0;36mpandas._libs.hashtable.PyObjectHashTable.get_item\u001b[0;34m()\u001b[0m\n",
      "\u001b[0;32mpandas/_libs/hashtable_class_helper.pxi\u001b[0m in \u001b[0;36mpandas._libs.hashtable.PyObjectHashTable.get_item\u001b[0;34m()\u001b[0m\n",
      "\u001b[0;31mKeyError\u001b[0m: 'SalePrice'",
      "\nThe above exception was the direct cause of the following exception:\n",
      "\u001b[0;31mKeyError\u001b[0m                                  Traceback (most recent call last)",
      "\u001b[0;32m/var/folders/7_/52b70_wn02gfcclzbcf1zkgr0000gn/T/ipykernel_73206/796202000.py\u001b[0m in \u001b[0;36m<module>\u001b[0;34m\u001b[0m\n\u001b[0;32m----> 1\u001b[0;31m \u001b[0my\u001b[0m \u001b[0;34m=\u001b[0m \u001b[0mdf\u001b[0m\u001b[0;34m[\u001b[0m\u001b[0;34m'SalePrice'\u001b[0m\u001b[0;34m]\u001b[0m\u001b[0;34m\u001b[0m\u001b[0;34m\u001b[0m\u001b[0m\n\u001b[0m\u001b[1;32m      2\u001b[0m \u001b[0mdf\u001b[0m \u001b[0;34m=\u001b[0m \u001b[0mdf\u001b[0m\u001b[0;34m.\u001b[0m\u001b[0mdrop\u001b[0m\u001b[0;34m(\u001b[0m\u001b[0;34m[\u001b[0m\u001b[0;34m'SalePrice'\u001b[0m\u001b[0;34m,\u001b[0m\u001b[0;34m'Neighborhood'\u001b[0m\u001b[0;34m]\u001b[0m\u001b[0;34m,\u001b[0m\u001b[0maxis\u001b[0m\u001b[0;34m=\u001b[0m\u001b[0;36m1\u001b[0m\u001b[0;34m)\u001b[0m\u001b[0;34m\u001b[0m\u001b[0;34m\u001b[0m\u001b[0m\n\u001b[1;32m      3\u001b[0m \u001b[0mX\u001b[0m \u001b[0;34m=\u001b[0m \u001b[0mdf\u001b[0m\u001b[0;34m\u001b[0m\u001b[0;34m\u001b[0m\u001b[0m\n",
      "\u001b[0;32m/Library/Frameworks/Python.framework/Versions/3.8/lib/python3.8/site-packages/pandas/core/frame.py\u001b[0m in \u001b[0;36m__getitem__\u001b[0;34m(self, key)\u001b[0m\n\u001b[1;32m   3022\u001b[0m             \u001b[0;32mif\u001b[0m \u001b[0mself\u001b[0m\u001b[0;34m.\u001b[0m\u001b[0mcolumns\u001b[0m\u001b[0;34m.\u001b[0m\u001b[0mnlevels\u001b[0m \u001b[0;34m>\u001b[0m \u001b[0;36m1\u001b[0m\u001b[0;34m:\u001b[0m\u001b[0;34m\u001b[0m\u001b[0;34m\u001b[0m\u001b[0m\n\u001b[1;32m   3023\u001b[0m                 \u001b[0;32mreturn\u001b[0m \u001b[0mself\u001b[0m\u001b[0;34m.\u001b[0m\u001b[0m_getitem_multilevel\u001b[0m\u001b[0;34m(\u001b[0m\u001b[0mkey\u001b[0m\u001b[0;34m)\u001b[0m\u001b[0;34m\u001b[0m\u001b[0;34m\u001b[0m\u001b[0m\n\u001b[0;32m-> 3024\u001b[0;31m             \u001b[0mindexer\u001b[0m \u001b[0;34m=\u001b[0m \u001b[0mself\u001b[0m\u001b[0;34m.\u001b[0m\u001b[0mcolumns\u001b[0m\u001b[0;34m.\u001b[0m\u001b[0mget_loc\u001b[0m\u001b[0;34m(\u001b[0m\u001b[0mkey\u001b[0m\u001b[0;34m)\u001b[0m\u001b[0;34m\u001b[0m\u001b[0;34m\u001b[0m\u001b[0m\n\u001b[0m\u001b[1;32m   3025\u001b[0m             \u001b[0;32mif\u001b[0m \u001b[0mis_integer\u001b[0m\u001b[0;34m(\u001b[0m\u001b[0mindexer\u001b[0m\u001b[0;34m)\u001b[0m\u001b[0;34m:\u001b[0m\u001b[0;34m\u001b[0m\u001b[0;34m\u001b[0m\u001b[0m\n\u001b[1;32m   3026\u001b[0m                 \u001b[0mindexer\u001b[0m \u001b[0;34m=\u001b[0m \u001b[0;34m[\u001b[0m\u001b[0mindexer\u001b[0m\u001b[0;34m]\u001b[0m\u001b[0;34m\u001b[0m\u001b[0;34m\u001b[0m\u001b[0m\n",
      "\u001b[0;32m/Library/Frameworks/Python.framework/Versions/3.8/lib/python3.8/site-packages/pandas/core/indexes/base.py\u001b[0m in \u001b[0;36mget_loc\u001b[0;34m(self, key, method, tolerance)\u001b[0m\n\u001b[1;32m   3080\u001b[0m                 \u001b[0;32mreturn\u001b[0m \u001b[0mself\u001b[0m\u001b[0;34m.\u001b[0m\u001b[0m_engine\u001b[0m\u001b[0;34m.\u001b[0m\u001b[0mget_loc\u001b[0m\u001b[0;34m(\u001b[0m\u001b[0mcasted_key\u001b[0m\u001b[0;34m)\u001b[0m\u001b[0;34m\u001b[0m\u001b[0;34m\u001b[0m\u001b[0m\n\u001b[1;32m   3081\u001b[0m             \u001b[0;32mexcept\u001b[0m \u001b[0mKeyError\u001b[0m \u001b[0;32mas\u001b[0m \u001b[0merr\u001b[0m\u001b[0;34m:\u001b[0m\u001b[0;34m\u001b[0m\u001b[0;34m\u001b[0m\u001b[0m\n\u001b[0;32m-> 3082\u001b[0;31m                 \u001b[0;32mraise\u001b[0m \u001b[0mKeyError\u001b[0m\u001b[0;34m(\u001b[0m\u001b[0mkey\u001b[0m\u001b[0;34m)\u001b[0m \u001b[0;32mfrom\u001b[0m \u001b[0merr\u001b[0m\u001b[0;34m\u001b[0m\u001b[0;34m\u001b[0m\u001b[0m\n\u001b[0m\u001b[1;32m   3083\u001b[0m \u001b[0;34m\u001b[0m\u001b[0m\n\u001b[1;32m   3084\u001b[0m         \u001b[0;32mif\u001b[0m \u001b[0mtolerance\u001b[0m \u001b[0;32mis\u001b[0m \u001b[0;32mnot\u001b[0m \u001b[0;32mNone\u001b[0m\u001b[0;34m:\u001b[0m\u001b[0;34m\u001b[0m\u001b[0;34m\u001b[0m\u001b[0m\n",
      "\u001b[0;31mKeyError\u001b[0m: 'SalePrice'"
     ]
    }
   ],
   "source": [
    "y = df['SalePrice']\n",
    "df = df.drop(['SalePrice','Neighborhood'],axis=1)\n",
    "X = df"
   ]
  },
  {
   "cell_type": "code",
   "execution_count": 330,
   "id": "2e7132b2-2cd5-417f-bc58-1e53230b550b",
   "metadata": {},
   "outputs": [],
   "source": [
    "x_train, x_test, y_train, y_test = train_test_split(X, y, test_size = 0.15, random_state = 1)"
   ]
  },
  {
   "cell_type": "code",
   "execution_count": 334,
   "id": "2afffb81-422b-4546-8826-5c65cf086410",
   "metadata": {},
   "outputs": [],
   "source": [
    "model = CatBoostRegressor(metric_period=100)"
   ]
  },
  {
   "cell_type": "code",
   "execution_count": 336,
   "id": "17ce7475-f935-4953-b61c-7e7c122c8447",
   "metadata": {},
   "outputs": [
    {
     "name": "stdout",
     "output_type": "stream",
     "text": [
      "Learning rate set to 0.046348\n",
      "0:\tlearn: 72541.2121126\ttotal: 1.26ms\tremaining: 1.26s\n",
      "100:\tlearn: 22943.0531262\ttotal: 103ms\tremaining: 919ms\n",
      "200:\tlearn: 20039.4181381\ttotal: 189ms\tremaining: 753ms\n",
      "300:\tlearn: 18198.5179595\ttotal: 271ms\tremaining: 629ms\n",
      "400:\tlearn: 16734.1207859\ttotal: 354ms\tremaining: 529ms\n",
      "500:\tlearn: 15524.2632512\ttotal: 439ms\tremaining: 437ms\n",
      "600:\tlearn: 14551.5182343\ttotal: 517ms\tremaining: 343ms\n",
      "700:\tlearn: 13660.6761125\ttotal: 598ms\tremaining: 255ms\n",
      "800:\tlearn: 12885.9516962\ttotal: 676ms\tremaining: 168ms\n",
      "900:\tlearn: 12270.8127980\ttotal: 754ms\tremaining: 82.9ms\n",
      "999:\tlearn: 11707.0037080\ttotal: 827ms\tremaining: 0us\n",
      "The training r2: 0.97559\n",
      "The test     r2: 0.90309\n"
     ]
    }
   ],
   "source": [
    "model.fit(x_train, y_train)\n",
    "print(\"The training r2: %.5f\" % (model.score(x_train, y_train)))\n",
    "print(\"The test     r2: %.5f\" % (model.score(x_test, y_test)))"
   ]
  }
 ],
 "metadata": {
  "kernelspec": {
   "display_name": "Python 3 (ipykernel)",
   "language": "python",
   "name": "python3"
  },
  "language_info": {
   "codemirror_mode": {
    "name": "ipython",
    "version": 3
   },
   "file_extension": ".py",
   "mimetype": "text/x-python",
   "name": "python",
   "nbconvert_exporter": "python",
   "pygments_lexer": "ipython3",
   "version": "3.8.10"
  }
 },
 "nbformat": 4,
 "nbformat_minor": 5
}
