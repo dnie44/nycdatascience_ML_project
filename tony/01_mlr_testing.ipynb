{
 "cells": [
  {
   "cell_type": "code",
   "execution_count": 348,
   "id": "00be120d-cba4-4e58-beb7-85090ed76b53",
   "metadata": {},
   "outputs": [],
   "source": [
    "import numpy as np\n",
    "import pandas as pd\n",
    "import seaborn as sns \n",
    "import matplotlib.pyplot as plt\n",
    "from sklearn.preprocessing import StandardScaler\n",
    "from sklearn import metrics\n",
    "from sklearn.metrics import r2_score\n",
    "from sklearn.preprocessing import MaxAbsScaler\n",
    "from sklearn.linear_model import Ridge\n",
    "from sklearn.linear_model import LogisticRegression\n",
    "from sklearn.model_selection import train_test_split\n",
    "from sklearn.model_selection import GridSearchCV\n",
    "from sklearn import linear_model\n",
    "from sklearn.linear_model import Ridge, Lasso, ElasticNet, LinearRegression"
   ]
  },
  {
   "cell_type": "code",
   "execution_count": 349,
   "id": "6a5c525b-9e5a-4816-902f-40f21099c84b",
   "metadata": {},
   "outputs": [],
   "source": [
    "import warnings\n",
    "warnings.filterwarnings('ignore')"
   ]
  },
  {
   "cell_type": "code",
   "execution_count": 350,
   "id": "c1afa719-279f-490b-8ca1-c308eac7a850",
   "metadata": {},
   "outputs": [],
   "source": [
    "ah = pd.read_csv('Ames_Housing_Price_Data.csv', index_col=0,low_memory=False)"
   ]
  },
  {
   "cell_type": "code",
   "execution_count": 351,
   "id": "df767216-31f7-4c49-a0b0-5d4feb9905b3",
   "metadata": {},
   "outputs": [],
   "source": [
    "myVars = ah[['Fireplaces','EnclosedPorch','3SsnPorch','ScreenPorch','Fence',\n",
    "             'MiscFeature','MiscVal','MSSubClass','LotShape','LotConfig','Street',\n",
    "             'Alley','Functional','Utilities','Heating','HeatingQC','CentralAir','Electrical','SalePrice']]"
   ]
  },
  {
   "cell_type": "code",
   "execution_count": 352,
   "id": "57f6790a-fb06-4220-9832-a25ae3196b70",
   "metadata": {},
   "outputs": [],
   "source": [
    "# features = ah[['Fireplaces','Utilities','Heating','HeatingQC','CentralAir','Electrical','SalePrice','Alley','Fence','ScreenPorch','PoolQC','MSSubClass']]\n",
    "features = ah[['LotShape']]"
   ]
  },
  {
   "cell_type": "code",
   "execution_count": 353,
   "id": "67399778-0d0e-478e-a3d9-40add59e9db7",
   "metadata": {},
   "outputs": [],
   "source": [
    "# dummies = pd.get_dummies(features[['Utilities','Heating','HeatingQC','CentralAir','Electrical','Alley','Fence','PoolQC']],drop_first=True)\n",
    "dummies = pd.get_dummies(features[['LotShape']])\n",
    "# features = features.drop(['Utilities','Heating','HeatingQC','CentralAir','Electrical','Alley','SalePrice','Fence','PoolQC'],axis=1)\n",
    "features = features.drop(['LotShape'],axis=1)"
   ]
  },
  {
   "cell_type": "markdown",
   "id": "2a4ede72-c19e-4ec0-80ad-e3a3691078e4",
   "metadata": {},
   "source": [
    "<h4>Define Variables</h4>"
   ]
  },
  {
   "cell_type": "code",
   "execution_count": 354,
   "id": "238a78e4-f603-47c4-9cdf-0db50d3291ec",
   "metadata": {},
   "outputs": [],
   "source": [
    "x = pd.concat([features,dummies],axis=1)\n",
    "y = ah['SalePrice']"
   ]
  },
  {
   "cell_type": "markdown",
   "id": "e03873ce-e4d1-4d4a-88c0-d1c428b6f670",
   "metadata": {},
   "source": [
    "<h4>Split Train Test</h4>"
   ]
  },
  {
   "cell_type": "code",
   "execution_count": 355,
   "id": "6b81001b-655c-462a-8c62-3b4e9d8442d9",
   "metadata": {},
   "outputs": [],
   "source": [
    "x_train, x_test, y_train, y_test = train_test_split(x, y, test_size= 0.3, random_state=100)"
   ]
  },
  {
   "cell_type": "code",
   "execution_count": 356,
   "id": "070d5fa6-c96f-4392-ad01-f09754c3dab2",
   "metadata": {},
   "outputs": [
    {
     "data": {
      "text/plain": [
       "LinearRegression()"
      ]
     },
     "execution_count": 356,
     "metadata": {},
     "output_type": "execute_result"
    }
   ],
   "source": [
    "mlr = LinearRegression()\n",
    "mlr.fit(x_train,y_train)"
   ]
  },
  {
   "cell_type": "code",
   "execution_count": 357,
   "id": "e037c271-b15f-41c0-9f63-032d261a1b50",
   "metadata": {},
   "outputs": [],
   "source": [
    "# \"Intercept: \", mlr.intercept_\n",
    "# \"Coefficients:\"\n",
    "# list(zip(x, mlr.coef_))"
   ]
  },
  {
   "cell_type": "code",
   "execution_count": 358,
   "id": "21dbbe95-36d9-434b-b06e-ce73b9b6d477",
   "metadata": {},
   "outputs": [],
   "source": [
    "y_pred_mlr =  mlr.predict(x_test)"
   ]
  },
  {
   "cell_type": "code",
   "execution_count": 359,
   "id": "af6f60fd-fd9e-4867-b772-c06f94250407",
   "metadata": {},
   "outputs": [
    {
     "data": {
      "text/html": [
       "<div>\n",
       "<style scoped>\n",
       "    .dataframe tbody tr th:only-of-type {\n",
       "        vertical-align: middle;\n",
       "    }\n",
       "\n",
       "    .dataframe tbody tr th {\n",
       "        vertical-align: top;\n",
       "    }\n",
       "\n",
       "    .dataframe thead th {\n",
       "        text-align: right;\n",
       "    }\n",
       "</style>\n",
       "<table border=\"1\" class=\"dataframe\">\n",
       "  <thead>\n",
       "    <tr style=\"text-align: right;\">\n",
       "      <th></th>\n",
       "      <th>Actual value</th>\n",
       "      <th>Predicted value</th>\n",
       "    </tr>\n",
       "  </thead>\n",
       "  <tbody>\n",
       "    <tr>\n",
       "      <th>200</th>\n",
       "      <td>182900</td>\n",
       "      <td>203392.0</td>\n",
       "    </tr>\n",
       "    <tr>\n",
       "      <th>167</th>\n",
       "      <td>96000</td>\n",
       "      <td>159552.0</td>\n",
       "    </tr>\n",
       "    <tr>\n",
       "      <th>504</th>\n",
       "      <td>160000</td>\n",
       "      <td>159552.0</td>\n",
       "    </tr>\n",
       "    <tr>\n",
       "      <th>66</th>\n",
       "      <td>615000</td>\n",
       "      <td>159552.0</td>\n",
       "    </tr>\n",
       "    <tr>\n",
       "      <th>346</th>\n",
       "      <td>215000</td>\n",
       "      <td>203392.0</td>\n",
       "    </tr>\n",
       "  </tbody>\n",
       "</table>\n",
       "</div>"
      ],
      "text/plain": [
       "     Actual value  Predicted value\n",
       "200        182900         203392.0\n",
       "167         96000         159552.0\n",
       "504        160000         159552.0\n",
       "66         615000         159552.0\n",
       "346        215000         203392.0"
      ]
     },
     "execution_count": 359,
     "metadata": {},
     "output_type": "execute_result"
    }
   ],
   "source": [
    "mlr_diff = pd.DataFrame({'Actual value': y_test, 'Predicted value': y_pred_mlr})\n",
    "mlr_diff.head()"
   ]
  },
  {
   "cell_type": "code",
   "execution_count": 360,
   "id": "f0557879-9ed8-4356-b1aa-e40bed1cee8e",
   "metadata": {},
   "outputs": [
    {
     "name": "stdout",
     "output_type": "stream",
     "text": [
      "R squared: 9.32\n",
      "Mean Absolute Error: 51480.46124031008\n",
      "Mean Square Error: 5717862007.670543\n",
      "Root Mean Square Error: 75616.54585916063\n"
     ]
    }
   ],
   "source": [
    "meanAbErr = metrics.mean_absolute_error(y_test, y_pred_mlr)\n",
    "meanSqErr = metrics.mean_squared_error(y_test, y_pred_mlr)\n",
    "rootMeanSqErr = np.sqrt(metrics.mean_squared_error(y_test, y_pred_mlr))\n",
    "print('R squared: {:.2f}'.format(mlr.score(x,y)*100))\n",
    "print('Mean Absolute Error:', meanAbErr)\n",
    "print('Mean Square Error:', meanSqErr)\n",
    "print('Root Mean Square Error:', rootMeanSqErr)"
   ]
  },
  {
   "cell_type": "code",
   "execution_count": 361,
   "id": "75712c13-2f93-4cb5-824a-315192729888",
   "metadata": {},
   "outputs": [],
   "source": [
    "# Results from just 'Fireplaces'\n",
    "# R squared: 23.81\n",
    "# Mean Absolute Error: 48224.17785966623\n",
    "# Mean Square Error: 4723180133.635172\n",
    "# Root Mean Square Error: 68725.39656950094"
   ]
  },
  {
   "cell_type": "code",
   "execution_count": null,
   "id": "393bf1ed-bb83-458d-a1b6-d401ef727a9c",
   "metadata": {},
   "outputs": [],
   "source": [
    "# Results from just 'MSSubClass'\n",
    "# R squared: 24.21\n",
    "# Mean Absolute Error: 48045.37696035882\n",
    "# Mean Square Error: 4672289613.9409\n",
    "# Root Mean Square Error: 68354.14847645239"
   ]
  },
  {
   "cell_type": "code",
   "execution_count": 242,
   "id": "3212231c-0f43-4490-83a0-9df25ade13ee",
   "metadata": {},
   "outputs": [],
   "source": [
    "# Results from: 'Fireplaces','Utilities','Heating','HeatingQC','CentralAir','Electrical','SalePrice','Alley'\n",
    "# R squared: 40.36\n",
    "# Mean Absolute Error: 42388.19874049986\n",
    "# Mean Square Error: 3818851259.0389104\n",
    "# Root Mean Square Error: 61796.854766556775"
   ]
  },
  {
   "cell_type": "code",
   "execution_count": null,
   "id": "e7460752-536e-4584-b4dd-8294c38b65d3",
   "metadata": {},
   "outputs": [],
   "source": [
    "# features = ah[['Fireplaces','Utilities','Heating','HeatingQC','CentralAir','Electrical','SalePrice','Alley','Fence','ScreenPorch','PoolQC','MSSubClass']]\n",
    "# R squared: 42.25\n",
    "# Mean Absolute Error: 40955.979184589036\n",
    "# Mean Square Error: 3632556779.3921137\n",
    "# Root Mean Square Error: 60270.69585953122"
   ]
  },
  {
   "cell_type": "code",
   "execution_count": null,
   "id": "f8822c2b-fd00-44e5-96c6-5d5db184f3f8",
   "metadata": {},
   "outputs": [],
   "source": []
  }
 ],
 "metadata": {
  "kernelspec": {
   "display_name": "Python 3 (ipykernel)",
   "language": "python",
   "name": "python3"
  },
  "language_info": {
   "codemirror_mode": {
    "name": "ipython",
    "version": 3
   },
   "file_extension": ".py",
   "mimetype": "text/x-python",
   "name": "python",
   "nbconvert_exporter": "python",
   "pygments_lexer": "ipython3",
   "version": "3.8.10"
  }
 },
 "nbformat": 4,
 "nbformat_minor": 5
}
