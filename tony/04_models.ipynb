{
 "cells": [
  {
   "cell_type": "code",
   "execution_count": 241,
   "id": "6994e32c-15f6-4118-b019-d415c8b5f8aa",
   "metadata": {},
   "outputs": [],
   "source": [
    "import numpy as np\n",
    "import pandas as pd\n",
    "import matplotlib.pyplot as plt\n",
    "from sklearn.preprocessing import StandardScaler\n",
    "from sklearn.linear_model import Ridge, Lasso, ElasticNet, LinearRegression\n",
    "from statsmodels.stats.outliers_influence import variance_inflation_factor\n",
    "from sklearn.model_selection import train_test_split, GridSearchCV\n",
    "from sklearn.ensemble import RandomForestClassifier\n",
    "from sklearn.model_selection import KFold\n",
    "import sklearn.model_selection as ms\n",
    "from sklearn import ensemble\n",
    "from sklearn import metrics\n",
    "from sklearn import tree\n",
    "from sklearn.preprocessing import LabelEncoder\n",
    "from sklearn import svm"
   ]
  },
  {
   "cell_type": "code",
   "execution_count": 242,
   "id": "4b069429-66bb-4fc7-8119-055ec2e90323",
   "metadata": {},
   "outputs": [],
   "source": [
    "import warnings\n",
    "warnings.filterwarnings('ignore')"
   ]
  },
  {
   "cell_type": "code",
   "execution_count": 243,
   "id": "c62b437d-a409-420a-891a-54ab17cc0401",
   "metadata": {},
   "outputs": [],
   "source": [
    "ah = pd.read_csv('Ames_Housing_Price_Data.csv', index_col=0,low_memory=False)"
   ]
  },
  {
   "cell_type": "markdown",
   "id": "3539dc72-fb0b-42a6-bf04-4daa5a957dee",
   "metadata": {},
   "source": [
    "<h1>01: Cleaning</h1>"
   ]
  },
  {
   "cell_type": "code",
   "execution_count": 244,
   "id": "ca985ccd-1633-4c3a-85e8-ece094f4250f",
   "metadata": {},
   "outputs": [],
   "source": [
    "ah = ah.fillna(0)"
   ]
  },
  {
   "cell_type": "code",
   "execution_count": 245,
   "id": "18a28780-54a8-4ca2-bfc4-78bd7df34274",
   "metadata": {},
   "outputs": [],
   "source": [
    "hoods = ah['Neighborhood']\n",
    "new_hoods = []\n",
    "\n",
    "for neigh in hoods :\n",
    "    if neigh == 'Blueste' :\n",
    "        new_hoods.append('SW')\n",
    "    elif neigh == 'Blmngtn' :\n",
    "        new_hoods.append('NO')\n",
    "    elif neigh == 'BrDale' :\n",
    "        new_hoods.append('NO')\n",
    "    elif neigh == 'BrkSide' :\n",
    "        new_hoods.append('DT')\n",
    "    elif neigh == 'ClearCr' :\n",
    "        new_hoods.append('NO')\n",
    "    elif neigh == 'CollgCr' :\n",
    "        new_hoods.append('SW')\n",
    "    elif neigh == 'Crawfor' :\n",
    "        new_hoods.append('SW')\n",
    "    elif neigh == 'Edwards' :\n",
    "        new_hoods.append('SW')\n",
    "    elif neigh == 'Gilbert' :\n",
    "        new_hoods.append('NO')\n",
    "    elif neigh == 'IDOTRR' :\n",
    "        new_hoods.append('DT')\n",
    "    elif neigh == 'MeadowV' :\n",
    "        new_hoods.append('SE')\n",
    "    elif neigh == 'Mitchel' :\n",
    "        new_hoods.append('SE')\n",
    "    elif neigh == 'NAmes' :\n",
    "        new_hoods.append('NO')\n",
    "    elif neigh == 'NoRidge' :\n",
    "        new_hoods.append('NW')\n",
    "    elif neigh == 'NPkVill' :\n",
    "        new_hoods.append('NO')\n",
    "    elif neigh == 'NridgHt' :\n",
    "        new_hoods.append('NW')\n",
    "    elif neigh == 'NWAmes' :\n",
    "        new_hoods.append('NO')\n",
    "    elif neigh == 'OldTown' :\n",
    "        new_hoods.append('DT')\n",
    "    elif neigh == 'SWISU' :\n",
    "        new_hoods.append('SW')\n",
    "    elif neigh == 'Sawyer' :\n",
    "        new_hoods.append('NW')\n",
    "    elif neigh == 'SawyerW' :\n",
    "        new_hoods.append('NW')\n",
    "    elif neigh == 'Somerst' :\n",
    "        new_hoods.append('NW')\n",
    "    elif neigh == 'StoneBr' :\n",
    "        new_hoods.append('NO')\n",
    "    elif neigh == 'Timber' :\n",
    "        new_hoods.append('SW')\n",
    "    elif neigh == 'Veenker' :\n",
    "        new_hoods.append('NW')\n",
    "    elif neigh == 'Greens' :\n",
    "        new_hoods.append('NW')\n",
    "    elif neigh == 'GrnHill' :\n",
    "        new_hoods.append('SO')\n",
    "    elif neigh == 'Landmrk' :\n",
    "        new_hoods.append('DT')\n",
    "    else : print('no match')\n",
    "\n",
    "ah['city_sec'] = new_hoods "
   ]
  },
  {
   "cell_type": "code",
   "execution_count": 246,
   "id": "cd5c3490-c8e5-4c71-bb16-9bdd252a3192",
   "metadata": {},
   "outputs": [],
   "source": [
    "df_float = ah.select_dtypes(include='float')\n",
    "df_float_to_int = df_float.astype(int)"
   ]
  },
  {
   "cell_type": "markdown",
   "id": "60f27b61-8829-4daa-b834-4d9580762e1e",
   "metadata": {},
   "source": [
    "<h5>❤️ Divide data into categorical and numerical, then check if those columns are equal</h5>"
   ]
  },
  {
   "cell_type": "code",
   "execution_count": 247,
   "id": "6635e12c-f81e-4838-8944-b45fae313567",
   "metadata": {},
   "outputs": [
    {
     "name": "stdout",
     "output_type": "stream",
     "text": [
      "There are 0 missing columns\n",
      "There is an equal number of rows\n"
     ]
    }
   ],
   "source": [
    "df_numerical = ah.select_dtypes(include='int64')\n",
    "df_numerical = pd.concat([df_numerical,df_float_to_int],axis=1)\n",
    "df_categorical = ah.select_dtypes(include='object')\n",
    "print('There are',len(ah.columns) - (len(df_categorical.columns) + len(df_numerical.columns)),'missing columns')\n",
    "if len(df_categorical.index) == len(df_numerical.index):\n",
    "    print('There is an equal number of rows')\n",
    "else : print('Unequal rows')\n",
    "#82 columns total"
   ]
  },
  {
   "cell_type": "code",
   "execution_count": 287,
   "id": "6887b835-63ab-49ef-b649-ba3b624bee53",
   "metadata": {},
   "outputs": [],
   "source": [
    "dummies = pd.get_dummies(df_categorical,drop_first=True)\n",
    "x = pd.concat([df_numerical,dummies],axis=1)\n",
    "y = df_numerical['SalePrice']\n",
    "# x = x.drop(columns=['SalePrice','1stFlrSF','2ndFlrSF','LowQualFinSF','BsmtFinSF1','BsmtFinSF2','MSZoning_I (all)',\n",
    "#                     'Neighborhood_Blueste','Exterior2nd_PreCast','BsmtQual_Po','Electrical_SBrkr','MiscFeature_TenC','city_sec_SO',\n",
    "#                    'GarageQual_Po','BsmtCond_Fa','GarageCond_Fa','Neighborhood_Greens','BsmtFinType2_BLQ','city_sec_NW',\n",
    "#                    'Neighborhood_MeadowV','city_sec_SE','SaleCondition_Partial','city_sec_NO'])\n"
   ]
  },
  {
   "cell_type": "markdown",
   "id": "1b967b09-70c6-4265-97ee-7daff1527785",
   "metadata": {},
   "source": [
    "<h1>02: Multiple Linear Regression</h1>"
   ]
  },
  {
   "cell_type": "code",
   "execution_count": 288,
   "id": "2095e592-8c65-4845-8690-d64ce5e290e8",
   "metadata": {},
   "outputs": [],
   "source": [
    "x_train, x_test, y_train, y_test = train_test_split(x, y, test_size = 0.15, random_state = 2)\n",
    "mlr = LinearRegression()"
   ]
  },
  {
   "cell_type": "code",
   "execution_count": 289,
   "id": "33c3327e-acf7-4eb6-ae17-2383824ef90b",
   "metadata": {},
   "outputs": [
    {
     "data": {
      "text/html": [
       "<div>\n",
       "<style scoped>\n",
       "    .dataframe tbody tr th:only-of-type {\n",
       "        vertical-align: middle;\n",
       "    }\n",
       "\n",
       "    .dataframe tbody tr th {\n",
       "        vertical-align: top;\n",
       "    }\n",
       "\n",
       "    .dataframe thead th {\n",
       "        text-align: right;\n",
       "    }\n",
       "</style>\n",
       "<table border=\"1\" class=\"dataframe\">\n",
       "  <thead>\n",
       "    <tr style=\"text-align: right;\">\n",
       "      <th></th>\n",
       "      <th>Actual value</th>\n",
       "      <th>Predicted value</th>\n",
       "    </tr>\n",
       "  </thead>\n",
       "  <tbody>\n",
       "    <tr>\n",
       "      <th>476</th>\n",
       "      <td>124900</td>\n",
       "      <td>158646.194583</td>\n",
       "    </tr>\n",
       "    <tr>\n",
       "      <th>516</th>\n",
       "      <td>129850</td>\n",
       "      <td>164535.996360</td>\n",
       "    </tr>\n",
       "    <tr>\n",
       "      <th>627</th>\n",
       "      <td>137000</td>\n",
       "      <td>135807.306980</td>\n",
       "    </tr>\n",
       "    <tr>\n",
       "      <th>719</th>\n",
       "      <td>118000</td>\n",
       "      <td>110043.703072</td>\n",
       "    </tr>\n",
       "    <tr>\n",
       "      <th>640</th>\n",
       "      <td>75190</td>\n",
       "      <td>66103.629190</td>\n",
       "    </tr>\n",
       "  </tbody>\n",
       "</table>\n",
       "</div>"
      ],
      "text/plain": [
       "     Actual value  Predicted value\n",
       "476        124900    158646.194583\n",
       "516        129850    164535.996360\n",
       "627        137000    135807.306980\n",
       "719        118000    110043.703072\n",
       "640         75190     66103.629190"
      ]
     },
     "execution_count": 289,
     "metadata": {},
     "output_type": "execute_result"
    }
   ],
   "source": [
    "mlr.fit(x_train,y_train)\n",
    "y_predict =  mlr.predict(x_test)\n",
    "mlr_diff = pd.DataFrame({'Actual value': y_test, 'Predicted value': y_predict})\n",
    "mlr_diff.head()"
   ]
  },
  {
   "cell_type": "code",
   "execution_count": 290,
   "id": "aa39aa92-b9dc-4269-ae5c-c5ae1b3606c0",
   "metadata": {},
   "outputs": [
    {
     "name": "stdout",
     "output_type": "stream",
     "text": [
      "R squared: 93.48\n",
      "Mean Absolute Error: 14959.213412373652\n",
      "Mean Square Error: 591852005.3151277\n",
      "Root Mean Square Error: 24328.008659056493\n"
     ]
    }
   ],
   "source": [
    "meanAbErr = metrics.mean_absolute_error(y_test, y_predict)\n",
    "meanSqErr = metrics.mean_squared_error(y_test, y_predict)\n",
    "rootMeanSqErr = np.sqrt(metrics.mean_squared_error(y_test, y_predict))\n",
    "print('R squared: {:.2f}'.format(mlr.score(x,y) * 100))\n",
    "print('Mean Absolute Error:', meanAbErr)\n",
    "print('Mean Square Error:', meanSqErr)\n",
    "print('Root Mean Square Error:', rootMeanSqErr)"
   ]
  },
  {
   "cell_type": "code",
   "execution_count": 291,
   "id": "1723f47b-490f-4807-860e-f4ca5f11f712",
   "metadata": {},
   "outputs": [],
   "source": [
    "vif = pd.DataFrame()\n",
    "vif['var'] = x_train.columns\n",
    "vif['VIF'] = [variance_inflation_factor(x_train.values, i) for i in range(x_train.shape[1])]"
   ]
  },
  {
   "cell_type": "code",
   "execution_count": 301,
   "id": "c02e1773-0d6e-4986-b466-9668e740d905",
   "metadata": {},
   "outputs": [
    {
     "data": {
      "text/plain": [
       "1                 GrLivArea\n",
       "2                MSSubClass\n",
       "3                   LotArea\n",
       "4               OverallQual\n",
       "5               OverallCond\n",
       "               ...         \n",
       "230               PoolQC_Gd\n",
       "231               PoolQC_TA\n",
       "247            SaleType_WD \n",
       "251    SaleCondition_Normal\n",
       "252             city_sec_SW\n",
       "Name: var, Length: 136, dtype: object"
      ]
     },
     "execution_count": 301,
     "metadata": {},
     "output_type": "execute_result"
    }
   ],
   "source": [
    "inf = vif['VIF'] > 5\n",
    "vifs = vif.loc[inf]\n",
    "vifs['var']"
   ]
  },
  {
   "cell_type": "code",
   "execution_count": null,
   "id": "6da996bb-80bd-4759-b3d0-014dd0d491ff",
   "metadata": {},
   "outputs": [],
   "source": []
  }
 ],
 "metadata": {
  "kernelspec": {
   "display_name": "Python 3 (ipykernel)",
   "language": "python",
   "name": "python3"
  },
  "language_info": {
   "codemirror_mode": {
    "name": "ipython",
    "version": 3
   },
   "file_extension": ".py",
   "mimetype": "text/x-python",
   "name": "python",
   "nbconvert_exporter": "python",
   "pygments_lexer": "ipython3",
   "version": "3.8.10"
  }
 },
 "nbformat": 4,
 "nbformat_minor": 5
}
